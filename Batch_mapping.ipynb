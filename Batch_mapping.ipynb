{
 "cells": [
  {
   "cell_type": "code",
   "execution_count": 1,
   "id": "af199e3d",
   "metadata": {},
   "outputs": [
    {
     "name": "stdout",
     "output_type": "stream",
     "text": [
      "\n",
      "dataset\n",
      "{'a': 2, 'b': [100, 101, 102]}\n",
      "{'a': 3, 'b': [200, 201]}\n"
     ]
    },
    {
     "data": {
      "application/vnd.jupyter.widget-view+json": {
       "model_id": "af17cefe9cbe47e2aa1f07b5fa10c582",
       "version_major": 2,
       "version_minor": 0
      },
      "text/plain": [
       "  0%|          | 0/1 [00:00<?, ?ba/s]"
      ]
     },
     "metadata": {},
     "output_type": "display_data"
    },
    {
     "name": "stdout",
     "output_type": "stream",
     "text": [
      "dataset_with_duplicates\n",
      "{'a': 2, 'b': 100}\n",
      "{'a': 2, 'b': 101}\n",
      "{'a': 2, 'b': 102}\n",
      "{'a': 3, 'b': 200}\n",
      "{'a': 3, 'b': 201}\n"
     ]
    }
   ],
   "source": [
    "from datasets import Dataset\n",
    "def my_map(items):\n",
    "    # initialize empty arrays \"a_arr = []\" and \"b_arr = []\"\n",
    "    # loop over items\n",
    "    # for each item:\n",
    "    ## get the value for \"a\"\n",
    "    ## get \"n_i\" = the number of copies that need to be made (length of this item's \"b\" array)\n",
    "    ## loop index \"ii\" over \"range(n_i)\"\n",
    "    ### in step ii of the loop, get the ii-th value of the current item's \"b\" array\n",
    "    ### append the value for \"a\" to \"a_arr\" and the value for \"b\" to \"b_arr\"\n",
    "    # build the dictionary and return it\n",
    "    a_arr = []\n",
    "    b_arr = []\n",
    "    n_items = len(items[\"a\"])\n",
    "    for i in range(n_items):\n",
    "        a = items[\"a\"][i]\n",
    "        n_i = len(items[\"b\"][i])\n",
    "        for ii in range(n_i):\n",
    "            b = items[\"b\"][i][ii]\n",
    "            a_arr.append(a)\n",
    "            b_arr.append(b)\n",
    "    return {\"a\": a_arr, \"b\": b_arr}\n",
    "# https://huggingface.co/docs/datasets/v2.0.0/about_map_batch?batch-mapping#batch-mapping\n",
    "\n",
    "dataset = Dataset.from_dict({\"a\": [2, 3], \"b\":[[100, 101, 102], [200, 201]]})\n",
    "print(\"\\ndataset\")\n",
    "for row in dataset:\n",
    "    print(row)\n",
    "dataset_with_duplicates = dataset.map(my_map, batched=True)\n",
    "print(\"dataset_with_duplicates\")\n",
    "for row in dataset_with_duplicates:\n",
    "    print(row)"
   ]
  },
  {
   "cell_type": "code",
   "execution_count": 2,
   "id": "73875905",
   "metadata": {},
   "outputs": [
    {
     "data": {
      "application/vnd.jupyter.widget-view+json": {
       "model_id": "2127175efba44437ae46904e96f23776",
       "version_major": 2,
       "version_minor": 0
      },
      "text/plain": [
       "  0%|          | 0/1 [00:00<?, ?ba/s]"
      ]
     },
     "metadata": {},
     "output_type": "display_data"
    },
    {
     "name": "stdout",
     "output_type": "stream",
     "text": [
      "{'a': [2, 3], 'b': [[100, 101, 102], [200, 201]]}\n",
      "number of items:\t2\n",
      "0-th a value = 2\n",
      "index 0 requires 3 copies\n",
      "0\n",
      "b=100\n",
      "1\n",
      "b=101\n",
      "2\n",
      "b=102\n",
      "1-th a value = 3\n",
      "index 1 requires 2 copies\n",
      "0\n",
      "b=200\n",
      "1\n",
      "b=201\n",
      "[2, 2, 2, 3, 3]\n",
      "[100, 101, 102, 200, 201]\n",
      "\n",
      "dataset\n",
      "{'a': 2, 'b': [100, 101, 102]}\n",
      "{'a': 3, 'b': [200, 201]}\n",
      "dataset_with_duplicates\n",
      "{'a': 2, 'b': 100}\n",
      "{'a': 2, 'b': 101}\n",
      "{'a': 2, 'b': 102}\n",
      "{'a': 3, 'b': 200}\n",
      "{'a': 3, 'b': 201}\n"
     ]
    }
   ],
   "source": [
    "def my_map(items):\n",
    "    print(items)\n",
    "    # initialize empty arrays \"a_arr = []\" and \"b_arr = []\"\n",
    "    # loop over items\n",
    "    # for each item:\n",
    "    ## get the value for \"a\"\n",
    "    ## get \"n_i\" = the number of copies that need to be made (length of this item's \"b\" array)\n",
    "    ## loop index \"i\" over \"range(n_i)\"\n",
    "    ### in step i of the loop, get the i-th value of the current item's \"b\" array\n",
    "    ### append the value for \"a\" to \"a_arr\" and the value for \"b\" to \"b_arr\"\n",
    "    # build the dictionary and return it\n",
    "    a_arr = []\n",
    "    b_arr = []\n",
    "    n_items = len(items[\"a\"])\n",
    "    print(\"number of items:\\t{}\".format(n_items))\n",
    "    for i in range(n_items):\n",
    "        a = items[\"a\"][i]\n",
    "        print(\"{}-th a value = {}\".format(i, a))\n",
    "        n_i = len(items[\"b\"][i])\n",
    "        print(\"index {} requires {} copies\".format(i, n_i))\n",
    "        for ii in range(n_i):\n",
    "            print(ii)\n",
    "            b = items[\"b\"][i][ii]\n",
    "            print(\"b={}\".format(b))\n",
    "            a_arr.append(a)\n",
    "            b_arr.append(b)\n",
    "    #a = items[\"a\"]\n",
    "    print(a_arr)\n",
    "    print(b_arr)\n",
    "    return {\"a\": a_arr, \"b\": b_arr}\n",
    "# https://huggingface.co/docs/datasets/v2.0.0/about_map_batch?batch-mapping#batch-mapping\n",
    "\n",
    "dataset = Dataset.from_dict({\"a\": [2, 3], \"b\":[[100, 101, 102], [200, 201]]})\n",
    "dataset_with_duplicates = dataset.map(my_map, batched=True)\n",
    "\n",
    "print(\"\\ndataset\")\n",
    "for row in dataset:\n",
    "    print(row)\n",
    "print(\"dataset_with_duplicates\")\n",
    "for row in dataset_with_duplicates:\n",
    "    print(row)"
   ]
  },
  {
   "cell_type": "code",
   "execution_count": 3,
   "id": "def5b2a1",
   "metadata": {},
   "outputs": [
    {
     "data": {
      "application/vnd.jupyter.widget-view+json": {
       "model_id": "83844ed909c741069e5d94bcbad3d7ff",
       "version_major": 2,
       "version_minor": 0
      },
      "text/plain": [
       "  0%|          | 0/1 [00:00<?, ?ba/s]"
      ]
     },
     "metadata": {},
     "output_type": "display_data"
    },
    {
     "name": "stdout",
     "output_type": "stream",
     "text": [
      "3\n"
     ]
    },
    {
     "data": {
      "text/plain": [
       "(Dataset({\n",
       "     features: ['a'],\n",
       "     num_rows: 3\n",
       " }),\n",
       " Dataset({\n",
       "     features: ['b'],\n",
       "     num_rows: 3\n",
       " }))"
      ]
     },
     "execution_count": 3,
     "metadata": {},
     "output_type": "execute_result"
    }
   ],
   "source": [
    "dataset = Dataset.from_dict({\"a\": [0, 1, 2]})\n",
    "dataset_with_duplicates = dataset.map(lambda batch: {\"b\": batch[\"a\"]}, remove_columns=[\"a\"], batched=True)\n",
    "#dataset_with_duplicates = dataset.map(lambda batch: {\"b\": [batch[\"a\"], batch[\"a\"]]}, remove_columns=[\"a\"], batched=True)\n",
    "print(len(dataset_with_duplicates))\n",
    "dataset, dataset_with_duplicates"
   ]
  },
  {
   "cell_type": "code",
   "execution_count": 4,
   "id": "c22261f2",
   "metadata": {},
   "outputs": [
    {
     "data": {
      "application/vnd.jupyter.widget-view+json": {
       "model_id": "084eb51ce66b45d69d8aafd7fcfd7ad8",
       "version_major": 2,
       "version_minor": 0
      },
      "text/plain": [
       "  0%|          | 0/1 [00:00<?, ?ba/s]"
      ]
     },
     "metadata": {},
     "output_type": "display_data"
    },
    {
     "name": "stdout",
     "output_type": "stream",
     "text": [
      "dataset\n",
      "{'a': 2, 'b': [100, 101]}\n",
      "{'a': 3, 'b': [200, 201]}\n",
      "dataset_with_duplicates\n",
      "{'a': 2, 'b': [100, 101]}\n",
      "{'a': 3, 'b': [200, 201]}\n",
      "{'a': 2, 'b': [100, 101]}\n",
      "{'a': 3, 'b': [200, 201]}\n"
     ]
    }
   ],
   "source": [
    "from datasets import Dataset\n",
    "def my_map(item):\n",
    "    return {\"a\": item[\"a\"] * 2, \"b\": item[\"b\"] * 2}\n",
    "# https://huggingface.co/docs/datasets/v2.0.0/about_map_batch?batch-mapping#batch-mapping\n",
    "\n",
    "dataset = Dataset.from_dict({\"a\": [2, 3], \"b\":[[100, 101], [200, 201]]})\n",
    "dataset_with_duplicates = dataset.map(my_map, remove_columns=[\"a\"], batched=True)\n",
    "\n",
    "print(\"dataset\")\n",
    "for row in dataset:\n",
    "    print(row)\n",
    "print(\"dataset_with_duplicates\")\n",
    "for row in dataset_with_duplicates:\n",
    "    print(row)"
   ]
  },
  {
   "cell_type": "code",
   "execution_count": 5,
   "id": "b8a7b710",
   "metadata": {},
   "outputs": [
    {
     "data": {
      "application/vnd.jupyter.widget-view+json": {
       "model_id": "aa9d7254172b4c5e8c6ba80645a7f847",
       "version_major": 2,
       "version_minor": 0
      },
      "text/plain": [
       "  0%|          | 0/1 [00:00<?, ?ba/s]"
      ]
     },
     "metadata": {},
     "output_type": "display_data"
    },
    {
     "name": "stdout",
     "output_type": "stream",
     "text": [
      "dataset\n",
      "{'a': 2, 'b': [100, 101]}\n",
      "{'a': 3, 'b': [200, 201]}\n",
      "dataset_with_duplicates\n",
      "{'a': 2, 'b': [100, 101]}\n",
      "{'a': 3, 'b': [200, 201]}\n",
      "{'a': 2, 'b': [100, 101]}\n",
      "{'a': 3, 'b': [200, 201]}\n"
     ]
    }
   ],
   "source": [
    "from datasets import Dataset\n",
    "def my_map(item):\n",
    "    return {\"a\": item[\"a\"] * 2, \"b\": item[\"b\"] * 2}\n",
    "# https://huggingface.co/docs/datasets/v2.0.0/about_map_batch?batch-mapping#batch-mapping\n",
    "\n",
    "dataset = Dataset.from_dict({\"a\": [2, 3], \"b\":[[100, 101], [200, 201]]})\n",
    "dataset_with_duplicates = dataset.map(my_map, remove_columns=[\"a\"], batched=True)\n",
    "\n",
    "print(\"dataset\")\n",
    "for row in dataset:\n",
    "    print(row)\n",
    "print(\"dataset_with_duplicates\")\n",
    "for row in dataset_with_duplicates:\n",
    "    print(row)"
   ]
  }
 ],
 "metadata": {
  "kernelspec": {
   "display_name": "Python 3 (ipykernel)",
   "language": "python",
   "name": "python3"
  },
  "language_info": {
   "codemirror_mode": {
    "name": "ipython",
    "version": 3
   },
   "file_extension": ".py",
   "mimetype": "text/x-python",
   "name": "python",
   "nbconvert_exporter": "python",
   "pygments_lexer": "ipython3",
   "version": "3.9.7"
  }
 },
 "nbformat": 4,
 "nbformat_minor": 5
}
