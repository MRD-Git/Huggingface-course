{
 "cells": [
  {
   "cell_type": "markdown",
   "id": "c2cd0dc5",
   "metadata": {},
   "source": [
    "https://discuss.huggingface.co/t/multilabel-sequence-classification-with-roberta-value-error-expected-input-batch-size-to-match-target-batch-size/1653/2"
   ]
  },
  {
   "cell_type": "code",
   "execution_count": 1,
   "id": "f9c89d32",
   "metadata": {},
   "outputs": [],
   "source": [
    "from transformers import Trainer\n",
    "import torch\n",
    "class CustomTrainer(Trainer):\n",
    "    def compute_loss(self, model, inputs, return_outputs=False):\n",
    "        outputs = model(\n",
    "            input_ids=inputs['input_ids'],\n",
    "            attention_mask=inputs['attention_mask'],\n",
    "            token_type_ids=inputs['token_type_ids']\n",
    "        )\n",
    "        loss = torch.nn.BCEWithLogitsLoss()(outputs['logits'].float(), inputs['labels'].float())\n",
    "        return (loss, outputs) if return_outputs else loss"
   ]
  },
  {
   "cell_type": "code",
   "execution_count": null,
   "id": "bc9fb8f0",
   "metadata": {},
   "outputs": [],
   "source": [
    "from transformers import DataCollatorWithPadding, TrainingArguments, BertTokenizer, BertForSequenceClassification\n",
    "from datasets import load_dataset\n",
    "# load dataset, tokenize, adapt columns, and apply datacollator\n",
    "checkpoint = \"bert-base-cased\"\n",
    "transformers_tokenizer = BertTokenizer.from_pretrained(checkpoint)\n",
    "def transformers_tokenize_function(item):\n",
    "    return transformers_tokenizer(item[\"text\"], padding=True, truncation=True)\n",
    "transformers_tokenized_datasets = (\n",
    "    load_dataset(\"mdroth/transformers_issues_labels\")\n",
    "    .map(transformers_tokenize_function, batched=True)\n",
    "    .remove_columns(column_names=[\"url\", \"text\", \"num_labels\", \"labels\"])\n",
    "    .rename_column(\"arr_labels\", \"labels\")\n",
    ")\n",
    "transformers_data_collator = DataCollatorWithPadding(tokenizer=transformers_tokenizer)\n",
    "# training arguments\n",
    "training_args = TrainingArguments(\n",
    "    \"5_try_transformers_dataset\",\n",
    "    evaluation_strategy=\"epoch\",\n",
    "    num_train_epochs=3,\n",
    "    per_device_train_batch_size=4,\n",
    "    per_device_eval_batch_size=4\n",
    ")\n",
    "# model\n",
    "num_labels = 57\n",
    "transformers_model = BertForSequenceClassification.from_pretrained(checkpoint, num_labels=num_labels)\n",
    "# trainer\n",
    "trainer = CustomTrainer(\n",
    "    transformers_model,\n",
    "    training_args,\n",
    "    train_dataset=transformers_tokenized_datasets[\"dev\"],\n",
    "    eval_dataset=transformers_tokenized_datasets[\"dev\"],\n",
    "    data_collator=transformers_data_collator,\n",
    "    tokenizer=transformers_tokenizer\n",
    ")\n",
    "# train\n",
    "trainer.train()"
   ]
  },
  {
   "cell_type": "code",
   "execution_count": null,
   "id": "43b75ede",
   "metadata": {},
   "outputs": [],
   "source": []
  }
 ],
 "metadata": {
  "kernelspec": {
   "display_name": "Python 3",
   "language": "python",
   "name": "python3"
  },
  "language_info": {
   "codemirror_mode": {
    "name": "ipython",
    "version": 3
   },
   "file_extension": ".py",
   "mimetype": "text/x-python",
   "name": "python",
   "nbconvert_exporter": "python",
   "pygments_lexer": "ipython3",
   "version": "3.8.8"
  }
 },
 "nbformat": 4,
 "nbformat_minor": 5
}
