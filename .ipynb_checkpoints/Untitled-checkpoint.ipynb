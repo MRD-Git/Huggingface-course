{
 "cells": [
  {
   "cell_type": "code",
   "execution_count": null,
   "id": "b8774767",
   "metadata": {},
   "outputs": [],
   "source": [
    "from transformers import BertTokenizer, BertForSequenceClassification\n",
    "from transformers import DataCollatorWithPadding, TrainingArguments, Trainer\n",
    "from datasets import load_dataset\n",
    "import torch\n",
    "# load dataset, tokenize, adapt columns, and apply datacollator\n",
    "checkpoint = \"bert-base-cased\"\n",
    "transformers_tokenizer = BertTokenizer.from_pretrained(checkpoint)\n",
    "def transformers_tokenize_function(item):\n",
    "    return transformers_tokenizer(item[\"text\"], padding=True, truncation=True)\n",
    "transformers_tokenized_datasets = (\n",
    "    load_dataset(\"mdroth/transformers_issues_labels\")\n",
    "    .map(transformers_tokenize_function, batched=True)\n",
    "    .remove_columns(column_names=[\"url\", \"text\", \"num_labels\", \"labels\"])\n",
    "    .rename_column(\"arr_labels\", \"labels\")\n",
    ")\n",
    "transformers_data_collator = DataCollatorWithPadding(tokenizer=transformers_tokenizer)\n",
    "# training arguments\n",
    "training_args = TrainingArguments(\n",
    "    # https://huggingface.co/docs/transformers/main_classes/trainer#transformers.TrainingArguments\n",
    "    \"5_try_transformers_dataset\",\n",
    "    evaluation_strategy=\"epoch\",\n",
    "    num_train_epochs=3,\n",
    "    per_device_train_batch_size=4,\n",
    "    per_device_eval_batch_size=4\n",
    ")\n",
    "# model\n",
    "num_labels = 57\n",
    "transformers_model = BertForSequenceClassification.from_pretrained(checkpoint, num_labels=num_labels)\n",
    "# trainer\n",
    "trainer = Trainer(\n",
    "    transformers_model,\n",
    "    training_args,\n",
    "    train_dataset=transformers_tokenized_datasets[\"dev\"],\n",
    "    eval_dataset=transformers_tokenized_datasets[\"dev\"],\n",
    "    data_collator=transformers_data_collator,\n",
    "    tokenizer=transformers_tokenizer,\n",
    "    #preprocess_logits_for_metrics=lambda x: torch.reshape(x, (-1, num_labels))\n",
    ")\n",
    "# train\n",
    "trainer.train()"
   ]
  }
 ],
 "metadata": {
  "kernelspec": {
   "display_name": "Python 3",
   "language": "python",
   "name": "python3"
  },
  "language_info": {
   "codemirror_mode": {
    "name": "ipython",
    "version": 3
   },
   "file_extension": ".py",
   "mimetype": "text/x-python",
   "name": "python",
   "nbconvert_exporter": "python",
   "pygments_lexer": "ipython3",
   "version": "3.8.8"
  }
 },
 "nbformat": 4,
 "nbformat_minor": 5
}
