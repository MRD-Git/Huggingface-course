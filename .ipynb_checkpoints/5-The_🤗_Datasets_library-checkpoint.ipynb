{
 "cells": [
  {
   "cell_type": "markdown",
   "id": "f88759d5",
   "metadata": {},
   "source": [
    "# The 🤗 Datasets library\n",
    "## [Introduction](https://huggingface.co/course/chapter5/1?fw=pt)\n",
    "\n",
    "In [Chapter 3](https://huggingface.co/course/chapter3) you got your first taste of the 🤗 Datasets library and saw that there were three main steps when it came to fine-tuning a model:\n",
    "- Load a dataset from the Hugging Face Hub.\n",
    "- Preprocess the data with `Dataset.map()`.\n",
    "- Load and compute metrics.\n",
    "\n",
    "But this is just scratching the surface of what 🤗 Datasets can do! In this chapter, we will take a deep dive into the library. Along the way, we'll find answers to the following questions:\n",
    "- What do you do when your dataset is not on the Hub?\n",
    "- How can you slice and dice a dataset? (And what if you *really* need to use Pandas?)\n",
    "- What do you do when your dataset is huge and will melt your laptop's RAM?\n",
    "- What the heck are \"memory mapping\" and Apache Arrow?\n",
    "- How can you create your own dataset and push it to the Hub?\n",
    "\n",
    "The techniques you learn here will prepare you for the advanced tokenization and fine-tuning tasks in [Chapter 6](https://huggingface.co/course/chapter6) and [Chapter 7](https://huggingface.co/course/chapter7) — so grab a coffee and let's get started!\n",
    "\n",
    "## [What if my dataset isn't on the Hub?](https://huggingface.co/course/chapter5/2?fw=pt)\n",
    "\n",
    "You know how to use the Hugging Face Hub to download datasets, but you'll often find yourself working with data that is stored either on your laptop or on a remote server. In this section we'll show you how 🤗 Datasets can be used to load datasets that aren't available on the Hugging Face Hub."
   ]
  },
  {
   "cell_type": "code",
   "execution_count": 1,
   "id": "8ea568e3",
   "metadata": {},
   "outputs": [
    {
     "name": "stderr",
     "output_type": "stream",
     "text": [
      "/Users/matthias/opt/anaconda3/envs/hf/lib/python3.8/site-packages/IPython/core/display.py:717: UserWarning: Consider using IPython.display.IFrame instead\n",
      "  warnings.warn(\"Consider using IPython.display.IFrame instead\")\n"
     ]
    },
    {
     "data": {
      "text/html": [
       "<iframe width=\"640\" height=\"360\" src=\"https://www.youtube.com/embed/HyQgpJTkRdE\" allowfullscreen></iframe>"
      ],
      "text/plain": [
       "<IPython.core.display.HTML object>"
      ]
     },
     "execution_count": 1,
     "metadata": {},
     "output_type": "execute_result"
    }
   ],
   "source": [
    "from IPython.display import HTML\n",
    "HTML('<iframe width=\"640\" height=\"360\" src=\"https://www.youtube.com/embed/HyQgpJTkRdE\" allowfullscreen></iframe>')"
   ]
  },
  {
   "cell_type": "markdown",
   "id": "17588bfc",
   "metadata": {},
   "source": [
    "### Working with local and remote datasets\n",
    "🤗 Datasets provides loading scripts to handle the loading of local and remote datasets. It supports several common data formats, such as:\n",
    "\n",
    "| Data format | Loading script | Example\n",
    "| ---- | ------- | ---- |\n",
    "| CSV & TSV | `csv` | `load_dataset(\"csv\", data_files=\"my_file.csv\")` |\n",
    "| Text files | `text` | `load_dataset(\"text\", data_files=\"my_file.txt\")` |\n",
    "| JSON & JSON Lines | `json` | `load_dataset(\"json\", data_files=\"my_file.jsonl\")` |\n",
    "| Pickled DataFrames | `pandas` | `load_dataset(\"pandas\", data_files=\"my_dataframe.pkl\")` |\n",
    "\n",
    "As shown in the table, for each data format we just need to specify the type of loading script in the `load_dataset()` function, along with a `data_files` argument that specifies the path to one or more files. Let's start by loading a dataset from local files; later we'll see how to do the same with remote files.\n",
    "\n",
    "### Loading a local dataset\n",
    "\n",
    "For this example we'll use the [SQuAD-it](https://github.com/crux82/squad-it/) dataset, which is a large-scale dataset for question answering in Italian.\n",
    "\n",
    "The training and test splits are hosted on GitHub, so we can download them with a simple `wget` command:"
   ]
  },
  {
   "cell_type": "code",
   "execution_count": 2,
   "id": "5b31dcf4",
   "metadata": {},
   "outputs": [
    {
     "name": "stdout",
     "output_type": "stream",
     "text": [
      "--2022-05-05 10:26:44--  https://github.com/crux82/squad-it/raw/master/SQuAD_it-train.json.gz\n",
      "Resolving github.com (github.com)... 140.82.121.3\n",
      "Connecting to github.com (github.com)|140.82.121.3|:443... connected.\n",
      "HTTP request sent, awaiting response... 302 Found\n",
      "Location: https://raw.githubusercontent.com/crux82/squad-it/master/SQuAD_it-train.json.gz [following]\n",
      "--2022-05-05 10:26:44--  https://raw.githubusercontent.com/crux82/squad-it/master/SQuAD_it-train.json.gz\n",
      "Resolving raw.githubusercontent.com (raw.githubusercontent.com)... 2606:50c0:8000::154, 2606:50c0:8003::154, 2606:50c0:8001::154, ...\n",
      "Connecting to raw.githubusercontent.com (raw.githubusercontent.com)|2606:50c0:8000::154|:443... connected.\n",
      "HTTP request sent, awaiting response... 200 OK\n",
      "Length: 7725286 (7,4M) [application/octet-stream]\n",
      "Saving to: ‘SQuAD_it-train.json.gz’\n",
      "\n",
      "SQuAD_it-train.json 100%[===================>]   7,37M  11,6MB/s    in 0,6s    \n",
      "\n",
      "2022-05-05 10:26:46 (11,6 MB/s) - ‘SQuAD_it-train.json.gz’ saved [7725286/7725286]\n",
      "\n",
      "--2022-05-05 10:26:46--  https://github.com/crux82/squad-it/raw/master/SQuAD_it-test.json.gz\n",
      "Resolving github.com (github.com)... 140.82.121.3\n",
      "Connecting to github.com (github.com)|140.82.121.3|:443... connected.\n",
      "HTTP request sent, awaiting response... 302 Found\n",
      "Location: https://raw.githubusercontent.com/crux82/squad-it/master/SQuAD_it-test.json.gz [following]\n",
      "--2022-05-05 10:26:46--  https://raw.githubusercontent.com/crux82/squad-it/master/SQuAD_it-test.json.gz\n",
      "Resolving raw.githubusercontent.com (raw.githubusercontent.com)... 2606:50c0:8000::154, 2606:50c0:8003::154, 2606:50c0:8001::154, ...\n",
      "Connecting to raw.githubusercontent.com (raw.githubusercontent.com)|2606:50c0:8000::154|:443... connected.\n",
      "HTTP request sent, awaiting response... 200 OK\n",
      "Length: 1051245 (1,0M) [application/octet-stream]\n",
      "Saving to: ‘SQuAD_it-test.json.gz’\n",
      "\n",
      "SQuAD_it-test.json. 100%[===================>]   1,00M  --.-KB/s    in 0,1s    \n",
      "\n",
      "2022-05-05 10:26:47 (8,28 MB/s) - ‘SQuAD_it-test.json.gz’ saved [1051245/1051245]\n",
      "\n"
     ]
    }
   ],
   "source": [
    "# the following commands to download the data files and move them to the \"data\" folder need to run only once\n",
    "!wget https://github.com/crux82/squad-it/raw/master/SQuAD_it-train.json.gz\n",
    "!wget https://github.com/crux82/squad-it/raw/master/SQuAD_it-test.json.gz\n",
    "!mv SQuAD_it-train.json.gz data\n",
    "!mv SQuAD_it-test.json.gz data"
   ]
  },
  {
   "cell_type": "markdown",
   "id": "cd33c988",
   "metadata": {},
   "source": [
    "This will download two compressed files called *SQuAD_it-train.json.gz* and *SQuAD_it-test.json.gz*, which we can decompress with the Linux `gzip` command:"
   ]
  },
  {
   "cell_type": "code",
   "execution_count": 3,
   "id": "87d412eb",
   "metadata": {},
   "outputs": [
    {
     "name": "stdout",
     "output_type": "stream",
     "text": [
      "data/SQuAD_it-test.json.gz:\t   87.4% -- replaced with data/SQuAD_it-test.json\n",
      "data/SQuAD_it-train.json.gz:\t   82.2% -- replaced with data/SQuAD_it-train.json\n"
     ]
    }
   ],
   "source": [
    "# the following command needs to run only once\n",
    "!gzip -dkv data/SQuAD_it-*.json.gz"
   ]
  },
  {
   "cell_type": "markdown",
   "id": "4462b7b2",
   "metadata": {},
   "source": [
    "We can see that the compressed files have been replaced with *SQuAD_it-train.json* and *SQuAD_it-test.json*, and that the data is stored in the JSON format.\n",
    "> <font color=\"darkgreen\">✎ If you're wondering why there's a `!` character in the above shell commands, that's because we're running them within a Jupyter notebook. Simply remove the prefix if you want to download and unzip the dataset within a terminal.</font>\n",
    "\n",
    "To load a JSON file with the `load_dataset()` function, we just need to know if we're dealing with ordinary JSON (similar to a nested dictionary) or JSON Lines (line-separated JSON). Like many question answering datasets, SQuAD-it uses the nested format, with all the text stored in a `data` field. This means we can load the dataset by specifying the `field` argument as follows:"
   ]
  },
  {
   "cell_type": "code",
   "execution_count": 4,
   "id": "a1366eb3",
   "metadata": {},
   "outputs": [
    {
     "name": "stderr",
     "output_type": "stream",
     "text": [
      "Using custom data configuration default-a89e8d19a20a92f1\n"
     ]
    },
    {
     "name": "stdout",
     "output_type": "stream",
     "text": [
      "Downloading and preparing dataset json/default to /Users/matthias/.cache/huggingface/datasets/json/default-a89e8d19a20a92f1/0.0.0/ac0ca5f5289a6cf108e706efcf040422dbbfa8e658dee6a819f20d76bb84d26b...\n"
     ]
    },
    {
     "data": {
      "application/vnd.jupyter.widget-view+json": {
       "model_id": "d2b48f234ba04851bac3b34073dcbf77",
       "version_major": 2,
       "version_minor": 0
      },
      "text/plain": [
       "Downloading data files:   0%|          | 0/1 [00:00<?, ?it/s]"
      ]
     },
     "metadata": {},
     "output_type": "display_data"
    },
    {
     "data": {
      "application/vnd.jupyter.widget-view+json": {
       "model_id": "cccc7269c0424ae388de1e85a6f4a094",
       "version_major": 2,
       "version_minor": 0
      },
      "text/plain": [
       "Extracting data files:   0%|          | 0/1 [00:00<?, ?it/s]"
      ]
     },
     "metadata": {},
     "output_type": "display_data"
    },
    {
     "name": "stdout",
     "output_type": "stream",
     "text": [
      "Dataset json downloaded and prepared to /Users/matthias/.cache/huggingface/datasets/json/default-a89e8d19a20a92f1/0.0.0/ac0ca5f5289a6cf108e706efcf040422dbbfa8e658dee6a819f20d76bb84d26b. Subsequent calls will reuse this data.\n"
     ]
    },
    {
     "data": {
      "application/vnd.jupyter.widget-view+json": {
       "model_id": "1a7ef411db9a4e008c738848ecc9e59e",
       "version_major": 2,
       "version_minor": 0
      },
      "text/plain": [
       "  0%|          | 0/1 [00:00<?, ?it/s]"
      ]
     },
     "metadata": {},
     "output_type": "display_data"
    }
   ],
   "source": [
    "from datasets import load_dataset\n",
    "squad_it_dataset = load_dataset(\"json\", data_files=\"data/SQuAD_it-train.json\", field=\"data\")"
   ]
  },
  {
   "cell_type": "markdown",
   "id": "b2fbf9bb",
   "metadata": {},
   "source": [
    "By default, loading local files creates a `DatasetDict` object with a `train` split. We can see this by inspecting the `squad_it_dataset` object:"
   ]
  },
  {
   "cell_type": "code",
   "execution_count": 5,
   "id": "dc3089fe",
   "metadata": {},
   "outputs": [
    {
     "data": {
      "text/plain": [
       "DatasetDict({\n",
       "    train: Dataset({\n",
       "        features: ['title', 'paragraphs'],\n",
       "        num_rows: 442\n",
       "    })\n",
       "})"
      ]
     },
     "execution_count": 5,
     "metadata": {},
     "output_type": "execute_result"
    }
   ],
   "source": [
    "squad_it_dataset"
   ]
  },
  {
   "cell_type": "markdown",
   "id": "abd3f738",
   "metadata": {},
   "source": [
    "This shows us the number of rows and the column names associated with the training set. We can view one of the examples by indexing into the `train` split as follows:"
   ]
  },
  {
   "cell_type": "code",
   "execution_count": 6,
   "id": "326aad8d",
   "metadata": {},
   "outputs": [
    {
     "data": {
      "text/plain": [
       "{'title': 'Terremoto del Sichuan del 2008',\n",
       " 'paragraphs': [{'context': \"Il terremoto del Sichuan del 2008 o il terremoto del Gran Sichuan, misurato a 8.0 Ms e 7.9 Mw, e si è verificato alle 02:28:01 PM China Standard Time all' epicentro (06:28:01 UTC) il 12 maggio nella provincia del Sichuan, ha ucciso 69.197 persone e lasciato 18.222 dispersi.\",\n",
       "   'qas': [{'answers': [{'answer_start': 29, 'text': '2008'}],\n",
       "     'id': '56cdca7862d2951400fa6826',\n",
       "     'question': 'In quale anno si è verificato il terremoto nel Sichuan?'},\n",
       "    {'answers': [{'answer_start': 232, 'text': '69.197'}],\n",
       "     'id': '56cdca7862d2951400fa6828',\n",
       "     'question': 'Quante persone sono state uccise come risultato?'},\n",
       "    {'answers': [{'answer_start': 29, 'text': '2008'}],\n",
       "     'id': '56d4f9902ccc5a1400d833c0',\n",
       "     'question': 'Quale anno ha avuto luogo il terremoto del Sichuan?'},\n",
       "    {'answers': [{'answer_start': 78, 'text': '8.0 Ms e 7.9 Mw'}],\n",
       "     'id': '56d4f9902ccc5a1400d833c1',\n",
       "     'question': 'Che cosa ha fatto la misura di sisma?'},\n",
       "    {'answers': [{'answer_start': 183, 'text': '12 maggio'}],\n",
       "     'id': '56d4f9902ccc5a1400d833c2',\n",
       "     'question': 'Che giorno si è verificato il terremoto?'},\n",
       "    {'answers': [{'answer_start': 118,\n",
       "       'text': '02:28:01 PM China Standard Time'}],\n",
       "     'id': '56d4f9902ccc5a1400d833c3',\n",
       "     'question': 'Che ora del giorno è accaduto il terremoto?'},\n",
       "    {'answers': [{'answer_start': 232, 'text': '69.197'}],\n",
       "     'id': '56d4f9902ccc5a1400d833c4',\n",
       "     'question': 'Quante persone sono morte?'}]},\n",
       "  {'context': 'E\\' noto anche come terremoto di Wenchuan (Cinese:????; pinyin: Wènchu? n dà dìzhèn; letteralmente:\"Grande terremoto di Wenchuan\"), dopo l\\' ubicazione dell\\' epicentro del terremoto, Wenchuan County, Sichuan. L\\' epicentro era di 80 chilometri (50 miglia) ad ovest nord-ovest di Chengdu, capoluogo di provincia, con una profondità focale di 19 km (12 miglia). Il terremoto ha colpito anche i paesi vicini e lontani da Pechino e Shanghai-1.500 km (930 mi) e 1.700 km (1.060 mi) di distanza, dove gli edifici adibiti a uffici hanno oscillato con il tremore. Forti scosse di assestamento, un po\\' superiori alla magnitudo 6, hanno continuato a colpire l\\' area anche mesi dopo il sisma principale, causando nuove vittime e danni.',\n",
       "   'qas': [{'answers': [{'answer_start': 415, 'text': 'Pechino e Shanghai'}],\n",
       "     'id': '56cdcb2c62d2951400fa6830',\n",
       "     'question': 'Quali città lontane in altri paesi potrebbero sentire il terremoto?'},\n",
       "    {'answers': [{'answer_start': 338, 'text': '19 km'}],\n",
       "     'id': '56cdcb2c62d2951400fa6833',\n",
       "     'question': 'Qual è stata la profondità focale del terremoto?'},\n",
       "    {'answers': [{'answer_start': 659, 'text': 'mesi dopo'}],\n",
       "     'id': '56cdcb2c62d2951400fa6834',\n",
       "     'question': 'Quanto tempo dopo il terremoto si sono sentite le scosse di assestamento?'},\n",
       "    {'answers': [{'answer_start': 181, 'text': 'Wenchuan County, Sichuan'}],\n",
       "     'id': '56d4fb6f2ccc5a1400d833d5',\n",
       "     'question': \"Dov' era l' epicentro del terremoto?\"},\n",
       "    {'answers': [{'answer_start': 227, 'text': '80 chilometri'}],\n",
       "     'id': '56d4fb6f2ccc5a1400d833d6',\n",
       "     'question': 'Quanto lontano era da Chengdu?'},\n",
       "    {'answers': [{'answer_start': 338, 'text': '19 km'}],\n",
       "     'id': '56d4fb6f2ccc5a1400d833d7',\n",
       "     'question': 'Qual era la profondità focale del sisma?'}]},\n",
       "  {'context': \"I dati ufficiali (al 21 luglio 2008 ore 12:00 CST) hanno dichiarato che 69.197 sono stati confermati morti, di cui 68.636 nella provincia del Sichuan e 374.176 feriti, di cui 18.222 scomparsi. Il terremoto ha lasciato circa 4,8 milioni di senzatetto, anche se il numero potrebbe raggiungere gli 11 milioni. Circa 15 milioni di persone vivevano nell' area colpita. E' stato il terremoto più mortale per colpire la Cina dopo il terremoto di Tangshan 1976, che ha ucciso almeno 240.000 persone, e il più forte del paese dal terremoto di Chayu 1950, che ha registrato a 8,5 sulla scala di magnitudo Richter. E' il 21° terremoto più morto di tutti i tempi. Il 6 novembre 2008, il governo centrale ha annunciato che avrebbe speso 1 trilione di RMB (circa 146,5 miliardi di dollari USA) nei prossimi tre anni per ricostruire le aree devastate dal terremoto, come parte del programma cinese di stimolo economico.\",\n",
       "   'qas': [{'answers': [{'answer_start': 72, 'text': '69.197'}],\n",
       "     'id': '56cdcbb762d2951400fa683a',\n",
       "     'question': 'Quante persone sono state confermate morte?'},\n",
       "    {'answers': [{'answer_start': 115, 'text': '68.636'}],\n",
       "     'id': '56cdcbb762d2951400fa683b',\n",
       "     'question': 'Quanti morti sono stati confermati solo nella provincia del Sichuan?'},\n",
       "    {'answers': [{'answer_start': 224, 'text': '4,8 milioni'}],\n",
       "     'id': '56cdcbb762d2951400fa683c',\n",
       "     'question': 'Quante persone sono rimaste senza tetto a causa del terremoto?'},\n",
       "    {'answers': [{'answer_start': 313, 'text': '15 milioni'}],\n",
       "     'id': '56cdcbb762d2951400fa683d',\n",
       "     'question': 'Quante persone hanno vissuto nella zona colpita?'},\n",
       "    {'answers': [{'answer_start': 724, 'text': '1 trilione di RMB'}],\n",
       "     'id': '56cdcbb762d2951400fa683e',\n",
       "     'question': 'Quanto denaro è stato destinato alla ricostruzione di aree devastate?'},\n",
       "    {'answers': [{'answer_start': 115, 'text': '68.636'}],\n",
       "     'id': '56d4fca52ccc5a1400d833de',\n",
       "     'question': 'Quante persone sono morte nella provincia del Sichuan?'},\n",
       "    {'answers': [{'answer_start': 152, 'text': '374.176'}],\n",
       "     'id': '56d4fca52ccc5a1400d833df',\n",
       "     'question': 'Quanti sono stati feriti nel Sichuan?'},\n",
       "    {'answers': [{'answer_start': 175, 'text': '18.222'}],\n",
       "     'id': '56d4fca52ccc5a1400d833e0',\n",
       "     'question': 'Quante persone sono elencate come scomparse?'},\n",
       "    {'answers': [{'answer_start': 224, 'text': '4,8 milioni'}],\n",
       "     'id': '56d4fca52ccc5a1400d833e1',\n",
       "     'question': 'Quante persone sono senzatetto a causa del terremoto?'},\n",
       "    {'answers': [{'answer_start': 295, 'text': '11 milioni'}],\n",
       "     'id': '56d4fca52ccc5a1400d833e2',\n",
       "     'question': 'Quanto potrebbe arrivare il numero dei senzatetto?'}]},\n",
       "  {'context': \"Il terremoto ha avuto una magnitudine di 8,0 Ms e 7,9 Mw. L' epicentro è stato in Wenchuan County, Ngawa Tibetano e Prefettura Autonoma di Qiang, 80 km ad ovest / nord-ovest del capoluogo di provincia di Chengdu, con il suo tremore principale che si verifica alle 14:28:01.42 China Standard Time (06:28:01.42 UTC), il 12 maggio 2008 della durata di circa 2 minuti, nel terremoto quasi l' 80% degli edifici sono stati distrutti.\",\n",
       "   'qas': [{'answers': [{'answer_start': 355, 'text': '2 minuti'}],\n",
       "     'id': '56cdcc5562d2951400fa6847',\n",
       "     'question': 'Quanto tempo è durato il terremoto?'},\n",
       "    {'answers': [{'answer_start': 388, 'text': '80%'}],\n",
       "     'id': '56cdcc5562d2951400fa6848',\n",
       "     'question': 'Quale percentuale di edifici è stata distrutta?'},\n",
       "    {'answers': [{'answer_start': 41, 'text': '8,0 Ms e 7,9 Mw'}],\n",
       "     'id': '56d4fe332ccc5a1400d833e8',\n",
       "     'question': 'Qual era la magnitudo del terremoto?'},\n",
       "    {'answers': [{'answer_start': 355, 'text': '2 minuti'}],\n",
       "     'id': '56d4fe332ccc5a1400d833eb',\n",
       "     'question': 'Quanto tempo è durato il tremore principale?'},\n",
       "    {'answers': [{'answer_start': 379, 'text': \"quasi l' 80%\"}],\n",
       "     'id': '56d4fe332ccc5a1400d833ec',\n",
       "     'question': 'Quale percentuale di edifici è stata distrutta durante il sisma?'}]},\n",
       "  {'context': \"Secondo uno studio della China Earthquake Administration (CEA), il terremoto si è verificato lungo la faglia Longmenshan, una struttura di spinta lungo il confine della piastra Indo-Australiana e placca eurasiatica. Le attività sismiche si sono concentrate sulla sua frattura media (nota come frattura Yingxiu-Beichuan). La rottura è durata quasi 120 sec, con la maggior parte dell' energia rilasciata nei primi 80 sec. Partendo da Wenchuan, la rottura si propagò ad una velocità media di 3,1 chilometri al secondo 49° verso nord-est, rompendosi per un totale di circa 300 km. Lo spostamento massimo ammontava a 9 metri. Il fuoco era più profondo di 10 km.\",\n",
       "   'qas': [{'answers': [{'answer_start': 347, 'text': '120 sec'}],\n",
       "     'id': '56cdccd962d2951400fa6850',\n",
       "     'question': 'Quanto tempo ha durato la rottura?'},\n",
       "    {'answers': [{'answer_start': 650, 'text': '10 km'}],\n",
       "     'id': '56cdccd962d2951400fa6852',\n",
       "     'question': 'Quanto è stato profondo il centro del terremoto?'},\n",
       "    {'answers': [{'answer_start': 293, 'text': 'frattura Yingxiu-Beichuan'}],\n",
       "     'id': '56d5005d2ccc5a1400d833f4',\n",
       "     'question': 'Su quale frattura ha messo a fuoco il terremoto?'},\n",
       "    {'answers': [{'answer_start': 612, 'text': '9 metri'}],\n",
       "     'id': '56d5005d2ccc5a1400d833f6',\n",
       "     'question': 'Qual è stato lo sfollamento più causato dal terremoto?'}]},\n",
       "  {'context': 'Yazhou Zhoukan, con sede in Malesia, ha condotto un\\' intervista con l\\' ex ricercatore presso il China Seismological Bureau Geng Qingguo (??), in cui Geng ha sostenuto che un rapporto scritto riservato è stato inviato all\\' Ufficio sismologico di Stato il 30 aprile 2008, avvertendo circa il possibile verificarsi di un terremoto significativo nella regione della prefettura di Ngawa del Sichuan intorno all\\' 8 maggio, con una gamma di 10 giorni prima o dopo il terremoto. Il Geng, pur riconoscendo che la predizione del terremoto era ampiamente considerata problematica dalla comunità scientifica, credeva che \"più grande è il terremoto, più facile è prevedere\". Geng aveva a lungo tentato di stabilire una correlazione tra il verificarsi di siccità e terremoti; Premier Zhou Enlai ha riferito che ha preso interesse nel lavoro di Geng. La teoria di correlazione siccità-terra terremoto di Geng è stata pubblicata per la prima volta nel 1972, e ha detto di aver pronosticato con successo i terremoti di Haicheng 1975 e 1976 Tangshan. Lo stesso articolo di Yazhou Zhoukan ha sottolineato le difficoltà intrinseche associate alla previsione dei terremoti.',\n",
       "   'qas': [{'answers': [{'answer_start': 936, 'text': '1972'}],\n",
       "     'id': '56cdce0b62d2951400fa685b',\n",
       "     'question': 'Quando è stata rilasciata la teoria di correlazione siccità-terra terremoto di Geng?'},\n",
       "    {'answers': [{'answer_start': 394, 'text': \"intorno all' 8 maggio\"}],\n",
       "     'id': '56d67a8d1c8504140094714f',\n",
       "     'question': 'Qual era il tempo previsto per il terremoto?'},\n",
       "    {'answers': [{'answer_start': 741, 'text': 'siccità'}],\n",
       "     'id': '56d67a8d1c85041400947150',\n",
       "     'question': 'Che cosa ha cercato Geng a lungo di stabilire come rapporto con i terremoti?'}]},\n",
       "  {'context': 'In uno studio dell\\' USGS (United States Geological Survey) i modelli preliminari di rottura del terremoto hanno indicato uno spostamento fino a 9 metri lungo un guasto lungo circa 240 km di lunghezza e 20 km di profondità. Il terremoto ha generato deformazioni della superficie superiori a 3 metri e ha aumentato lo stress (e la probabilità che si verifichino eventi futuri) alle estremità nord-orientale e sud-occidentale del guasto. Il 20 maggio, il sismologo dell\\' USGS Tom Parsons ha avvertito che c\\' è \"alto rischio\" di una grave scossa di assestamento M>7 nelle prossime settimane o mesi.',\n",
       "   'qas': [{'answers': [{'answer_start': 137, 'text': 'fino a 9 metri'}],\n",
       "     'id': '56cdcebe62d2951400fa6862',\n",
       "     'question': 'Quanto è stato grande lo spostamento?'},\n",
       "    {'answers': [{'answer_start': 473, 'text': 'Tom Parsons'}],\n",
       "     'id': '56cdcebe62d2951400fa6866',\n",
       "     'question': \"Chi ha prima messo in guardia da possibili attività sismiche nell' area?\"},\n",
       "    {'answers': [{'answer_start': 144, 'text': '9 metri'}],\n",
       "     'id': '56d5027a9d1b871400ae05e1',\n",
       "     'question': \"Che cosa ha mostrato il Geological Survey degli Stati Uniti come l' entità dello spostamento?\"},\n",
       "    {'answers': [{'answer_start': 202, 'text': '20 km di profondità'}],\n",
       "     'id': '56d5027a9d1b871400ae05e3',\n",
       "     'question': 'Quanto è profondo il guasto?'},\n",
       "    {'answers': [{'answer_start': 508, 'text': 'alto rischio'}],\n",
       "     'id': '56d5027a9d1b871400ae05e5',\n",
       "     'question': 'Che cosa ha considerato Tom Parsons come il fattore di rischio per forti terremoti futuri?'}]},\n",
       "  {'context': 'Sismologo giapponese Yuji Yagi Yuji Yagi presso l\\' Università di Tsukuba ha detto che il terremoto si è verificato in due fasi:\"Il 155 miglia Longmenshan Fault tore in due sezioni, il primo uno strappo di circa sette metri, seguita da un secondo che ha tosato quattro metri\". I suoi dati hanno anche mostrato che il terremoto è durato circa due minuti e ha rilasciato 30 volte l\\' energia del grande terremoto di Hanshin del 1995 in Giappone, che ha ucciso oltre 6.000 persone. Egli ha sottolineato che la scarsità dell\\' epicentro e la densità di popolazione hanno notevolmente aumentato la gravità del terremoto. Teruyuki Kato, un sismologo dell\\' Università di Tokyo, ha detto che le onde sismiche del terremoto hanno percorso una lunga distanza senza perdere il loro potere a causa della fermezza del terreno nella Cina centrale.',\n",
       "   'qas': [{'answers': [{'answer_start': 115, 'text': 'in due fasi'}],\n",
       "     'id': '56d504539d1b871400ae05eb',\n",
       "     'question': 'Come ha fatto Yuji Yagi a dire che il terremoto è successo?'},\n",
       "    {'answers': [{'answer_start': 142, 'text': 'Longmenshan Fault'}],\n",
       "     'id': '56d504539d1b871400ae05ec',\n",
       "     'question': 'Che errore si è verificato in due luoghi?'},\n",
       "    {'answers': [{'answer_start': 368, 'text': '30 volte'}],\n",
       "     'id': '56d504539d1b871400ae05ee',\n",
       "     'question': 'Quanta più energia di quella prodotta dal terremoto del 1995 in Giappone?'},\n",
       "    {'answers': [{'answer_start': 789, 'text': 'fermezza del terreno'}],\n",
       "     'id': '56d504539d1b871400ae05ef',\n",
       "     'question': 'Perché le onde sismiche hanno viaggiato finora?'}]},\n",
       "  {'context': 'Tra 64 e 104 scosse di assestamento importanti, di magnitudo compresa tra 4,0 e 6,1, sono state registrate entro 72 ore dal sisma principale. Secondo i conteggi ufficiali cinesi,\"alle ore 12:00 CST, 6 novembre 2008 c\\' erano state 42.719 scariche post-shock totali, di cui 246 variavano da 4,0 SM a 4,9 SM, 34 da 5,0 MS a 5,9 MS, e 8 da 6,0 Ms a 6,4 MS; l\\' urto post-shock più forte misurato 6,4 MS.\" L\\' ultima scossa post-shock superiore a M6 si è verificato il 5 agosto.',\n",
       "   'qas': [{'answers': [{'answer_start': 0, 'text': 'Tra 64 e 104'}],\n",
       "     'id': '56cdd08862d2951400fa6894',\n",
       "     'question': 'Quante sono state le scosse di assestamento?'},\n",
       "    {'answers': [{'answer_start': 107,\n",
       "       'text': 'entro 72 ore dal sisma principale'}],\n",
       "     'id': '56cdd08862d2951400fa6896',\n",
       "     'question': 'Quando sono state registrate le scosse di assestamento?'},\n",
       "    {'answers': [{'answer_start': 0, 'text': 'Tra 64 e 104'}],\n",
       "     'id': '56d505f99d1b871400ae05f5',\n",
       "     'question': 'Quante sono state le scosse di assestamento entro 72 ore?'},\n",
       "    {'answers': [{'answer_start': 230, 'text': '42.719'}],\n",
       "     'id': '56d505f99d1b871400ae05f6',\n",
       "     'question': 'Che cosa dicono i cinesi è il numero totale di shock dopo il terremoto?'},\n",
       "    {'answers': [{'answer_start': 272, 'text': '246'}],\n",
       "     'id': '56d505f99d1b871400ae05f8',\n",
       "     'question': 'In quale data si sono verificate le scosse di assestamento più recenti superiori a 6 SM?'}]},\n",
       "  {'context': '(Il terremoto della sig. ra 6.1 del 30 agosto 2008 nel Sichuan meridionale non faceva parte di questa serie perché è stato causato da una diversa colpa.',\n",
       "   'qas': [{'answers': [{'answer_start': 55, 'text': 'Sichuan meridionale'}],\n",
       "     'id': '56cdd10962d2951400fa68a0',\n",
       "     'question': 'Dove si è verificato il terremoto?'},\n",
       "    {'answers': [{'answer_start': 55, 'text': 'Sichuan meridionale'}],\n",
       "     'id': '56cdd10962d2951400fa68a2',\n",
       "     'question': \"Dov' era il terremoto del 30 agosto 2008?\"},\n",
       "    {'answers': [{'answer_start': 20, 'text': 'sig'}],\n",
       "     'id': '56d507269d1b871400ae05ff',\n",
       "     'question': 'Qual era la grandezza del terremoto del Sichuan meridionale?'}]},\n",
       "  {'context': 'La mappa dell\\' intensità sismica pubblicata dal CEA dopo aver rilevato 500.000 km2 dell\\' area colpita mostra una liedu massima di XI sulla scala di intensità sismica cinese (CSIS), descritta come \"molto distruttiva\" sulla scala macrosismica europea (EMS) da cui il CSIS ha tratto riferimento. (USGS, utilizzando la scala di intensità Mercalli modificata (CC), collocava anche l\\' intensità massima a XI,\"molto disastrosa\". Due strisce sud-ovest-nord-est di liedu XI sono centrate intorno a Yingxiu, Wenchuan (la città più vicina all\\' epicentro del terremoto principale) e Beichuan (la città ripetutamente colpita da forti scosse di assestamento tra cui una che registra MS 6.1 il 1 agosto 2008), entrambe nella provincia del Sichuan, occupando un totale di 2.419 km2. La zona Yingxiu liedu-XI è lunga circa 66 km e larga 20 km lungo Wenchuan-Dujiangyan-Pengzhou; la zona Beichuan liedu-XI è lunga circa 82 km e larga 15 km lungo An County-Beichuan-Pingwu. L\\' area con liedu X (comparabile a X su EMS,\"distruttivo\" e X su MM,\"disastroso\") ha una superficie di 3.144 km2.',\n",
       "   'qas': [{'answers': [{'answer_start': 48, 'text': 'CEA'}],\n",
       "     'id': '56cdd21562d2951400fa68b0',\n",
       "     'question': \"Chi ha pubblicato la mappa dell' intensità dei terremoti?\"},\n",
       "    {'answers': [{'answer_start': 130, 'text': 'XI'}],\n",
       "     'id': '56cdd21562d2951400fa68b2',\n",
       "     'question': 'A quale intensità è stata scalata?'},\n",
       "    {'answers': [{'answer_start': 489, 'text': 'Yingxiu, Wenchuan'}],\n",
       "     'id': '56d5098a9d1b871400ae0609',\n",
       "     'question': \"Quale città era più vicina all' epicentro principale?\"}]},\n",
       "  {'context': \"Il sistema Longmen Shan Fault System si trova al confine orientale dell' altopiano tibetano e contiene diversi difetti. Questo terremoto ha rotto almeno due strutture imbricate in Longmen Shan Fault System, vale a dire il Fault Beichuan e il Guanxian-Anxian Fault. Nell' area epicentrale, lo slittamento medio in Fault Beichuan era di circa 3,5 metri (11 ft) verticale, di 3,5 metri (11 ft) orizzontale parallelo al guasto, e di 4,8 metri (16 ft) orizzontale-pendicolare al guasto. Nell' area di circa 30 chilometri (19 miglia) a nord-est dell' epicentro, lo scivolamento superficiale su Beichuan Fault è stato quasi esclusivamente dextral strike-slip fino a circa 3 metri, mentre lo scivolamento medio in Guanxian-Anxian Fault è stato di circa 2 metri verticali (6 ft 7 in) e 2,3 metri (7 ft 7 in) orizzontali. il confine orientale dell' altopiano tibetano.\",\n",
       "   'qas': [{'answers': [{'answer_start': 665, 'text': '3 metri'}],\n",
       "     'id': '56cdd4d762d2951400fa68cd',\n",
       "     'question': 'Quanto è stato grande lo slip 30 km a nord-est del guasto?'},\n",
       "    {'answers': [{'answer_start': 745, 'text': '2 metri'}],\n",
       "     'id': '56cdd4d762d2951400fa68ce',\n",
       "     'question': 'Qual è stato lo slittamento verticale media sul Guanxian-Anxian errore?'},\n",
       "    {'answers': [{'answer_start': 777, 'text': '2,3 metri'}],\n",
       "     'id': '56cdd4d762d2951400fa68cf',\n",
       "     'question': 'Che cosa è stato lo slittamento orizzontale media sul Guanxian-Anxian errore?'},\n",
       "    {'answers': [{'answer_start': 73, 'text': 'altopiano tibetano'}],\n",
       "     'id': '56cdd4d762d2951400fa68d0',\n",
       "     'question': 'Dove si trova il guasto dello shan Longmen?'},\n",
       "    {'answers': [{'answer_start': 3,\n",
       "       'text': 'sistema Longmen Shan Fault System'}],\n",
       "     'id': '56d516439d1b871400ae0611',\n",
       "     'question': 'Dove sono i guasti Beichuan e Guanxian-Ansia?'},\n",
       "    {'answers': [{'answer_start': 341, 'text': '3,5 metri'}],\n",
       "     'id': '56d516439d1b871400ae0612',\n",
       "     'question': 'Qual è stato lo slittamento verticale medio nel difetto di Beichaun?'},\n",
       "    {'answers': [{'answer_start': 341, 'text': '3,5 metri'}],\n",
       "     'id': '56d516439d1b871400ae0613',\n",
       "     'question': \"Qual è stato lo slittamento orizzontale nel Fault Beichuan all' epicentro?\"},\n",
       "    {'answers': [{'answer_start': 429, 'text': '4,8 metri'}],\n",
       "     'id': '56d516439d1b871400ae0614',\n",
       "     'question': 'Qual è stato lo slittamento orizzontale perpendicolare al guasto?'}]},\n",
       "  {'context': 'Gli edifici per uffici nel distretto finanziario di Shanghai, tra cui la Jin Mao Tower e la Hong Kong New World Tower, sono stati evacuati. Un receptionist al Tibet Hotel di Chengdu ha detto che le cose erano \"calme\" dopo che l\\' hotel ha evacuato i suoi ospiti. Nel frattempo, i lavoratori di uno stabilimento Ford nel Sichuan sono stati evacuati per circa 10 minuti. L\\' aeroporto internazionale di Chengdu Shuangliu è stato chiuso e la torre di controllo e il controllo radar regionale sono stati evacuati. Un volo di SilkAir è stato deviato e atterrato a Kunming. Cathay Pacific ha ritardato entrambe le tratte del suo quadruplo quotidiano Hong Kong a Londra a causa di questa perturbazione dei servizi di traffico aereo. Chengdu Shuangliu Aeroporto riaperto più tardi la sera del 12 maggio, offrendo un servizio limitato come l\\' aeroporto ha cominciato ad essere utilizzato come una zona di sosta per le operazioni di soccorso.',\n",
       "   'qas': [{'answers': [{'answer_start': 210, 'text': 'calm'}],\n",
       "     'id': '56cdd63a62d2951400fa68d7',\n",
       "     'question': \"Come ha descritto un receptionist l' atmosfera dopo l' evacuazione?\"},\n",
       "    {'answers': [{'answer_start': 357, 'text': '10 minuti'}],\n",
       "     'id': '56cdd63a62d2951400fa68d8',\n",
       "     'question': 'Per quanto tempo sono stati evacuati i lavoratori di Ford Plant?'},\n",
       "    {'answers': [{'answer_start': 371,\n",
       "       'text': 'aeroporto internazionale di Chengdu Shuangliu'}],\n",
       "     'id': '56cdd63a62d2951400fa68d9',\n",
       "     'question': 'Quale aeroporto è stato chiuso?'},\n",
       "    {'answers': [{'answer_start': 783, 'text': '12 maggio'}],\n",
       "     'id': '56cdd63a62d2951400fa68da',\n",
       "     'question': \"Quando è stato riaperto l' aeroporto?\"},\n",
       "    {'answers': [{'answer_start': 907, 'text': 'operazioni di soccorso'}],\n",
       "     'id': '56d5185a9d1b871400ae061d',\n",
       "     'question': \"A cosa servivano l' aeroporto per fare tappa?\"}]},\n",
       "  {'context': \"Reporter a Chengdu hanno detto che hanno visto crepe sulle pareti di alcuni edifici residenziali nelle zone del centro, ma nessun edificio è crollato. Molti uffici di Pechino torri ufficio sono stati evacuati, tra cui l' edificio che ospita gli uffici dei media per gli organizzatori delle Olimpiadi estive 2008. Nessuna delle sedi olimpiche sono state danneggiate. Nel frattempo, un treno cargo che trasportava 13 cisterne a benzina deragliato nella contea di Hui, Gansu, e prese fuoco dopo che la ferrovia era stata distorta.\",\n",
       "   'qas': [{'answers': [{'answer_start': 9, 'text': 'a Chengdu'}],\n",
       "     'id': '56cddec762d2951400fa692c',\n",
       "     'question': 'Dove hanno detto i giornalisti che hanno visto crepe sulle pareti di alcuni edifici?'},\n",
       "    {'answers': [{'answer_start': 167, 'text': 'Pechino'}],\n",
       "     'id': '56cddec762d2951400fa692d',\n",
       "     'question': 'Dove sono state evacuate le torri degli uffici?'},\n",
       "    {'answers': [{'answer_start': 47, 'text': 'crepe sulle pareti'}],\n",
       "     'id': '56d519a82593cc1400307a6b',\n",
       "     'question': 'Cosa è stato riportato in Chengdu?'}]},\n",
       "  {'context': \"Tutte le autostrade in Wenchuan, e altri in tutta la provincia, sono stati danneggiati, con conseguente ritardo di arrivo delle truppe di soccorso. Nella contea di Beichuan, l' 80% degli edifici è crollato secondo Xinhua News. Nella città di Shifang, il crollo di due impianti chimici ha portato alla fuoriuscita di circa 80 tonnellate di ammoniaca liquida, con centinaia di persone segnalate sepolte. Nella città di Dujiangyan, a sud-est dell' epicentro, un' intera scuola è crollata con 900 studenti sepolti e meno di 60 sopravvissuti. La Juyuan Middle School, dove sono stati sepolti molti adolescenti, è stata scavata da civili e gru. Dujiangyan è la sede del Dujiangyan Irrigation System, un antico progetto di deviazione dell' acqua che è ancora in uso ed è un patrimonio mondiale dell' UNESCO. La famosa bocca di pesce del progetto è stata incrinata, ma non gravemente danneggiata altrimenti.\",\n",
       "   'qas': [{'answers': [{'answer_start': 0, 'text': 'Tutte le autostrade'}],\n",
       "     'id': '56cddf9e62d2951400fa6934',\n",
       "     'question': 'Quante autostrade che conducono a Wenchuan sono state danneggiate?'},\n",
       "    {'answers': [{'answer_start': 177, 'text': '80%'}],\n",
       "     'id': '56cddf9e62d2951400fa6936',\n",
       "     'question': \"Quale percentuale dell' edificio è crollata a Beichuan?\"},\n",
       "    {'answers': [{'answer_start': 417, 'text': 'Dujiangyan'}],\n",
       "     'id': '56cddf9e62d2951400fa6937',\n",
       "     'question': 'Dove sono crollati due impianti chimici?'},\n",
       "    {'answers': [{'answer_start': 520, 'text': '60'}],\n",
       "     'id': '56cddf9e62d2951400fa6938',\n",
       "     'question': 'Quanti studenti su 900 nella scuola sono sopravvissuti al crollo?'},\n",
       "    {'answers': [{'answer_start': 0, 'text': 'Tutte le autostrade'}],\n",
       "     'id': '56d51b832593cc1400307a75',\n",
       "     'question': 'Quali autostrade di Wenchuan sono state danneggiate?'},\n",
       "    {'answers': [{'answer_start': 177, 'text': '80%'}],\n",
       "     'id': '56d51b832593cc1400307a77',\n",
       "     'question': 'Quanti edifici di Beichuan sono crollati?'},\n",
       "    {'answers': [{'answer_start': 264, 'text': 'due impianti chimici'}],\n",
       "     'id': '56d51b832593cc1400307a78',\n",
       "     'question': 'Quale ammoniaca liquida fuoriuscita a Shifang?'},\n",
       "    {'answers': [{'answer_start': 512, 'text': 'meno di 60'}],\n",
       "     'id': '56d51b832593cc1400307a79',\n",
       "     'question': 'Quanti dei 900 studenti sepolti in un crollo scolastico Dujiangyan sono sopravvissuti?'}]},\n",
       "  {'context': 'Sia la borsa valori di Shanghai che la Shenzhen Stock Exchange hanno sospeso il commercio di società con sede nella Cina sudoccidentale. Il rame è aumentato a causa delle speculazioni che la produzione nel sud-ovest della Cina potrebbe essere influenzata, e i prezzi del petrolio è sceso a fronte di speculazioni che la domanda dalla Cina sarebbe scesa.',\n",
       "   'qas': [{'answers': [{'answer_start': 116, 'text': 'Cina sudoccidentale'}],\n",
       "     'id': '56cddfff62d2951400fa693f',\n",
       "     'question': 'Dove si sono basati gli scambi?'},\n",
       "    {'answers': [{'answer_start': 140, 'text': 'rame'}],\n",
       "     'id': '56cddfff62d2951400fa6940',\n",
       "     'question': 'Quale metallo è aumentato di valore?'},\n",
       "    {'answers': [{'answer_start': 275, 'text': 'olio'}],\n",
       "     'id': '56cddfff62d2951400fa6941',\n",
       "     'question': 'Quale risorsa naturale è diminuita di valore?'},\n",
       "    {'answers': [{'answer_start': 116, 'text': 'Cina sudoccidentale'}],\n",
       "     'id': '56d51d272593cc1400307a80',\n",
       "     'question': 'Dove si trovavano le società che avevano sospeso il loro commercio di azioni?'},\n",
       "    {'answers': [{'answer_start': 140, 'text': 'rame'}],\n",
       "     'id': '56d51d272593cc1400307a81',\n",
       "     'question': 'Quale metallo è aumentato a causa della speculazione?'},\n",
       "    {'answers': [{'answer_start': 39, 'text': 'Shenzhen Stock Exchange'}],\n",
       "     'id': '56d51d272593cc1400307a83',\n",
       "     'question': 'Oltre alla borsa valori di Shanghai, quale altra borsa sospesa negoziazione di titoli azionari sud-ovest della Cina?'}]},\n",
       "  {'context': \"Immediatamente dopo l' evento sismico, le telecomunicazioni mobili e terrestri sono state tagliate verso l' area colpita e quella circostante, con tutte le capacità internet tagliate anche verso l' area del Sichuan. Elementi di telecomunicazioni sono stati ripristinati dal governo pezzo per pezzo nel corso dei prossimi mesi come la situazione nella provincia del Sichuan gradualmente migliorata. Alla fine, una manciata di importanti siti web di notizie e media sono stati resi accessibili online nella regione, anche se con pagine web drammaticamente ridotte.\",\n",
       "   'qas': [{'answers': [{'answer_start': 165, 'text': 'internet'}],\n",
       "     'id': '56cde07662d2951400fa6947',\n",
       "     'question': \"Quali capacità sono state tagliate all' intera area del Sichuan?\"},\n",
       "    {'answers': [{'answer_start': 321, 'text': 'mesi'}],\n",
       "     'id': '56cde07662d2951400fa6948',\n",
       "     'question': 'Quanto tempo ci è voluto per ripristinare queste capacità?'},\n",
       "    {'answers': [{'answer_start': 42, 'text': 'telecomunicazioni'}],\n",
       "     'id': '56d51ea52593cc1400307a89',\n",
       "     'question': 'Cosa è stato tagliato dopo il terremoto?'},\n",
       "    {'answers': [{'answer_start': 436, 'text': 'siti web di notizie e media'}],\n",
       "     'id': '56d51ea52593cc1400307a8c',\n",
       "     'question': \"Quali servizi internet sono diminuiti nell' area?\"}]},\n",
       "  {'context': \"China Mobile ha avuto più di 2.300 stazioni base sospese a causa di interruzione dell' alimentazione o grave congestione del traffico delle telecomunicazioni. Metà delle comunicazioni wireless sono andate perse nella provincia del Sichuan. Il servizio di China Unicom a Wenchuan e in quattro contee vicine è stato interrotto, con più di 700 torri sospese.\",\n",
       "   'qas': [{'answers': [{'answer_start': 29, 'text': '2.300'}],\n",
       "     'id': '56cde11f62d2951400fa694c',\n",
       "     'question': 'Quante stazioni base sono state sospese?'},\n",
       "    {'answers': [{'answer_start': 29, 'text': '2.300'}],\n",
       "     'id': '56d5202a2593cc1400307a93',\n",
       "     'question': 'Quante stazioni base China Mobile hanno smesso di funzionare?'},\n",
       "    {'answers': [{'answer_start': 109, 'text': 'congestione del traffico'}],\n",
       "     'id': '56d5202a2593cc1400307a94',\n",
       "     'question': \"Oltre all' interruzione dell' alimentazione, cosa ha causato la sospensione delle telecomunicazioni?\"},\n",
       "    {'answers': [{'answer_start': 159, 'text': 'Metà'}],\n",
       "     'id': '56d5202a2593cc1400307a95',\n",
       "     'question': 'Quante comunicazioni wireless sono fallite nel Sichuan?'},\n",
       "    {'answers': [{'answer_start': 255, 'text': 'China Unicom'}],\n",
       "     'id': '56d5202a2593cc1400307a96',\n",
       "     'question': 'Chi servizio a Wenchuan è stato interrotto?'},\n",
       "    {'answers': [{'answer_start': 337, 'text': '700'}],\n",
       "     'id': '56d5202a2593cc1400307a97',\n",
       "     'question': 'Quante torri di China Unicom sono state tagliate?'}]},\n",
       "  {'context': \"Inizialmente, i funzionari non erano in grado di contattare la Wolong National Nature Reserve, sede di circa 280 panda giganti. Tuttavia, il Ministero degli Esteri in seguito ha detto che un gruppo di 31 turisti britannici che visitano la riserva Wolong Panda nella zona colpita dal terremoto ha restituito sicuro e indenne a Chengdu. Tuttavia, il benessere di un numero ancora maggiore di panda nelle vicine riserve del panda è rimasto sconosciuto. Cinque guardie di sicurezza della riserva sono state uccise dal terremoto. Sei panda sono fuggiti dopo che i loro recinti sono stati danneggiati. Entro il 20 maggio, due panda presso la riserva sono stati trovati per essere feriti, mentre la ricerca è continuata per altri due panda adulti che è andato perduto dopo il terremoto. Al 28 maggio 2008 mancava ancora un panda. Il panda mancante è stato poi trovato morto sotto le macerie di un recinto. Mao Mao Mao Mao, nove anni, madre di cinque anni nel centro di allevamento, è stata scoperta lunedì, il suo corpo schiacciato da un muro nel suo recinto. I detentori di panda e altri lavoratori hanno messo i suoi resti in una piccola cassa di legno e l' hanno seppellita fuori dal centro di allevamento.\",\n",
       "   'qas': [{'answers': [{'answer_start': 103, 'text': 'circa 280'}],\n",
       "     'id': '56cde1f462d2951400fa695f',\n",
       "     'question': 'Quanti panda vivono nella riserva?'},\n",
       "    {'answers': [{'answer_start': 201, 'text': '31'}],\n",
       "     'id': '56cde1f462d2951400fa6960',\n",
       "     'question': 'Quanti visitatori britannici della Riserva hanno lasciato illeso?'},\n",
       "    {'answers': [{'answer_start': 109, 'text': '2'}],\n",
       "     'id': '56cde1f462d2951400fa6961',\n",
       "     'question': 'Quanti panda sono stati feriti?'},\n",
       "    {'answers': [{'answer_start': 63,\n",
       "       'text': 'Wolong National Nature Reserve'}],\n",
       "     'id': '56d521ee2593cc1400307a9d',\n",
       "     'question': 'Quale centro naturalistico è stato tagliato?'},\n",
       "    {'answers': [{'answer_start': 525, 'text': 'Sei'}],\n",
       "     'id': '56d521ee2593cc1400307a9f',\n",
       "     'question': 'Quanti panda sono fuggiti dalla riserva?'},\n",
       "    {'answers': [{'answer_start': 450, 'text': 'cinque'}],\n",
       "     'id': '56d521ee2593cc1400307aa0',\n",
       "     'question': 'Quante guardie di sicurezza sono morte nella riserva?'},\n",
       "    {'answers': [{'answer_start': 899, 'text': 'Mao Mao Mao'}],\n",
       "     'id': '56d521ee2593cc1400307aa1',\n",
       "     'question': 'Quale famoso panda è stato ucciso sotto le macerie?'}]},\n",
       "  {'context': \"La centrale idroelettrica Zipingpu (semplificata cinese:????; tradizionale cinese:??????) situata a 20 km ad est dell' epicentro è stata danneggiata. Da una recente ispezione è emerso che il danno era meno grave di quanto inizialmente temuto e resta strutturalmente stabile e sicuro. Il serbatoio di Tulong a monte rischia di crollare. Circa 2.000 soldati sono stati assegnati a Zipingpu, cercando di liberare la pressione attraverso lo sfioratore. In totale sono state segnalate 391 dighe, per la maggior parte di piccole dimensioni, danneggiate dal sisma.\",\n",
       "   'qas': [{'answers': [{'answer_start': 342, 'text': '2.000'}],\n",
       "     'id': '56cde29b62d2951400fa696b',\n",
       "     'question': 'Quante truppe sono state assegnate a Zipingpu?'},\n",
       "    {'answers': [{'answer_start': 480, 'text': '391'}],\n",
       "     'id': '56cde29b62d2951400fa696c',\n",
       "     'question': 'Quante dighe sono state danneggiate?'},\n",
       "    {'answers': [{'answer_start': 100, 'text': '20 km'}],\n",
       "     'id': '56d523bd2593cc1400307aa8',\n",
       "     'question': \"Quanto era vicina all' epicentro la centrale elettrica?\"},\n",
       "    {'answers': [{'answer_start': 201, 'text': 'meno grave'}],\n",
       "     'id': '56d523bd2593cc1400307aa9',\n",
       "     'question': 'Che cosa è emerso da una recente ispezione sui danni alla centrale?'},\n",
       "    {'answers': [{'answer_start': 480, 'text': '391'}],\n",
       "     'id': '56d523bd2593cc1400307aab',\n",
       "     'question': 'Qual è il numero totale di dighe danneggiate?'}]},\n",
       "  {'context': \"Secondo i funzionari di Stato cinesi, il terremoto ha causato 69.180 morti conosciute tra cui 68.636 nella provincia del Sichuan; 18.498 persone sono elencate come scomparse, e 374.176 feriti, ma queste cifre possono ulteriormente aumentare con l' arrivo di più rapporti.\",\n",
       "   'qas': [{'answers': [{'answer_start': 94, 'text': '68.636'}],\n",
       "     'id': '56cde34662d2951400fa6973',\n",
       "     'question': 'Quanti decessi sono stati segnalati solo nella provincia del Sichuan?'},\n",
       "    {'answers': [{'answer_start': 130, 'text': '18.498'}],\n",
       "     'id': '56cde34662d2951400fa6974',\n",
       "     'question': \"Quante persone sono state inserite nell' elenco come scomparse?\"},\n",
       "    {'answers': [{'answer_start': 177, 'text': '374.176'}],\n",
       "     'id': '56cde34662d2951400fa6975',\n",
       "     'question': 'Quante persone sono rimaste ferite?'},\n",
       "    {'answers': [{'answer_start': 94, 'text': '68.636'}],\n",
       "     'id': '56d525192593cc1400307ab1',\n",
       "     'question': 'Quanti morti nel Sichuan?'},\n",
       "    {'answers': [{'answer_start': 62, 'text': '69.180'}],\n",
       "     'id': '56d525192593cc1400307ab2',\n",
       "     'question': 'Qual è il conteggio totale dei morti noti causati dal terremoto?'},\n",
       "    {'answers': [{'answer_start': 130, 'text': '18.498'}],\n",
       "     'id': '56d525192593cc1400307ab3',\n",
       "     'question': 'Qual è il numero di persone scomparse?'},\n",
       "    {'answers': [{'answer_start': 177, 'text': '374.176'}],\n",
       "     'id': '56d525192593cc1400307ab4',\n",
       "     'question': 'Quante persone sono rimaste ferite?'}]},\n",
       "  {'context': \"Una squadra di soccorso ha riportato solo 2.300 sopravvissuti della città di Yingxiu nella contea di Wenchuan, su una popolazione totale di circa 9.000 abitanti. Da 3.000 a 5.000 persone sono state uccise nella sola contea di Beichuan, nel Sichuan; nello stesso luogo, 10.000 persone sono rimaste ferite e l' 80% degli edifici sono stati distrutti. L' antica sede della contea di Beichuan è stata abbandonata e conservata come parte del Beichuan Earthquake Museum. Otto scuole sono state abbattute nel Dujiangyan. Un cinquantaseienne è stato ucciso a Dujiangyan durante un tentativo di salvataggio sulla Lingyanshan Ropeway, dove a causa del terremoto 11 turisti taiwanesi erano rimasti intrappolati all' interno di funivie dal 13 maggio. Un ragazzo di 4 anni di nome Zhu Shaowei (cinese tradizionale:???; cinese semplificato:???; pinyin: Zh? Shàowéi) è stato ucciso anche a Mianzhu City quando una casa è crollata su di lui e un altro è stato segnalato perduto.\",\n",
       "   'qas': [{'answers': [{'answer_start': 42, 'text': '2.300'}],\n",
       "     'id': '56ceb9c4aab44d1400b8892b',\n",
       "     'question': 'Quanti sopravvissuti ci sono stati da Yingxiu?'},\n",
       "    {'answers': [{'answer_start': 146, 'text': '9.000'}],\n",
       "     'id': '56ceb9c4aab44d1400b8892d',\n",
       "     'question': 'Quante persone in totale vivevano a Yingxiu?'},\n",
       "    {'answers': [{'answer_start': 162, 'text': 'Da 3.000 a 5.000'}],\n",
       "     'id': '56ceb9c4aab44d1400b8892e',\n",
       "     'question': 'Quante persone sono state uccise nella contea di Beichuan?'},\n",
       "    {'answers': [{'answer_start': 269, 'text': '10.000'}],\n",
       "     'id': '56ceb9c4aab44d1400b8892f',\n",
       "     'question': 'Quante persone sono rimaste ferite nella contea di Beichuan?'},\n",
       "    {'answers': [{'answer_start': 42, 'text': '2.300'}],\n",
       "     'id': '56d5307f2593cc1400307abb',\n",
       "     'question': \"Quanti sopravvissuti c' erano nella città di Yingxiu?\"},\n",
       "    {'answers': [{'answer_start': 140, 'text': 'circa 9.000'}],\n",
       "     'id': '56d5307f2593cc1400307abc',\n",
       "     'question': 'Qual era la popolazione precedente di Yingxiu?'},\n",
       "    {'answers': [{'answer_start': 162, 'text': 'Da 3.000 a 5.000'}],\n",
       "     'id': '56d5307f2593cc1400307abd',\n",
       "     'question': 'Quanti residenti sono stati uccisi nella contea di Beichuan?'},\n",
       "    {'answers': [{'answer_start': 269, 'text': '10.000'}],\n",
       "     'id': '56d5307f2593cc1400307abe',\n",
       "     'question': 'Quanto è stato grande il numero di feriti nella contea di Beichuan?'},\n",
       "    {'answers': [{'answer_start': 465, 'text': 'Otto scuole'}],\n",
       "     'id': '56d5307f2593cc1400307abf',\n",
       "     'question': 'Qual è il numero di scuole crollate in Dujiangyan?'}]},\n",
       "  {'context': 'Gli esperti sottolineano che il terremoto ha colpito un\\' area in gran parte trascurata e non toccata dall\\' ascesa economica della Cina. L\\' assistenza sanitaria è carente nelle zone interne come il Sichuan, il che mette in evidenza il crescente divario tra gli abitanti urbani prosperi e le popolazioni rurali in difficoltà. Vice Ministro della Sanità Gao Qiang ha detto ai giornalisti a Pechino che il \"sistema sanitario pubblico in Cina è insufficiente\".',\n",
       "   'qas': [{'answers': [{'answer_start': 351, 'text': 'Gao Qiang'}],\n",
       "     'id': '56ceba72aab44d1400b88936',\n",
       "     'question': 'Chi era il Vice Ministro della Salute?'},\n",
       "    {'answers': [{'answer_start': 176, 'text': 'zone interne'}],\n",
       "     'id': '56d5324d2593cc1400307ac6',\n",
       "     'question': \"Dove è povera l' assistenza sanitaria in Cina?\"},\n",
       "    {'answers': [{'answer_start': 440, 'text': 'insufficiente'}],\n",
       "     'id': '56d5324d2593cc1400307ac7',\n",
       "     'question': 'Che cosa ha chiamato il Vice Ministro della Salute il sistema sanitario pubblico in Cina?'}]},\n",
       "  {'context': 'In termini di feriti scolastici, migliaia di bambini sono morti a causa di costruzioni scadenti. A Mianyang City, sette scuole sono crollate, seppellendo almeno 1.700 persone. Almeno 7.000 edifici scolastici in tutta la provincia sono crollati. Altri 700 studenti sono stati sepolti in una scuola di Hanwang. Alla scuola elementare Juyuan sono morti almeno 600 studenti e personale. Fino a 1.300 bambini e insegnanti sono morti alla Beichuan Middle School.',\n",
       "   'qas': [{'answers': [{'answer_start': 33, 'text': 'migliaia'}],\n",
       "     'id': '56cebae8aab44d1400b8893d',\n",
       "     'question': 'Quanti bambini sono morti a causa di costruzioni scadenti?'},\n",
       "    {'answers': [{'answer_start': 114, 'text': 'sette'}],\n",
       "     'id': '56cebae8aab44d1400b8893e',\n",
       "     'question': 'Quante scuole sono crollate a Mianyang City?'},\n",
       "    {'answers': [{'answer_start': 161, 'text': '1.700'}],\n",
       "     'id': '56cebae8aab44d1400b8893f',\n",
       "     'question': 'Quante persone sono state sepolte nelle scuole crollate?'},\n",
       "    {'answers': [{'answer_start': 183, 'text': '7.000'}],\n",
       "     'id': '56cebae8aab44d1400b88940',\n",
       "     'question': 'Quanti edifici scolastici sono crollati in provincia?'},\n",
       "    {'answers': [{'answer_start': 163, 'text': '700'}],\n",
       "     'id': '56cebae8aab44d1400b88941',\n",
       "     'question': 'Quanti studenti sono stati sepolti in una scuola di Hanwang?'},\n",
       "    {'answers': [{'answer_start': 114, 'text': 'sette'}],\n",
       "     'id': '56d533a52593cc1400307ad0',\n",
       "     'question': 'Quante scuole sono crollate a Mianyang City?'},\n",
       "    {'answers': [{'answer_start': 183, 'text': '7.000'}],\n",
       "     'id': '56d533a52593cc1400307ad1',\n",
       "     'question': 'Quanti edifici scolastici sono caduti in tutta la provincia?'},\n",
       "    {'answers': [{'answer_start': 357, 'text': '600'}],\n",
       "     'id': '56d533a52593cc1400307ad2',\n",
       "     'question': 'Quanti sono stati uccisi alla scuola elementare di Juyuan?'}]},\n",
       "  {'context': \"I dettagli delle vittime scolastiche sono stati oggetto di indagini non governative dal dicembre 2008 da parte di volontari, tra cui l' artista e architetto Ai Weiwei, che dal marzo 2009 ha costantemente pubblicato aggiornamenti sul suo blog. Il conteggio ufficiale degli studenti uccisi nel terremoto è stato rilasciato solo il 7 maggio 2009, quasi un anno dopo il terremoto. Secondo l' agenzia di stampa statale Xinhua, il terremoto ha ucciso 5.335 studenti e lasciato altri 546 bambini disabili. All' indomani del terremoto, il governo cinese ha dichiarato che i genitori che avevano perso i loro soli figli avrebbero ricevuto cure gratuite da cliniche di fertilità per invertire vasectomie e legature tubarie condotte dalle autorità di pianificazione familiare.\",\n",
       "   'qas': [{'answers': [{'answer_start': 88, 'text': 'dicembre 2008'}],\n",
       "     'id': '56cebb71aab44d1400b88951',\n",
       "     'question': \"Quando si è svolta un' indagine in seguito a incidenti scolastici?\"},\n",
       "    {'answers': [{'answer_start': 329, 'text': '7 maggio 2009'}],\n",
       "     'id': '56cebb71aab44d1400b88952',\n",
       "     'question': 'Quando è stato rilasciato il conteggio ufficiale degli studenti uccisi nel terremoto?'},\n",
       "    {'answers': [{'answer_start': 445, 'text': '5.335'}],\n",
       "     'id': '56cebb71aab44d1400b88953',\n",
       "     'question': 'Quanti studenti sono stati uccisi a Xinhua?'},\n",
       "    {'answers': [{'answer_start': 477, 'text': '546'}],\n",
       "     'id': '56cebb71aab44d1400b88954',\n",
       "     'question': 'Quanti studenti sono stati disabili a Xinhua?'},\n",
       "    {'answers': [{'answer_start': 329, 'text': '7 maggio 2009'}],\n",
       "     'id': '56d5357b2593cc1400307ad9',\n",
       "     'question': 'Qual è stata la data in cui è stato rilasciato il numero ufficiale degli studenti uccisi nel terremoto?'},\n",
       "    {'answers': [{'answer_start': 157, 'text': 'Ai Weiwei'}],\n",
       "     'id': '56d5357b2593cc1400307ada',\n",
       "     'question': 'Chi ha tenuto un blog sui decessi scolastici?'},\n",
       "    {'answers': [{'answer_start': 445, 'text': '5.335'}],\n",
       "     'id': '56d5357b2593cc1400307adb',\n",
       "     'question': 'Qual è il numero totale di bambini che hanno perso la scuola?'},\n",
       "    {'answers': [{'answer_start': 477, 'text': '546'}],\n",
       "     'id': '56d5357b2593cc1400307adc',\n",
       "     'question': 'Quanti bambini sono disabili?'},\n",
       "    {'answers': [{'answer_start': 647, 'text': 'cliniche di fertilità'}],\n",
       "     'id': '56d5357b2593cc1400307add',\n",
       "     'question': 'Dove ha deciso il governo cinese che i genitori che avevano perso i figli potessero farsi curare gratuitamente?'}]},\n",
       "  {'context': \"Il terremoto ha lasciato almeno 5 milioni di persone senza alloggio, anche se il numero potrebbe raggiungere gli 11 milioni. Milioni di animali da allevamento e una notevole quantità di agricoltura sono stati distrutti, tra cui 12,5 milioni di animali, principalmente uccelli. Nella provincia del Sichuan sono morti un milione di suini su un totale di 60 milioni. Catastrophe modeling firm AIR Worldwide ha riportato stime ufficiali delle perdite degli assicuratori pari a 1 miliardo di dollari USA dal terremoto; i danni totali stimati superano i 20 miliardi di dollari USA. Valorizza Chengdu, all' epoca con una popolazione urbana di 4,5 milioni di persone, a circa 115 miliardi di dollari, con solo una piccola parte coperta da assicurazioni.\",\n",
       "   'qas': [{'answers': [{'answer_start': 32, 'text': '5 milioni'}],\n",
       "     'id': '56cebbdeaab44d1400b88959',\n",
       "     'question': 'Quante persone sono rimaste senza alloggio?'},\n",
       "    {'answers': [{'answer_start': 113, 'text': '11 milioni'}],\n",
       "     'id': '56cebbdeaab44d1400b8895a',\n",
       "     'question': 'Quante persone potrebbero essere potenzialmente senza alloggio?'},\n",
       "    {'answers': [{'answer_start': 228, 'text': '12,5 milioni'}],\n",
       "     'id': '56cebbdeaab44d1400b8895b',\n",
       "     'question': 'Quanti animali sono stati uccisi?'},\n",
       "    {'answers': [{'answer_start': 113, 'text': '11 milioni'}],\n",
       "     'id': '56d5372f2593cc1400307ae4',\n",
       "     'question': 'Quante persone potrebbero effettivamente essere senzatetto?'},\n",
       "    {'answers': [{'answer_start': 228, 'text': '12,5 milioni di animali'}],\n",
       "     'id': '56d5372f2593cc1400307ae5',\n",
       "     'question': 'Quanto bestiame è andato perduto?'},\n",
       "    {'answers': [{'answer_start': 316, 'text': 'un milione'}],\n",
       "     'id': '56d5372f2593cc1400307ae6',\n",
       "     'question': 'Quanti maiali sono morti a causa del terremoto nel Sichuan?'}]},\n",
       "  {'context': 'Reginald DesRoches, professore di ingegneria civile e ambientale presso la Georgia Tech, ha sottolineato che i danni massicci di proprietà e case nella zona sismica sono dovuti al fatto che la Cina ha creato un adeguato codice di progettazione sismica solo dopo il devastante terremoto di Tangshan del 1976. DesRoches ha detto:\"Se gli edifici fossero più vecchi e costruiti prima di quel terremoto del 1976, è probabile che non siano stati costruiti per un\\' adeguata forza sismica\".',\n",
       "   'qas': [{'answers': [{'answer_start': 0, 'text': 'Reginald DesRoches'}],\n",
       "     'id': '56cebcb4aab44d1400b88963',\n",
       "     'question': 'Chi era professore di ingegneria civile e ambientale alla Georgia Tech?'},\n",
       "    {'answers': [{'answer_start': 20,\n",
       "       'text': 'professore di ingegneria civile e ambientale'}],\n",
       "     'id': '56d538bc2593cc1400307aed',\n",
       "     'question': 'Qual è la professione di Reginald DesRoches?'},\n",
       "    {'answers': [{'answer_start': 302, 'text': '1976'}],\n",
       "     'id': '56d538bc2593cc1400307aee',\n",
       "     'question': \"Quando la Cina ha creato un codice di progettazione sismica per l' edilizia?\"},\n",
       "    {'answers': [{'answer_start': 276, 'text': 'terremoto di Tangshan'}],\n",
       "     'id': '56d538bc2593cc1400307aef',\n",
       "     'question': \"Che catastrofe li ha spinti a fare un codice di progettazione dell' edificio /.?\"}]},\n",
       "  {'context': \"Nei giorni successivi al disastro, un team internazionale di ingegneri è stato inviato nella regione per effettuare un' indagine preliminare dettagliata sugli edifici danneggiati. I loro risultati mostrano una varietà di ragioni per cui molte costruzioni non sono riuscite a resistere al terremoto.\",\n",
       "   'qas': []},\n",
       "  {'context': 'Le notizie di cronaca indicano che i villaggi rurali più poveri sono stati colpiti più duramente. Swaminathan Krishnan, assistente professore di ingegneria civile e geofisica presso il California Institute of Technology ha dichiarato:\"Il terremoto si è verificato nella parte rurale della Cina. Probabilmente, molti degli edifici sono stati appena costruiti; non sono stati progettati, per così dire. Swaminathan Krishnan ha aggiunto:\"In Cina ci sono norme edilizie molto forti, che si occupano di terremoto e problemi di progettazione sismica.',\n",
       "   'qas': [{'answers': [{'answer_start': 98, 'text': 'Swaminathan Krishnan'}],\n",
       "     'id': '56cebd8aaab44d1400b88978',\n",
       "     'question': 'Chi era professore assistente di ingegneria civile e geofisica presso il California Institute of Technology?'},\n",
       "    {'answers': [{'answer_start': 270, 'text': 'parte rurale'}],\n",
       "     'id': '56d53bf82593cc1400307afd',\n",
       "     'question': 'In quale parte della Cina si è verificato il terremoto?'}]},\n",
       "  {'context': 'Anche con le cinque città più grandi del Sichuan che subiscono solo danni di modesta entità a causa del terremoto, alcune stime della perdita economica superano i 75 miliardi di dollari, rendendo il terremoto uno dei disastri naturali più costosi della storia cinese.',\n",
       "   'qas': [{'answers': [{'answer_start': 163,\n",
       "       'text': '75 miliardi di dollari'}],\n",
       "     'id': '56cebdd0aab44d1400b8897f',\n",
       "     'question': 'Qual è la stima della perdita economica del terremoto?'},\n",
       "    {'answers': [{'answer_start': 163, 'text': '75 miliardi di dollari'}],\n",
       "     'id': '56d53d9a2593cc1400307b08',\n",
       "     'question': 'Qual è la stima delle perdite economiche?'},\n",
       "    {'answers': [{'answer_start': 253, 'text': 'storia cinese'}],\n",
       "     'id': '56d53d9a2593cc1400307b09',\n",
       "     'question': 'Chi è questo uno dei disastri più costosi della storia di?'},\n",
       "    {'answers': [{'answer_start': 13, 'text': 'cinque città più grandi'}],\n",
       "     'id': '56d53d9a2593cc1400307b0a',\n",
       "     'question': 'Quali città del Sichuan hanno subito danni minori?'}]},\n",
       "  {'context': \"Forti scosse di assestamento hanno continuato a colpire anche mesi dopo il terremoto principale. Il 25 maggio, una scossa di assestamento di 6.0 Mw (6.4 Ms secondo CEA) ha colpito a nord-est dell' epicentro del terremoto originale, nella contea di Qingchuan, Sichuan, causando otto morti, 1000 feriti e distruggendo migliaia di edifici. Il 27 maggio, due scosse di assestamento, una 5.2 Mw nella contea di Qingchuan e una 5.7 Mw nella contea di Ningqiang, Shaanxi, hanno portato al crollo di oltre 420.000 case e feriti 63 persone. La stessa area ha sofferto due scosse di assestamento più di 5,6 e 6,0 Ms (5,8 e 5,5 Mw, rispettivamente, secondo USGS) il 23 luglio, con conseguente 1 decesso, 6 feriti gravi, crollo di centinaia di case e danni chilometri di autostrade. Pingwu County e Beichuan County, Sichuan, anche a nord-est di Wenchuan e vicino all' epicentro di un terremoto della sig. ra 7.2 nel 1976, subì un terremoto di 6.1 Ms aftershock (5.7 Mw secondo l' USGS) il 1 agosto 1; ha causato 2 morti, 345 feriti, crollo di 707 case, danni a oltre 1.000 case, e bloccato 25 chilometri (16 mi) di strade di campagna.\",\n",
       "   'qas': [{'answers': [{'answer_start': 141, 'text': '6.0 Mw'}],\n",
       "     'id': '56d540072593cc1400307b0f',\n",
       "     'question': 'Quanto è stata forte la scossa di assestamento del 25 maggio nella contea di Qingchuan?'},\n",
       "    {'answers': [{'answer_start': 289, 'text': '1000'}],\n",
       "     'id': '56d540072593cc1400307b10',\n",
       "     'question': 'Quante persone sono rimaste ferite durante la scossa di assestamento del 25 maggio?'},\n",
       "    {'answers': [{'answer_start': 520, 'text': '63'}],\n",
       "     'id': '56d540072593cc1400307b12',\n",
       "     'question': 'Durante il 27 maggio scosse di assestamento, quante persone sono rimaste ferite?'},\n",
       "    {'answers': [{'answer_start': 248, 'text': 'Qingchuan, Sichuan'}],\n",
       "     'id': '56d540072593cc1400307b13',\n",
       "     'question': \"Dov' è stata la scossa di assestamento del 5 agosto che ha causato ampie frane di collina?\"}]},\n",
       "  {'context': 'Vice governatore esecutivo Wei Hong Wei ha confermato il 21 novembre 2008 che più di 90.000 persone in totale erano morti o dispersi nel terremoto. Ha dichiarato che 200.000 case sono state ricostruite e 685.000 sono in fase di ricostruzione, ma 1,94 milioni di famiglie sono ancora prive di ricovero permanente. Sono state ricostruite 1.300 scuole, con il trasferimento iniziale di 25 città, tra cui Beichuan e Wenchuan, due delle aree più devastate. Il governo ha speso 441 miliardi di dollari per gli sforzi di soccorso e ricostruzione.',\n",
       "   'qas': [{'answers': [{'answer_start': 27, 'text': 'Wei Hong'}],\n",
       "     'id': '56cebef6aab44d1400b88997',\n",
       "     'question': 'Chi era il vice governatore esecutivo?'},\n",
       "    {'answers': [{'answer_start': 166, 'text': '200.000'}],\n",
       "     'id': '56cebef6aab44d1400b88999',\n",
       "     'question': 'Quante case sono state ricostruite?'},\n",
       "    {'answers': [{'answer_start': 336, 'text': '1.300'}],\n",
       "     'id': '56cebef6aab44d1400b8899b',\n",
       "     'question': 'Quante scuole sono state ricostruite?'},\n",
       "    {'answers': [{'answer_start': 27, 'text': 'Wei Hong'}],\n",
       "     'id': '56d548552593cc1400307b19',\n",
       "     'question': 'Chi ha parlato dei morti e dei dispersi il 21 novembre 2008?'},\n",
       "    {'answers': [{'answer_start': 85, 'text': '90.000'}],\n",
       "     'id': '56d548552593cc1400307b1a',\n",
       "     'question': 'Quante persone hanno detto Wei Hong che erano morte o mancanti?'},\n",
       "    {'answers': [{'answer_start': 166, 'text': '200.000'}],\n",
       "     'id': '56d548552593cc1400307b1b',\n",
       "     'question': 'Quante case sono state ricostruite?'},\n",
       "    {'answers': [{'answer_start': 204, 'text': '685.000'}],\n",
       "     'id': '56d548552593cc1400307b1c',\n",
       "     'question': 'Quante case erano ancora in costruzione?'}]},\n",
       "  {'context': \"Il segretario generale e presidente Hu Jintao ha annunciato che la risposta alle catastrofi sarà rapida. A soli 90 minuti dal terremoto, il premier Wen Jiabao, che ha una formazione accademica in geomeccanica, ha volato nella zona del terremoto per sorvegliare i lavori di salvataggio. Poco dopo, il Ministero della Salute ha detto che aveva inviato dieci squadre mediche di emergenza a Wenchuan County. Lo stesso giorno, il comando militare della regione militare di Chengdu ha inviato 50.000 soldati e polizia armata per aiutare con il lavoro di soccorso in caso di catastrofe nella contea di Wenchuan. Tuttavia, a causa del terreno accidentato e della vicinanza dell' epicentro del sisma, i soldati hanno avuto molte difficoltà ad ottenere aiuto nelle regioni rurali della provincia.\",\n",
       "   'qas': [{'answers': [{'answer_start': 137,\n",
       "       'text': 'il premier Wen Jiabao'}],\n",
       "     'id': '56cebf6aaab44d1400b889a1',\n",
       "     'question': \"Chi ha volato nella zona sismica 90 minuti dopo l' urto?\"},\n",
       "    {'answers': [{'answer_start': 196, 'text': 'geomeccanica'}],\n",
       "     'id': '56cebf6aaab44d1400b889a2',\n",
       "     'question': \"In cosa c' era il background di Premier Wen Jiabao?\"},\n",
       "    {'answers': [{'answer_start': 261, 'text': 'i lavori di salvataggio'}],\n",
       "     'id': '56cebf6aaab44d1400b889a3',\n",
       "     'question': 'Che cosa ha supervisionato Jiabao nella regione?'},\n",
       "    {'answers': [{'answer_start': 487, 'text': '50.000'}],\n",
       "     'id': '56cebf6aaab44d1400b889a4',\n",
       "     'question': 'Quante truppe sono state inviate dai militari Chengdu?'},\n",
       "    {'answers': [{'answer_start': 350, 'text': 'dieci'}],\n",
       "     'id': '56d54a582593cc1400307b25',\n",
       "     'question': 'Quante squadre mediche sono state inviate nella contea di Wenchuan?'},\n",
       "    {'answers': [{'answer_start': 487, 'text': '50.000'}],\n",
       "     'id': '56d54a582593cc1400307b26',\n",
       "     'question': 'Quante truppe sono state inviate nella zona per operazioni di soccorso?'}]},\n",
       "  {'context': 'La Commissione nazionale di soccorso in caso di catastrofe ha avviato un \"piano di emergenza di II livello\", che copre la categoria più grave di catastrofi naturali. Il piano è salito al livello I alle 22:15 CST, 12 maggio.',\n",
       "   'qas': [{'answers': [{'answer_start': 197,\n",
       "       'text': 'alle 22:15 CST, 12 maggio'}],\n",
       "     'id': '56cebfcaaab44d1400b889ab',\n",
       "     'question': 'Quando è salito il piano al livello I?'},\n",
       "    {'answers': [{'answer_start': 132, 'text': 'più grave'}],\n",
       "     'id': '56d54bc82593cc1400307b2e',\n",
       "     'question': \"Quale classe di catastrofi è un' emergenza di livello II?\"},\n",
       "    {'answers': [{'answer_start': 3,\n",
       "       'text': 'Commissione nazionale di soccorso in caso di catastrofe'}],\n",
       "     'id': '56d54bc82593cc1400307b30',\n",
       "     'question': 'Quale dipartimento ha avviato il piano di emergenza?'}]},\n",
       "  {'context': \"Un' équipe di soccorso in caso di terremoto di 184 persone (composta da 12 persone dell' Ufficio sismologico di Stato, 150 del Comando dell' Area militare di Pechino e 22 dell' Ospedale Generale della Polizia Armata) ha lasciato Pechino dall' aeroporto di Nanyuan alla fine del 12 maggio in due aerei da trasporto militare per raggiungere la contea di Wenchuan.\",\n",
       "   'qas': [{'answers': [{'answer_start': 47, 'text': '184'}],\n",
       "     'id': '56cec033aab44d1400b889af',\n",
       "     'question': 'Quante persone erano nel team di soccorso in caso di terremoto?'},\n",
       "    {'answers': [{'answer_start': 72, 'text': '12'}],\n",
       "     'id': '56cec033aab44d1400b889b0',\n",
       "     'question': \"Quante squadre di soccorso provenivano dall' Ufficio sismologico di Stato?\"},\n",
       "    {'answers': [{'answer_start': 119, 'text': '150'}],\n",
       "     'id': '56cec033aab44d1400b889b1',\n",
       "     'question': 'Quanti membri della squadra erano militari?'},\n",
       "    {'answers': [{'answer_start': 168, 'text': '22'}],\n",
       "     'id': '56cec033aab44d1400b889b2',\n",
       "     'question': 'Quanti membri della squadra provenivano dalla polizia?'},\n",
       "    {'answers': [{'answer_start': 47, 'text': '184'}],\n",
       "     'id': '56d5d41b1c85041400946e0d',\n",
       "     'question': 'Quante persone costituivano la squadra di soccorso?'},\n",
       "    {'answers': [{'answer_start': 119, 'text': '150'}],\n",
       "     'id': '56d5d41b1c85041400946e0e',\n",
       "     'question': \"Quanti soldati provenivano dall' esercito di Pechino?\"},\n",
       "    {'answers': [{'answer_start': 177,\n",
       "       'text': 'Ospedale Generale della Polizia Armata'}],\n",
       "     'id': '56d5d41b1c85041400946e0f',\n",
       "     'question': 'Da dove provengono 22 della squadra di soccorso?'}]},\n",
       "  {'context': 'Nel China Digital Times un articolo riporta un\\' analisi approfondita da parte di un presunto ingegnere edile cinese conosciuto online come \"Book Blade\" (??), che ha dichiarato: un\\' analisi approfondita da parte di un presunto ingegnere edile cinese.',\n",
       "   'qas': [{'answers': [{'answer_start': 140, 'text': 'Book Blade'}],\n",
       "     'id': '56cec11faab44d1400b889c8',\n",
       "     'question': \"Dov' è stato riportato un articolo sullo scandalo?\"},\n",
       "    {'answers': [{'answer_start': 4, 'text': 'China Digital Times'}],\n",
       "     'id': '56d64d231c85041400947089',\n",
       "     'question': 'Qual è stato il nome della persona che ha pubblicato un rapporto nel China Digital Times?'}]},\n",
       "  {'context': 'In occasione della Festa dei bambini, il 1° giugno 2008, molti genitori si sono recati sulle macerie delle scuole per piangere i loro figli. I bambini sopravvissuti, che vivevano per lo più in centri di soccorso, hanno compiuto cerimonie che hanno segnato il giorno speciale, ma anche riconosciuto il terremoto.',\n",
       "   'qas': [{'answers': [{'answer_start': 19, 'text': 'Festa dei bambini'}],\n",
       "     'id': '56cec174aab44d1400b889cb',\n",
       "     'question': 'Che cosa è stato chiamato 1 giugno 2008?'}]},\n",
       "  {'context': \"Le imprese statali centrali hanno donato complessivamente più di 48,6 milioni di dollari. China National Petroleum Corp e Sinopec ha donato 10 milioni di yuan ciascuno per l' area del disastro.\",\n",
       "   'qas': [{'answers': [{'answer_start': 140, 'text': '10 milioni di yuan'}],\n",
       "     'id': '56cec1ffaab44d1400b889de',\n",
       "     'question': 'Quanto ha donato China National Petroleum Corp e Sinopec?'},\n",
       "    {'answers': [{'answer_start': 65, 'text': '48,6 milioni'}],\n",
       "     'id': '56d6647b1c850414009470ed',\n",
       "     'question': 'Quanto hanno donato le imprese statali centrali?'},\n",
       "    {'answers': [{'answer_start': 140, 'text': '10 milioni di yuan ciascuno'}],\n",
       "     'id': '56d6647b1c850414009470ee',\n",
       "     'question': 'Quanto ha donato China National Petroleum e Sinopec?'}]},\n",
       "  {'context': \"Il 16 maggio la Cina ha dichiarato di aver ricevuto anche 457 milioni di dollari in donazioni di denaro e beni per gli sforzi di salvataggio finora compiuti, compresi 83 milioni di dollari provenienti da 19 paesi e quattro organizzazioni internazionali. L' Arabia Saudita è stata il principale donatore di aiuti alla Cina, fornendo quasi 40.000.000 di euro in assistenza finanziaria e altri 8.000.000 di euro di materiale di soccorso.\",\n",
       "   'qas': [{'answers': [{'answer_start': 58,\n",
       "       'text': '457 milioni di dollari'}],\n",
       "     'id': '56cec2a1aab44d1400b889e1',\n",
       "     'question': 'Quanto ha ricevuto la Cina in denaro e beni donati?'},\n",
       "    {'answers': [{'answer_start': 204, 'text': '19 paesi'}],\n",
       "     'id': '56cec2a1aab44d1400b889e2',\n",
       "     'question': 'Quanti paesi hanno donato?'},\n",
       "    {'answers': [{'answer_start': 215, 'text': 'quattro'}],\n",
       "     'id': '56cec2a1aab44d1400b889e3',\n",
       "     'question': 'Quante organizzazioni internazionali hanno donato?'},\n",
       "    {'answers': [{'answer_start': 257, 'text': 'Arabia Saudita'}],\n",
       "     'id': '56cec2a1aab44d1400b889e4',\n",
       "     'question': 'Quale paese è stato il maggiore donatore di aiuti alla Cina?'},\n",
       "    {'answers': [{'answer_start': 167, 'text': '83 milioni'}],\n",
       "     'id': '56d6696d1c850414009470fb',\n",
       "     'question': 'Quanto denaro è stato donato da fonti straniere?'},\n",
       "    {'answers': [{'answer_start': 257, 'text': 'Arabia Saudita'}],\n",
       "     'id': '56d6696d1c850414009470fc',\n",
       "     'question': 'Quale paese è stato il maggiore donatore di aiuti alla Cina?'},\n",
       "    {'answers': [{'answer_start': 215, 'text': 'quattro'}],\n",
       "     'id': '56d6696d1c850414009470fe',\n",
       "     'question': 'Quante organizzazioni internazionali hanno fatto donazioni?'}]},\n",
       "  {'context': 'Nel 2008, il Consiglio di Stato ha stabilito un piano di sostegno alla controparte????????? Il piano è quello di organizzare 19 province orientali e centrali e municipalitie per aiutare 18 contee, su \"una provincia a una contea interessata\" base. Il piano ha una durata di 3 anni, e costa non meno dell\\' uno per cento del bilancio della provincia o del comune. un piano di sostegno di contropartita.',\n",
       "   'qas': [{'answers': [{'answer_start': 273, 'text': '3 anni'}],\n",
       "     'id': '56d66f3e1c85041400947117',\n",
       "     'question': 'Quanto dura il piano?'},\n",
       "    {'answers': [{'answer_start': 304, 'text': 'uno per cento'}],\n",
       "     'id': '56d66f3e1c85041400947118',\n",
       "     'question': 'Qual è il costo per il bilancio della provincia?'}]},\n",
       "  {'context': 'Un articolo in Science suggerisce che la costruzione e il riempimento della diga di Zipingpu potrebbe aver innescato il terremoto. L\\' ingegnere capo del Sichuan Geology and Mineral Bureau ha detto che lo spostamento improvviso di una grande quantità d\\' acqua nella regione avrebbe potuto allentare la tensione tra i due lati del guasto, permettendo loro di allontanarsi, e avrebbe potuto aumentare la pressione diretta su di esso, causando una violenta rottura. L\\' effetto è stato \"25 volte più\" dello stress naturale del movimento tettonico di un anno. Il governo aveva ignorato gli avvertimenti relativi a tanti progetti di dighe su larga scala in un\\' area sismicamente attiva. Ai ricercatori è stato negato l\\' accesso ai dati sismologici e geologici per esaminare ulteriormente la causa del terremoto.',\n",
       "   'qas': [{'answers': [{'answer_start': 554, 'text': 'Il governo'}],\n",
       "     'id': '56d677f31c85041400947145',\n",
       "     'question': 'Chi ha ignorato gli avvertimenti sulle dighe nella zona?'},\n",
       "    {'answers': [{'answer_start': 713,\n",
       "       'text': 'accesso ai dati sismologici e geologici'}],\n",
       "     'id': '56d677f31c85041400947147',\n",
       "     'question': 'Che cosa sono stati negati ai ricercatori?'}]},\n",
       "  {'context': 'Il terremoto ha inoltre offerto ai ricercatori l\\' opportunità di aggiornare i dati per modellare le previsioni future. Utilizzando i dati dell\\' osservatorio geomagnetico Intermagnet Lanzhou, i geologi Lazo Pekevski della Ss. Cyril e Methodius University di Skopje in Macedonia e Strachimir Mavrodiev dell\\' Accademia bulgara delle Scienze hanno cercato di stabilire un \"metodo di previsione temporale\" attraverso la raccolta di statistiche sul geomagnetismo con potenziale gravitazionale delle maree. Utilizzando questo metodo, si diceva che avessero previsto il tempo del terremoto del Sichuan del 2008 con una precisione di ± 1 giorno. Lo stesso studio, tuttavia, riconosce la limitazione dei modelli di previsione dei terremoti e non menziona che la localizzazione del sisma potrebbe essere accuratamente prevista.',\n",
       "   'qas': [{'answers': [{'answer_start': 559,\n",
       "       'text': 'il tempo del terremoto del Sichuan del 2008'}],\n",
       "     'id': '56cec484aab44d1400b88a09',\n",
       "     'question': 'Cosa prevedevano i professori?'},\n",
       "    {'answers': [{'answer_start': 427, 'text': 'statistiche'}],\n",
       "     'id': '56d675ed1c8504140094713d',\n",
       "     'question': 'Cosa hanno raccolto per usare questo metodo?'}]},\n",
       "  {'context': 'In una conferenza stampa tenuta dall\\' Ufficio informazioni del Consiglio di Stato il giorno dopo il terremoto, il geologo Zhang Xiaodong, vice direttore del CEA Seismic Monitoring Network Center, ha ribadito che la previsione del terremoto era un problema globale, nel senso che non esistono metodi comprovati, e che nessuna notifica di previsione è stata ricevuta prima del terremoto. Il sismologo Gary Gibson dell\\' Università di Monash University in Australia ha detto a Deutsche Presse-Agentur che anche lui non vedeva nulla che potesse essere considerato come aver \"previsto\" l\\' accadimento del terremoto.',\n",
       "   'qas': [{'answers': [{'answer_start': 279,\n",
       "       'text': 'non esistono metodi comprovati'}],\n",
       "     'id': '56d674591c85041400947133',\n",
       "     'question': 'Che cosa credono molti geologi nella previsione dei terremoti?'},\n",
       "    {'answers': [{'answer_start': 317,\n",
       "       'text': 'nessuna notifica di previsione'}],\n",
       "     'id': '56d674591c85041400947135',\n",
       "     'question': 'Cosa è stato ricevuto prima del terremoto?'}]},\n",
       "  {'context': \"Nel 2002, il geologo cinese Chen Xuezhong ha pubblicato uno studio di analisi del rischio sismico in cui è giunto alla conclusione che a partire dal 2003, l' attenzione dovrebbe essere prestata alla possibilità di un terremoto con una magnitudo superiore a 7,0 che si verifica nella regione del Sichuan. Ha basato il suo studio sulla correlazione statistica. Che il Sichuan è un' area sismicamente attiva è stata discussa per anni prima del terremoto, anche se pochi studi indicano una data e un' ora specifiche.\",\n",
       "   'qas': [{'answers': [{'answer_start': 0, 'text': 'Nel 2002'}],\n",
       "     'id': '56cec548aab44d1400b88a13',\n",
       "     'question': \"Quando è stata pubblicata l' analisi del rischio sismico?\"},\n",
       "    {'answers': [{'answer_start': 28, 'text': 'Chen Xuezhong'}],\n",
       "     'id': '56cec548aab44d1400b88a14',\n",
       "     'question': \"Chi ha pubblicato l' analisi del rischio sismico?\"},\n",
       "    {'answers': [{'answer_start': 28, 'text': 'Chen Xuezhong'}],\n",
       "     'id': '56d672d21c85041400947129',\n",
       "     'question': 'Chi ha pubblicato uno studio di analisi del rischio sismico?'},\n",
       "    {'answers': [{'answer_start': 4, 'text': '2002'}],\n",
       "     'id': '56d672d21c8504140094712a',\n",
       "     'question': 'In quale anno Chen Xuezhong ha pubblicato uno studio sul terremoto?'}]},\n",
       "  {'context': 'Il terremoto è stato il peggiore a colpire l\\' area del Sichuan in oltre 30 anni. A seguito del terremoto, esperti e il pubblico in generale hanno chiesto informazioni per sapere se il terremoto avrebbe potuto essere previsto in anticipo e se lo studio delle statistiche relative al terremoto avrebbe potuto portare a una migliore previsione dei terremoti in futuro. La predizione del terremoto non è ancora una scienza consolidata; non c\\' era consenso all\\' interno della comunità scientifica sul fatto che la \"previsione\" del terremoto sia possibile.',\n",
       "   'qas': [{'answers': [{'answer_start': 66, 'text': 'oltre 30 anni'}],\n",
       "     'id': '56cec5d1aab44d1400b88a23',\n",
       "     'question': 'Da quanto tempo si è verificato un terremoto di simile entità?'},\n",
       "    {'answers': [{'answer_start': 72, 'text': '30 anni'}],\n",
       "     'id': '56d6713f1c8504140094711f',\n",
       "     'question': \"Da quanto tempo da quando l' area del Sichuan ha subito un grave terremoto?\"},\n",
       "    {'answers': [{'answer_start': 258, 'text': 'statistiche'}],\n",
       "     'id': '56d6713f1c85041400947122',\n",
       "     'question': 'La gente voleva sapere se lo studio di quale matematica poteva produrre previsioni migliori?'}]},\n",
       "  {'context': 'Molte squadre di soccorso, tra cui quella del Taipei Fire Department di Taiwan, sono state segnalate pronte ad unirsi allo sforzo di salvataggio nel Sichuan già mercoledì. Tuttavia, la Croce Rossa Società della Cina ha detto che (il 13 maggio)\"è stato scomodo attualmente a causa del problema del traffico alle zone più colpite più vicino all\\' epicentro\". La Società della Croce Rossa Cinese ha anche dichiarato che le zone disastrate hanno bisogno di tende, forniture mediche, acqua potabile e cibo; tuttavia ha raccomandato di donare denaro invece di altri oggetti, in quanto non era stato possibile raggiungere strade completamente danneggiate o luoghi che sono stati bloccati da frane. Le frane minacciavano continuamente il progresso di un gruppo di ricerca e salvataggio di 80 uomini, ognuno dei quali trasportava circa 40 kg di materiale di soccorso, provenienti da una brigata motorizzata di fanteria sotto il comandante Yang Wenyao, mentre cercavano di raggiungere il villaggio etnicamente tibetano di Sier ad un\\' altezza di 4000 m sul livello del mare nella contea di Pingwu.',\n",
       "   'qas': [{'answers': [{'answer_start': 683, 'text': 'frane'}],\n",
       "     'id': '56d5db271c85041400946e42',\n",
       "     'question': 'Quale problema ha continuato ad impedire alle squadre di soccorso di raggiungere le zone colpite?'}]},\n",
       "  {'context': \"Le piogge e gli smottamenti persistenti nella contea di Wenchuan e nella zona vicina hanno gravemente influenzato gli sforzi di salvataggio. All' inizio delle operazioni di soccorso, il 12 maggio, sono stati impiegati 20 elicotteri per la fornitura di cibo, acqua e aiuti d' emergenza, nonché per l' evacuazione dei feriti e la ricognizione delle aree colpite dal terremoto. A partire dalle 17:37 CST del 13 maggio, un totale di oltre 15.600 soldati e riservisti della milizia della regione militare di Chengdu si erano uniti alla forza di soccorso nelle zone gravemente colpite. Un comandante ha riferito da Yingxiu Town, Wenchuan, che sono stati trovati circa 3.000 sopravvissuti, mentre lo stato degli altri abitanti (circa 9.000) è rimasto poco chiaro. I 1.300 soccorritori raggiunsero l' epicentro e 300 truppe pioniere raggiunsero la sede di Wenchuan a circa 23:30 CST. Entro le 12:17 CST, 14 maggio 2008, la comunicazione nella sede di Wenchuan è stata in parte ripresa. Il pomeriggio del 14 maggio, 15 operazioni speciali 15 truppe, insieme con le forniture di soccorso e attrezzature di comunicazione, paracadutati in inaccessibile Mao County, a nord-est di Wenchuan.\",\n",
       "   'qas': [{'answers': [{'answer_start': 218, 'text': '20'}],\n",
       "     'id': '56cec79caab44d1400b88a34',\n",
       "     'question': 'Quanti elicotteri sono stati impiegati?'},\n",
       "    {'answers': [{'answer_start': 435, 'text': '15.600'}],\n",
       "     'id': '56cec79caab44d1400b88a35',\n",
       "     'question': 'Quanti riservisti delle milizie si sono uniti agli sforzi di salvataggio?'},\n",
       "    {'answers': [{'answer_start': 656, 'text': 'circa 3.000'}],\n",
       "     'id': '56cec79caab44d1400b88a36',\n",
       "     'question': 'Quanti sopravvissuti sono stati trovati?'},\n",
       "    {'answers': [{'answer_start': 435, 'text': '15'}],\n",
       "     'id': '56cec79caab44d1400b88a37',\n",
       "     'question': 'Quante truppe paracadute nella contea di Mao?'},\n",
       "    {'answers': [{'answer_start': 218, 'text': '20'}],\n",
       "     'id': '56d5ecf21c85041400946e5b',\n",
       "     'question': 'Quanti elicotteri sono stati inviati per fornire aiuti alle zone colpite?'},\n",
       "    {'answers': [{'answer_start': 435, 'text': '15.600'}],\n",
       "     'id': '56d5ecf21c85041400946e5c',\n",
       "     'question': 'Entro il 13 maggio, quante truppe erano state aggiunte agli sforzi di salvataggio?'},\n",
       "    {'answers': [{'answer_start': 656, 'text': 'circa 3.000'}],\n",
       "     'id': '56d5ecf21c85041400946e5d',\n",
       "     'question': 'Come sono state segnalate le persone sopravvissute nella città di Yingxiu?'},\n",
       "    {'answers': [{'answer_start': 721, 'text': 'circa 9.000'}],\n",
       "     'id': '56d5ecf21c85041400946e5e',\n",
       "     'question': 'Quante persone a Yingxiu erano ancora sconosciute?'}]},\n",
       "  {'context': \"Il 15 maggio, il premier Wen Jiabao ha ordinato lo spiegamento di altri 90 elicotteri, di cui 60 forniti dal PLAAF e 30 forniti dall' industria dell' aviazione civile, portando così il numero totale di aeromobili impiegati nelle operazioni di soccorso dall' aviazione civile, dall' esercito e dall' aviazione civile a oltre 150, il che ha portato alla più grande operazione di non combattimento nella storia dell' Esercito popolare di liberazione.\",\n",
       "   'qas': [{'answers': [{'answer_start': 94, 'text': '60'}],\n",
       "     'id': '56cec801aab44d1400b88a3e',\n",
       "     'question': 'Quanti elicotteri sono stati forniti dal PLAAF?'},\n",
       "    {'answers': [{'answer_start': 117, 'text': '30'}],\n",
       "     'id': '56cec801aab44d1400b88a3f',\n",
       "     'question': \"Quanti elicotteri sarebbero stati forniti dall' industria dell' aviazione civile?\"},\n",
       "    {'answers': [{'answer_start': 318, 'text': 'oltre 150'}],\n",
       "     'id': '56cec801aab44d1400b88a40',\n",
       "     'question': \"Quanti aerei c' erano in totale?\"},\n",
       "    {'answers': [{'answer_start': 318, 'text': 'oltre 150'}],\n",
       "     'id': '56d60cd01c85041400946eea',\n",
       "     'question': \"Qual è il numero totale di aeromobili utilizzati nell' operazione di soccorso?\"},\n",
       "    {'answers': [{'answer_start': 94, 'text': '60'}],\n",
       "     'id': '56d60cd01c85041400946eec',\n",
       "     'question': 'Quanti elicotteri provenivano dal PLAAF?'},\n",
       "    {'answers': [{'answer_start': 134,\n",
       "       'text': \"industria dell' aviazione civile\"}],\n",
       "     'id': '56d60cd01c85041400946eed',\n",
       "     'question': 'Chi ha fornito gli altri 30 elicotteri?'}]},\n",
       "  {'context': \"Pechino ha accettato l' aiuto della Fondazione Tzu Chi di Taiwan alla fine del 13 maggio. Tzu Chi è stata la prima forza al di fuori della Repubblica Popolare Cinese a partecipare allo sforzo di salvataggio. La Cina ha dichiarato di voler accettare con gratitudine l' aiuto internazionale per far fronte al terremoto.\",\n",
       "   'qas': [{'answers': [{'answer_start': 36, 'text': 'Fondazione Tzu Chi'}],\n",
       "     'id': '56cec88baab44d1400b88a45',\n",
       "     'question': 'Quale Fondazione ha voluto aiutare Pechino?'},\n",
       "    {'answers': [{'answer_start': 58, 'text': 'Taiwan'}],\n",
       "     'id': '56cec88baab44d1400b88a46',\n",
       "     'question': \"Dov' era la fondazione?\"},\n",
       "    {'answers': [{'answer_start': 36, 'text': 'Fondazione Tzu Chi'}],\n",
       "     'id': '56d60ddf1c85041400946ef5',\n",
       "     'question': \"Qual è stato il primo gruppo di fuori della Cina a partecipare all' operazione di soccorso?\"},\n",
       "    {'answers': [{'answer_start': 268, 'text': 'aiuto internazionale'}],\n",
       "     'id': '56d60ddf1c85041400946ef6',\n",
       "     'question': 'Che cosa ha detto la Cina di accettare?'}]},\n",
       "  {'context': \"Un volo merci charter diretto è stato effettuato dalla China Airlines da Taiwan Taoyuan International Airport all' aeroporto internazionale di Chengdu Shuangliu, che ha inviato circa 100 tonnellate di forniture di soccorso donate dalla Fondazione Tzu Chi e dalla Croce Rossa di Taiwan alle zone colpite. È stata chiesta l' approvazione delle autorità cinesi della Cina continentale e il volo charter è partito da Taipei alle 17:00 CST, il 15 maggio e è arrivato a Chengdu entro le 20:30 CST. Una squadra di soccorso della Croce Rossa di Taiwan avrebbe dovuto partire da Taipei con un volo charter diretto di Mandarin Airlines verso Chengdu alle 15:00 CST del 16 maggio.\",\n",
       "   'qas': [{'answers': [{'answer_start': 55, 'text': 'China Airlines'}],\n",
       "     'id': '56cec8e2aab44d1400b88a55',\n",
       "     'question': 'Chi ha effettuato un volo cargo charter diretto?'},\n",
       "    {'answers': [{'answer_start': 439, 'text': '15 maggio'}],\n",
       "     'id': '56cec8e2aab44d1400b88a57',\n",
       "     'question': 'Quale data di partenza del volo cargo?'},\n",
       "    {'answers': [{'answer_start': 659, 'text': '16 maggio'}],\n",
       "     'id': '56cec8e2aab44d1400b88a58',\n",
       "     'question': 'Quando è partita una squadra di soccorso?'},\n",
       "    {'answers': [{'answer_start': 73,\n",
       "       'text': 'Taiwan Taoyuan International Airport'}],\n",
       "     'id': '56d613011c85041400946efd',\n",
       "     'question': 'Da quale aeroporto parte il volo charter?'},\n",
       "    {'answers': [{'answer_start': 143, 'text': 'Chengdu'}],\n",
       "     'id': '56d613011c85041400946efe',\n",
       "     'question': 'Dove è avvenuto il volo charter da Taiwan?'},\n",
       "    {'answers': [{'answer_start': 496, 'text': 'squadra di soccorso'}],\n",
       "     'id': '56d613011c85041400946eff',\n",
       "     'question': 'Che cosa ha lasciato il team della Croce Rossa a Taipei il 16 maggio Chengdu?'}]},\n",
       "  {'context': \"Il 16 maggio, i gruppi di soccorso provenienti da Corea del Sud, Giappone, Singapore, Russia e Taiwan sono arrivati per unirsi allo sforzo di salvataggio. Gli Stati Uniti hanno condiviso con le autorità cinesi alcune delle sue immagini satellitari delle zone colpite dal terremoto. Durante il fine settimana, gli Stati Uniti hanno inviato in Cina due forniture di trasporto dell' aeronautica militare C-17 degli Stati Uniti, tra cui tende e generatori. Xinhua ha riferito 135.000 truppe cinesi e medici sono stati coinvolti nello sforzo di salvataggio in 58 contee e città. immagini satellitari delle aree colpite dal terremoto.\",\n",
       "   'qas': [{'answers': [{'answer_start': 472, 'text': '135.000'}],\n",
       "     'id': '56cec9e1aab44d1400b88a63',\n",
       "     'question': 'Quante truppe cinesi sono state coinvolte negli sforzi di salvataggio?'},\n",
       "    {'answers': [{'answer_start': 3, 'text': '16 maggio'}],\n",
       "     'id': '56cec9e1aab44d1400b88a65',\n",
       "     'question': 'Quando sono arrivati in Cina gruppi provenienti dalla Corea del Sud, dal Giappone e da altri paesi?'},\n",
       "    {'answers': [{'answer_start': 227, 'text': 'immagini satellitari'}],\n",
       "     'id': '56d61a451c85041400946f10',\n",
       "     'question': 'Che cosa ha condiviso gli Stati Uniti con la Cina?'},\n",
       "    {'answers': [{'answer_start': 433, 'text': 'tende e generatori'}],\n",
       "     'id': '56d61a451c85041400946f11',\n",
       "     'question': \"Cosa è stato incluso nelle forniture dell' aeronautica militare C-17?\"},\n",
       "    {'answers': [{'answer_start': 472, 'text': '135.000'}],\n",
       "     'id': '56d61a451c85041400946f13',\n",
       "     'question': 'Quante truppe e medici cinesi sono stati coinvolti negli sforzi di soccorso?'}]},\n",
       "  {'context': \"Internet è stato ampiamente utilizzato per trasmettere informazioni a sostegno degli sforzi di salvataggio e recupero. Ad esempio, l' agenzia di stampa ufficiale Xinhua ha istituito un centro online di richiesta di soccorso per trovare gli angoli ciechi del disaster recovery. Dopo aver saputo che gli elicotteri di soccorso avevano avuto difficoltà ad atterrare nell' area dell' epicentro di Wenchuan, uno studente ha proposto un punto di atterraggio online ed è stato scelto come primo touchdown per gli elicotteri[non in citazione dato]. I volontari hanno anche creato diversi siti web per aiutare a memorizzare le informazioni di contatto per le vittime e gli sfollati. Il 31 maggio, un elicottero di salvataggio che trasportava sopravvissuti al terremoto e membri dell' equipaggio si è schiantato a causa della nebbia e delle turbolenze nella contea di Wenchuan. Nessuno è sopravvissuto.\",\n",
       "   'qas': [{'answers': [{'answer_start': 0, 'text': 'Internet'}],\n",
       "     'id': '56ceccc7aab44d1400b88a7d',\n",
       "     'question': 'Che cosa è stato ampiamente utilizzato per trasmettere informazioni a sostegno degli sforzi di salvataggio e recupero?'},\n",
       "    {'answers': [{'answer_start': 228,\n",
       "       'text': 'trovare gli angoli ciechi del disaster recovery'}],\n",
       "     'id': '56ceccc7aab44d1400b88a7f',\n",
       "     'question': 'Qual era lo scopo di questo centro di richiesta di soccorso online?'},\n",
       "    {'answers': [{'answer_start': 393, 'text': 'Wenchuan'}],\n",
       "     'id': '56ceccc7aab44d1400b88a80',\n",
       "     'question': 'Dove hanno avuto difficoltà di atterraggio gli elicotteri di soccorso?'},\n",
       "    {'answers': [{'answer_start': 0, 'text': 'Internet'}],\n",
       "     'id': '56d61c4e1c85041400946f1a',\n",
       "     'question': 'Che cosa è stato utilizzato come aiuto alle comunicazioni negli sforzi di soccorso?'},\n",
       "    {'answers': [{'answer_start': 403, 'text': 'uno studente'}],\n",
       "     'id': '56d61c4e1c85041400946f1c',\n",
       "     'question': \"Quale persona ha suggerito un atterraggio per elicotteri vicino all' epicentro?\"},\n",
       "    {'answers': [{'answer_start': 618, 'text': 'informazioni di contatto'}],\n",
       "     'id': '56d61c4e1c85041400946f1d',\n",
       "     'question': 'Che tipo di informazioni sono state create sui siti web da archiviare?'}]},\n",
       "  {'context': \"Il 12 maggio 2009, la Cina ha celebrato il primo anniversario del terremoto con un momento di silenzio mentre le persone in tutta la nazione ricordavano i morti. Il governo ha anche aperto l' accesso alle rovine sigillate della sede della contea del Beichuan per tre giorni, dopo di che sarà congelato in tempo come un museo reliquia terremoto di stato, per ricordare alla gente del disastro terribile. Ci sono stati anche diversi concerti in tutto il paese per raccogliere fondi per i sopravvissuti al terremoto.\",\n",
       "   'qas': [{'answers': [{'answer_start': 80,\n",
       "       'text': 'un momento di silenzio'}],\n",
       "     'id': '56cecd53aab44d1400b88a88',\n",
       "     'question': \"Cosa è stato fatto per l' anniversario?\"},\n",
       "    {'answers': [{'answer_start': 263, 'text': 'tre giorni'}],\n",
       "     'id': '56cecd53aab44d1400b88a8a',\n",
       "     'question': 'Per quanto tempo è stato aperto?'},\n",
       "    {'answers': [{'answer_start': 80, 'text': 'un momento di silenzio'}],\n",
       "     'id': '56d66b221c85041400947103',\n",
       "     'question': 'Che cosa ha fatto la Cina per celebrare il primo anniversario del terremoto?'},\n",
       "    {'answers': [{'answer_start': 423, 'text': 'diversi concerti'}],\n",
       "     'id': '56d66b221c85041400947105',\n",
       "     'question': 'Che tipo di evento è stato dato per raccogliere fondi per i sopravvissuti al terremoto?'}]},\n",
       "  {'context': 'A seguito del terremoto, le donazioni sono state effettuate da persone provenienti da tutta la Cina continentale, con cabine allestite nelle scuole, presso le banche e nelle vicinanze di distributori di benzina. La gente ha anche donato sangue, con conseguente secondo Xinhua lungo line-up Xinhua nella maggior parte delle principali città cinesi. Molti donato attraverso messaggi di testo sui telefoni cellulari per i conti istituiti da China Unicom e China Mobile 16 maggio, il governo cinese aveva stanziato un totale di 772 milioni di dollari per il terremoto di soccorso finora, in forte aumento da $ 159 milioni di dollari dal 14 maggio sangue.',\n",
       "   'qas': [{'answers': [{'answer_start': 230, 'text': 'donato sangue'}],\n",
       "     'id': '56d666041c850414009470f1',\n",
       "     'question': 'Che cosa ha causato le lunghe linee nella maggior parte delle grandi città?'},\n",
       "    {'answers': [{'answer_start': 118, 'text': 'cabine'}],\n",
       "     'id': '56d666041c850414009470f2',\n",
       "     'question': 'Quali sono state le premesse cinesi per raccogliere donazioni?'},\n",
       "    {'answers': [{'answer_start': 524, 'text': '772 milioni di dollari'}],\n",
       "     'id': '56d666041c850414009470f4',\n",
       "     'question': 'Quanto aveva designato il governo cinese entro il 16 maggio?'}]},\n",
       "  {'context': 'La Società Croce Rossa della Cina ha volato 557 tende e 2.500 trapunte del valore di 788.000 yuan (113.000 dollari USA) nella contea di Wenchuan. La Fondazione Amity ha già iniziato i lavori di soccorso nella regione e ha stanziato 143.000 USD per i soccorsi in caso di catastrofe. Il ministero degli Affari civili del Sichuan ha dichiarato di aver fornito 30.000 tende per i senzatetto rimasti senza tetto.',\n",
       "   'qas': [{'answers': [{'answer_start': 44, 'text': '557'}],\n",
       "     'id': '56cece5caab44d1400b88a9b',\n",
       "     'question': 'Quante tende sono state volate nella regione?'},\n",
       "    {'answers': [{'answer_start': 56, 'text': '2.500'}],\n",
       "     'id': '56cece5caab44d1400b88a9c',\n",
       "     'question': 'Quanti trapunte sono state volate nella regione?'},\n",
       "    {'answers': [{'answer_start': 85, 'text': '788.000 yuan'}],\n",
       "     'id': '56cece5caab44d1400b88a9d',\n",
       "     'question': 'Quanto valevano entrambe le forniture?'},\n",
       "    {'answers': [{'answer_start': 357, 'text': '30.000'}],\n",
       "     'id': '56cece5caab44d1400b88a9f',\n",
       "     'question': 'Quante tende ha fornito il ministero del Sichuan ai senzatetto?'},\n",
       "    {'answers': [{'answer_start': 357, 'text': '30.000'}],\n",
       "     'id': '56d663b11c850414009470e5',\n",
       "     'question': 'Quante tende ha fornito il Ministero degli Affari del Sichuan?'},\n",
       "    {'answers': [{'answer_start': 146, 'text': 'La Fondazione Amity'}],\n",
       "     'id': '56d663b11c850414009470e7',\n",
       "     'question': 'Quali fondamenta avevano già iniziato i lavori di soccorso nella zona?'}]},\n",
       "  {'context': 'Il governo centrale stima che oltre 7.000 aule scolastiche non adeguatamente attrezzate siano crollate in seguito al terremoto. Da allora i cittadini cinesi hanno inventato una frase di cattura:\"tofu-dregs schoolhouses\" (Cinese:?????), per fingere sia la qualità che la quantità di queste costruzioni inferiori che hanno ucciso così tanti bambini in età scolare. A causa della politica del figlio unico, molte famiglie hanno perso l\\' unico figlio quando le scuole della regione sono crollate durante il terremoto. Di conseguenza, i funzionari provinciali e locali del Sichuan hanno abolito la restrizione per le famiglie il cui unico bambino è stato ucciso o gravemente ferito in seguito al disastro. I cosiddetti \"bambini illegali\" di età inferiore ai 18 anni possono essere registrati come sostituti legali dei loro fratelli morti; se il bambino morto fosse illegale, non si applicherebbero ulteriori sanzioni pecuniarie. Il rimborso non sarebbe tuttavia offerto per le ammende già riscosse.',\n",
       "   'qas': [{'answers': [{'answer_start': 36, 'text': '7.000'}],\n",
       "     'id': '56cecf68aab44d1400b88ab7',\n",
       "     'question': 'Quante aule scolastiche sono crollate nel terremoto?'},\n",
       "    {'answers': [{'answer_start': 195, 'text': 'tofu-dregs schoolhouses'}],\n",
       "     'id': '56cecf68aab44d1400b88ab8',\n",
       "     'question': \"Quale frase d' insieme è stata inventata a seguito del crollo delle scuole?\"},\n",
       "    {'answers': [{'answer_start': 195, 'text': 'tofu-dregs schoolhouses'}],\n",
       "     'id': '56d64a821c85041400947077',\n",
       "     'question': 'Che cosa ha iniziato la cittadinanza a chiamare questo tipo di scuole?'}]},\n",
       "  {'context': 'La sera del 18 maggio, il CCTV-1 ha ospitato un programma speciale di quattro ore chiamato The Giving of Love (cinese semplificato:???; cinese tradizionale:????), ospitato da regolari del Gala di Capodanno CCTV e dall\\' ancora di copertura 24 ore su 24 Bai Yansong. Vi hanno partecipato una vasta gamma di personaggi dello spettacolo, letterari, commerciali e politici provenienti dalla Cina continentale, Hong Kong, Singapore e Taiwan. Le donazioni della serata sono ammontate a 1,5 miliardi di yuan cinese (~208 milioni di dollari USA). Tra le donazioni, la TVCC ha dato il maggior contributo aziendale a ¥50 milioni. Quasi contemporaneamente a Taiwan, un programma tematico simile era in onda ospitato dal presidente in carica Ma Ying-jeou. A giugno, l\\' attore di Hong Kong Jackie Chan, che ha donato 1,57 milioni di dollari alle vittime, ha realizzato un video musicale insieme ad altri artisti intitolato \"Promise\"; la canzone è stata composta da Andy Lau. L\\' Artistes 512 Fund Raising Campaign, una maratona di raccolta fondi della durata di 8 ore, si è tenuta il 1° giugno a Hong Kong, alla quale hanno partecipato circa 200 musicisti e celebrità della Sinosfera. A Singapore, MediaCorp Channel 8 ha ospitato un programma dal vivo?? programma di quattro ore chiamato Il dono dell\\' amore.',\n",
       "   'qas': [{'answers': [{'answer_start': 252, 'text': 'Bai Yansong'}],\n",
       "     'id': '56cecff4aab44d1400b88abe',\n",
       "     'question': 'Quanto erano grandi le donazioni del programma?'},\n",
       "    {'answers': [{'answer_start': 803, 'text': '1,57 milioni di dollari'}],\n",
       "     'id': '56cecff4aab44d1400b88abf',\n",
       "     'question': 'Quanto ha donato Jackie Chan per sostenere?'},\n",
       "    {'answers': [{'answer_start': 1273, 'text': \"Il dono dell' amore\"}],\n",
       "     'id': '56cecff4aab44d1400b88ac1',\n",
       "     'question': 'Qual era il programma che CCTV-1 ha ospitato?'},\n",
       "    {'answers': [{'answer_start': 91, 'text': 'The Giving of Love'}],\n",
       "     'id': '56d6477c1c85041400947065',\n",
       "     'question': 'Quali sono state le donazioni totali per il programma?'},\n",
       "    {'answers': [{'answer_start': 26, 'text': 'CCTV'}],\n",
       "     'id': '56d6477c1c85041400947066',\n",
       "     'question': 'Quale azienda ha dato il massimo?'},\n",
       "    {'answers': [{'answer_start': 803, 'text': '1,57 milioni'}],\n",
       "     'id': '56d6477c1c85041400947067',\n",
       "     'question': \"Quanto ha donato l' attore Jackie Chan?\"}]},\n",
       "  {'context': 'Gli sforzi di salvataggio compiuti dal governo cinese sono stati elogiati dai media occidentali, soprattutto in confronto al blocco degli aiuti stranieri da parte del Myanmar durante il ciclone Nargis, nonché ai precedenti risultati della Cina durante il terremoto di Tangshan del 1976. L\\' apertura della Cina durante la copertura mediatica del terremoto del Sichuan ha portato un professore presso l\\' Università di Pechino a dire:\"Questa è la prima volta[che] i media cinesi sono stati all\\' altezza degli standard internazionali\". Los Angeles Times ha elogiato la copertura mediatica della Cina del terremoto di essere \"democratico\".',\n",
       "   'qas': [{'answers': [{'answer_start': 138, 'text': 'aiuti stranieri'}],\n",
       "     'id': '56d61fc11c85041400946f24',\n",
       "     'question': 'Che cosa ha fatto blocco Myanmar dopo Cyclone Nargis?'},\n",
       "    {'answers': [{'answer_start': 532, 'text': 'Los Angeles Times'}],\n",
       "     'id': '56d61fc11c85041400946f26',\n",
       "     'question': 'Chi ha elogiato la copertura mediatica cinese come democratica?'}]},\n",
       "  {'context': 'A causa del terremoto di magnitudo 7,9 e delle numerose forti scosse di assestamento, molti fiumi sono stati bloccati da grandi frane, che hanno portato alla formazione di \"laghi di sisma\" dietro le ostruzioni; queste enormi quantità d\\' acqua si stavano accumulando ad un ritmo molto elevato dietro le dighe naturali di frane e si temeva che le ostruzioni sarebbero infine crollate sotto il peso della massa d\\' acqua sempre crescente, potenzialmente mettendo a repentaglio la vita di milioni di persone. Al 27 maggio 2008,34 laghi si erano formati a causa del terremoto che bloccava i detriti e arginava i fiumi, e si stimava che 28 di essi fossero ancora potenzialmente pericolosi per la popolazione locale. Gli interi villaggi hanno dovuto essere evacuati a causa delle conseguenti inondazioni.',\n",
       "   'qas': [{'answers': [{'answer_start': 522, 'text': '34'}],\n",
       "     'id': '56cedd7daab44d1400b88b50',\n",
       "     'question': 'Quanti laghi di tremito si sono formati?'},\n",
       "    {'answers': [{'answer_start': 630, 'text': '28'}],\n",
       "     'id': '56cedd7daab44d1400b88b51',\n",
       "     'question': 'Quanti laghi costituivano un pericolo per le persone?'},\n",
       "    {'answers': [{'answer_start': 121, 'text': 'grandi frane'}],\n",
       "     'id': '56d624261c85041400946f2d',\n",
       "     'question': 'Che cosa ha bloccato molti dei fiumi della zona?'},\n",
       "    {'answers': [{'answer_start': 522, 'text': '34'}],\n",
       "     'id': '56d624261c85041400946f2f',\n",
       "     'question': 'A partire dal 27 maggio quanti laghi sismici si erano formati dietro i detriti di frane?'},\n",
       "    {'answers': [{'answer_start': 713, 'text': 'interi villaggi'}],\n",
       "     'id': '56d624261c85041400946f30',\n",
       "     'question': 'Che cosa doveva essere evacuato a causa di un potenziale allagamento?'}]},\n",
       "  {'context': \"Il più precario di questi ciarlatani era quello che si trovava nel terreno estremamente difficile del Monte Tangjia nella contea di Beichuan, Sichuan, accessibile solo a piedi o in aereo; un elicottero di sollevamento pesante Mi-26T appartenente alla China Flying Dragon Special Aviation Company è stato utilizzato per portare pesanti trattori movimento terra nella zona colpita. Questa operazione è stata accoppiata con il lavoro svolto da elicotteri PLAAF Mi-17 portando in corpi di ingegneria PLA, specialisti di esplosivi e altro personale per unire 1.200 soldati che sono arrivati sul posto a piedi. Cinque tonnellate di combustibile per azionare il macchinario sono state trasportate in aria fino al sito, dove è stata costruita una saracinesca per consentire lo scarico sicuro dell' acqua di strozzatura. A valle, più di 200.000 persone sono state evacuate dal Mianyang entro il 1 giugno in previsione dello scoppio della diga.\",\n",
       "   'qas': [{'answers': [{'answer_start': 102,\n",
       "       'text': 'Monte Tangjia nella contea di Beichuan, Sichuan'}],\n",
       "     'id': '56ceddf6aab44d1400b88b67',\n",
       "     'question': 'Dove si trovava il lago più precario?'},\n",
       "    {'answers': [{'answer_start': 335, 'text': 'trattori'}],\n",
       "     'id': '56ceddf6aab44d1400b88b69',\n",
       "     'question': 'Quali macchine sono state trasportate in aereo?'},\n",
       "    {'answers': [{'answer_start': 828, 'text': '200.000'}],\n",
       "     'id': '56ceddf6aab44d1400b88b6b',\n",
       "     'question': 'Quante persone sono state evacuate a valle?'},\n",
       "    {'answers': [{'answer_start': 912, 'text': 'lo scoppio della diga'}],\n",
       "     'id': '56d62b0f1c85041400946f5e',\n",
       "     'question': \"Qual è stata la paura che ha causato l' evacuazione di 200.000 persone dal Mianyang?\"},\n",
       "    {'answers': [{'answer_start': 102, 'text': 'Monte Tangjia'}],\n",
       "     'id': '56d62b0f1c85041400946f5f',\n",
       "     'question': 'Dove si trovava il peggio dei laghi sismici?'},\n",
       "    {'answers': [{'answer_start': 122, 'text': 'contea di Beichuan, Sichuan'}],\n",
       "     'id': '56d62b0f1c85041400946f60',\n",
       "     'question': 'Dove si trova il monte Tangjia?'},\n",
       "    {'answers': [{'answer_start': 554, 'text': '1.200'}],\n",
       "     'id': '56d62b0f1c85041400946f62',\n",
       "     'question': 'Quanti soldati hanno dovuto recarsi nella zona a piedi?'}]},\n",
       "  {'context': 'Il Consiglio di Stato ha dichiarato un periodo di tre giorni di lutto nazionale per le vittime del terremoto a partire dal 19 maggio 2008, la bandiera nazionale della RPC e le bandiere regionali di Hong Kong e Macao regioni amministrative speciali ha volato a metà albero. Era la prima volta che un periodo di lutto nazionale era stato dichiarato per qualcosa di diverso dalla morte di un leader statale, e molti lo hanno definito la più grande manifestazione di lutto dalla morte di Mao Zedong. Alle 14:28 CST 28 il 19 maggio 2008, una settimana dopo il terremoto, il pubblico cinese ha tenuto un momento di silenzio. La gente taceva per tre minuti mentre la difesa aerea, la polizia e le sirene antincendio, e le corna di veicoli, navi e treni suonavano. Anche le auto e i camion sulle strade di Pechino si sono fermati. La gente spontaneamente scoppiò in allegria \"Zhongguo jiayou\"! (Vai, Cina!) e \"Sichuan jiayou\" (Let\\'s go, Sichuan!).',\n",
       "   'qas': [{'answers': [{'answer_start': 547, 'text': 'dopo'}],\n",
       "     'id': '56cede78aab44d1400b88b7c',\n",
       "     'question': 'Chi ha dichiarato il lutto?'},\n",
       "    {'answers': [{'answer_start': 64, 'text': 'lutto nazionale'}],\n",
       "     'id': '56d62ce51c85041400946f7a',\n",
       "     'question': 'Che cosa ha dichiarato il Consiglio di Stato?'},\n",
       "    {'answers': [{'answer_start': 484, 'text': 'Mao Zedong'}],\n",
       "     'id': '56d62ce51c85041400946f7b',\n",
       "     'question': 'Questa è stata la più grande manifestazione di lutto dalla morte di chi?'},\n",
       "    {'answers': [{'answer_start': 123, 'text': '19 maggio 2008'}],\n",
       "     'id': '56d62ce51c85041400946f7c',\n",
       "     'question': 'Quando i cinesi hanno avuto un momento di silenzio?'},\n",
       "    {'answers': [{'answer_start': 39, 'text': 'periodo di tre giorni'}],\n",
       "     'id': '56d62ce51c85041400946f7e',\n",
       "     'question': 'Quanto tempo è durato il lutto nazionale per le vittime del terremoto?'}]},\n",
       "  {'context': \"Il Comitato Organizzatore di Ningbo del comitato organizzatore della torcia olimpica di Pechino ha annunciato che la staffetta, prevista per svolgersi a Ningbo durante la mattinata nazionale, sarebbe stata sospesa per la durata del periodo di lutto. Il percorso della torcia attraverso il paese è stato ridimensionato, e c' è stato un minuto di silenzio quando la tappa successiva ha iniziato nella città di Ruijin, Jiangxi il mercoledì dopo il terremoto.\",\n",
       "   'qas': [{'answers': [{'answer_start': 29, 'text': 'Ningbo'}],\n",
       "     'id': '56cedecdaab44d1400b88b8e',\n",
       "     'question': \"Dov' era previsto il relè?\"},\n",
       "    {'answers': [{'answer_start': 151, 'text': 'a Ningbo'}],\n",
       "     'id': '56d62e501c85041400946f95',\n",
       "     'question': 'Dove doveva avvenire il relè della torcia?'},\n",
       "    {'answers': [{'answer_start': 250, 'text': 'Il percorso'}],\n",
       "     'id': '56d62e501c85041400946f96',\n",
       "     'question': 'Quale parte del relè ha cambiato?'},\n",
       "    {'answers': [{'answer_start': 408, 'text': 'Ruijin, Jiangxi'}],\n",
       "     'id': '56d62e501c85041400946f97',\n",
       "     'question': \"Dove c' era un minuto di silenzio durante la staffetta?\"}]},\n",
       "  {'context': 'Molti siti web hanno convertito la loro home page in bianco e nero; Sina. com e Sohu, i principali portali internet, hanno limitato le loro homepage alle notizie e rimosso tutte le pubblicità. I siti web cinesi di condivisione video Youku e Tudou hanno mostrato uno sfondo nero e collocato più video che mostrano filmati di terremoto e reportage di notizie. La versione cinese di MSN, cn. msn. com, mostrava anche annunci pubblicitari sul terremoto e gli sforzi di soccorso.',\n",
       "   'qas': []},\n",
       "  {'context': \"Ye Zhiping, il preside della scuola media di Sangzao a Sangzao, una delle più grandi della Contea di An, ha ricevuto il merito di un' azione proattiva che ha risparmiato la vita a tutti i 2.323 alunni presenti quando si è verificato il terremoto. Nel corso di un triennio che si è concluso nel 2007, ha seguito un' importante revisione della sua scuola. Durante quel periodo ha ottenuto più di 400.000 yuan (US$60.000) dal dipartimento di istruzione contea, denaro usato per ampliare e rafforzare i pilastri di cemento e la ringhiera balcone di tutti e quattro i piani della sua scuola, così come fissare i pavimenti in cemento.\",\n",
       "   'qas': [{'answers': [{'answer_start': 0, 'text': 'Ye Zhiping'}],\n",
       "     'id': '56cee003aab44d1400b88bb1',\n",
       "     'question': 'Chi era il preside della scuola media di Sangzao?'},\n",
       "    {'answers': [{'answer_start': 188, 'text': '2.323'}],\n",
       "     'id': '56cee003aab44d1400b88bb3',\n",
       "     'question': 'Quanti studenti hanno frequentato la scuola?'},\n",
       "    {'answers': [{'answer_start': 394, 'text': '400.000 yuan'}],\n",
       "     'id': '56cee003aab44d1400b88bb5',\n",
       "     'question': 'Quanto denaro è stato utilizzato per rafforzare la costruzione della scuola?'},\n",
       "    {'answers': [{'answer_start': 0, 'text': 'Ye Zhiping'}],\n",
       "     'id': '56d64f7c1c85041400947095',\n",
       "     'question': 'Quale direttore scolastico ha rafforzato la sua scuola?'},\n",
       "    {'answers': [{'answer_start': 45, 'text': 'Sangzao'}],\n",
       "     'id': '56d64f7c1c85041400947097',\n",
       "     'question': \"Dov' è la scuola media di Sangzao?\"}]},\n",
       "  {'context': \"Tuttavia, Reuters ha riferito nel mese di giugno che, ad oggi, i pubblici ministeri cinesi hanno aderito a un' indagine ufficiale in dieci scuole crollato durante il devastante terremoto di maggio per ottenere materiale di prima mano della qualità delle costruzioni nelle scuole crollato, avviare indagini preliminari e prepararsi per eventuali indagini sulla criminalità professionale. È stato inoltre riferito che, dopo il terremoto del mese scorso, si sarebbero dovuti effettuare controlli di sicurezza nelle scuole di tutta la Cina.\",\n",
       "   'qas': [{'answers': [{'answer_start': 483,\n",
       "       'text': 'controlli di sicurezza'}],\n",
       "     'id': '56cee069aab44d1400b88bbd',\n",
       "     'question': 'Cosa doveva essere fatto nelle scuole dopo il sisma?'},\n",
       "    {'answers': [{'answer_start': 360, 'text': 'criminalità professionale'}],\n",
       "     'id': '56d658061c850414009470a8',\n",
       "     'question': 'Quali indagini stanno conducendo i pubblici ministeri?'},\n",
       "    {'answers': [{'answer_start': 512, 'text': 'scuole di tutta la Cina'}],\n",
       "     'id': '56d658061c850414009470a9',\n",
       "     'question': 'Dove saranno i cinesi ad effettuare i controlli di sicurezza?'},\n",
       "    {'answers': [{'answer_start': 10, 'text': 'Reuters'}],\n",
       "     'id': '56d658061c850414009470aa',\n",
       "     'question': 'Quale gruppo ha riferito che i pubblici ministeri cinesi sono stati coinvolti nelle indagini sui crolli della scuola?'}]},\n",
       "  {'context': 'Il New York Times ha riferito che \"funzionari di governo a Pechino e Sichuan hanno detto che stanno indagando sui crolli. Riconoscendo la debolezza dei codici edilizi nelle campagne, il 27 maggio la Commissione nazionale per lo sviluppo e la riforma ha dichiarato di aver elaborato un emendamento per migliorare gli standard di costruzione delle scuole elementari e medie nelle zone rurali. Gli esperti stanno rivedendo il progetto, ha detto la commissione. Per limitare le proteste, i funzionari hanno spinto i genitori a firmare un documento che vietava loro di organizzare proteste in cambio di denaro, ma alcuni che si rifiutavano di firmare sono stati minacciati. Gli importi dei pagamenti variavano da scuola a scuola, ma erano all\\' incirca gli stessi. Ad Hanwang, ai genitori è stato offerto un pacchetto del valore di 8.800 USD in contanti e una pensione per genitore di quasi 5.600 USD.',\n",
       "   'qas': [{'answers': [{'answer_start': 462, 'text': 'limitare le proteste'}],\n",
       "     'id': '56d65a4b1c850414009470b0',\n",
       "     'question': 'Cosa stanno cercando di fare i funzionari per protestare i genitori?'},\n",
       "    {'answers': [{'answer_start': 598, 'text': 'denaro'}],\n",
       "     'id': '56d65a4b1c850414009470b1',\n",
       "     'question': 'Quali sono i funzionari che offrono ai genitori in cambio di proteste?'}]},\n",
       "  {'context': 'Oltre ai genitori, Liu Shaokun (???), un insegnante di scuola del Sichuan, è stato arrestato il 25 giugno 2008 per \"diffondere voci e distruggere l\\' ordine sociale\" sul terremoto del Sichuan. La famiglia di Liu è stato poi detto che egli è stato indagato su sospetto del reato di istigazione alla sovversione. Liu aveva viaggiato per lo Shifang, scattato foto di edifici scolastici crollati, e metterli online. Aveva anche espresso la sua rabbia per \"gli edifici scadenti tofu-dregs\" (?????) in un\\' intervista ai media. Gli è stato ordinato di servire un anno di rieducazione attraverso il lavoro (RTL). Secondo l\\' organizzazione per i diritti umani in Cina, Liu è stato rilasciato per scontare la sua condanna RTL al di fuori del campo di lavoro.',\n",
       "   'qas': [{'answers': [{'answer_start': 19, 'text': 'Liu Shaokun'}],\n",
       "     'id': '56cee14aaab44d1400b88bcb',\n",
       "     'question': 'Chi era un insegnante di scuola del Sichuan?'},\n",
       "    {'answers': [{'answer_start': 271,\n",
       "       'text': 'reato di istigazione alla sovversione'}],\n",
       "     'id': '56d65c671c850414009470ba',\n",
       "     'question': 'Perché è stato indagato?'},\n",
       "    {'answers': [{'answer_start': 394, 'text': 'metterli online'}],\n",
       "     'id': '56d65c671c850414009470bb',\n",
       "     'question': 'Che cosa ha fatto Liu Shankun con le foto che ha scattato delle scuole crollate?'},\n",
       "    {'answers': [{'answer_start': 492, 'text': \"in un' intervista ai media\"}],\n",
       "     'id': '56d65c671c850414009470bc',\n",
       "     'question': 'Dove ha definito gli edifici scolastici scadenti?'},\n",
       "    {'answers': [{'answer_start': 552, 'text': 'un anno di rieducazione'}],\n",
       "     'id': '56d65c671c850414009470bd',\n",
       "     'question': 'Qual era la sua punizione assegnata?'}]},\n",
       "  {'context': 'Nel gennaio 2010, il giornale inglese con sede a Hong Kong The Standard ha riferito che lo scrittore Tan Zuoren ha tentato di documentare la costruzione scadente che potrebbe aver portato a massicce vittime nelle scuole, è stato condannato in prigione apparentemente per la sua scrittura di un articolo nel 2007 a sostegno del movimento pro-democrazia nel 1989.',\n",
       "   'qas': [{'answers': [{'answer_start': 303, 'text': 'nel 2007'}],\n",
       "     'id': '56cee1e4aab44d1400b88be0',\n",
       "     'question': 'Quando è avvenuta la condanna?'},\n",
       "    {'answers': [{'answer_start': 4, 'text': 'gennaio 2010'}],\n",
       "     'id': '56cee1e4aab44d1400b88be1',\n",
       "     'question': \"Quando è stato pubblicato l' articolo sul caso?\"}]},\n",
       "  {'context': \"A causa della magnitudo del terremoto e dell' attenzione mediatica sulla Cina, le nazioni e le organizzazioni straniere hanno risposto immediatamente al disastro offrendo condoglianze e assistenza. Il 14 maggio, l' UNICEF ha riferito che la Cina ha chiesto formalmente il sostegno della comunità internazionale per rispondere ai bisogni delle famiglie colpite.\",\n",
       "   'qas': [{'answers': [{'answer_start': 234,\n",
       "       'text': 'che la Cina ha chiesto formalmente il sostegno della comunità internazionale'}],\n",
       "     'id': '56cee23caab44d1400b88be6',\n",
       "     'question': \"Che cosa ha riferito l' UNICEF?\"},\n",
       "    {'answers': [{'answer_start': 171, 'text': 'condoglianze e assistenza'}],\n",
       "     'id': '56d660e91c850414009470d3',\n",
       "     'question': 'Che cosa hanno offerto alla Cina le nazioni straniere a causa della gravità del terremoto?'},\n",
       "    {'answers': [{'answer_start': 201, 'text': '14 maggio'}],\n",
       "     'id': '56d660e91c850414009470d4',\n",
       "     'question': 'Quando ha chiesto formalmente aiuto alla comunità internazionale?'},\n",
       "    {'answers': [{'answer_start': 215, 'text': 'UNICEF'}],\n",
       "     'id': '56d660e91c850414009470d5',\n",
       "     'question': 'Quale organizzazione ha riferito che la Cina ha chiesto aiuto?'}]},\n",
       "  {'context': \"Entro il 14 maggio, il Ministero degli Affari civili ha dichiarato che 10,7 miliardi di yuan (circa 1,5 miliardi di dollari) era stato donato dal pubblico cinese. Houston Rockets centro Yao Ming, una delle icone sportive più popolari del paese, ha dato $214.000 e $71.000 alla Società Croce Rossa della Cina. L' associazione ha inoltre raccolto un totale di 26 milioni di dollari in donazioni finora raccolte. Anche altre multinazionali situate in Cina hanno annunciato ingenti donazioni.\",\n",
       "   'qas': [{'answers': [{'answer_start': 358,\n",
       "       'text': '26 milioni di dollari'}],\n",
       "     'id': '56cee294aab44d1400b88bed',\n",
       "     'question': 'Quanto ha raccolto la Croce Rossa in donazioni?'},\n",
       "    {'answers': [{'answer_start': 71, 'text': '10,7 miliardi di yuan'}],\n",
       "     'id': '56d6622d1c850414009470db',\n",
       "     'question': 'Quanto denaro era stato donato entro il 14 maggio?'},\n",
       "    {'answers': [{'answer_start': 186, 'text': 'Yao Ming'}],\n",
       "     'id': '56d6622d1c850414009470dd',\n",
       "     'question': 'Quale famoso giocatore di basket ha fatto due grandi donazioni alla crisi?'},\n",
       "    {'answers': [{'answer_start': 358, 'text': '26 milioni'}],\n",
       "     'id': '56d6622d1c850414009470de',\n",
       "     'question': 'Quanto ha raccolto la Società della Croce Rossa?'}]},\n",
       "  {'context': 'Francis Marcus della Federazione Internazionale della Croce Rossa ha elogiato lo sforzo cinese di salvataggio come \"veloce e molto efficiente\" a Pechino martedì. Ma ha aggiunto che la portata del disastro era tale che \"non possiamo aspettarci che il governo possa fare tutto e gestire ogni aspetto delle necessità\". L\\' economista ha osservato che la Cina ha reagito al disastro \"rapidamente e con un\\' insolita apertura\", contrastandola con la risposta segreta della Birmania al ciclone Nargis, che ha devastato il paese 10 giorni prima del terremoto.',\n",
       "   'qas': [{'answers': [{'answer_start': 410, 'text': 'apertura'}],\n",
       "     'id': '56d614dd1c85041400946f07',\n",
       "     'question': 'Quale atteggiamento atipico ha mostrato la Cina?'},\n",
       "    {'answers': [{'answer_start': 520, 'text': '10 giorni'}],\n",
       "     'id': '56d614dd1c85041400946f09',\n",
       "     'question': 'Quanto tempo prima del terremoto il ciclone Nargis colpì la Birmania?'},\n",
       "    {'answers': [{'answer_start': 21,\n",
       "       'text': 'Federazione Internazionale della Croce Rossa'}],\n",
       "     'id': '56d614dd1c85041400946f0a',\n",
       "     'question': 'Quale organizzazione ha rappresentato Francesco Marco?'}]},\n",
       "  {'context': 'Tutte le emittenti televisive della Cina continentale (insieme ad alcune stazioni di Hong Kong e delle comunità espatriate) hanno cancellato tutti i programmi programmati regolarmente, hanno mostrato il loro logo in scala di grigi e hanno sostituito i programmi cancellati con filmati dal vivo del CCTV-1 per più giorni dopo il terremoto. Anche i canali televisivi a pagamento (come il canale V) sono stati sospesi.',\n",
       "   'qas': [{'answers': [{'answer_start': 298, 'text': 'CCTV-1'}],\n",
       "     'id': '56d646091c8504140094705e',\n",
       "     'question': 'Qual è stata la fonte dei feed live?'}]},\n",
       "  {'context': \"Sebbene il governo cinese sia stato inizialmente elogiato per la sua risposta al terremoto (soprattutto rispetto al blocco degli aiuti da parte della giunta militare di governo del Myanmar durante il ciclone Nargis), ha poi visto un' erosione della fiducia nello scandalo della costruzione scolastica.\",\n",
       "   'qas': [{'answers': [{'answer_start': 181, 'text': 'Myanmar'}],\n",
       "     'id': '56d6488e1c8504140094706f',\n",
       "     'question': 'Quale governo ha bloccato gli aiuti dopo il ciclone Nargis?'},\n",
       "    {'answers': [{'answer_start': 263,\n",
       "       'text': 'scandalo della costruzione scolastica'}],\n",
       "     'id': '56d6488e1c85041400947070',\n",
       "     'question': \"Su quale scandalo ha perso nell' opinione pubblica il governo cinese?\"},\n",
       "    {'answers': [{'answer_start': 69, 'text': 'risposta al terremoto'}],\n",
       "     'id': '56d6488e1c85041400947071',\n",
       "     'question': 'A cosa è stato lodato per la prima volta il governo cinese?'}]},\n",
       "  {'context': \"Il 29 maggio 2008, i funzionari governativi hanno iniziato a ispezionare le rovine di migliaia di scuole crollate, alla ricerca di indizi sul perché si sono sgretolate. Migliaia di genitori in tutta la provincia hanno accusato funzionari locali e costruttori di tagliare angoli nella costruzione della scuola, citando che dopo il terremoto altri edifici vicini sono stati poco danneggiati. All' indomani del terremoto, molti governi locali hanno promesso di indagare formalmente sui crolli della scuola, ma a partire dal 17 luglio 2008 in tutto il Sichuan, i genitori di bambini perduti nelle scuole crollate si sono lamentati di non aver ancora ricevuto alcuna segnalazione. Funzionari locali li ha esortati a non protestare, ma i genitori hanno dimostrato e chiesto un' indagine. Inoltre, i censori hanno scoraggiato la pubblicazione sui media di storie di scuole costruite in modo inadeguato e vi è stato un incidente in cui la polizia ha allontanato i manifestanti.\",\n",
       "   'qas': []},\n",
       "  {'context': 'Il AP ha riferito che \"I media controllati dallo Stato ha ampiamente ignorato la questione, apparentemente sotto le istruzioni dell\\' ufficio di propaganda. Genitori e volontari che hanno interrogato le autorità sono stati detenuti e minacciati.',\n",
       "   'qas': [{'answers': [{'answer_start': 25,\n",
       "       'text': 'media controllati dallo Stato'}],\n",
       "     'id': '56d650911c8504140094709f',\n",
       "     'question': 'Chi ha ignorato la questione della scuola?'},\n",
       "    {'answers': [{'answer_start': 0, 'text': 'Il AP'}],\n",
       "     'id': '56d650911c850414009470a2',\n",
       "     'question': 'Quale fonte mediatica ha riferito che ciò accade?'}]},\n",
       "  {'context': 'Il 15 maggio 2008 Geoffery York del Globeandmail. com ha riferito che gli edifici di costruzione scadente sono comunemente chiamati \"edifici tofu\" perché i costruttori tagliano gli angoli sostituendo barre d\\' acciaio con fili di ferro sottili per il rinforzo del calcestruzzo, utilizzando cemento di qualità inferiore, se ce ne sono, e utilizzando meno mattoni di quanto dovrebbero.',\n",
       "   'qas': []},\n",
       "  {'context': \"Rimangono tuttavia ancora delle domande, in quanto alcuni funzionari di governo corrotti non sono ancora stati consegnati alla giustizia, mentre le numerose famiglie che hanno perso l' unico figlio, cercano ancora di ottenere un risarcimento e di rendere giustizia a quanto era accaduto. Secondo il Times, molti genitori sono stati avvertiti dal governo di non mettere in scena una protesta sotto la minaccia dell' arresto.\",\n",
       "   'qas': []}]}"
      ]
     },
     "execution_count": 6,
     "metadata": {},
     "output_type": "execute_result"
    }
   ],
   "source": [
    "squad_it_dataset[\"train\"][0]"
   ]
  },
  {
   "cell_type": "markdown",
   "id": "1de0765e",
   "metadata": {},
   "source": [
    "Great, we've loaded our first local dataset! But while this worked for the training set, what we really want is to include both the `train` and `test` splits in a single `DatasetDict` object so we can apply `Dataset.map()` functions across both splits at once. To do this, we can provide a dictionary to the `data_files` argument that maps each split name to a file associated with that split:"
   ]
  },
  {
   "cell_type": "code",
   "execution_count": 7,
   "id": "412b02ee",
   "metadata": {},
   "outputs": [
    {
     "name": "stderr",
     "output_type": "stream",
     "text": [
      "Using custom data configuration default-2f56a55729cd7df5\n"
     ]
    },
    {
     "name": "stdout",
     "output_type": "stream",
     "text": [
      "Downloading and preparing dataset json/default to /Users/matthias/.cache/huggingface/datasets/json/default-2f56a55729cd7df5/0.0.0/ac0ca5f5289a6cf108e706efcf040422dbbfa8e658dee6a819f20d76bb84d26b...\n"
     ]
    },
    {
     "data": {
      "application/vnd.jupyter.widget-view+json": {
       "model_id": "931f8a2f00e64025be5f7a2f13e00565",
       "version_major": 2,
       "version_minor": 0
      },
      "text/plain": [
       "Downloading data files:   0%|          | 0/2 [00:00<?, ?it/s]"
      ]
     },
     "metadata": {},
     "output_type": "display_data"
    },
    {
     "data": {
      "application/vnd.jupyter.widget-view+json": {
       "model_id": "fb904c93a07e47bfb7ab204de658c24c",
       "version_major": 2,
       "version_minor": 0
      },
      "text/plain": [
       "Extracting data files:   0%|          | 0/2 [00:00<?, ?it/s]"
      ]
     },
     "metadata": {},
     "output_type": "display_data"
    },
    {
     "name": "stdout",
     "output_type": "stream",
     "text": [
      "Dataset json downloaded and prepared to /Users/matthias/.cache/huggingface/datasets/json/default-2f56a55729cd7df5/0.0.0/ac0ca5f5289a6cf108e706efcf040422dbbfa8e658dee6a819f20d76bb84d26b. Subsequent calls will reuse this data.\n"
     ]
    },
    {
     "data": {
      "application/vnd.jupyter.widget-view+json": {
       "model_id": "f84472213ea04e7e83f42a1343826432",
       "version_major": 2,
       "version_minor": 0
      },
      "text/plain": [
       "  0%|          | 0/2 [00:00<?, ?it/s]"
      ]
     },
     "metadata": {},
     "output_type": "display_data"
    },
    {
     "data": {
      "text/plain": [
       "DatasetDict({\n",
       "    train: Dataset({\n",
       "        features: ['title', 'paragraphs'],\n",
       "        num_rows: 442\n",
       "    })\n",
       "    test: Dataset({\n",
       "        features: ['title', 'paragraphs'],\n",
       "        num_rows: 48\n",
       "    })\n",
       "})"
      ]
     },
     "execution_count": 7,
     "metadata": {},
     "output_type": "execute_result"
    }
   ],
   "source": [
    "data_files = {\"train\": \"data/SQuAD_it-train.json\", \"test\": \"data/SQuAD_it-test.json\"}\n",
    "squad_it_dataset = load_dataset(\"json\", data_files=data_files, field=\"data\")\n",
    "squad_it_dataset"
   ]
  },
  {
   "cell_type": "markdown",
   "id": "09f416e5",
   "metadata": {},
   "source": [
    "This is exactly what we wanted. Now, we can apply various preprocessing techniques to clean up the data, tokenize the reviews, and so on.\n",
    "\n",
    "> The `data_files` argument of the `load_dataset()` function is quite flexible and can be either a single file path, a list of file paths, or a dictionary that maps split names to file paths. You can also glob files that match a specified pattern according to the rules used by the Unix shell (e.g., you can glob all the JSON files in a directory as a single split by setting `data_files=\"*.json\"`). See the 🤗 Datasets [documentation](https://huggingface.co/docs/datasets/loading.html#local-and-remote-files) for more details.\n",
    "\n",
    "The loading scripts in 🤗 Datasets actually support automatic decompression of the input files, so we could have skipped the use of `gzip` by pointing the `data_files` argument directly to the compressed files:"
   ]
  },
  {
   "cell_type": "code",
   "execution_count": 8,
   "id": "d767344b",
   "metadata": {},
   "outputs": [
    {
     "name": "stderr",
     "output_type": "stream",
     "text": [
      "Using custom data configuration default-c4818d1c5d20523d\n"
     ]
    },
    {
     "name": "stdout",
     "output_type": "stream",
     "text": [
      "Downloading and preparing dataset json/default to /Users/matthias/.cache/huggingface/datasets/json/default-c4818d1c5d20523d/0.0.0/ac0ca5f5289a6cf108e706efcf040422dbbfa8e658dee6a819f20d76bb84d26b...\n"
     ]
    },
    {
     "data": {
      "application/vnd.jupyter.widget-view+json": {
       "model_id": "23efbe24bfa5462ebcfa47d2fdd7b776",
       "version_major": 2,
       "version_minor": 0
      },
      "text/plain": [
       "Downloading data files:   0%|          | 0/2 [00:00<?, ?it/s]"
      ]
     },
     "metadata": {},
     "output_type": "display_data"
    },
    {
     "data": {
      "application/vnd.jupyter.widget-view+json": {
       "model_id": "189cfa2b968b4108b60737d5654e9158",
       "version_major": 2,
       "version_minor": 0
      },
      "text/plain": [
       "Extracting data files:   0%|          | 0/2 [00:00<?, ?it/s]"
      ]
     },
     "metadata": {},
     "output_type": "display_data"
    },
    {
     "name": "stdout",
     "output_type": "stream",
     "text": [
      "Dataset json downloaded and prepared to /Users/matthias/.cache/huggingface/datasets/json/default-c4818d1c5d20523d/0.0.0/ac0ca5f5289a6cf108e706efcf040422dbbfa8e658dee6a819f20d76bb84d26b. Subsequent calls will reuse this data.\n"
     ]
    },
    {
     "data": {
      "application/vnd.jupyter.widget-view+json": {
       "model_id": "5b303f141c3740469ec170d754e9aeac",
       "version_major": 2,
       "version_minor": 0
      },
      "text/plain": [
       "  0%|          | 0/2 [00:00<?, ?it/s]"
      ]
     },
     "metadata": {},
     "output_type": "display_data"
    }
   ],
   "source": [
    "data_files = {\"train\": \"data/SQuAD_it-train.json.gz\", \"test\": \"data/SQuAD_it-test.json.gz\"}\n",
    "squad_it_dataset = load_dataset(\"json\", data_files=data_files, field=\"data\")"
   ]
  },
  {
   "cell_type": "markdown",
   "id": "956802cb",
   "metadata": {},
   "source": [
    "This can be useful if you don't want to manually decompress many GZIP files. The automatic decompression also applies to other common formats like ZIP and TAR, so you just need to point `data_files` to the compressed files and you're good to go!\n",
    "\n",
    "Now that you know how to load local files on your laptop or desktop, let's take a look at loading remote files.\n",
    "### Loading a remote dataset\n",
    "\n",
    "If you're working as a data scientist or coder in a company, there's a good chance the datasets you want to analyze are stored on some remote server. Fortunately, loading remote files is just as simple as loading local ones! Instead of providing a path to local files, we point the `data_files` argument of `load_dataset()` to one or more URLs where the remote files are stored. For example, for the SQuAD-it dataset hosted on GitHub, we can just point `data_files` to the <i>SQuAD_it-\\*.json.gz</i> URLs as follows:"
   ]
  },
  {
   "cell_type": "code",
   "execution_count": 9,
   "id": "ea40ad88",
   "metadata": {},
   "outputs": [
    {
     "name": "stderr",
     "output_type": "stream",
     "text": [
      "Using custom data configuration default-57dcee3ea6992346\n",
      "Reusing dataset json (/Users/matthias/.cache/huggingface/datasets/json/default-57dcee3ea6992346/0.0.0/ac0ca5f5289a6cf108e706efcf040422dbbfa8e658dee6a819f20d76bb84d26b)\n"
     ]
    },
    {
     "data": {
      "application/vnd.jupyter.widget-view+json": {
       "model_id": "1f18e8b68cba4dabbd995e773286e95e",
       "version_major": 2,
       "version_minor": 0
      },
      "text/plain": [
       "  0%|          | 0/2 [00:00<?, ?it/s]"
      ]
     },
     "metadata": {},
     "output_type": "display_data"
    }
   ],
   "source": [
    "url = \"https://github.com/crux82/squad-it/raw/master/\"\n",
    "data_files = {\n",
    "    \"train\": url + \"SQuAD_it-train.json.gz\",\n",
    "    \"test\": url + \"SQuAD_it-test.json.gz\",\n",
    "}\n",
    "squad_it_dataset = load_dataset(\"json\", data_files=data_files, field=\"data\")"
   ]
  },
  {
   "cell_type": "markdown",
   "id": "5d8d9fe9",
   "metadata": {},
   "source": [
    "This returns the same `DatasetDict` object obtained above, but saves us the step of manually downloading and decompressing the <i>SQuAD_it-\\*.json.gz</i> files. This wraps up our foray into the various ways to load datasets that aren't hosted on the Hugging Face Hub. Now that we've got a dataset to play with, let's get our hands dirty with various data-wrangling techniques!\n",
    "\n",
    "> ✏️ Try it out! <font color=\"darkgreen\">Pick another dataset hosted on GitHub or the [UCI Machine Learning Repository](https://archive.ics.uci.edu/ml/index.php) and try loading it both locally and remotely using the techniques introduced above. For bonus points, try loading a dataset that's stored in a CSV or text format (see the [documentation](https://huggingface.co/docs/datasets/loading.html#local-and-remote-files) for more information on these formats).</font>"
   ]
  },
  {
   "cell_type": "code",
   "execution_count": 10,
   "id": "08d3ad80",
   "metadata": {},
   "outputs": [],
   "source": [
    "# Trying it out"
   ]
  },
  {
   "cell_type": "markdown",
   "id": "6e887dcf",
   "metadata": {},
   "source": [
    "## [Time to slice and dice](https://huggingface.co/course/chapter5/3?fw=pt)\n",
    "\n",
    "Most of the time, the data you work with won't be perfectly prepared for training models. In this section we'll explore the various features that 🤗 Datasets provides to clean up your datasets."
   ]
  },
  {
   "cell_type": "code",
   "execution_count": 11,
   "id": "1af2a3b3",
   "metadata": {},
   "outputs": [
    {
     "name": "stderr",
     "output_type": "stream",
     "text": [
      "/Users/matthias/opt/anaconda3/envs/hf/lib/python3.8/site-packages/IPython/core/display.py:717: UserWarning: Consider using IPython.display.IFrame instead\n",
      "  warnings.warn(\"Consider using IPython.display.IFrame instead\")\n"
     ]
    },
    {
     "data": {
      "text/html": [
       "<iframe width=\"640\" height=\"360\" src=\"https://www.youtube.com/embed/tqfSFcPMgOI\" allowfullscreen></iframe>"
      ],
      "text/plain": [
       "<IPython.core.display.HTML object>"
      ]
     },
     "execution_count": 11,
     "metadata": {},
     "output_type": "execute_result"
    }
   ],
   "source": [
    "HTML('<iframe width=\"640\" height=\"360\" src=\"https://www.youtube.com/embed/tqfSFcPMgOI\" allowfullscreen></iframe>')"
   ]
  },
  {
   "cell_type": "markdown",
   "id": "cb3fabd2",
   "metadata": {},
   "source": [
    "### Slicing and dicing our data\n",
    "\n",
    "Similar to Pandas, 🤗 Datasets provides several functions to manipulate the contents of `Dataset` and `DatasetDict` objects. We already encountered the `Dataset.map()` method in Chapter 3, and in this section we'll explore some of the other functions at our disposal.\n",
    "\n",
    "For this example we'll use the [Drug Review Dataset](https://archive.ics.uci.edu/ml/datasets/Drug+Review+Dataset+%28Drugs.com%29) that's hosted on the [UC Irvine Machine Learning Repository}(https://archive.ics.uci.edu/ml/index.php), which contains patient reviews on various drugs, along with the condition being treated and a 10-star rating of the patient's satisfaction.\n",
    "\n",
    "First we need to download and extract the data, which can be done with the `wget` and `unzip` commands:"
   ]
  },
  {
   "cell_type": "code",
   "execution_count": 12,
   "id": "63d590cc",
   "metadata": {},
   "outputs": [
    {
     "name": "stdout",
     "output_type": "stream",
     "text": [
      "--2022-05-05 10:27:31--  https://archive.ics.uci.edu/ml/machine-learning-databases/00462/drugsCom_raw.zip\n",
      "Resolving archive.ics.uci.edu (archive.ics.uci.edu)... 128.195.10.252\n",
      "Connecting to archive.ics.uci.edu (archive.ics.uci.edu)|128.195.10.252|:443... connected.\n",
      "HTTP request sent, awaiting response... 200 OK\n",
      "Length: 42989872 (41M) [application/x-httpd-php]\n",
      "Saving to: ‘drugsCom_raw.zip’\n",
      "\n",
      "drugsCom_raw.zip    100%[===================>]  41,00M  10,8MB/s    in 4,8s    \n",
      "\n",
      "2022-05-05 10:27:36 (8,51 MB/s) - ‘drugsCom_raw.zip’ saved [42989872/42989872]\n",
      "\n",
      "Archive:  data/drugsCom_raw.zip\n",
      "  inflating: data/drugsComTest_raw.tsv  \n",
      "  inflating: data/drugsComTrain_raw.tsv  \n"
     ]
    }
   ],
   "source": [
    "# the following commands need to run only once\n",
    "!wget \"https://archive.ics.uci.edu/ml/machine-learning-databases/00462/drugsCom_raw.zip\"\n",
    "!mv drugsCom_raw.zip data\n",
    "!unzip data/drugsCom_raw.zip -d data"
   ]
  },
  {
   "cell_type": "markdown",
   "id": "e5583394",
   "metadata": {},
   "source": [
    "Since TSV is just a variant of CSV that uses tabs instead of commas as the separator, we can load these files by using the csv loading script and specifying the `delimiter` argument in the `load_dataset()` function as follows:"
   ]
  },
  {
   "cell_type": "code",
   "execution_count": 13,
   "id": "36cdb5c5",
   "metadata": {},
   "outputs": [
    {
     "name": "stderr",
     "output_type": "stream",
     "text": [
      "Using custom data configuration default-dfe0eefb3ddcb345\n"
     ]
    },
    {
     "name": "stdout",
     "output_type": "stream",
     "text": [
      "Downloading and preparing dataset csv/default to /Users/matthias/.cache/huggingface/datasets/csv/default-dfe0eefb3ddcb345/0.0.0/433e0ccc46f9880962cc2b12065189766fbb2bee57a221866138fb9203c83519...\n"
     ]
    },
    {
     "data": {
      "application/vnd.jupyter.widget-view+json": {
       "model_id": "d4c3e2ce60584582ab5818a80e7f75ef",
       "version_major": 2,
       "version_minor": 0
      },
      "text/plain": [
       "Downloading data files:   0%|          | 0/2 [00:00<?, ?it/s]"
      ]
     },
     "metadata": {},
     "output_type": "display_data"
    },
    {
     "data": {
      "application/vnd.jupyter.widget-view+json": {
       "model_id": "ba1489ea55204ef7bea16ca80c6e388a",
       "version_major": 2,
       "version_minor": 0
      },
      "text/plain": [
       "Extracting data files:   0%|          | 0/2 [00:00<?, ?it/s]"
      ]
     },
     "metadata": {},
     "output_type": "display_data"
    },
    {
     "name": "stdout",
     "output_type": "stream",
     "text": [
      "Dataset csv downloaded and prepared to /Users/matthias/.cache/huggingface/datasets/csv/default-dfe0eefb3ddcb345/0.0.0/433e0ccc46f9880962cc2b12065189766fbb2bee57a221866138fb9203c83519. Subsequent calls will reuse this data.\n"
     ]
    },
    {
     "data": {
      "application/vnd.jupyter.widget-view+json": {
       "model_id": "48f2ea99088240c98e347740a6082629",
       "version_major": 2,
       "version_minor": 0
      },
      "text/plain": [
       "  0%|          | 0/2 [00:00<?, ?it/s]"
      ]
     },
     "metadata": {},
     "output_type": "display_data"
    }
   ],
   "source": [
    "data_files = {\"train\": \"data/drugsComTrain_raw.tsv\", \"test\": \"data/drugsComTest_raw.tsv\"}\n",
    "# \\t is the tab character in Python\n",
    "drug_dataset = load_dataset(\"csv\", data_files=data_files, delimiter=\"\\t\")"
   ]
  },
  {
   "cell_type": "markdown",
   "id": "8ab8d09f",
   "metadata": {},
   "source": [
    "A good practice when doing any sort of data analysis is to grab a small random sample to get a quick feel for the type of data you're working with. In 🤗 Datasets, we can create a random sample by chaining the `Dataset.shuffle()` and `Dataset.select()` functions together:"
   ]
  },
  {
   "cell_type": "code",
   "execution_count": 14,
   "id": "daa8c474",
   "metadata": {},
   "outputs": [
    {
     "data": {
      "text/plain": [
       "{'Unnamed: 0': [87571, 178045, 80482],\n",
       " 'drugName': ['Naproxen', 'Duloxetine', 'Mobic'],\n",
       " 'condition': ['Gout, Acute', 'ibromyalgia', 'Inflammatory Conditions'],\n",
       " 'review': ['\"like the previous person mention, I&#039;m a strong believer of aleve, it works faster for my gout than the prescription meds I take. No more going to the doctor for refills.....Aleve works!\"',\n",
       "  '\"I have taken Cymbalta for about a year and a half for fibromyalgia pain. It is great\\r\\nas a pain reducer and an anti-depressant, however, the side effects outweighed \\r\\nany benefit I got from it. I had trouble with restlessness, being tired constantly,\\r\\ndizziness, dry mouth, numbness and tingling in my feet, and horrible sweating. I am\\r\\nbeing weaned off of it now. Went from 60 mg to 30mg and now to 15 mg. I will be\\r\\noff completely in about a week. The fibro pain is coming back, but I would rather deal with it than the side effects.\"',\n",
       "  '\"I have been taking Mobic for over a year with no side effects other than an elevated blood pressure.  I had severe knee and ankle pain which completely went away after taking Mobic.  I attempted to stop the medication however pain returned after a few days.\"'],\n",
       " 'rating': [9.0, 3.0, 10.0],\n",
       " 'date': ['September 2, 2015', 'November 7, 2011', 'June 5, 2013'],\n",
       " 'usefulCount': [36, 13, 128]}"
      ]
     },
     "execution_count": 14,
     "metadata": {},
     "output_type": "execute_result"
    }
   ],
   "source": [
    "drug_sample = drug_dataset[\"train\"].shuffle(seed=42).select(range(1000))\n",
    "# Peek at the first few examples\n",
    "drug_sample[:3]"
   ]
  },
  {
   "cell_type": "markdown",
   "id": "1e494060",
   "metadata": {},
   "source": [
    "Note that we've fixed the seed in `Dataset.shuffle()` for reproducibility purposes. `Dataset.select()` expects an iterable of indices, so we've passed `range(1000)` to grab the first 1,000 examples from the shuffled dataset. From this sample we can already see a few quirks in our dataset:\n",
    "- The `Unnamed: 0` column looks suspiciously like an anonymized ID for each patient.\n",
    "- The `condition` column includes a mix of uppercase and lowercase labels.\n",
    "- The `reviews` are of varying length and contain a mix of Python line separators (`\\r\\n`) as well as HTML character codes like `&\\#039;`.\n",
    "\n",
    "Let's see how we can use 🤗 Datasets to deal with each of these issues. To test the patient ID hypothesis for the `Unnamed: 0` column, we can use the `Dataset.unique()` function to verify that the number of IDs matches the number of rows in each split:"
   ]
  },
  {
   "cell_type": "code",
   "execution_count": 15,
   "id": "899a1e1e",
   "metadata": {},
   "outputs": [],
   "source": [
    "for split in drug_dataset.keys():\n",
    "    assert len(drug_dataset[split]) == len(drug_dataset[split].unique(\"Unnamed: 0\"))"
   ]
  },
  {
   "cell_type": "markdown",
   "id": "c161243b",
   "metadata": {},
   "source": [
    "This seems to confirm our hypothesis, so let's clean up the dataset a bit by renaming the `Unnamed: 0` column to something a bit more interpretable. We can use the `DatasetDict.rename_column()` function to rename the column across both splits in one go:"
   ]
  },
  {
   "cell_type": "code",
   "execution_count": 16,
   "id": "4ea65766",
   "metadata": {},
   "outputs": [
    {
     "data": {
      "text/plain": [
       "DatasetDict({\n",
       "    train: Dataset({\n",
       "        features: ['patient_id', 'drugName', 'condition', 'review', 'rating', 'date', 'usefulCount'],\n",
       "        num_rows: 161297\n",
       "    })\n",
       "    test: Dataset({\n",
       "        features: ['patient_id', 'drugName', 'condition', 'review', 'rating', 'date', 'usefulCount'],\n",
       "        num_rows: 53766\n",
       "    })\n",
       "})"
      ]
     },
     "execution_count": 16,
     "metadata": {},
     "output_type": "execute_result"
    }
   ],
   "source": [
    "drug_dataset = drug_dataset.rename_column(\n",
    "    original_column_name=\"Unnamed: 0\", new_column_name=\"patient_id\"\n",
    ")\n",
    "drug_dataset"
   ]
  },
  {
   "cell_type": "markdown",
   "id": "d203098f",
   "metadata": {},
   "source": [
    "> ✏️ Try it out! <font color=\"darkgreen\">Use the `Dataset.unique()` function to find the number of unique drugs and conditions in the training and test sets.</font>"
   ]
  },
  {
   "cell_type": "code",
   "execution_count": 17,
   "id": "f47be469",
   "metadata": {},
   "outputs": [],
   "source": [
    "# Trying it out"
   ]
  },
  {
   "cell_type": "markdown",
   "id": "36d2bc4f",
   "metadata": {},
   "source": [
    "Next, let's normalize all the `condition` labels using `Dataset.map()`. As we did with tokenization in [Chapter 3](https://huggingface.co/course/chapter3), we can define a simple function that can be applied across all the rows of each split in `drug_dataset`:\n",
    "\n",
    "```python\n",
    "def lowercase_condition(example):\n",
    "    return {\"condition\": example[\"condition\"].lower()}\n",
    "drug_dataset.map(lowercase_condition)\n",
    "\n",
    "AttributeError: 'NoneType' object has no attribute 'lower'\n",
    "```\n",
    "\n",
    "Oh no, we've run into a problem with our map function! From the error we can infer that some of the entries in the `condition` column are `None`, which cannot be lowercased as they're not strings. Let's drop these rows using `Dataset.filter()`, which works in a similar way to `Dataset.map()` and expects a function that receives a single example of the dataset. Instead of writing an explicit function like:\n",
    "```python\n",
    "def filter_nones(x):\n",
    "    return x[\"condition\"] is not None\n",
    "```\n",
    "and then running `drug_dataset.filter(filter_nones)`, we can do this in one line using a *lambda function*. In Python, lambda functions are small functions that you can define without explicitly naming them. They take the general form:\n",
    "```python\n",
    "lambda <arguments> : <expression>\n",
    "```\n",
    "where `lambda` is one of Python's special [keywords](https://docs.python.org/3/reference/lexical_analysis.html#keywords), `<arguments>` is a list/set of comma-separated values that define the inputs to the function, and `<expression>` represents the operations you wish to execute. For example, we can define a simple lambda function that squares a number as follows:"
   ]
  },
  {
   "cell_type": "code",
   "execution_count": 18,
   "id": "0729b9d6",
   "metadata": {},
   "outputs": [
    {
     "data": {
      "text/plain": [
       "<function __main__.<lambda>(x)>"
      ]
     },
     "execution_count": 18,
     "metadata": {},
     "output_type": "execute_result"
    }
   ],
   "source": [
    "lambda x : x * x"
   ]
  },
  {
   "cell_type": "markdown",
   "id": "413e11a1",
   "metadata": {},
   "source": [
    "To apply this function to an input, we need to wrap it and the input in parentheses:"
   ]
  },
  {
   "cell_type": "code",
   "execution_count": 19,
   "id": "ba80884d",
   "metadata": {},
   "outputs": [
    {
     "data": {
      "text/plain": [
       "9"
      ]
     },
     "execution_count": 19,
     "metadata": {},
     "output_type": "execute_result"
    }
   ],
   "source": [
    "(lambda x: x * x)(3)"
   ]
  },
  {
   "cell_type": "markdown",
   "id": "e395b777",
   "metadata": {},
   "source": [
    "Similarly, we can define lambda functions with multiple arguments by separating them with commas. For example, we can compute the area of a triangle as follows:"
   ]
  },
  {
   "cell_type": "code",
   "execution_count": 20,
   "id": "2f88841d",
   "metadata": {},
   "outputs": [
    {
     "data": {
      "text/plain": [
       "16.0"
      ]
     },
     "execution_count": 20,
     "metadata": {},
     "output_type": "execute_result"
    }
   ],
   "source": [
    "(lambda base, height: 0.5 * base * height)(4, 8)"
   ]
  },
  {
   "cell_type": "markdown",
   "id": "061cf515",
   "metadata": {},
   "source": [
    "Lambda functions are handy when you want to define small, single-use functions (for more information about them, we recommend reading the excellent [Real Python tutorial](https://realpython.com/python-lambda/) by Andre Burgaud). In the 🤗 Datasets context, we can use lambda functions to define simple map and filter operations, so let's use this trick to eliminate the `None` entries in our dataset:"
   ]
  },
  {
   "cell_type": "code",
   "execution_count": 21,
   "id": "8d030f51",
   "metadata": {},
   "outputs": [
    {
     "data": {
      "application/vnd.jupyter.widget-view+json": {
       "model_id": "075108a063bc4ba0914bb04a1956007f",
       "version_major": 2,
       "version_minor": 0
      },
      "text/plain": [
       "  0%|          | 0/162 [00:00<?, ?ba/s]"
      ]
     },
     "metadata": {},
     "output_type": "display_data"
    },
    {
     "data": {
      "application/vnd.jupyter.widget-view+json": {
       "model_id": "2b9f3ee99bc1482590cfcdfcc77b1a9b",
       "version_major": 2,
       "version_minor": 0
      },
      "text/plain": [
       "  0%|          | 0/54 [00:00<?, ?ba/s]"
      ]
     },
     "metadata": {},
     "output_type": "display_data"
    }
   ],
   "source": [
    "drug_dataset = drug_dataset.filter(lambda x: x[\"condition\"] is not None)"
   ]
  },
  {
   "cell_type": "markdown",
   "id": "7856e8de",
   "metadata": {},
   "source": [
    "With the `None` entries removed, we can normalize our `condition` column:"
   ]
  },
  {
   "cell_type": "code",
   "execution_count": 22,
   "id": "783d75a7",
   "metadata": {},
   "outputs": [
    {
     "data": {
      "application/vnd.jupyter.widget-view+json": {
       "model_id": "d9033fea3c314ed1bb4e2ee29d3cea69",
       "version_major": 2,
       "version_minor": 0
      },
      "text/plain": [
       "  0%|          | 0/160398 [00:00<?, ?ex/s]"
      ]
     },
     "metadata": {},
     "output_type": "display_data"
    },
    {
     "data": {
      "application/vnd.jupyter.widget-view+json": {
       "model_id": "ebee1f5bba6446c7ae5d74bc660b5e9d",
       "version_major": 2,
       "version_minor": 0
      },
      "text/plain": [
       "  0%|          | 0/53471 [00:00<?, ?ex/s]"
      ]
     },
     "metadata": {},
     "output_type": "display_data"
    },
    {
     "data": {
      "text/plain": [
       "['left ventricular dysfunction', 'adhd', 'birth control']"
      ]
     },
     "execution_count": 22,
     "metadata": {},
     "output_type": "execute_result"
    }
   ],
   "source": [
    "def lowercase_condition(example):\n",
    "    return {\"condition\": example[\"condition\"].lower()}\n",
    "\n",
    "drug_dataset = drug_dataset.map(lowercase_condition)\n",
    "# Check that lowercasing worked\n",
    "drug_dataset[\"train\"][\"condition\"][:3]"
   ]
  },
  {
   "cell_type": "markdown",
   "id": "428ab578",
   "metadata": {},
   "source": [
    "It works! Now that we've cleaned up the labels, let's take a look at cleaning up the reviews themselves.\n",
    "\n",
    "### Creating new columns\n",
    "Whenever you're dealing with customer reviews, a good practice is to check the number of words in each review. A review might be just a single word like \"Great!\" or a full-blown essay with thousands of words, and depending on the use case you'll need to handle these extremes differently. To compute the number of words in each review, we'll use a rough heuristic based on splitting each text by whitespace.\n",
    "\n",
    "Let's define a simple function that counts the number of words in each review:"
   ]
  },
  {
   "cell_type": "code",
   "execution_count": 23,
   "id": "50736974",
   "metadata": {},
   "outputs": [],
   "source": [
    "def compute_review_length(example):\n",
    "    return {\"review_length\": len(example[\"review\"].split())}"
   ]
  },
  {
   "cell_type": "markdown",
   "id": "373e2027",
   "metadata": {},
   "source": [
    "Unlike our `lowercase_condition()` function, `compute_review_length()` returns a dictionary whose key does not correspond to one of the column names in the dataset. In this case, when `compute_review_length()` is passed to `Dataset.map()`, it will be applied to all the rows in the dataset to create a new `review_length` column:"
   ]
  },
  {
   "cell_type": "code",
   "execution_count": 24,
   "id": "ad562c24",
   "metadata": {},
   "outputs": [
    {
     "data": {
      "application/vnd.jupyter.widget-view+json": {
       "model_id": "cb3ad30dcb6448e786462dd4b8c0b015",
       "version_major": 2,
       "version_minor": 0
      },
      "text/plain": [
       "  0%|          | 0/160398 [00:00<?, ?ex/s]"
      ]
     },
     "metadata": {},
     "output_type": "display_data"
    },
    {
     "data": {
      "application/vnd.jupyter.widget-view+json": {
       "model_id": "cd1b35055e4741f288151a395139438b",
       "version_major": 2,
       "version_minor": 0
      },
      "text/plain": [
       "  0%|          | 0/53471 [00:00<?, ?ex/s]"
      ]
     },
     "metadata": {},
     "output_type": "display_data"
    },
    {
     "data": {
      "text/plain": [
       "{'patient_id': 206461,\n",
       " 'drugName': 'Valsartan',\n",
       " 'condition': 'left ventricular dysfunction',\n",
       " 'review': '\"It has no side effect, I take it in combination of Bystolic 5 Mg and Fish Oil\"',\n",
       " 'rating': 9.0,\n",
       " 'date': 'May 20, 2012',\n",
       " 'usefulCount': 27,\n",
       " 'review_length': 17}"
      ]
     },
     "execution_count": 24,
     "metadata": {},
     "output_type": "execute_result"
    }
   ],
   "source": [
    "drug_dataset = drug_dataset.map(compute_review_length)\n",
    "# Inspect the first training example\n",
    "drug_dataset[\"train\"][0]"
   ]
  },
  {
   "cell_type": "markdown",
   "id": "2ccbe4f3",
   "metadata": {},
   "source": [
    "As expected, we can see a `review_length` column has been added to our training set. We can sort this new column with `Dataset.sort()` to see what the extreme values look like:"
   ]
  },
  {
   "cell_type": "code",
   "execution_count": 25,
   "id": "4da923d6",
   "metadata": {},
   "outputs": [
    {
     "data": {
      "text/plain": [
       "{'patient_id': [103488, 23627, 20558],\n",
       " 'drugName': ['Loestrin 21 1 / 20', 'Chlorzoxazone', 'Nucynta'],\n",
       " 'condition': ['birth control', 'muscle spasm', 'pain'],\n",
       " 'review': ['\"Excellent.\"', '\"useless\"', '\"ok\"'],\n",
       " 'rating': [10.0, 1.0, 6.0],\n",
       " 'date': ['November 4, 2008', 'March 24, 2017', 'August 20, 2016'],\n",
       " 'usefulCount': [5, 2, 10],\n",
       " 'review_length': [1, 1, 1]}"
      ]
     },
     "execution_count": 25,
     "metadata": {},
     "output_type": "execute_result"
    }
   ],
   "source": [
    "drug_dataset[\"train\"].sort(\"review_length\")[:3]"
   ]
  },
  {
   "cell_type": "markdown",
   "id": "93678486",
   "metadata": {},
   "source": [
    "As we suspected, some reviews contain just a single word, which, although it may be okay for sentiment analysis, would not be informative if we want to predict the condition.\n",
    "\n",
    "> <font color=\"darkgreen\">🙋 An alternative way to add new columns to a dataset is with the `Dataset.add_column()` function. This allows you to provide the column as a Python list or NumPy array and can be handy in situations where `Dataset.map()` is not well suited for your analysis.</font>\n",
    "\n",
    "Let's use the `Dataset.filter()` function to remove reviews that contain fewer than 30 words. Similarly to what we did with the condition column, we can filter out the very short reviews by requiring that the reviews have a length above this threshold:"
   ]
  },
  {
   "cell_type": "code",
   "execution_count": 26,
   "id": "7bc01c9a",
   "metadata": {},
   "outputs": [
    {
     "data": {
      "application/vnd.jupyter.widget-view+json": {
       "model_id": "3485d7bad76343e395a116e484ac29c3",
       "version_major": 2,
       "version_minor": 0
      },
      "text/plain": [
       "  0%|          | 0/161 [00:00<?, ?ba/s]"
      ]
     },
     "metadata": {},
     "output_type": "display_data"
    },
    {
     "data": {
      "application/vnd.jupyter.widget-view+json": {
       "model_id": "7eccddc4849440d3af0792fe9dc883c9",
       "version_major": 2,
       "version_minor": 0
      },
      "text/plain": [
       "  0%|          | 0/54 [00:00<?, ?ba/s]"
      ]
     },
     "metadata": {},
     "output_type": "display_data"
    },
    {
     "name": "stdout",
     "output_type": "stream",
     "text": [
      "{'train': 138514, 'test': 46108}\n"
     ]
    }
   ],
   "source": [
    "drug_dataset = drug_dataset.filter(lambda x: x[\"review_length\"] > 30)\n",
    "print(drug_dataset.num_rows)"
   ]
  },
  {
   "cell_type": "markdown",
   "id": "8cc6c9dc",
   "metadata": {},
   "source": [
    "As you can see, this has removed around 15% of the reviews from our original training and test sets.\n",
    "\n",
    "> ✏️ Try it out! <font color=\"darkgreen\">Use the `Dataset.sort()` function to inspect the reviews with the largest numbers of words. See the documentation to see which argument you need to use to sort the reviews by length in descending order.</font>"
   ]
  },
  {
   "cell_type": "code",
   "execution_count": 27,
   "id": "6b6d48aa",
   "metadata": {},
   "outputs": [],
   "source": [
    "# Trying it out"
   ]
  },
  {
   "cell_type": "markdown",
   "id": "8762956b",
   "metadata": {},
   "source": [
    "The last thing we need to deal with is the presence of HTML character codes in our reviews. We can use Python's `html`\n",
    " module to unescape these characters, like so:"
   ]
  },
  {
   "cell_type": "code",
   "execution_count": 28,
   "id": "0f46d0f0",
   "metadata": {},
   "outputs": [
    {
     "data": {
      "text/plain": [
       "\"I'm a transformer called BERT\""
      ]
     },
     "execution_count": 28,
     "metadata": {},
     "output_type": "execute_result"
    }
   ],
   "source": [
    "import html\n",
    "text = \"I&#039;m a transformer called BERT\"\n",
    "html.unescape(text)"
   ]
  },
  {
   "cell_type": "markdown",
   "id": "0fff9683",
   "metadata": {},
   "source": [
    "We'll use `Dataset.map()` to unescape all the HTML characters in our corpus:"
   ]
  },
  {
   "cell_type": "code",
   "execution_count": 29,
   "id": "78487ec4",
   "metadata": {},
   "outputs": [
    {
     "data": {
      "application/vnd.jupyter.widget-view+json": {
       "model_id": "fe87d3dc912d40299c4f0e759fe00b8c",
       "version_major": 2,
       "version_minor": 0
      },
      "text/plain": [
       "  0%|          | 0/138514 [00:00<?, ?ex/s]"
      ]
     },
     "metadata": {},
     "output_type": "display_data"
    },
    {
     "data": {
      "application/vnd.jupyter.widget-view+json": {
       "model_id": "484001cbe2d7483d86a9c302edf6be36",
       "version_major": 2,
       "version_minor": 0
      },
      "text/plain": [
       "  0%|          | 0/46108 [00:00<?, ?ex/s]"
      ]
     },
     "metadata": {},
     "output_type": "display_data"
    }
   ],
   "source": [
    "drug_dataset = drug_dataset.map(lambda x: {\"review\": html.unescape(x[\"review\"])})"
   ]
  },
  {
   "cell_type": "markdown",
   "id": "89efe167",
   "metadata": {},
   "source": [
    "As you can see, the `Dataset.map()` method is quite useful for processing data — and we haven't even scratched the surface of everything it can do!\n",
    "\n",
    "### The `map()` method's superpowers\n",
    "\n",
    "The `Dataset.map()` method takes a batched argument that, if set to `True`, causes it to send a batch of examples to the map function at once (the batch size is configurable but defaults to 1,000). For instance, the previous map function that unescaped all the HTML took a bit of time to run (you can read the time taken from the progress bars). We can speed this up by processing several elements at the same time using a list comprehension.\n",
    "\n",
    "When you specify `batched=True` the function receives a dictionary with the fields of the dataset, but each value is now a *list of values*, and not just a single value. The return value of `Dataset.map()` should be the same: a dictionary with the fields we want to update or add to our dataset, and a list of values. For example, here is another way to unescape all HTML characters, but using `batched=True`:"
   ]
  },
  {
   "cell_type": "code",
   "execution_count": 30,
   "id": "6fee16fc",
   "metadata": {},
   "outputs": [
    {
     "data": {
      "application/vnd.jupyter.widget-view+json": {
       "model_id": "2bf40d0c1c04445fbd74143c09259c92",
       "version_major": 2,
       "version_minor": 0
      },
      "text/plain": [
       "  0%|          | 0/139 [00:00<?, ?ba/s]"
      ]
     },
     "metadata": {},
     "output_type": "display_data"
    },
    {
     "data": {
      "application/vnd.jupyter.widget-view+json": {
       "model_id": "3f54b87c58e14608abaa45a10ed7c73b",
       "version_major": 2,
       "version_minor": 0
      },
      "text/plain": [
       "  0%|          | 0/47 [00:00<?, ?ba/s]"
      ]
     },
     "metadata": {},
     "output_type": "display_data"
    }
   ],
   "source": [
    "new_drug_dataset = drug_dataset.map(lambda x: {\"review\": [html.unescape(o) for o in x[\"review\"]]}, batched=True)"
   ]
  },
  {
   "cell_type": "markdown",
   "id": "5e45f358",
   "metadata": {},
   "source": [
    "If you're running this code in a notebook, you'll see that this command executes way faster than the previous one. And it's not because our reviews have already been HTML-unescaped — if you re-execute the instruction from the previous section (without `batched=True`), it will take the same amount of time as before. This is because list comprehensions are usually faster than executing the same code in a `for` loop, and we also gain some performance by accessing lots of elements at the same time instead of one by one.\n",
    "\n",
    "Using `Dataset.map()` with `batched=True` will be essential to unlock the speed of the \"fast\" tokenizers that we'll encounter in [Chapter 6](https://huggingface.co/course/chapter6), which can quickly tokenize big lists of texts. For instance, to tokenize all the drug reviews with a fast tokenizer, we could use a function like this:"
   ]
  },
  {
   "cell_type": "code",
   "execution_count": 31,
   "id": "db910cbc",
   "metadata": {},
   "outputs": [
    {
     "data": {
      "application/vnd.jupyter.widget-view+json": {
       "model_id": "cafece81f8f04df498cc3902f4c9433e",
       "version_major": 2,
       "version_minor": 0
      },
      "text/plain": [
       "Downloading:   0%|          | 0.00/29.0 [00:00<?, ?B/s]"
      ]
     },
     "metadata": {},
     "output_type": "display_data"
    },
    {
     "data": {
      "application/vnd.jupyter.widget-view+json": {
       "model_id": "5603e86018924c479af4da68bae4aa3d",
       "version_major": 2,
       "version_minor": 0
      },
      "text/plain": [
       "Downloading:   0%|          | 0.00/570 [00:00<?, ?B/s]"
      ]
     },
     "metadata": {},
     "output_type": "display_data"
    },
    {
     "data": {
      "application/vnd.jupyter.widget-view+json": {
       "model_id": "74e2e09276794c058d95043519de9918",
       "version_major": 2,
       "version_minor": 0
      },
      "text/plain": [
       "Downloading:   0%|          | 0.00/208k [00:00<?, ?B/s]"
      ]
     },
     "metadata": {},
     "output_type": "display_data"
    },
    {
     "data": {
      "application/vnd.jupyter.widget-view+json": {
       "model_id": "c1e4abbb9411429bbe73878b40a2b681",
       "version_major": 2,
       "version_minor": 0
      },
      "text/plain": [
       "Downloading:   0%|          | 0.00/426k [00:00<?, ?B/s]"
      ]
     },
     "metadata": {},
     "output_type": "display_data"
    }
   ],
   "source": [
    "from transformers import AutoTokenizer\n",
    "tokenizer = AutoTokenizer.from_pretrained(\"bert-base-cased\")\n",
    "def tokenize_function(examples):\n",
    "    return tokenizer(examples[\"review\"], truncation=True)"
   ]
  },
  {
   "cell_type": "markdown",
   "id": "6ec23138",
   "metadata": {},
   "source": [
    "As you saw in [Chapter 3](https://huggingface.co/course/chapter3), we can pass one or several examples to the tokenizer, so we can use this function with or without `batched=True`. Let's take this opportunity to compare the performance of the different options. In a notebook, you can time a one-line instruction by adding `%time` before the line of code you wish to measure:"
   ]
  },
  {
   "cell_type": "code",
   "execution_count": 32,
   "id": "28f44f2b",
   "metadata": {},
   "outputs": [
    {
     "data": {
      "application/vnd.jupyter.widget-view+json": {
       "model_id": "fef8468afab646428b20aff6514d2f7b",
       "version_major": 2,
       "version_minor": 0
      },
      "text/plain": [
       "  0%|          | 0/139 [00:00<?, ?ba/s]"
      ]
     },
     "metadata": {},
     "output_type": "display_data"
    },
    {
     "data": {
      "application/vnd.jupyter.widget-view+json": {
       "model_id": "21e73490dbf04769b53e9442791e8f62",
       "version_major": 2,
       "version_minor": 0
      },
      "text/plain": [
       "  0%|          | 0/47 [00:00<?, ?ba/s]"
      ]
     },
     "metadata": {},
     "output_type": "display_data"
    },
    {
     "name": "stdout",
     "output_type": "stream",
     "text": [
      "CPU times: user 1min 43s, sys: 878 ms, total: 1min 44s\n",
      "Wall time: 26.6 s\n"
     ]
    }
   ],
   "source": [
    "%time tokenized_dataset = drug_dataset.map(tokenize_function, batched=True)"
   ]
  },
  {
   "cell_type": "markdown",
   "id": "3fa04884",
   "metadata": {},
   "source": [
    "You can also time a whole cell by putting `%%time` at the beginning of the cell. On the hardware we executed this on, it showed 10.8s for this instruction (it's the number written after \"Wall time\").\n",
    "> ✏️ Try it out! <font color=\"darkgreen\">Execute the same instruction with and without `batched=True`, then try it with a slow tokenizer (add `use_fast=False` in the `AutoTokenizer.from_pretrained()` method) so you can see what numbers you get on your hardware.</font>"
   ]
  },
  {
   "cell_type": "code",
   "execution_count": 33,
   "id": "78f1c118",
   "metadata": {},
   "outputs": [],
   "source": [
    "# Trying it out"
   ]
  },
  {
   "cell_type": "markdown",
   "id": "70ec11ce",
   "metadata": {},
   "source": [
    "Here are the results we obtained with and without batching, with a fast and a slow tokenizer:\n",
    "\n",
    "|Options|Fast tokenizer|Slow tokenizer|\n",
    "|-------|--------------|--------------|\n",
    "|`batched=True`|10.8s|4min41s|\n",
    "|`batched=False`|59.2s|5min3s|\n",
    "\n",
    "This means that using a fast tokenizer with the `batched=True` option is 30 times faster than its slow counterpart with no batching — this is truly amazing! That's the main reason why fast tokenizers are the default when using `AutoTokenizer` (and why they are called \"fast\"). They're able to achieve such a speedup because behind the scenes the tokenization code is executed in Rust, which is a language that makes it easy to parallelize code execution.\n",
    "\n",
    "Parallelization is also the reason for the nearly 6x speedup the fast tokenizer achieves with batching: you can't parallelize a single tokenization operation, but when you want to tokenize lots of texts at the same time you can just split the execution across several processes, each responsible for its own texts.\n",
    "\n",
    "`Dataset.map()` also has some parallelization capabilities of its own. Since they are not backed by Rust, they won't let a slow tokenizer catch up with a fast one, but they can still be helpful (especially if you're using a tokenizer that doesn't have a fast version). To enable multiprocessing, use the `num_proc` argument and specify the number of processes to use in your call to `Dataset.map()`:"
   ]
  },
  {
   "cell_type": "code",
   "execution_count": 34,
   "id": "aa51b4e2",
   "metadata": {},
   "outputs": [
    {
     "name": "stdout",
     "output_type": "stream",
     "text": [
      "                "
     ]
    },
    {
     "data": {
      "application/vnd.jupyter.widget-view+json": {
       "model_id": "b0fa44ec5b704af88968eb6f93c02607",
       "version_major": 2,
       "version_minor": 0
      },
      "text/plain": [
       "#2:   0%|          | 0/18 [00:00<?, ?ba/s]"
      ]
     },
     "metadata": {},
     "output_type": "display_data"
    },
    {
     "data": {
      "application/vnd.jupyter.widget-view+json": {
       "model_id": "475912446d964617b26a44a7b5477598",
       "version_major": 2,
       "version_minor": 0
      },
      "text/plain": [
       "#1:   0%|          | 0/18 [00:00<?, ?ba/s]"
      ]
     },
     "metadata": {},
     "output_type": "display_data"
    },
    {
     "data": {
      "application/vnd.jupyter.widget-view+json": {
       "model_id": "753cba5a43f7409f98ea414585ed2d12",
       "version_major": 2,
       "version_minor": 0
      },
      "text/plain": [
       "#3:   0%|          | 0/18 [00:00<?, ?ba/s]"
      ]
     },
     "metadata": {},
     "output_type": "display_data"
    },
    {
     "data": {
      "application/vnd.jupyter.widget-view+json": {
       "model_id": "1242ae68a11b43b4bd2be3e109490b32",
       "version_major": 2,
       "version_minor": 0
      },
      "text/plain": [
       "#4:   0%|          | 0/18 [00:00<?, ?ba/s]"
      ]
     },
     "metadata": {},
     "output_type": "display_data"
    },
    {
     "data": {
      "application/vnd.jupyter.widget-view+json": {
       "model_id": "e7fd581f0c4542ab84fb3f1db48f9989",
       "version_major": 2,
       "version_minor": 0
      },
      "text/plain": [
       "#0:   0%|          | 0/18 [00:00<?, ?ba/s]"
      ]
     },
     "metadata": {},
     "output_type": "display_data"
    },
    {
     "data": {
      "application/vnd.jupyter.widget-view+json": {
       "model_id": "e45fd5218ac74ebcb7f01aca6cf8c2d8",
       "version_major": 2,
       "version_minor": 0
      },
      "text/plain": [
       "#5:   0%|          | 0/18 [00:00<?, ?ba/s]"
      ]
     },
     "metadata": {},
     "output_type": "display_data"
    },
    {
     "data": {
      "application/vnd.jupyter.widget-view+json": {
       "model_id": "fcec7d1703d9494fb76157ebe9101f09",
       "version_major": 2,
       "version_minor": 0
      },
      "text/plain": [
       "#6:   0%|          | 0/18 [00:00<?, ?ba/s]"
      ]
     },
     "metadata": {},
     "output_type": "display_data"
    },
    {
     "data": {
      "application/vnd.jupyter.widget-view+json": {
       "model_id": "eea1b174134d4e96a050f96dbd6ac1fc",
       "version_major": 2,
       "version_minor": 0
      },
      "text/plain": [
       "#7:   0%|          | 0/18 [00:00<?, ?ba/s]"
      ]
     },
     "metadata": {},
     "output_type": "display_data"
    },
    {
     "name": "stdout",
     "output_type": "stream",
     "text": [
      "                "
     ]
    },
    {
     "data": {
      "application/vnd.jupyter.widget-view+json": {
       "model_id": "c6b64fd604f44127bdd9a3596d0eea61",
       "version_major": 2,
       "version_minor": 0
      },
      "text/plain": [
       "#0:   0%|          | 0/6 [00:00<?, ?ba/s]"
      ]
     },
     "metadata": {},
     "output_type": "display_data"
    },
    {
     "data": {
      "application/vnd.jupyter.widget-view+json": {
       "model_id": "c4aceb7d6ac54a36bcd7f5ac18959b7b",
       "version_major": 2,
       "version_minor": 0
      },
      "text/plain": [
       "#1:   0%|          | 0/6 [00:00<?, ?ba/s]"
      ]
     },
     "metadata": {},
     "output_type": "display_data"
    },
    {
     "data": {
      "application/vnd.jupyter.widget-view+json": {
       "model_id": "8bc1a74a92be4204b0b0dfae4489e80a",
       "version_major": 2,
       "version_minor": 0
      },
      "text/plain": [
       "#2:   0%|          | 0/6 [00:00<?, ?ba/s]"
      ]
     },
     "metadata": {},
     "output_type": "display_data"
    },
    {
     "data": {
      "application/vnd.jupyter.widget-view+json": {
       "model_id": "6fa752aa69644d078ee1e50c2a8183ae",
       "version_major": 2,
       "version_minor": 0
      },
      "text/plain": [
       "#4:   0%|          | 0/6 [00:00<?, ?ba/s]"
      ]
     },
     "metadata": {},
     "output_type": "display_data"
    },
    {
     "data": {
      "application/vnd.jupyter.widget-view+json": {
       "model_id": "92ff71a824ae45cf86ee6ced2e3cd34b",
       "version_major": 2,
       "version_minor": 0
      },
      "text/plain": [
       "#3:   0%|          | 0/6 [00:00<?, ?ba/s]"
      ]
     },
     "metadata": {},
     "output_type": "display_data"
    },
    {
     "data": {
      "application/vnd.jupyter.widget-view+json": {
       "model_id": "f48a4317465d47ab980089ab0b791b7b",
       "version_major": 2,
       "version_minor": 0
      },
      "text/plain": [
       "#5:   0%|          | 0/6 [00:00<?, ?ba/s]"
      ]
     },
     "metadata": {},
     "output_type": "display_data"
    },
    {
     "data": {
      "application/vnd.jupyter.widget-view+json": {
       "model_id": "ceb259b964ef4db3b889e7a1180d675d",
       "version_major": 2,
       "version_minor": 0
      },
      "text/plain": [
       "#6:   0%|          | 0/6 [00:00<?, ?ba/s]"
      ]
     },
     "metadata": {},
     "output_type": "display_data"
    },
    {
     "data": {
      "application/vnd.jupyter.widget-view+json": {
       "model_id": "421d3f5caca944f8aa6ee2e379ca488c",
       "version_major": 2,
       "version_minor": 0
      },
      "text/plain": [
       "#7:   0%|          | 0/6 [00:00<?, ?ba/s]"
      ]
     },
     "metadata": {},
     "output_type": "display_data"
    }
   ],
   "source": [
    "slow_tokenizer = AutoTokenizer.from_pretrained(\"bert-base-cased\", use_fast=False)\n",
    "def slow_tokenize_function(examples):\n",
    "    return slow_tokenizer(examples[\"review\"], truncation=True)\n",
    "tokenized_dataset = drug_dataset.map(slow_tokenize_function, batched=True, num_proc=8)"
   ]
  },
  {
   "cell_type": "markdown",
   "id": "72e19e2e",
   "metadata": {},
   "source": [
    "You can experiment a little with timing to determine the optimal number of processes to use; in our case 8 seemed to produce the best speed gain. Here are the numbers we got with and without multiprocessing:\n",
    "\n",
    "|Options|Fast tokenizer|Slow tokenizer|\n",
    "|-------|--------------|--------------|\n",
    "|`batched=True`|10.8s|4min41s|\n",
    "|`batched=False`|59.2s|5min3s|\n",
    "|`batched=True`, `num_proc=8`|6.52s|41.3s|\n",
    "|`batched=False`, `num_proc=8`|9.49s|45.2s|\n",
    "\n",
    "Those are much more reasonable results for the slow tokenizer, but the performance of the fast tokenizer was also substantially improved. Note, however, that won't always be the case — for values of `num_proc` other than 8, our tests showed that it was faster to use `batched=True` without that option. In general, we don't recommend using Python multiprocessing for fast tokenizers with `batched=True`.\n",
    "> <font color=\"darkgreen\">Using `num_proc` to speed up your processing is usually a great idea, as long as the function you are using is not already doing some kind of multiprocessing of its own.</font>\n",
    "\n",
    "All of this functionality condensed into a single method is already pretty amazing, but there's more! With `Dataset.map()` and `batched=True` you can change the number of elements in your dataset. This is super useful in many situations where you want to create several training features from one example, and we will need to do this as part of the preprocessing for several of the NLP tasks we'll undertake in [Chapter 7](https://huggingface.co/course/chapter7).\n",
    "> <font color=\"darkgreen\">💡 In machine learning, an *example* is usually defined as the set of *features* that we feed to the model. In some contexts, these features will be the set of columns in a `Dataset`, but in others (like here and for question answering), multiple features can be extracted from a single example and belong to a single column.</font>\n",
    "\n",
    "Let's have a look at how it works! Here we will tokenize our examples and truncate them to a maximum length of 128, but we will ask the tokenizer to return *all* the chunks of the texts instead of just the first one. This can be done with `return_overflowing_tokens=True`:"
   ]
  },
  {
   "cell_type": "code",
   "execution_count": 35,
   "id": "5e9d0409",
   "metadata": {},
   "outputs": [],
   "source": [
    "def tokenize_and_split(examples):\n",
    "    return tokenizer(\n",
    "        examples[\"review\"],\n",
    "        truncation=True,\n",
    "        max_length=128,\n",
    "        return_overflowing_tokens=True,\n",
    "    )"
   ]
  },
  {
   "cell_type": "markdown",
   "id": "79a832e0",
   "metadata": {},
   "source": [
    "Let's test this on one example before using `Dataset.map()` on the whole dataset:"
   ]
  },
  {
   "cell_type": "code",
   "execution_count": 36,
   "id": "2e049f64",
   "metadata": {},
   "outputs": [
    {
     "data": {
      "text/plain": [
       "[128, 49]"
      ]
     },
     "execution_count": 36,
     "metadata": {},
     "output_type": "execute_result"
    }
   ],
   "source": [
    "result = tokenize_and_split(drug_dataset[\"train\"][0])\n",
    "[len(inp) for inp in result[\"input_ids\"]]"
   ]
  },
  {
   "cell_type": "markdown",
   "id": "92d950d2",
   "metadata": {},
   "source": [
    "So, our first example in the training set became two features because it was tokenized to more than the maximum number of tokens we specified: the first one of length 128 and the second one of length 49. Now let's do this for all elements of the dataset!\n",
    "```python\n",
    "tokenized_dataset = drug_dataset.map(tokenize_and_split, batched=True)\n",
    "\n",
    "ArrowInvalid: Column 1 named condition expected length 1463 but got length 1000\n",
    "```\n",
    "\n",
    "Oh no! That didn't work! Why not? Looking at the error message will give us a clue: there is a mismatch in the lengths of one of the columns, one being of length 1,463 and the other of length 1,000. If you've looked at the `Dataset.map()` documentation, you may recall that it's the number of samples passed to the function that we are mapping; here those 1,000 examples gave 1,463 new features, resulting in a shape error.\n",
    "\n",
    "The problem is that we're trying to mix two different datasets of different sizes: the `drug_dataset` columns will have a certain number of examples (the 1,000 in our error), but the `tokenized_dataset` we are building will have more (the 1,463 in the error message). That doesn't work for a `Dataset`, so we need to either remove the columns from the old dataset or make them the same size as they are in the new dataset. We can do the former with the `remove_columns` argument:"
   ]
  },
  {
   "cell_type": "code",
   "execution_count": 37,
   "id": "8f7610db",
   "metadata": {},
   "outputs": [
    {
     "data": {
      "application/vnd.jupyter.widget-view+json": {
       "model_id": "8defafeaca9a49ac88b11e49d9415b35",
       "version_major": 2,
       "version_minor": 0
      },
      "text/plain": [
       "  0%|          | 0/139 [00:00<?, ?ba/s]"
      ]
     },
     "metadata": {},
     "output_type": "display_data"
    },
    {
     "data": {
      "application/vnd.jupyter.widget-view+json": {
       "model_id": "47c1f885f9a543ebb2a6af39ecec9d93",
       "version_major": 2,
       "version_minor": 0
      },
      "text/plain": [
       "  0%|          | 0/47 [00:00<?, ?ba/s]"
      ]
     },
     "metadata": {},
     "output_type": "display_data"
    }
   ],
   "source": [
    "tokenized_dataset = drug_dataset.map(\n",
    "    tokenize_and_split, batched=True, remove_columns=drug_dataset[\"train\"].column_names\n",
    ")"
   ]
  },
  {
   "cell_type": "markdown",
   "id": "e7f3aca0",
   "metadata": {},
   "source": [
    "Now this works without error. We can check that our new dataset has many more elements than the original dataset by comparing the lengths:"
   ]
  },
  {
   "cell_type": "code",
   "execution_count": 38,
   "id": "0cfbfe5a",
   "metadata": {},
   "outputs": [
    {
     "data": {
      "text/plain": [
       "(206772, 138514)"
      ]
     },
     "execution_count": 38,
     "metadata": {},
     "output_type": "execute_result"
    }
   ],
   "source": [
    "len(tokenized_dataset[\"train\"]), len(drug_dataset[\"train\"])"
   ]
  },
  {
   "cell_type": "markdown",
   "id": "18ecd6b7",
   "metadata": {},
   "source": [
    "We mentioned that we can also deal with the mismatched length problem by making the old columns the same size as the new ones. To do this, we will need the `overflow_to_sample_mapping` field the tokenizer returns when we set `return_overflowing_tokens=True`. It gives us a mapping from a new feature index to the index of the sample it originated from. Using this, we can associate each key present in our original dataset with a list of values of the right size by repeating the values of each example as many times as it generates new features:"
   ]
  },
  {
   "cell_type": "code",
   "execution_count": 39,
   "id": "afccb733",
   "metadata": {},
   "outputs": [],
   "source": [
    "def tokenize_and_split(examples):\n",
    "    result = tokenizer(\n",
    "        examples[\"review\"],\n",
    "        truncation=True,\n",
    "        max_length=128,\n",
    "        return_overflowing_tokens=True,\n",
    "    )\n",
    "    # Extract mapping between new and old indices\n",
    "    sample_map = result.pop(\"overflow_to_sample_mapping\")\n",
    "    for key, values in examples.items():\n",
    "        result[key] = [values[i] for i in sample_map]\n",
    "    return result"
   ]
  },
  {
   "cell_type": "markdown",
   "id": "966a72cb",
   "metadata": {},
   "source": [
    "We can see it works with `Dataset.map()` without us needing to remove the old columns:"
   ]
  },
  {
   "cell_type": "code",
   "execution_count": 40,
   "id": "3180ac3e",
   "metadata": {},
   "outputs": [
    {
     "data": {
      "application/vnd.jupyter.widget-view+json": {
       "model_id": "8f53bca0cf89452fb90c7e031eb9d707",
       "version_major": 2,
       "version_minor": 0
      },
      "text/plain": [
       "  0%|          | 0/139 [00:00<?, ?ba/s]"
      ]
     },
     "metadata": {},
     "output_type": "display_data"
    },
    {
     "data": {
      "application/vnd.jupyter.widget-view+json": {
       "model_id": "cf8a2313f03c49e082752bdff5fc10f9",
       "version_major": 2,
       "version_minor": 0
      },
      "text/plain": [
       "  0%|          | 0/47 [00:00<?, ?ba/s]"
      ]
     },
     "metadata": {},
     "output_type": "display_data"
    },
    {
     "data": {
      "text/plain": [
       "DatasetDict({\n",
       "    train: Dataset({\n",
       "        features: ['patient_id', 'drugName', 'condition', 'review', 'rating', 'date', 'usefulCount', 'review_length', 'input_ids', 'token_type_ids', 'attention_mask'],\n",
       "        num_rows: 206772\n",
       "    })\n",
       "    test: Dataset({\n",
       "        features: ['patient_id', 'drugName', 'condition', 'review', 'rating', 'date', 'usefulCount', 'review_length', 'input_ids', 'token_type_ids', 'attention_mask'],\n",
       "        num_rows: 68876\n",
       "    })\n",
       "})"
      ]
     },
     "execution_count": 40,
     "metadata": {},
     "output_type": "execute_result"
    }
   ],
   "source": [
    "tokenized_dataset = drug_dataset.map(tokenize_and_split, batched=True)\n",
    "tokenized_dataset"
   ]
  },
  {
   "cell_type": "markdown",
   "id": "93496d19",
   "metadata": {},
   "source": [
    "We get the same number of training features as before, but here we've kept all the old fields. If you need them for some post-processing after applying your model, you might want to use this approach.\n",
    "\n",
    "You've now seen how 🤗 Datasets can be used to preprocess a dataset in various ways. Although the processing functions of 🤗 Datasets will cover most of your model training needs, there may be times when you'll need to switch to Pandas to access more powerful features, like `DataFrame.groupby()` or high-level APIs for visualization. Fortunately, 🤗 Datasets is designed to be interoperable with libraries such as Pandas, NumPy, PyTorch, TensorFlow, and JAX. Let's take a look at how this works.\n",
    "\n",
    "### From `Datasets` to `DataFrames` and back"
   ]
  },
  {
   "cell_type": "code",
   "execution_count": 41,
   "id": "7534b661",
   "metadata": {},
   "outputs": [
    {
     "data": {
      "text/html": [
       "<iframe width=\"640\" height=\"360\" src=\"https://www.youtube.com/embed/tfcY1067A5Q\" allowfullscreen></iframe>"
      ],
      "text/plain": [
       "<IPython.core.display.HTML object>"
      ]
     },
     "execution_count": 41,
     "metadata": {},
     "output_type": "execute_result"
    }
   ],
   "source": [
    "HTML('<iframe width=\"640\" height=\"360\" src=\"https://www.youtube.com/embed/tfcY1067A5Q\" allowfullscreen></iframe>')"
   ]
  },
  {
   "cell_type": "markdown",
   "id": "e08112ce",
   "metadata": {},
   "source": [
    "To enable the conversion between various third-party libraries, 🤗 Datasets provides a `Dataset.set_format()` function. This function only changes the *output format* of the dataset, so you can easily switch to another format without affecting the underlying *data format*, which is Apache Arrow. The formatting is done in place. To demonstrate, let’s convert our dataset to Pandas:"
   ]
  },
  {
   "cell_type": "code",
   "execution_count": 42,
   "id": "ad40ac61",
   "metadata": {},
   "outputs": [],
   "source": [
    "drug_dataset.set_format(\"pandas\")"
   ]
  },
  {
   "cell_type": "markdown",
   "id": "9f71ea5e",
   "metadata": {},
   "source": [
    "Now when we access elements of the dataset we get a pandas.DataFrame instead of a dictionary:"
   ]
  },
  {
   "cell_type": "code",
   "execution_count": 43,
   "id": "228f63e0",
   "metadata": {},
   "outputs": [
    {
     "data": {
      "text/html": [
       "<div>\n",
       "<style scoped>\n",
       "    .dataframe tbody tr th:only-of-type {\n",
       "        vertical-align: middle;\n",
       "    }\n",
       "\n",
       "    .dataframe tbody tr th {\n",
       "        vertical-align: top;\n",
       "    }\n",
       "\n",
       "    .dataframe thead th {\n",
       "        text-align: right;\n",
       "    }\n",
       "</style>\n",
       "<table border=\"1\" class=\"dataframe\">\n",
       "  <thead>\n",
       "    <tr style=\"text-align: right;\">\n",
       "      <th></th>\n",
       "      <th>patient_id</th>\n",
       "      <th>drugName</th>\n",
       "      <th>condition</th>\n",
       "      <th>review</th>\n",
       "      <th>rating</th>\n",
       "      <th>date</th>\n",
       "      <th>usefulCount</th>\n",
       "      <th>review_length</th>\n",
       "    </tr>\n",
       "  </thead>\n",
       "  <tbody>\n",
       "    <tr>\n",
       "      <th>0</th>\n",
       "      <td>95260</td>\n",
       "      <td>Guanfacine</td>\n",
       "      <td>adhd</td>\n",
       "      <td>\"My son is halfway through his fourth week of ...</td>\n",
       "      <td>8.0</td>\n",
       "      <td>April 27, 2010</td>\n",
       "      <td>192</td>\n",
       "      <td>141</td>\n",
       "    </tr>\n",
       "    <tr>\n",
       "      <th>1</th>\n",
       "      <td>92703</td>\n",
       "      <td>Lybrel</td>\n",
       "      <td>birth control</td>\n",
       "      <td>\"I used to take another oral contraceptive, wh...</td>\n",
       "      <td>5.0</td>\n",
       "      <td>December 14, 2009</td>\n",
       "      <td>17</td>\n",
       "      <td>134</td>\n",
       "    </tr>\n",
       "    <tr>\n",
       "      <th>2</th>\n",
       "      <td>138000</td>\n",
       "      <td>Ortho Evra</td>\n",
       "      <td>birth control</td>\n",
       "      <td>\"This is my first time using any form of birth...</td>\n",
       "      <td>8.0</td>\n",
       "      <td>November 3, 2015</td>\n",
       "      <td>10</td>\n",
       "      <td>89</td>\n",
       "    </tr>\n",
       "  </tbody>\n",
       "</table>\n",
       "</div>"
      ],
      "text/plain": [
       "   patient_id    drugName      condition  \\\n",
       "0       95260  Guanfacine           adhd   \n",
       "1       92703      Lybrel  birth control   \n",
       "2      138000  Ortho Evra  birth control   \n",
       "\n",
       "                                              review  rating  \\\n",
       "0  \"My son is halfway through his fourth week of ...     8.0   \n",
       "1  \"I used to take another oral contraceptive, wh...     5.0   \n",
       "2  \"This is my first time using any form of birth...     8.0   \n",
       "\n",
       "                date  usefulCount  review_length  \n",
       "0     April 27, 2010          192            141  \n",
       "1  December 14, 2009           17            134  \n",
       "2   November 3, 2015           10             89  "
      ]
     },
     "execution_count": 43,
     "metadata": {},
     "output_type": "execute_result"
    }
   ],
   "source": [
    "drug_dataset[\"train\"][:3]"
   ]
  },
  {
   "cell_type": "markdown",
   "id": "3103a37a",
   "metadata": {},
   "source": [
    "Let's create a `pandas.DataFrame` for the whole training set by selecting all the elements of `drug_dataset[\"train\"]`:"
   ]
  },
  {
   "cell_type": "code",
   "execution_count": 44,
   "id": "12c29e0c",
   "metadata": {},
   "outputs": [],
   "source": [
    "train_df = drug_dataset[\"train\"][:]"
   ]
  },
  {
   "cell_type": "markdown",
   "id": "d8f9a8f7",
   "metadata": {},
   "source": [
    "> <font color=\"darkgreen\">🚨 Under the hood, `Dataset.set_format()` changes the return format for the dataset's `__getitem__()` dunder method. This means that when we want to create a new object like `train_df` from a `Dataset` in the `\"pandas\"` format, we need to slice the whole dataset to obtain a `pandas.DataFrame`. You can verify for yourself that the type of `drug_dataset[\"train\"]` is `Dataset`, irrespective of the output format.</font>\n",
    "\n",
    "From here we can use all the Pandas functionality that we want. For example, we can do fancy chaining to compute the class distribution among the `condition` entries:"
   ]
  },
  {
   "cell_type": "code",
   "execution_count": 45,
   "id": "3867bd92",
   "metadata": {},
   "outputs": [
    {
     "data": {
      "text/html": [
       "<div>\n",
       "<style scoped>\n",
       "    .dataframe tbody tr th:only-of-type {\n",
       "        vertical-align: middle;\n",
       "    }\n",
       "\n",
       "    .dataframe tbody tr th {\n",
       "        vertical-align: top;\n",
       "    }\n",
       "\n",
       "    .dataframe thead th {\n",
       "        text-align: right;\n",
       "    }\n",
       "</style>\n",
       "<table border=\"1\" class=\"dataframe\">\n",
       "  <thead>\n",
       "    <tr style=\"text-align: right;\">\n",
       "      <th></th>\n",
       "      <th>condition</th>\n",
       "      <th>frequency</th>\n",
       "    </tr>\n",
       "  </thead>\n",
       "  <tbody>\n",
       "    <tr>\n",
       "      <th>0</th>\n",
       "      <td>birth control</td>\n",
       "      <td>27655</td>\n",
       "    </tr>\n",
       "    <tr>\n",
       "      <th>1</th>\n",
       "      <td>depression</td>\n",
       "      <td>8023</td>\n",
       "    </tr>\n",
       "    <tr>\n",
       "      <th>2</th>\n",
       "      <td>acne</td>\n",
       "      <td>5209</td>\n",
       "    </tr>\n",
       "    <tr>\n",
       "      <th>3</th>\n",
       "      <td>anxiety</td>\n",
       "      <td>4991</td>\n",
       "    </tr>\n",
       "    <tr>\n",
       "      <th>4</th>\n",
       "      <td>pain</td>\n",
       "      <td>4744</td>\n",
       "    </tr>\n",
       "  </tbody>\n",
       "</table>\n",
       "</div>"
      ],
      "text/plain": [
       "       condition  frequency\n",
       "0  birth control      27655\n",
       "1     depression       8023\n",
       "2           acne       5209\n",
       "3        anxiety       4991\n",
       "4           pain       4744"
      ]
     },
     "execution_count": 45,
     "metadata": {},
     "output_type": "execute_result"
    }
   ],
   "source": [
    "frequencies = (\n",
    "    train_df[\"condition\"]\n",
    "    .value_counts()\n",
    "    .to_frame()\n",
    "    .reset_index()\n",
    "    .rename(columns={\"index\": \"condition\", \"condition\": \"frequency\"})\n",
    ")\n",
    "frequencies.head()"
   ]
  },
  {
   "cell_type": "markdown",
   "id": "7c84884b",
   "metadata": {},
   "source": [
    "And once we're done with our Pandas analysis, we can always create a new `Dataset` object by using the `Dataset.from_pandas()` function as follows:"
   ]
  },
  {
   "cell_type": "code",
   "execution_count": 46,
   "id": "c272a307",
   "metadata": {},
   "outputs": [
    {
     "data": {
      "text/plain": [
       "Dataset({\n",
       "    features: ['condition', 'frequency'],\n",
       "    num_rows: 819\n",
       "})"
      ]
     },
     "execution_count": 46,
     "metadata": {},
     "output_type": "execute_result"
    }
   ],
   "source": [
    "from datasets import Dataset\n",
    "freq_dataset = Dataset.from_pandas(frequencies)\n",
    "freq_dataset"
   ]
  },
  {
   "cell_type": "markdown",
   "id": "6e74c45f",
   "metadata": {},
   "source": [
    "> ✏️ Try it out! <font color=\"darkgreen\">Compute the average rating per drug and store the result in a new `Dataset`.</font>"
   ]
  },
  {
   "cell_type": "code",
   "execution_count": 47,
   "id": "a01af30d",
   "metadata": {},
   "outputs": [],
   "source": [
    "# Trying it out"
   ]
  },
  {
   "cell_type": "markdown",
   "id": "f0e99a9d",
   "metadata": {},
   "source": [
    "This wraps up our tour of the various preprocessing techniques available in 🤗 Datasets. To round out the section, let's create a validation set to prepare the dataset for training a classifier on. Before doing so, we'll reset the output format of `drug_dataset` from `\"pandas\"` to `\"arrow\"`:"
   ]
  },
  {
   "cell_type": "code",
   "execution_count": 48,
   "id": "0ff8c8c4",
   "metadata": {},
   "outputs": [],
   "source": [
    "drug_dataset.reset_format()"
   ]
  },
  {
   "cell_type": "markdown",
   "id": "488b8f4a",
   "metadata": {},
   "source": [
    "### Creating a validation set\n",
    "\n",
    "Although we have a test set we could use for evaluation, it's a good practice to leave the test set untouched and create a separate validation set during development. Once you are happy with the performance of your models on the validation set, you can do a final sanity check on the test set. This process helps mitigate the risk that you'll overfit to the test set and deploy a model that fails on real-world data.\n",
    "\n",
    "🤗 Datasets provides a `Dataset.train_test_split()` function that is based on the famous functionality from `scikit-learn`. Let's use it to split our training set into `train` and `validation` splits (we set the seed argument for reproducibility):"
   ]
  },
  {
   "cell_type": "code",
   "execution_count": 49,
   "id": "19828e02",
   "metadata": {},
   "outputs": [
    {
     "data": {
      "text/plain": [
       "DatasetDict({\n",
       "    train: Dataset({\n",
       "        features: ['patient_id', 'drugName', 'condition', 'review', 'rating', 'date', 'usefulCount', 'review_length'],\n",
       "        num_rows: 110811\n",
       "    })\n",
       "    validation: Dataset({\n",
       "        features: ['patient_id', 'drugName', 'condition', 'review', 'rating', 'date', 'usefulCount', 'review_length'],\n",
       "        num_rows: 27703\n",
       "    })\n",
       "    test: Dataset({\n",
       "        features: ['patient_id', 'drugName', 'condition', 'review', 'rating', 'date', 'usefulCount', 'review_length'],\n",
       "        num_rows: 46108\n",
       "    })\n",
       "})"
      ]
     },
     "execution_count": 49,
     "metadata": {},
     "output_type": "execute_result"
    }
   ],
   "source": [
    "drug_dataset_clean = drug_dataset[\"train\"].train_test_split(train_size=0.8, seed=42)\n",
    "# Rename the default \"test\" split to \"validation\"\n",
    "drug_dataset_clean[\"validation\"] = drug_dataset_clean.pop(\"test\")\n",
    "# Add the \"test\" set to our `DatasetDict`\n",
    "drug_dataset_clean[\"test\"] = drug_dataset[\"test\"]\n",
    "drug_dataset_clean"
   ]
  },
  {
   "cell_type": "markdown",
   "id": "ff824e53",
   "metadata": {},
   "source": [
    "Great, we've now prepared a dataset that's ready for training some models on! In section 5 we'll show you how to upload datasets to the Hugging Face Hub, but for now let's cap off our analysis by looking at a few ways you can save datasets on your local machine.\n",
    "\n",
    "### Saving a dataset"
   ]
  },
  {
   "cell_type": "code",
   "execution_count": 50,
   "id": "8af2a8d4",
   "metadata": {},
   "outputs": [
    {
     "name": "stderr",
     "output_type": "stream",
     "text": [
      "/Users/matthias/opt/anaconda3/envs/hf/lib/python3.8/site-packages/IPython/core/display.py:717: UserWarning: Consider using IPython.display.IFrame instead\n",
      "  warnings.warn(\"Consider using IPython.display.IFrame instead\")\n"
     ]
    },
    {
     "data": {
      "text/html": [
       "<iframe width=\"640\" height=\"360\" src=\"https://www.youtube.com/embed/blF9uxYcKHo\" allowfullscreen></iframe>"
      ],
      "text/plain": [
       "<IPython.core.display.HTML object>"
      ]
     },
     "execution_count": 50,
     "metadata": {},
     "output_type": "execute_result"
    }
   ],
   "source": [
    "HTML('<iframe width=\"640\" height=\"360\" src=\"https://www.youtube.com/embed/blF9uxYcKHo\" allowfullscreen></iframe>')"
   ]
  },
  {
   "cell_type": "markdown",
   "id": "a5514f37",
   "metadata": {},
   "source": [
    "Although 🤗 Datasets will cache every downloaded dataset and the operations performed on it, there are times when you'll want to save a dataset to disk (e.g., in case the cache gets deleted). As shown in the table below, 🤗 Datasets provides three main functions to save your dataset in different formats:\n",
    "\n",
    "|Data format|Function|\n",
    "|-----------|--------|\n",
    "|Arrow|`Dataset.save_to_disk()`|\n",
    "|CSV|`Dataset.to_csv()`|\n",
    "|JSON|`Dataset.to_json()`|\n",
    "\n",
    "For example, let's save our cleaned dataset in the Arrow format:"
   ]
  },
  {
   "cell_type": "code",
   "execution_count": 51,
   "id": "d4987d5d",
   "metadata": {},
   "outputs": [
    {
     "data": {
      "application/vnd.jupyter.widget-view+json": {
       "model_id": "155e37a094de4453ac490678409ec761",
       "version_major": 2,
       "version_minor": 0
      },
      "text/plain": [
       "Flattening the indices:   0%|          | 0/111 [00:00<?, ?ba/s]"
      ]
     },
     "metadata": {},
     "output_type": "display_data"
    },
    {
     "data": {
      "application/vnd.jupyter.widget-view+json": {
       "model_id": "b0fa3909d78c40a3b85d92944ffdfb6b",
       "version_major": 2,
       "version_minor": 0
      },
      "text/plain": [
       "Flattening the indices:   0%|          | 0/28 [00:00<?, ?ba/s]"
      ]
     },
     "metadata": {},
     "output_type": "display_data"
    }
   ],
   "source": [
    "drug_dataset_clean.save_to_disk(\"drug-reviews\")"
   ]
  },
  {
   "cell_type": "markdown",
   "id": "ea4624fa",
   "metadata": {},
   "source": [
    "This will create a directory with the following structure:\n",
    "```\n",
    "drug-reviews/\n",
    "├── dataset_dict.json\n",
    "├── test\n",
    "│   ├── dataset.arrow\n",
    "│   ├── dataset_info.json\n",
    "│   └── state.json\n",
    "├── train\n",
    "│   ├── dataset.arrow\n",
    "│   ├── dataset_info.json\n",
    "│   ├── indices.arrow\n",
    "│   └── state.json\n",
    "└── validation\n",
    "    ├── dataset.arrow\n",
    "    ├── dataset_info.json\n",
    "    ├── indices.arrow\n",
    "    └── state.json\n",
    "```\n",
    "where we can see that each split is associated with its own *dataset.arrow* table, and some metadata in *dataset_info.json* and *state.json*. You can think of the Arrow format as a fancy table of columns and rows that is optimized for building high-performance applications that process and transport large datasets.\n",
    "\n",
    "Once the dataset is saved, we can load it by using the `load_from_disk()` function as follows:"
   ]
  },
  {
   "cell_type": "code",
   "execution_count": 52,
   "id": "e87ebe1d",
   "metadata": {},
   "outputs": [
    {
     "data": {
      "text/plain": [
       "DatasetDict({\n",
       "    train: Dataset({\n",
       "        features: ['patient_id', 'drugName', 'condition', 'review', 'rating', 'date', 'usefulCount', 'review_length'],\n",
       "        num_rows: 110811\n",
       "    })\n",
       "    validation: Dataset({\n",
       "        features: ['patient_id', 'drugName', 'condition', 'review', 'rating', 'date', 'usefulCount', 'review_length'],\n",
       "        num_rows: 27703\n",
       "    })\n",
       "    test: Dataset({\n",
       "        features: ['patient_id', 'drugName', 'condition', 'review', 'rating', 'date', 'usefulCount', 'review_length'],\n",
       "        num_rows: 46108\n",
       "    })\n",
       "})"
      ]
     },
     "execution_count": 52,
     "metadata": {},
     "output_type": "execute_result"
    }
   ],
   "source": [
    "from datasets import load_from_disk\n",
    "drug_dataset_reloaded = load_from_disk(\"drug-reviews\")\n",
    "drug_dataset_reloaded"
   ]
  },
  {
   "cell_type": "markdown",
   "id": "9af1eb22",
   "metadata": {},
   "source": [
    "For the CSV and JSON formats, we have to store each split as a separate file. One way to do this is by iterating over the keys and values in the `DatasetDict` object:"
   ]
  },
  {
   "cell_type": "code",
   "execution_count": 53,
   "id": "7e8c3a58",
   "metadata": {},
   "outputs": [
    {
     "data": {
      "application/vnd.jupyter.widget-view+json": {
       "model_id": "c9bf43b66a304a6c8ce8b6304413d0f4",
       "version_major": 2,
       "version_minor": 0
      },
      "text/plain": [
       "Creating json from Arrow format:   0%|          | 0/12 [00:00<?, ?ba/s]"
      ]
     },
     "metadata": {},
     "output_type": "display_data"
    },
    {
     "data": {
      "application/vnd.jupyter.widget-view+json": {
       "model_id": "fa8c5160e363446fb19b9650a7a77987",
       "version_major": 2,
       "version_minor": 0
      },
      "text/plain": [
       "Creating json from Arrow format:   0%|          | 0/3 [00:00<?, ?ba/s]"
      ]
     },
     "metadata": {},
     "output_type": "display_data"
    },
    {
     "data": {
      "application/vnd.jupyter.widget-view+json": {
       "model_id": "078fb2158bd14e24a8e28f2c6ea44fa6",
       "version_major": 2,
       "version_minor": 0
      },
      "text/plain": [
       "Creating json from Arrow format:   0%|          | 0/5 [00:00<?, ?ba/s]"
      ]
     },
     "metadata": {},
     "output_type": "display_data"
    }
   ],
   "source": [
    "for split, dataset in drug_dataset_clean.items():\n",
    "    dataset.to_json(f\"drug-reviews-{split}.jsonl\")"
   ]
  },
  {
   "cell_type": "markdown",
   "id": "46755b31",
   "metadata": {},
   "source": [
    "This saves each split in [JSON Lines format](https://jsonlines.org/), where each row in the dataset is stored as a single line of JSON. Here's what the first example looks like:"
   ]
  },
  {
   "cell_type": "code",
   "execution_count": 54,
   "id": "df805102",
   "metadata": {},
   "outputs": [
    {
     "name": "stdout",
     "output_type": "stream",
     "text": [
      "{\"patient_id\":89879,\"drugName\":\"Cyclosporine\",\"condition\":\"keratoconjunctivitis sicca\",\"review\":\"\\\"I have used Restasis for about a year now and have seen almost no progress.  For most of my life I've had red and bothersome eyes. After trying various eye drops, my doctor recommended Restasis.  He said it typically takes 3 to 6 months for it to really kick in but it never did kick in.  When I put the drops in it burns my eyes for the first 30 - 40 minutes.  I've talked with my doctor about this and he said it is normal but should go away after some time, but it hasn't. Every year around spring time my eyes get terrible irritated  and this year has been the same (maybe even worse than other years) even though I've been using Restasis for a year now. The only difference I notice was for the first couple weeks, but now I'm ready to move on.\\\"\",\"rating\":2.0,\"date\":\"April 20, 2013\",\"usefulCount\":69,\"review_length\":147}\r\n"
     ]
    }
   ],
   "source": [
    "!mv drug-reviews-test.jsonl data\n",
    "!mv drug-reviews-train.jsonl data\n",
    "!mv drug-reviews-validation.jsonl data\n",
    "!head -n 1 data/drug-reviews-train.jsonl"
   ]
  },
  {
   "cell_type": "markdown",
   "id": "abefb99c",
   "metadata": {},
   "source": [
    "We can then use the techniques from [section 2](https://huggingface.co/course/chapter5/2) to load the JSON files as follows:"
   ]
  },
  {
   "cell_type": "code",
   "execution_count": 55,
   "id": "b57f2008",
   "metadata": {},
   "outputs": [
    {
     "name": "stderr",
     "output_type": "stream",
     "text": [
      "Using custom data configuration default-55d56eeb8f6488ba\n"
     ]
    },
    {
     "name": "stdout",
     "output_type": "stream",
     "text": [
      "Downloading and preparing dataset json/default to /Users/matthias/.cache/huggingface/datasets/json/default-55d56eeb8f6488ba/0.0.0/ac0ca5f5289a6cf108e706efcf040422dbbfa8e658dee6a819f20d76bb84d26b...\n"
     ]
    },
    {
     "data": {
      "application/vnd.jupyter.widget-view+json": {
       "model_id": "fc104b7f4d7b4b62af34afbbdcb239e3",
       "version_major": 2,
       "version_minor": 0
      },
      "text/plain": [
       "Downloading data files:   0%|          | 0/3 [00:00<?, ?it/s]"
      ]
     },
     "metadata": {},
     "output_type": "display_data"
    },
    {
     "data": {
      "application/vnd.jupyter.widget-view+json": {
       "model_id": "7457cb1ac78742d7a9b0477161b440e0",
       "version_major": 2,
       "version_minor": 0
      },
      "text/plain": [
       "Extracting data files:   0%|          | 0/3 [00:00<?, ?it/s]"
      ]
     },
     "metadata": {},
     "output_type": "display_data"
    },
    {
     "name": "stdout",
     "output_type": "stream",
     "text": [
      "Dataset json downloaded and prepared to /Users/matthias/.cache/huggingface/datasets/json/default-55d56eeb8f6488ba/0.0.0/ac0ca5f5289a6cf108e706efcf040422dbbfa8e658dee6a819f20d76bb84d26b. Subsequent calls will reuse this data.\n"
     ]
    },
    {
     "data": {
      "application/vnd.jupyter.widget-view+json": {
       "model_id": "183cc0bf1b2e4edf9138f49e9f4de6b0",
       "version_major": 2,
       "version_minor": 0
      },
      "text/plain": [
       "  0%|          | 0/3 [00:00<?, ?it/s]"
      ]
     },
     "metadata": {},
     "output_type": "display_data"
    },
    {
     "data": {
      "text/plain": [
       "DatasetDict({\n",
       "    train: Dataset({\n",
       "        features: ['patient_id', 'drugName', 'condition', 'review', 'rating', 'date', 'usefulCount', 'review_length'],\n",
       "        num_rows: 110811\n",
       "    })\n",
       "    validation: Dataset({\n",
       "        features: ['patient_id', 'drugName', 'condition', 'review', 'rating', 'date', 'usefulCount', 'review_length'],\n",
       "        num_rows: 27703\n",
       "    })\n",
       "    test: Dataset({\n",
       "        features: ['patient_id', 'drugName', 'condition', 'review', 'rating', 'date', 'usefulCount', 'review_length'],\n",
       "        num_rows: 46108\n",
       "    })\n",
       "})"
      ]
     },
     "execution_count": 55,
     "metadata": {},
     "output_type": "execute_result"
    }
   ],
   "source": [
    "data_files = {\n",
    "    \"train\": \"data/drug-reviews-train.jsonl\",\n",
    "    \"validation\": \"data/drug-reviews-validation.jsonl\",\n",
    "    \"test\": \"data/drug-reviews-test.jsonl\",\n",
    "}\n",
    "drug_dataset_reloaded = load_dataset(\"json\", data_files=data_files)\n",
    "drug_dataset_reloaded"
   ]
  },
  {
   "cell_type": "markdown",
   "id": "2b927bb8",
   "metadata": {},
   "source": [
    "And that's it for our excursion into data wrangling with 🤗 Datasets! Now that we have a cleaned dataset for training a model on, here are a few ideas that you could try out:\n",
    "1. Use the techniques from [Chapter 3](https://huggingface.co/course/chapter3) to train a classifier that can predict the patient condition based on the drug review.\n",
    "1. Use the `summarization` pipeline from [Chapter 1](https://huggingface.co/course/chapter1) to generate summaries of the reviews.\n",
    "\n",
    "Next, we'll take a look at how 🤗 Datasets can enable you to work with huge datasets without blowing up your laptop!\n",
    "\n",
    "## [Big data? 🤗 Datasets to the rescue!](https://huggingface.co/course/chapter5/4?fw=pt)\n",
    "\n",
    "Nowadays it is not uncommon to find yourself working with multi-gigabyte datasets, especially if you're planning to pretrain a transformer like BERT or GPT-2 from scratch. In these cases, even *loading* the data can be a challenge. For example, the WebText corpus used to pretrain GPT-2 consists of over 8 million documents and 40 GB of text — loading this into your laptop's RAM is likely to give it a heart attack!\n",
    "\n",
    "Fortunately, 🤗 Datasets has been designed to overcome these limitations. It frees you from memory management problems by treating datasets as *memory-mapped* files, and from hard drive limits by *streaming* the entries in a corpus."
   ]
  },
  {
   "cell_type": "code",
   "execution_count": 56,
   "id": "46d47b1e",
   "metadata": {},
   "outputs": [
    {
     "data": {
      "text/html": [
       "<iframe width=\"640\" height=\"360\" src=\"https://www.youtube.com/embed/JwISwTCPPWo\" allowfullscreen></iframe>"
      ],
      "text/plain": [
       "<IPython.core.display.HTML object>"
      ]
     },
     "execution_count": 56,
     "metadata": {},
     "output_type": "execute_result"
    }
   ],
   "source": [
    "HTML('<iframe width=\"640\" height=\"360\" src=\"https://www.youtube.com/embed/JwISwTCPPWo\" allowfullscreen></iframe>')"
   ]
  },
  {
   "cell_type": "markdown",
   "id": "28c04fc8",
   "metadata": {},
   "source": [
    "In this section we'll explore these features of 🤗 Datasets with a huge 825 GB corpus known as [the Pile](https://pile.eleuther.ai/). Let's get started!\n",
    "\n",
    "### What is the Pile?\n",
    "\n",
    "The Pile is an English text corpus that was created by [EleutherAI](https://www.eleuther.ai/) for training large-scale language models. It includes a diverse range of datasets, spanning scientific articles, GitHub code repositories, and filtered web text. The training corpus is available in [14 GB chunks](https://mystic.the-eye.eu/public/AI/pile/), and you can also download several of the [individual components](https://mystic.the-eye.eu/public/AI/pile_preliminary_components/). Let's start by taking a look at the PubMed Abstracts dataset, which is a corpus of abstracts from 15 million biomedical publications on [PubMed](https://pubmed.ncbi.nlm.nih.gov/). The dataset is in [JSON Lines format](https://jsonlines.org/) and is compressed using the `zstandard` library, so first we need to install that:"
   ]
  },
  {
   "cell_type": "code",
   "execution_count": 57,
   "id": "2ccc6971",
   "metadata": {},
   "outputs": [],
   "source": [
    "# the following command needs to run only once\n",
    "#!conda install -c conda-forge zstandard"
   ]
  },
  {
   "cell_type": "markdown",
   "id": "2af34372",
   "metadata": {},
   "source": [
    "Next, we can load the dataset using the method for remote files that we learned in [section 2](https://huggingface.co/course/chapter5/2):"
   ]
  },
  {
   "cell_type": "code",
   "execution_count": 58,
   "id": "ddc4dc92",
   "metadata": {},
   "outputs": [
    {
     "name": "stderr",
     "output_type": "stream",
     "text": [
      "Using custom data configuration default-6ad3aefcb3b64942\n"
     ]
    },
    {
     "name": "stdout",
     "output_type": "stream",
     "text": [
      "Downloading and preparing dataset json/default to /Users/matthias/.cache/huggingface/datasets/json/default-6ad3aefcb3b64942/0.0.0/ac0ca5f5289a6cf108e706efcf040422dbbfa8e658dee6a819f20d76bb84d26b...\n"
     ]
    },
    {
     "data": {
      "application/vnd.jupyter.widget-view+json": {
       "model_id": "41512b3faaa947dd8552f5839d6ccef3",
       "version_major": 2,
       "version_minor": 0
      },
      "text/plain": [
       "Downloading data files:   0%|          | 0/1 [00:00<?, ?it/s]"
      ]
     },
     "metadata": {},
     "output_type": "display_data"
    },
    {
     "data": {
      "application/vnd.jupyter.widget-view+json": {
       "model_id": "805187dedec04c35a9912a0ca9c98555",
       "version_major": 2,
       "version_minor": 0
      },
      "text/plain": [
       "Downloading data:   0%|          | 0.00/6.90G [00:00<?, ?B/s]"
      ]
     },
     "metadata": {},
     "output_type": "display_data"
    },
    {
     "data": {
      "application/vnd.jupyter.widget-view+json": {
       "model_id": "70262e5750504c9dadf66326f7308774",
       "version_major": 2,
       "version_minor": 0
      },
      "text/plain": [
       "Extracting data files:   0%|          | 0/1 [00:00<?, ?it/s]"
      ]
     },
     "metadata": {},
     "output_type": "display_data"
    },
    {
     "name": "stdout",
     "output_type": "stream",
     "text": [
      "Dataset json downloaded and prepared to /Users/matthias/.cache/huggingface/datasets/json/default-6ad3aefcb3b64942/0.0.0/ac0ca5f5289a6cf108e706efcf040422dbbfa8e658dee6a819f20d76bb84d26b. Subsequent calls will reuse this data.\n"
     ]
    },
    {
     "data": {
      "text/plain": [
       "Dataset({\n",
       "    features: ['meta', 'text'],\n",
       "    num_rows: 15518009\n",
       "})"
      ]
     },
     "execution_count": 58,
     "metadata": {},
     "output_type": "execute_result"
    }
   ],
   "source": [
    "# This takes a few minutes to run, so go grab a tea or coffee while you wait :)\n",
    "data_files = \"https://mystic.the-eye.eu/public/AI/pile_preliminary_components/\"\n",
    "data_files += \"PUBMED_title_abstracts_2019_baseline.jsonl.zst\"\n",
    "pubmed_dataset = load_dataset(\"json\", data_files=data_files, split=\"train\")\n",
    "pubmed_dataset"
   ]
  },
  {
   "cell_type": "markdown",
   "id": "eddd2b88",
   "metadata": {},
   "source": [
    "We can see that there are 15,518,009 rows and 2 columns in our dataset — that's a lot!\n",
    "> <font color=\"darkgreen\">✎ By default, 🤗 Datasets will decompress the files needed to load a dataset. If you want to preserve hard drive space, you can pass `DownloadConfig(delete_extracted=True)` to the `download_config` argument of `load_dataset()`. See the [documentation](https://huggingface.co/docs/datasets/package_reference/builder_classes.html?#datasets.utils.DownloadConfig) for more details.</font>\n",
    "\n",
    "Let's inspect the contents of the first example:"
   ]
  },
  {
   "cell_type": "code",
   "execution_count": 59,
   "id": "e66ea478",
   "metadata": {},
   "outputs": [
    {
     "data": {
      "text/plain": [
       "{'meta': {'pmid': 11409574, 'language': 'eng'},\n",
       " 'text': 'Epidemiology of hypoxaemia in children with acute lower respiratory infection.\\nTo determine the prevalence of hypoxaemia in children aged under 5 years suffering acute lower respiratory infections (ALRI), the risk factors for hypoxaemia in children under 5 years of age with ALRI, and the association of hypoxaemia with an increased risk of dying in children of the same age. Systematic review of the published literature. Out-patient clinics, emergency departments and hospitalisation wards in 23 health centres from 10 countries. Cohort studies reporting the frequency of hypoxaemia in children under 5 years of age with ALRI, and the association between hypoxaemia and the risk of dying. Prevalence of hypoxaemia measured in children with ARI and relative risks for the association between the severity of illness and the frequency of hypoxaemia, and between hypoxaemia and the risk of dying. Seventeen published studies were found that included 4,021 children under 5 with acute respiratory infections (ARI) and reported the prevalence of hypoxaemia. Out-patient children and those with a clinical diagnosis of upper ARI had a low risk of hypoxaemia (pooled estimate of 6% to 9%). The prevalence increased to 31% and to 43% in patients in emergency departments and in cases with clinical pneumonia, respectively, and it was even higher among hospitalised children (47%) and in those with radiographically confirmed pneumonia (72%). The cumulated data also suggest that hypoxaemia is more frequent in children living at high altitude. Three papers reported an association between hypoxaemia and death, with relative risks varying between 1.4 and 4.6. Papers describing predictors of hypoxaemia have focused on clinical signs for detecting hypoxaemia rather than on identifying risk factors for developing this complication. Hypoxaemia is a common and potentially lethal complication of ALRI in children under 5, particularly among those with severe disease and those living at high altitude. Given the observed high prevalence of hypoxaemia and its likely association with increased mortality, efforts should be made to improve the detection of hypoxaemia and to provide oxygen earlier to more children with severe ALRI.'}"
      ]
     },
     "execution_count": 59,
     "metadata": {},
     "output_type": "execute_result"
    }
   ],
   "source": [
    "pubmed_dataset[0]"
   ]
  },
  {
   "cell_type": "markdown",
   "id": "2b21bfcd",
   "metadata": {},
   "source": [
    "Okay, this looks like the abstract from a medical article. Now let's see how much RAM we've used to load the dataset!\n",
    "\n",
    "### The magic of memory mapping\n",
    "A simple way to measure memory usage in Python is with the [`psutil`](https://psutil.readthedocs.io/en/latest/) library, which can be installed with `conda` as follows:"
   ]
  },
  {
   "cell_type": "code",
   "execution_count": 60,
   "id": "93586589",
   "metadata": {},
   "outputs": [],
   "source": [
    "# the following command needs to run only once\n",
    "#!conda install -c conda-forge psutil"
   ]
  },
  {
   "cell_type": "markdown",
   "id": "1de4014d",
   "metadata": {},
   "source": [
    "It provides a `Process` class that allows us to check the memory usage of the current process as follows:"
   ]
  },
  {
   "cell_type": "code",
   "execution_count": 61,
   "id": "0e4c5bc3",
   "metadata": {},
   "outputs": [
    {
     "name": "stdout",
     "output_type": "stream",
     "text": [
      "RAM used: 1276.88 MB\n"
     ]
    }
   ],
   "source": [
    "import psutil\n",
    "# Process.memory_info is expressed in bytes, so convert to megabytes\n",
    "print(f\"RAM used: {psutil.Process().memory_info().rss / (1024 * 1024):.2f} MB\")"
   ]
  },
  {
   "cell_type": "markdown",
   "id": "1f60d837",
   "metadata": {},
   "source": [
    "Here, the `rss` attribute refers to the *resident set size*, which is the fraction of memory that a process occupies in RAM. This measurement also includes the memory used by the Python interpreter and the libraries we’ve loaded, so the actual amount of memory used to load the dataset is a bit smaller. For comparison, let’s see how large the dataset is on disk, using the `dataset_size` attribute. Since the result is expressed in bytes like before, we need to manually convert it to gigabytes:"
   ]
  },
  {
   "cell_type": "code",
   "execution_count": 62,
   "id": "27481141",
   "metadata": {},
   "outputs": [
    {
     "name": "stdout",
     "output_type": "stream",
     "text": [
      "Number of files in dataset : 20978892555\n",
      "Dataset size (cache file) : 19.54 GB\n"
     ]
    }
   ],
   "source": [
    "print(f\"Number of files in dataset : {pubmed_dataset.dataset_size}\")\n",
    "size_gb = pubmed_dataset.dataset_size / (1024**3)\n",
    "print(f\"Dataset size (cache file) : {size_gb:.2f} GB\")"
   ]
  },
  {
   "cell_type": "markdown",
   "id": "23c9d609",
   "metadata": {},
   "source": [
    "Nice — despite it being almost 20 GB large, we're able to load and access the dataset with much less RAM!\n",
    "> ✏️ Try it out! <font color=\"darkgreen\">Pick one of the subsets from the Pile that is larger than your laptop or desktop’s RAM, load it with 🤗 Datasets, and measure the amount of RAM used. Note that to get an accurate measurement, you’ll want to do this in a new process. You can find the decompressed sizes of each subset in Table 1 of the Pile paper.</font>"
   ]
  },
  {
   "cell_type": "code",
   "execution_count": 63,
   "id": "b3747f09",
   "metadata": {},
   "outputs": [],
   "source": [
    "# Trying it out"
   ]
  },
  {
   "cell_type": "markdown",
   "id": "492f3c10",
   "metadata": {},
   "source": [
    "If you're familiar with Pandas, this result might come as a surprise because of Wes Kinney's famous [rule of thumb](https://wesmckinney.com/blog/apache-arrow-pandas-internals/) that you typically need 5 to 10 times as much RAM as the size of your dataset. So how does 🤗 Datasets solve this memory management problem? 🤗 Datasets treats each dataset as a [memory-mapped file](https://en.wikipedia.org/wiki/Memory-mapped_file), which provides a mapping between RAM and filesystem storage that allows the library to access and operate on elements of the dataset without needing to fully load it into memory.\n",
    "\n",
    "Memory-mapped files can also be shared across multiple processes, which enables methods like `Dataset.map()` to be parallelized without needing to move or copy the dataset. Under the hood, these capabilities are all realized by the [Apache Arrow](https://arrow.apache.org/) memory format and [`pyarrow`](https://arrow.apache.org/docs/python/index.html) library, which make the data loading and processing lightning fast. (For more details about Apache Arrow and comparisons to Pandas, check out [Dejan Simic's blog post](https://towardsdatascience.com/apache-arrow-read-dataframe-with-zero-memory-69634092b1a).) To see this in action, let's run a little speed test by iterating over all the elements in the PubMed Abstracts dataset:"
   ]
  },
  {
   "cell_type": "code",
   "execution_count": 64,
   "id": "93bb1297",
   "metadata": {},
   "outputs": [
    {
     "name": "stdout",
     "output_type": "stream",
     "text": [
      "Iterated over 15518009 examples (about 19.5 GB) in 129.0s, i.e., 0.151 GB/s\n"
     ]
    }
   ],
   "source": [
    "import timeit\n",
    "code_snippet = \"\"\"\n",
    "batch_size = 1000\n",
    "for idx in range(0, len(pubmed_dataset), batch_size):\n",
    "    _ = pubmed_dataset[idx:idx + batch_size]\n",
    "\"\"\"\n",
    "time = timeit.timeit(stmt=code_snippet, number=1, globals=globals())\n",
    "print(\"Iterated over {} examples (about {:.1f} GB) in {:.1f}s, i.e., {:.3f} GB/s\".format(\n",
    "    len(pubmed_dataset), size_gb, time, size_gb/time\n",
    "))"
   ]
  },
  {
   "cell_type": "markdown",
   "id": "febebbd0",
   "metadata": {},
   "source": [
    "Here we've used Python's `timeit` module to measure the execution time taken by `code_snippet`. You'll typically be able to iterate over a dataset at speed of a few tenths of a GB/s to several GB/s. This works great for the vast majority of applications, but sometimes you'll have to work with a dataset that is too large to even store on your laptop's hard drive. For example, if we tried to download the Pile in its entirety, we'd need 825 GB of free disk space! To handle these cases, 🤗 Datasets provides a streaming feature that allows us to download and access elements on the fly, without needing to download the whole dataset. Let's take a look at how this works.\n",
    "> <font color=\"darkgreen\">💡 In Jupyter notebooks, you can also time cells using the [`%%timeit` magic function](https://ipython.readthedocs.io/en/stable/interactive/magics.html#magic-timeit).</font>\n",
    "\n",
    "### Streaming datasets\n",
    "To enable dataset streaming you just need to pass the `streaming=True` argument to the `load_dataset()` function. For example, let's load the PubMed Abstracts dataset again, but in streaming mode:"
   ]
  },
  {
   "cell_type": "code",
   "execution_count": 65,
   "id": "bcd15b2f",
   "metadata": {},
   "outputs": [
    {
     "name": "stderr",
     "output_type": "stream",
     "text": [
      "Using custom data configuration default-6ad3aefcb3b64942\n"
     ]
    }
   ],
   "source": [
    "pubmed_dataset_streamed = load_dataset(\"json\", data_files=data_files, split=\"train\", streaming=True)"
   ]
  },
  {
   "cell_type": "markdown",
   "id": "39c88eb6",
   "metadata": {},
   "source": [
    "Instead of the familiar `Dataset` that we've encountered elsewhere in this chapter, the object returned with `streaming=True` is an `IterableDataset`. As the name suggests, to access the elements of an `IterableDataset` we need to iterate over it. We can access the first element of our streamed dataset as follows:"
   ]
  },
  {
   "cell_type": "code",
   "execution_count": 66,
   "id": "90b292fa",
   "metadata": {},
   "outputs": [
    {
     "data": {
      "text/plain": [
       "{'meta': {'pmid': 11409574, 'language': 'eng'},\n",
       " 'text': 'Epidemiology of hypoxaemia in children with acute lower respiratory infection.\\nTo determine the prevalence of hypoxaemia in children aged under 5 years suffering acute lower respiratory infections (ALRI), the risk factors for hypoxaemia in children under 5 years of age with ALRI, and the association of hypoxaemia with an increased risk of dying in children of the same age. Systematic review of the published literature. Out-patient clinics, emergency departments and hospitalisation wards in 23 health centres from 10 countries. Cohort studies reporting the frequency of hypoxaemia in children under 5 years of age with ALRI, and the association between hypoxaemia and the risk of dying. Prevalence of hypoxaemia measured in children with ARI and relative risks for the association between the severity of illness and the frequency of hypoxaemia, and between hypoxaemia and the risk of dying. Seventeen published studies were found that included 4,021 children under 5 with acute respiratory infections (ARI) and reported the prevalence of hypoxaemia. Out-patient children and those with a clinical diagnosis of upper ARI had a low risk of hypoxaemia (pooled estimate of 6% to 9%). The prevalence increased to 31% and to 43% in patients in emergency departments and in cases with clinical pneumonia, respectively, and it was even higher among hospitalised children (47%) and in those with radiographically confirmed pneumonia (72%). The cumulated data also suggest that hypoxaemia is more frequent in children living at high altitude. Three papers reported an association between hypoxaemia and death, with relative risks varying between 1.4 and 4.6. Papers describing predictors of hypoxaemia have focused on clinical signs for detecting hypoxaemia rather than on identifying risk factors for developing this complication. Hypoxaemia is a common and potentially lethal complication of ALRI in children under 5, particularly among those with severe disease and those living at high altitude. Given the observed high prevalence of hypoxaemia and its likely association with increased mortality, efforts should be made to improve the detection of hypoxaemia and to provide oxygen earlier to more children with severe ALRI.'}"
      ]
     },
     "execution_count": 66,
     "metadata": {},
     "output_type": "execute_result"
    }
   ],
   "source": [
    "next(iter(pubmed_dataset_streamed))"
   ]
  },
  {
   "cell_type": "markdown",
   "id": "6aec3f42",
   "metadata": {},
   "source": [
    "The elements from a streamed dataset can be processed on the fly using `IterableDataset.map()`, which is useful during training if you need to tokenize the inputs. The process is exactly the same as the one we used to tokenize our dataset in [Chapter 3](https://huggingface.co/course/chapter3), with the only difference being that outputs are returned one by one:"
   ]
  },
  {
   "cell_type": "code",
   "execution_count": 67,
   "id": "6296044c",
   "metadata": {},
   "outputs": [
    {
     "data": {
      "application/vnd.jupyter.widget-view+json": {
       "model_id": "b69e8a96eebd444eb663611c2afa1fc6",
       "version_major": 2,
       "version_minor": 0
      },
      "text/plain": [
       "Downloading:   0%|          | 0.00/28.0 [00:00<?, ?B/s]"
      ]
     },
     "metadata": {},
     "output_type": "display_data"
    },
    {
     "data": {
      "application/vnd.jupyter.widget-view+json": {
       "model_id": "1727d88c9c594ff1b7f8689b58f902ff",
       "version_major": 2,
       "version_minor": 0
      },
      "text/plain": [
       "Downloading:   0%|          | 0.00/483 [00:00<?, ?B/s]"
      ]
     },
     "metadata": {},
     "output_type": "display_data"
    },
    {
     "data": {
      "application/vnd.jupyter.widget-view+json": {
       "model_id": "dfc725bf5e7245da985ed88fa85cb1fa",
       "version_major": 2,
       "version_minor": 0
      },
      "text/plain": [
       "Downloading:   0%|          | 0.00/226k [00:00<?, ?B/s]"
      ]
     },
     "metadata": {},
     "output_type": "display_data"
    },
    {
     "data": {
      "application/vnd.jupyter.widget-view+json": {
       "model_id": "6b83b06b72ca415ab939627277419049",
       "version_major": 2,
       "version_minor": 0
      },
      "text/plain": [
       "Downloading:   0%|          | 0.00/455k [00:00<?, ?B/s]"
      ]
     },
     "metadata": {},
     "output_type": "display_data"
    },
    {
     "data": {
      "text/plain": [
       "{'meta': {'pmid': 11409574, 'language': 'eng'},\n",
       " 'text': 'Epidemiology of hypoxaemia in children with acute lower respiratory infection.\\nTo determine the prevalence of hypoxaemia in children aged under 5 years suffering acute lower respiratory infections (ALRI), the risk factors for hypoxaemia in children under 5 years of age with ALRI, and the association of hypoxaemia with an increased risk of dying in children of the same age. Systematic review of the published literature. Out-patient clinics, emergency departments and hospitalisation wards in 23 health centres from 10 countries. Cohort studies reporting the frequency of hypoxaemia in children under 5 years of age with ALRI, and the association between hypoxaemia and the risk of dying. Prevalence of hypoxaemia measured in children with ARI and relative risks for the association between the severity of illness and the frequency of hypoxaemia, and between hypoxaemia and the risk of dying. Seventeen published studies were found that included 4,021 children under 5 with acute respiratory infections (ARI) and reported the prevalence of hypoxaemia. Out-patient children and those with a clinical diagnosis of upper ARI had a low risk of hypoxaemia (pooled estimate of 6% to 9%). The prevalence increased to 31% and to 43% in patients in emergency departments and in cases with clinical pneumonia, respectively, and it was even higher among hospitalised children (47%) and in those with radiographically confirmed pneumonia (72%). The cumulated data also suggest that hypoxaemia is more frequent in children living at high altitude. Three papers reported an association between hypoxaemia and death, with relative risks varying between 1.4 and 4.6. Papers describing predictors of hypoxaemia have focused on clinical signs for detecting hypoxaemia rather than on identifying risk factors for developing this complication. Hypoxaemia is a common and potentially lethal complication of ALRI in children under 5, particularly among those with severe disease and those living at high altitude. Given the observed high prevalence of hypoxaemia and its likely association with increased mortality, efforts should be made to improve the detection of hypoxaemia and to provide oxygen earlier to more children with severe ALRI.',\n",
       " 'input_ids': [101,\n",
       "  4958,\n",
       "  5178,\n",
       "  4328,\n",
       "  6779,\n",
       "  1997,\n",
       "  1044,\n",
       "  22571,\n",
       "  11636,\n",
       "  6679,\n",
       "  10092,\n",
       "  1999,\n",
       "  2336,\n",
       "  2007,\n",
       "  11325,\n",
       "  2896,\n",
       "  16464,\n",
       "  8985,\n",
       "  1012,\n",
       "  2000,\n",
       "  5646,\n",
       "  1996,\n",
       "  20272,\n",
       "  1997,\n",
       "  1044,\n",
       "  22571,\n",
       "  11636,\n",
       "  6679,\n",
       "  10092,\n",
       "  1999,\n",
       "  2336,\n",
       "  4793,\n",
       "  2104,\n",
       "  1019,\n",
       "  2086,\n",
       "  6114,\n",
       "  11325,\n",
       "  2896,\n",
       "  16464,\n",
       "  15245,\n",
       "  1006,\n",
       "  2632,\n",
       "  3089,\n",
       "  1007,\n",
       "  1010,\n",
       "  1996,\n",
       "  3891,\n",
       "  5876,\n",
       "  2005,\n",
       "  1044,\n",
       "  22571,\n",
       "  11636,\n",
       "  6679,\n",
       "  10092,\n",
       "  1999,\n",
       "  2336,\n",
       "  2104,\n",
       "  1019,\n",
       "  2086,\n",
       "  1997,\n",
       "  2287,\n",
       "  2007,\n",
       "  2632,\n",
       "  3089,\n",
       "  1010,\n",
       "  1998,\n",
       "  1996,\n",
       "  2523,\n",
       "  1997,\n",
       "  1044,\n",
       "  22571,\n",
       "  11636,\n",
       "  6679,\n",
       "  10092,\n",
       "  2007,\n",
       "  2019,\n",
       "  3445,\n",
       "  3891,\n",
       "  1997,\n",
       "  5996,\n",
       "  1999,\n",
       "  2336,\n",
       "  1997,\n",
       "  1996,\n",
       "  2168,\n",
       "  2287,\n",
       "  1012,\n",
       "  11778,\n",
       "  3319,\n",
       "  1997,\n",
       "  1996,\n",
       "  2405,\n",
       "  3906,\n",
       "  1012,\n",
       "  2041,\n",
       "  1011,\n",
       "  5776,\n",
       "  17865,\n",
       "  1010,\n",
       "  5057,\n",
       "  7640,\n",
       "  1998,\n",
       "  2902,\n",
       "  6648,\n",
       "  11682,\n",
       "  1999,\n",
       "  2603,\n",
       "  2740,\n",
       "  8941,\n",
       "  2013,\n",
       "  2184,\n",
       "  3032,\n",
       "  1012,\n",
       "  2522,\n",
       "  27794,\n",
       "  2913,\n",
       "  7316,\n",
       "  1996,\n",
       "  6075,\n",
       "  1997,\n",
       "  1044,\n",
       "  22571,\n",
       "  11636,\n",
       "  6679,\n",
       "  10092,\n",
       "  1999,\n",
       "  2336,\n",
       "  2104,\n",
       "  1019,\n",
       "  2086,\n",
       "  1997,\n",
       "  2287,\n",
       "  2007,\n",
       "  2632,\n",
       "  3089,\n",
       "  1010,\n",
       "  1998,\n",
       "  1996,\n",
       "  2523,\n",
       "  2090,\n",
       "  1044,\n",
       "  22571,\n",
       "  11636,\n",
       "  6679,\n",
       "  10092,\n",
       "  1998,\n",
       "  1996,\n",
       "  3891,\n",
       "  1997,\n",
       "  5996,\n",
       "  1012,\n",
       "  20272,\n",
       "  1997,\n",
       "  1044,\n",
       "  22571,\n",
       "  11636,\n",
       "  6679,\n",
       "  10092,\n",
       "  7594,\n",
       "  1999,\n",
       "  2336,\n",
       "  2007,\n",
       "  10488,\n",
       "  1998,\n",
       "  5816,\n",
       "  10831,\n",
       "  2005,\n",
       "  1996,\n",
       "  2523,\n",
       "  2090,\n",
       "  1996,\n",
       "  18976,\n",
       "  1997,\n",
       "  7355,\n",
       "  1998,\n",
       "  1996,\n",
       "  6075,\n",
       "  1997,\n",
       "  1044,\n",
       "  22571,\n",
       "  11636,\n",
       "  6679,\n",
       "  10092,\n",
       "  1010,\n",
       "  1998,\n",
       "  2090,\n",
       "  1044,\n",
       "  22571,\n",
       "  11636,\n",
       "  6679,\n",
       "  10092,\n",
       "  1998,\n",
       "  1996,\n",
       "  3891,\n",
       "  1997,\n",
       "  5996,\n",
       "  1012,\n",
       "  9171,\n",
       "  2405,\n",
       "  2913,\n",
       "  2020,\n",
       "  2179,\n",
       "  2008,\n",
       "  2443,\n",
       "  1018,\n",
       "  1010,\n",
       "  6185,\n",
       "  2487,\n",
       "  2336,\n",
       "  2104,\n",
       "  1019,\n",
       "  2007,\n",
       "  11325,\n",
       "  16464,\n",
       "  15245,\n",
       "  1006,\n",
       "  10488,\n",
       "  1007,\n",
       "  1998,\n",
       "  2988,\n",
       "  1996,\n",
       "  20272,\n",
       "  1997,\n",
       "  1044,\n",
       "  22571,\n",
       "  11636,\n",
       "  6679,\n",
       "  10092,\n",
       "  1012,\n",
       "  2041,\n",
       "  1011,\n",
       "  5776,\n",
       "  2336,\n",
       "  1998,\n",
       "  2216,\n",
       "  2007,\n",
       "  1037,\n",
       "  6612,\n",
       "  11616,\n",
       "  1997,\n",
       "  3356,\n",
       "  10488,\n",
       "  2018,\n",
       "  1037,\n",
       "  2659,\n",
       "  3891,\n",
       "  1997,\n",
       "  1044,\n",
       "  22571,\n",
       "  11636,\n",
       "  6679,\n",
       "  10092,\n",
       "  1006,\n",
       "  19107,\n",
       "  2094,\n",
       "  10197,\n",
       "  1997,\n",
       "  1020,\n",
       "  1003,\n",
       "  2000,\n",
       "  1023,\n",
       "  1003,\n",
       "  1007,\n",
       "  1012,\n",
       "  1996,\n",
       "  20272,\n",
       "  3445,\n",
       "  2000,\n",
       "  2861,\n",
       "  1003,\n",
       "  1998,\n",
       "  2000,\n",
       "  4724,\n",
       "  1003,\n",
       "  1999,\n",
       "  5022,\n",
       "  1999,\n",
       "  5057,\n",
       "  7640,\n",
       "  1998,\n",
       "  1999,\n",
       "  3572,\n",
       "  2007,\n",
       "  6612,\n",
       "  18583,\n",
       "  1010,\n",
       "  4414,\n",
       "  1010,\n",
       "  1998,\n",
       "  2009,\n",
       "  2001,\n",
       "  2130,\n",
       "  3020,\n",
       "  2426,\n",
       "  2902,\n",
       "  5084,\n",
       "  2336,\n",
       "  1006,\n",
       "  4700,\n",
       "  1003,\n",
       "  1007,\n",
       "  1998,\n",
       "  1999,\n",
       "  2216,\n",
       "  2007,\n",
       "  2557,\n",
       "  14773,\n",
       "  3973,\n",
       "  4484,\n",
       "  18583,\n",
       "  1006,\n",
       "  5824,\n",
       "  1003,\n",
       "  1007,\n",
       "  1012,\n",
       "  1996,\n",
       "  13988,\n",
       "  8898,\n",
       "  2951,\n",
       "  2036,\n",
       "  6592,\n",
       "  2008,\n",
       "  1044,\n",
       "  22571,\n",
       "  11636,\n",
       "  6679,\n",
       "  10092,\n",
       "  2003,\n",
       "  2062,\n",
       "  6976,\n",
       "  1999,\n",
       "  2336,\n",
       "  2542,\n",
       "  2012,\n",
       "  2152,\n",
       "  7998,\n",
       "  1012,\n",
       "  2093,\n",
       "  4981,\n",
       "  2988,\n",
       "  2019,\n",
       "  2523,\n",
       "  2090,\n",
       "  1044,\n",
       "  22571,\n",
       "  11636,\n",
       "  6679,\n",
       "  10092,\n",
       "  1998,\n",
       "  2331,\n",
       "  1010,\n",
       "  2007,\n",
       "  5816,\n",
       "  10831,\n",
       "  9671,\n",
       "  2090,\n",
       "  1015,\n",
       "  1012,\n",
       "  1018,\n",
       "  1998,\n",
       "  1018,\n",
       "  1012,\n",
       "  1020,\n",
       "  1012,\n",
       "  4981,\n",
       "  7851,\n",
       "  16014,\n",
       "  5668,\n",
       "  1997,\n",
       "  1044,\n",
       "  22571,\n",
       "  11636,\n",
       "  6679,\n",
       "  10092,\n",
       "  2031,\n",
       "  4208,\n",
       "  2006,\n",
       "  6612,\n",
       "  5751,\n",
       "  2005,\n",
       "  25952,\n",
       "  1044,\n",
       "  22571,\n",
       "  11636,\n",
       "  6679,\n",
       "  10092,\n",
       "  2738,\n",
       "  2084,\n",
       "  2006,\n",
       "  12151,\n",
       "  3891,\n",
       "  5876,\n",
       "  2005,\n",
       "  4975,\n",
       "  2023,\n",
       "  4012,\n",
       "  21557,\n",
       "  1012,\n",
       "  1044,\n",
       "  22571,\n",
       "  11636,\n",
       "  6679,\n",
       "  10092,\n",
       "  2003,\n",
       "  1037,\n",
       "  2691,\n",
       "  1998,\n",
       "  9280,\n",
       "  12765,\n",
       "  4012,\n",
       "  21557,\n",
       "  1997,\n",
       "  2632,\n",
       "  3089,\n",
       "  1999,\n",
       "  2336,\n",
       "  2104,\n",
       "  1019,\n",
       "  1010,\n",
       "  3391,\n",
       "  2426,\n",
       "  2216,\n",
       "  2007,\n",
       "  5729,\n",
       "  4295,\n",
       "  1998,\n",
       "  2216,\n",
       "  2542,\n",
       "  2012,\n",
       "  2152,\n",
       "  7998,\n",
       "  1012,\n",
       "  2445,\n",
       "  1996,\n",
       "  5159,\n",
       "  2152,\n",
       "  20272,\n",
       "  1997,\n",
       "  1044,\n",
       "  22571,\n",
       "  11636,\n",
       "  6679,\n",
       "  10092,\n",
       "  1998,\n",
       "  2049,\n",
       "  3497,\n",
       "  2523,\n",
       "  2007,\n",
       "  3445,\n",
       "  13356,\n",
       "  1010,\n",
       "  4073,\n",
       "  2323,\n",
       "  2022,\n",
       "  2081,\n",
       "  2000,\n",
       "  5335,\n",
       "  1996,\n",
       "  10788,\n",
       "  1997,\n",
       "  1044,\n",
       "  22571,\n",
       "  11636,\n",
       "  6679,\n",
       "  10092,\n",
       "  1998,\n",
       "  2000,\n",
       "  3073,\n",
       "  7722,\n",
       "  3041,\n",
       "  2000,\n",
       "  2062,\n",
       "  2336,\n",
       "  2007,\n",
       "  5729,\n",
       "  2632,\n",
       "  3089,\n",
       "  1012,\n",
       "  102],\n",
       " 'attention_mask': [1,\n",
       "  1,\n",
       "  1,\n",
       "  1,\n",
       "  1,\n",
       "  1,\n",
       "  1,\n",
       "  1,\n",
       "  1,\n",
       "  1,\n",
       "  1,\n",
       "  1,\n",
       "  1,\n",
       "  1,\n",
       "  1,\n",
       "  1,\n",
       "  1,\n",
       "  1,\n",
       "  1,\n",
       "  1,\n",
       "  1,\n",
       "  1,\n",
       "  1,\n",
       "  1,\n",
       "  1,\n",
       "  1,\n",
       "  1,\n",
       "  1,\n",
       "  1,\n",
       "  1,\n",
       "  1,\n",
       "  1,\n",
       "  1,\n",
       "  1,\n",
       "  1,\n",
       "  1,\n",
       "  1,\n",
       "  1,\n",
       "  1,\n",
       "  1,\n",
       "  1,\n",
       "  1,\n",
       "  1,\n",
       "  1,\n",
       "  1,\n",
       "  1,\n",
       "  1,\n",
       "  1,\n",
       "  1,\n",
       "  1,\n",
       "  1,\n",
       "  1,\n",
       "  1,\n",
       "  1,\n",
       "  1,\n",
       "  1,\n",
       "  1,\n",
       "  1,\n",
       "  1,\n",
       "  1,\n",
       "  1,\n",
       "  1,\n",
       "  1,\n",
       "  1,\n",
       "  1,\n",
       "  1,\n",
       "  1,\n",
       "  1,\n",
       "  1,\n",
       "  1,\n",
       "  1,\n",
       "  1,\n",
       "  1,\n",
       "  1,\n",
       "  1,\n",
       "  1,\n",
       "  1,\n",
       "  1,\n",
       "  1,\n",
       "  1,\n",
       "  1,\n",
       "  1,\n",
       "  1,\n",
       "  1,\n",
       "  1,\n",
       "  1,\n",
       "  1,\n",
       "  1,\n",
       "  1,\n",
       "  1,\n",
       "  1,\n",
       "  1,\n",
       "  1,\n",
       "  1,\n",
       "  1,\n",
       "  1,\n",
       "  1,\n",
       "  1,\n",
       "  1,\n",
       "  1,\n",
       "  1,\n",
       "  1,\n",
       "  1,\n",
       "  1,\n",
       "  1,\n",
       "  1,\n",
       "  1,\n",
       "  1,\n",
       "  1,\n",
       "  1,\n",
       "  1,\n",
       "  1,\n",
       "  1,\n",
       "  1,\n",
       "  1,\n",
       "  1,\n",
       "  1,\n",
       "  1,\n",
       "  1,\n",
       "  1,\n",
       "  1,\n",
       "  1,\n",
       "  1,\n",
       "  1,\n",
       "  1,\n",
       "  1,\n",
       "  1,\n",
       "  1,\n",
       "  1,\n",
       "  1,\n",
       "  1,\n",
       "  1,\n",
       "  1,\n",
       "  1,\n",
       "  1,\n",
       "  1,\n",
       "  1,\n",
       "  1,\n",
       "  1,\n",
       "  1,\n",
       "  1,\n",
       "  1,\n",
       "  1,\n",
       "  1,\n",
       "  1,\n",
       "  1,\n",
       "  1,\n",
       "  1,\n",
       "  1,\n",
       "  1,\n",
       "  1,\n",
       "  1,\n",
       "  1,\n",
       "  1,\n",
       "  1,\n",
       "  1,\n",
       "  1,\n",
       "  1,\n",
       "  1,\n",
       "  1,\n",
       "  1,\n",
       "  1,\n",
       "  1,\n",
       "  1,\n",
       "  1,\n",
       "  1,\n",
       "  1,\n",
       "  1,\n",
       "  1,\n",
       "  1,\n",
       "  1,\n",
       "  1,\n",
       "  1,\n",
       "  1,\n",
       "  1,\n",
       "  1,\n",
       "  1,\n",
       "  1,\n",
       "  1,\n",
       "  1,\n",
       "  1,\n",
       "  1,\n",
       "  1,\n",
       "  1,\n",
       "  1,\n",
       "  1,\n",
       "  1,\n",
       "  1,\n",
       "  1,\n",
       "  1,\n",
       "  1,\n",
       "  1,\n",
       "  1,\n",
       "  1,\n",
       "  1,\n",
       "  1,\n",
       "  1,\n",
       "  1,\n",
       "  1,\n",
       "  1,\n",
       "  1,\n",
       "  1,\n",
       "  1,\n",
       "  1,\n",
       "  1,\n",
       "  1,\n",
       "  1,\n",
       "  1,\n",
       "  1,\n",
       "  1,\n",
       "  1,\n",
       "  1,\n",
       "  1,\n",
       "  1,\n",
       "  1,\n",
       "  1,\n",
       "  1,\n",
       "  1,\n",
       "  1,\n",
       "  1,\n",
       "  1,\n",
       "  1,\n",
       "  1,\n",
       "  1,\n",
       "  1,\n",
       "  1,\n",
       "  1,\n",
       "  1,\n",
       "  1,\n",
       "  1,\n",
       "  1,\n",
       "  1,\n",
       "  1,\n",
       "  1,\n",
       "  1,\n",
       "  1,\n",
       "  1,\n",
       "  1,\n",
       "  1,\n",
       "  1,\n",
       "  1,\n",
       "  1,\n",
       "  1,\n",
       "  1,\n",
       "  1,\n",
       "  1,\n",
       "  1,\n",
       "  1,\n",
       "  1,\n",
       "  1,\n",
       "  1,\n",
       "  1,\n",
       "  1,\n",
       "  1,\n",
       "  1,\n",
       "  1,\n",
       "  1,\n",
       "  1,\n",
       "  1,\n",
       "  1,\n",
       "  1,\n",
       "  1,\n",
       "  1,\n",
       "  1,\n",
       "  1,\n",
       "  1,\n",
       "  1,\n",
       "  1,\n",
       "  1,\n",
       "  1,\n",
       "  1,\n",
       "  1,\n",
       "  1,\n",
       "  1,\n",
       "  1,\n",
       "  1,\n",
       "  1,\n",
       "  1,\n",
       "  1,\n",
       "  1,\n",
       "  1,\n",
       "  1,\n",
       "  1,\n",
       "  1,\n",
       "  1,\n",
       "  1,\n",
       "  1,\n",
       "  1,\n",
       "  1,\n",
       "  1,\n",
       "  1,\n",
       "  1,\n",
       "  1,\n",
       "  1,\n",
       "  1,\n",
       "  1,\n",
       "  1,\n",
       "  1,\n",
       "  1,\n",
       "  1,\n",
       "  1,\n",
       "  1,\n",
       "  1,\n",
       "  1,\n",
       "  1,\n",
       "  1,\n",
       "  1,\n",
       "  1,\n",
       "  1,\n",
       "  1,\n",
       "  1,\n",
       "  1,\n",
       "  1,\n",
       "  1,\n",
       "  1,\n",
       "  1,\n",
       "  1,\n",
       "  1,\n",
       "  1,\n",
       "  1,\n",
       "  1,\n",
       "  1,\n",
       "  1,\n",
       "  1,\n",
       "  1,\n",
       "  1,\n",
       "  1,\n",
       "  1,\n",
       "  1,\n",
       "  1,\n",
       "  1,\n",
       "  1,\n",
       "  1,\n",
       "  1,\n",
       "  1,\n",
       "  1,\n",
       "  1,\n",
       "  1,\n",
       "  1,\n",
       "  1,\n",
       "  1,\n",
       "  1,\n",
       "  1,\n",
       "  1,\n",
       "  1,\n",
       "  1,\n",
       "  1,\n",
       "  1,\n",
       "  1,\n",
       "  1,\n",
       "  1,\n",
       "  1,\n",
       "  1,\n",
       "  1,\n",
       "  1,\n",
       "  1,\n",
       "  1,\n",
       "  1,\n",
       "  1,\n",
       "  1,\n",
       "  1,\n",
       "  1,\n",
       "  1,\n",
       "  1,\n",
       "  1,\n",
       "  1,\n",
       "  1,\n",
       "  1,\n",
       "  1,\n",
       "  1,\n",
       "  1,\n",
       "  1,\n",
       "  1,\n",
       "  1,\n",
       "  1,\n",
       "  1,\n",
       "  1,\n",
       "  1,\n",
       "  1,\n",
       "  1,\n",
       "  1,\n",
       "  1,\n",
       "  1,\n",
       "  1,\n",
       "  1,\n",
       "  1,\n",
       "  1,\n",
       "  1,\n",
       "  1,\n",
       "  1,\n",
       "  1,\n",
       "  1,\n",
       "  1,\n",
       "  1,\n",
       "  1,\n",
       "  1,\n",
       "  1,\n",
       "  1,\n",
       "  1,\n",
       "  1,\n",
       "  1,\n",
       "  1,\n",
       "  1,\n",
       "  1,\n",
       "  1,\n",
       "  1,\n",
       "  1,\n",
       "  1,\n",
       "  1,\n",
       "  1,\n",
       "  1,\n",
       "  1,\n",
       "  1,\n",
       "  1,\n",
       "  1,\n",
       "  1,\n",
       "  1,\n",
       "  1,\n",
       "  1,\n",
       "  1,\n",
       "  1,\n",
       "  1,\n",
       "  1,\n",
       "  1,\n",
       "  1,\n",
       "  1,\n",
       "  1,\n",
       "  1,\n",
       "  1,\n",
       "  1,\n",
       "  1,\n",
       "  1,\n",
       "  1,\n",
       "  1,\n",
       "  1,\n",
       "  1,\n",
       "  1,\n",
       "  1,\n",
       "  1,\n",
       "  1,\n",
       "  1,\n",
       "  1,\n",
       "  1,\n",
       "  1,\n",
       "  1,\n",
       "  1,\n",
       "  1,\n",
       "  1,\n",
       "  1,\n",
       "  1,\n",
       "  1,\n",
       "  1,\n",
       "  1,\n",
       "  1,\n",
       "  1,\n",
       "  1,\n",
       "  1,\n",
       "  1,\n",
       "  1,\n",
       "  1,\n",
       "  1,\n",
       "  1,\n",
       "  1,\n",
       "  1,\n",
       "  1,\n",
       "  1,\n",
       "  1,\n",
       "  1,\n",
       "  1,\n",
       "  1,\n",
       "  1,\n",
       "  1,\n",
       "  1,\n",
       "  1,\n",
       "  1,\n",
       "  1,\n",
       "  1,\n",
       "  1,\n",
       "  1]}"
      ]
     },
     "execution_count": 67,
     "metadata": {},
     "output_type": "execute_result"
    }
   ],
   "source": [
    "tokenizer = AutoTokenizer.from_pretrained(\"distilbert-base-uncased\")\n",
    "tokenized_dataset = pubmed_dataset_streamed.map(lambda x: tokenizer(x[\"text\"]))\n",
    "next(iter(tokenized_dataset))"
   ]
  },
  {
   "cell_type": "markdown",
   "id": "da923f78",
   "metadata": {},
   "source": [
    "> <font color=\"darkgreen\">💡 To speed up tokenization with streaming you can pass `batched=True`, as we saw in the last section. It will process the examples batch by batch; the default batch size is 1,000 and can be specified with the batch_size argument.</font>\n",
    "\n",
    "You can also shuffle a streamed dataset using `IterableDataset.shuffle()`, but unlike `Dataset.shuffle()` this only shuffles the elements in a predefined `buffer_size`:"
   ]
  },
  {
   "cell_type": "code",
   "execution_count": 68,
   "id": "cf47ea51",
   "metadata": {},
   "outputs": [
    {
     "data": {
      "text/plain": [
       "{'meta': {'pmid': 11410799, 'language': 'eng'},\n",
       " 'text': 'Randomized study of dose or schedule modification of granulocyte colony-stimulating factor in platinum-based chemotherapy for elderly patients with lung cancer.\\nIt is generally believed that elderly patients are less able to tolerate aggressive cancer chemotherapy than their younger counterparts. Bone marrow cellularity diminishes with age and elderly patients may have decreased tolerance to myelosuppressive agents. Between November 1995 and October 1999, 68 chemotherapy-naive elderly (70 or more years old) patients with histologically or cytologically proven lung cancer who were to receive platinum-based chemotherapy were enrolled in this study. All patients had adequate cardiac, hematological, liver and renal function to receive chemotherapy. Patients were randomized into 3 groups. Patients in groups 1 and 2 received 2 microg/kg and 4 microg/kg granulocyte colony-stimulating factor (G-CSF, lenograstim), respectively, when grade 3 leukopenia (<2,000/microl) or neutropenia (<1,000/microl) appeared after chemotherapy. Patients in group 3 received 2 microg/kg G-CSF when grade 2 leukopenia (<3,000/microl) or neutropenia (<1,500/microl) appeared after chemotherapy. G-CSF was stopped in all groups when the leukocyte count increased to over 10,000/microl or the neutrophil count exceeded 5,000/microl. Full blood cell counts were examined 3 times a week after chemotherapy. All patients received platinum-based chemotherapy. Eighteen, 16 and 22 patients (78%, 73% and 96%) in groups 1, 2 and 3, respectively, received G-CSF when leukopenia or neutropenia appeared. The durations of G-CSF treatment required by groups 1 and 3 (5.7+/-3.6 and 6.6+/-3.2 days, respectively) did not differ significantly, but the duration of treatment required by group 2 (3.7+/-2.8 days) was significantly shorter than that of group 1 (p=0.048). The duration of grade 4 neutropenia in group 2 (0.7+/-1.1 days) was marginally shorter than that in group 1 (1.6+/-2.1 days, p=0.076). The neutrophil nadir of group 2 (949+/-757/microl) was marginally higher than that of group 1 (592+/-438/microl, p=0.058). No patients in group 2 experienced grade 4 neutropenia for 4 days or more or a neutrophil nadir less than 100/microl a significant difference from group 1, where 22% and 17% of patients experienced these events (p=0.02 and p=0.04, respectively). Similarly, no infections requiring antibiotics after chemotherapy occurred in patients in group 2, a significant difference from group 1 (26%, p=0.01). The rates of neutropenia and infection in groups 1 and 3 did not differ significantly. The peak plasma concentration of G-CSF in group 2 was significantly higher than in group 1 (p=0.0018), but did not differ significantly between groups 1 and 3. Doubling the dose of G-CSF could help to decrease neutropenia and prevent infection after chemotherapy in elderly patients with lung cancer.'}"
      ]
     },
     "execution_count": 68,
     "metadata": {},
     "output_type": "execute_result"
    }
   ],
   "source": [
    "shuffled_dataset = pubmed_dataset_streamed.shuffle(buffer_size=10_000, seed=42)\n",
    "next(iter(shuffled_dataset))"
   ]
  },
  {
   "cell_type": "markdown",
   "id": "20bd502e",
   "metadata": {},
   "source": [
    "In this example, we selected a random example from the first 10,000 examples in the buffer. Once an example is accessed, its spot in the buffer is filled with the next example in the corpus (i.e., the 10,001st example in the case above). You can also select elements from a streamed dataset using the `IterableDataset.take()` and `IterableDataset.skip()` functions, which act in a similar way to `Dataset.select()`. For example, to select the first 5 examples in the PubMed Abstracts dataset we can do the following:"
   ]
  },
  {
   "cell_type": "code",
   "execution_count": 69,
   "id": "6dcebd1e",
   "metadata": {},
   "outputs": [
    {
     "data": {
      "text/plain": [
       "[{'meta': {'pmid': 11409574, 'language': 'eng'},\n",
       "  'text': 'Epidemiology of hypoxaemia in children with acute lower respiratory infection.\\nTo determine the prevalence of hypoxaemia in children aged under 5 years suffering acute lower respiratory infections (ALRI), the risk factors for hypoxaemia in children under 5 years of age with ALRI, and the association of hypoxaemia with an increased risk of dying in children of the same age. Systematic review of the published literature. Out-patient clinics, emergency departments and hospitalisation wards in 23 health centres from 10 countries. Cohort studies reporting the frequency of hypoxaemia in children under 5 years of age with ALRI, and the association between hypoxaemia and the risk of dying. Prevalence of hypoxaemia measured in children with ARI and relative risks for the association between the severity of illness and the frequency of hypoxaemia, and between hypoxaemia and the risk of dying. Seventeen published studies were found that included 4,021 children under 5 with acute respiratory infections (ARI) and reported the prevalence of hypoxaemia. Out-patient children and those with a clinical diagnosis of upper ARI had a low risk of hypoxaemia (pooled estimate of 6% to 9%). The prevalence increased to 31% and to 43% in patients in emergency departments and in cases with clinical pneumonia, respectively, and it was even higher among hospitalised children (47%) and in those with radiographically confirmed pneumonia (72%). The cumulated data also suggest that hypoxaemia is more frequent in children living at high altitude. Three papers reported an association between hypoxaemia and death, with relative risks varying between 1.4 and 4.6. Papers describing predictors of hypoxaemia have focused on clinical signs for detecting hypoxaemia rather than on identifying risk factors for developing this complication. Hypoxaemia is a common and potentially lethal complication of ALRI in children under 5, particularly among those with severe disease and those living at high altitude. Given the observed high prevalence of hypoxaemia and its likely association with increased mortality, efforts should be made to improve the detection of hypoxaemia and to provide oxygen earlier to more children with severe ALRI.'},\n",
       " {'meta': {'pmid': 11409575, 'language': 'eng'},\n",
       "  'text': 'Clinical signs of hypoxaemia in children with acute lower respiratory infection: indicators of oxygen therapy.\\nHypoxaemia is a common complication of acute lower respiratory tract infections in children. In most developing countries, where the majority of deaths from pneumonia occur, facilities for early detection of hypoxaemia are lacking and oxygen is in short supply. This review examines the usefulness of different clinical signs and symptoms in the prediction of hypoxaemia associated with acute respiratory infections in children. Several respiratory signs were found to be associated with hypoxaemia. These include very fast breathing (with a respiratory rate of more than 60 or 70 breaths per minute), cyanosis, grunting, nasal flaring, chest retractions, head nodding and auscultatory signs, as well as signs of general depression of the child, such as inability to feed or lethargy. The sensitivity and specificity of these signs, as described in the reviewed studies, is presented, and combination rules are discussed. Through appropriate combination of several physical signs, which can be used by peripheral health workers and be taught to mothers, it is possible to predict hypoxaemia in children with acute respiratory tract infections with reasonable accuracy.'},\n",
       " {'meta': {'pmid': 11409576, 'language': 'eng'},\n",
       "  'text': \"Hypoxaemia in children with severe pneumonia in Papua New Guinea.\\nTo investigate the severity and duration of hypoxaemia in 703 children with severe or very severe pneumonia presenting to Goroka Hospital in the Papua New Guinea highlands; to study the predictive value of clinical signs for the severity of hypoxaemia, the predictive value of transcutaneous oxygen saturation (SpO2) and other variables for mortality. Prospective evaluation of children with severe or very severe pneumonia. SpO2 was measured at the time of presentation and every day until hypoxaemia resolved. Children with a SpO2 less than 85% received supplemental oxygen. By comparing with a retrospective control group for whom oxygen administration was guided by clinical signs, we evaluated whether there was a survival advantage from using a protocol for the administration of oxygen based on pulse oximetry. We determined normal values for oxygen saturation in children living in the highlands. In 151 well, normal highland children, the mean SpO2 was 95.7% (SD 2.7%). The median SpO2 among children with severe or very severe pneumonia was 70% (56-77); 376 (53.5%) had moderate hypoxaemia (SpO2 70-84%); 202 (28.7%) had severe hypoxaemia (SpO2 50-69%); and 125 (17.8%) had very severe hypoxaemia (SpO2 < 50%). Longer duration of cough or the presence of hepatomegaly or cyanosis predicted more severe degrees of hypoxaemia. After 10, 20 and 30 days from the beginning of treatment, respectively 102 (14.5%), 38 (5.4%) and 19 (2.7%) of children had persistent hypoxaemia; 46 children (6.5%) died. Predictors of death were low SpO2 on presentation, severe malnutrition, measles and history of cough for more than 7 days. The mortality risk ratio between the 703 children managed whose oxygen administration was guided by the use of pulse oximetry and the retrospective control group who received supplemental oxygen based on clinical signs was 0.65 (95%CI 0.41-1.02, two-sided Fisher's exact test, P = 0.07). There is a need to increase the availability of supplemental oxygen in smaller health facilities in developing countries, and to train health workers to recognise the clinical signs and risk factors for hypoxaemia. In moderate sized hospitals a protocol for the administration of oxygen based on pulse oximetry may improve survival.\"},\n",
       " {'meta': {'pmid': 11409577, 'language': 'eng'},\n",
       "  'text': 'Oxygen concentrators and cylinders.\\nA comparison is made between oxygen cylinders and oxygen concentrators as sources for clinical use. Oxygen cylinders are in widespread use, but costs and logistic factors favour the use of concentrators in many developing country situations, especially where cylinder supplies fail to penetrate.'},\n",
       " {'meta': {'pmid': 11409578, 'language': 'eng'},\n",
       "  'text': 'Oxygen supply in rural africa: a personal experience.\\nOxygen is one of the essential medical supplies in any hospital setting. However, in some rural African settings without regular electricity and with logistical problems in the transport of oxygen cylinders, the delivery of oxygen can be difficult. This paper compares the costs incurred using oxygen cylinders with a solar operated oxygen concentrator in a rural Gambian setting. The paper shows that a solar operated system has a high capital investment initially, but that running costs and maintenance are minimal. The system becomes cost effective if a rural hospital needs more than 6 treatment days (1 l/min) of oxygen per month and can be considered in a setting where 6 hours of sunlight per day can be guaranteed.'}]"
      ]
     },
     "execution_count": 69,
     "metadata": {},
     "output_type": "execute_result"
    }
   ],
   "source": [
    "dataset_head = pubmed_dataset_streamed.take(5)\n",
    "list(dataset_head)"
   ]
  },
  {
   "cell_type": "markdown",
   "id": "21634f5d",
   "metadata": {},
   "source": [
    "Similarly, you can use the `IterableDataset.skip()` function to create training and validation splits from a shuffled dataset as follows:"
   ]
  },
  {
   "cell_type": "code",
   "execution_count": 70,
   "id": "78a27d25",
   "metadata": {},
   "outputs": [],
   "source": [
    "# Skip the first 1,000 examples and include the rest in the training set\n",
    "train_dataset = shuffled_dataset.skip(1000)\n",
    "# Take the first 1,000 examples for the validation set\n",
    "validation_dataset = shuffled_dataset.take(1000)"
   ]
  },
  {
   "cell_type": "markdown",
   "id": "be9e81f9",
   "metadata": {},
   "source": [
    "Let's round out our exploration of dataset streaming with a common application: combining multiple datasets together to create a single corpus. 🤗 Datasets provides an `interleave_datasets()` function that converts a list of `IterableDataset` objects into a single `IterableDataset`, where the elements of the new dataset are obtained by alternating among the source examples. This function is especially useful when you're trying to combine large datasets, so as an example let's stream the FreeLaw subset of the Pile, which is a 51 GB dataset of legal opinions from US courts:"
   ]
  },
  {
   "cell_type": "code",
   "execution_count": 71,
   "id": "a3aeac7f",
   "metadata": {},
   "outputs": [
    {
     "name": "stderr",
     "output_type": "stream",
     "text": [
      "Using custom data configuration default-ecdac2973eb354f0\n"
     ]
    },
    {
     "data": {
      "text/plain": [
       "{'meta': {'case_jurisdiction': 'scotus.tar.gz',\n",
       "  'case_ID': '110921.json',\n",
       "  'date_created': '2010-04-28T17:12:49Z'},\n",
       " 'text': '\\n461 U.S. 238 (1983)\\nOLIM ET AL.\\nv.\\nWAKINEKONA\\nNo. 81-1581.\\nSupreme Court of United States.\\nArgued January 19, 1983.\\nDecided April 26, 1983.\\nCERTIORARI TO THE UNITED STATES COURT OF APPEALS FOR THE NINTH CIRCUIT\\n*239 Michael A. Lilly, First Deputy Attorney General of Hawaii, argued the cause for petitioners. With him on the brief was James H. Dannenberg, Deputy Attorney General.\\nRobert Gilbert Johnston argued the cause for respondent. With him on the brief was Clayton C. Ikei.[*]\\n*240 JUSTICE BLACKMUN delivered the opinion of the Court.\\nThe issue in this case is whether the transfer of a prisoner from a state prison in Hawaii to one in California implicates a liberty interest within the meaning of the Due Process Clause of the Fourteenth Amendment.\\n\\nI\\n\\nA\\nRespondent Delbert Kaahanui Wakinekona is serving a sentence of life imprisonment without the possibility of parole as a result of his murder conviction in a Hawaii state court. He also is serving sentences for various other crimes, including rape, robbery, and escape. At the Hawaii State Prison outside Honolulu, respondent was classified as a maximum security risk and placed in the maximum control unit.\\nPetitioner Antone Olim is the Administrator of the Hawaii State Prison. The other petitioners constituted a prison \"Program Committee.\" On August 2, 1976, the Committee held hearings to determine the reasons for a breakdown in discipline and the failure of certain programs within the prison\\'s maximum control unit. Inmates of the unit appeared at these hearings. The Committee singled out respondent and another inmate as troublemakers. On August 5, respondent received notice that the Committee, at a hearing to be held on August 10, would review his correctional program to determine whether his classification within the system should be changed and whether he should be transferred to another Hawaii facility or to a mainland institution.\\n*241 The August 10 hearing was conducted by the same persons who had presided over the hearings on August 2. Respondent retained counsel to represent him. The Committee recommended that respondent\\'s classification as a maximum security risk be continued and that he be transferred to a prison on the mainland. He received the following explanation from the Committee:\\n\"The Program Committee, having reviewed your entire file, your testimony and arguments by your counsel, concluded that your control classification remains at Maximum. You are still considered a security risk in view of your escapes and subsequent convictions for serious felonies. The Committee noted the progress you made in vocational training and your expressed desire to continue in this endeavor. However your relationship with staff, who reported that you threaten and intimidate them, raises grave concerns regarding your potential for further disruptive and violent behavior. Since there is no other Maximum security prison in Hawaii which can offer you the correctional programs you require and you cannot remain at [the maximum control unit] because of impending construction of a new facility, the Program Committee recommends your transfer to an institution on the mainland.\" App. 7-8.\\nPetitioner Olim, as Administrator, accepted the Committee\\'s recommendation, and a few days later respondent was transferred to Folsom State Prison in California.\\n\\nB\\nRule IV of the Supplementary Rules and Regulations of the Corrections Division, Department of Social Services and Housing, State of Hawaii, approved in June 1976, recites that the inmate classification process is not concerned with punishment. Rather, it is intended to promote the best interests *242 of the inmate, the State, and the prison community.[1] Paragraph 3 of Rule IV requires a hearing prior to a prison transfer involving \"a grievous loss to the inmate,\" which the Rule defines \"generally\" as \"a serious loss to a reasonable man.\" App. 21.[2] The Administrator, under ¶ 2 of the Rule, is required to establish \"an impartial Program Committee\" to conduct such a hearing, the Committee to be \"composed of at least three members who were not actively involved in the process by which the inmate . . . was brought before the Committee.\" App. 20. Under ¶ 3, the Committee must give the inmate written notice of the hearing, permit him, with certain stated exceptions, to confront and cross-examine witnesses, afford him an opportunity to be heard, and apprise him of the Committee\\'s findings. App. 21-24.[3]\\nThe Committee is directed to make a recommendation to the Administrator, who then decides what action to take:\\n\"[The Administrator] may, as the final decisionmaker:\\n\"(a) Affirm or reverse, in whole or in part, the recommendation; or\\n\"(b) hold in abeyance any action he believes jeopardizes the safety, security, or welfare of the staff, inmate *243. . . , other inmates . . . , institution, or community and refer the matter back to the Program Committee for further study and recommendation.\" Rule IV, ¶ 3d(3), App. 24.\\nThe regulations contain no standards governing the Administrator\\'s exercise of his discretion. See Lono v. Ariyoshi, 63 Haw. 138, 144-145, 621 P. 2d 976, 980-981 (1981).\\n\\nC\\nRespondent filed suit under 42 U. S. C. § 1983 against petitioners as the state officials who caused his transfer. He alleged that he had been denied procedural due process because the Committee that recommended his transfer consisted of the same persons who had initiated the hearing, this being in specific violation of Rule IV, ¶ 2, and because the Committee was biased against him. The United States District Court for the District of Hawaii dismissed the complaint, holding that the Hawaii regulations governing prison transfers do not create a substantive liberty interest protected by the Due Process Clause. 459 F. Supp. 473 (1978).[4]\\nThe United States Court of Appeals for the Ninth Circuit, by a divided vote, reversed. 664 F. 2d 708 (1981). It held that Hawaii had created a constitutionally protected liberty interest by promulgating Rule IV. In so doing, the court declined to follow cases from other Courts of Appeals holding that certain procedures mandated by prison transfer regulations do not create a liberty interest. See, e. g., Cofone v. Manson, 594 F. 2d 934 (CA2 1979); Lombardo v. Meachum, 548 F. 2d 13 (CA1 1977). The court reasoned that Rule IV gives Hawaii prisoners a justifiable expectation that they will not be transferred to the mainland absent a hearing, before an impartial committee, concerning the facts alleged in the *244 prehearing notice.[5] Because the Court of Appeals\\' decision created a conflict among the Circuits, and because the case presents the further question whether the Due Process Clause in and of itself protects against interstate prison transfers, we granted certiorari. 456 U. S. 1005 (1982).\\n\\nII\\nIn Meachum v. Fano, 427 U. S. 215 (1976), and Montanye v. Haymes, 427 U. S. 236 (1976), this Court held that an intrastate prison transfer does not directly implicate the Due Process Clause of the Fourteenth Amendment. In Meachum, inmates at a Massachusetts medium security prison had been transferred to a maximum security prison in that Commonwealth. In Montanye, a companion case, an inmate had been transferred from one maximum security New York prison to another as punishment for a breach of prison rules. This Court rejected \"the notion that any grievous loss visited upon a person by the State is sufficient to invoke the procedural protections of the Due Process Clause.\" Meachum, 427 U. S., at 224 (emphasis in original). It went on to state:\\n\"The initial decision to assign the convict to a particular institution is not subject to audit under the Due Process Clause, although the degree of confinement in one prison may be quite different from that in another. The conviction has sufficiently extinguished the defendant\\'s liberty *245 interest to empower the State to confine him in any of its prisons.\\n\"Neither, in our view, does the Due Process Clause in and of itself protect a duly convicted prisoner against transfer from one institution to another within the state prison system. Confinement in any of the State\\'s institutions is within the normal limits or range of custody which the conviction has authorized the State to impose.\" Id., at 224-225 (emphasis in original).\\nThe Court observed that, although prisoners retain a residuum of liberty, see Wolff v. McDonnell, 418 U. S. 539, 555-556 (1974), a holding that \"any substantial deprivation imposed by prison authorities triggers the procedural protections of the Due Process Clause would subject to judicial review a wide spectrum of discretionary actions that traditionally have been the business of prison administrators rather than of the federal courts.\" 427 U. S., at 225 (emphasis in original).\\nApplying the Meachum and Montanye principles in Vitek v. Jones, 445 U. S. 480 (1980), this Court held that the transfer of an inmate from a prison to a mental hospital did implicate a liberty interest. Placement in the mental hospital was \"not within the range of conditions of confinement to which a prison sentence subjects an individual,\" because it brought about \"consequences . . . qualitatively different from the punishment characteristically suffered by a person convicted of crime.\" Id., at 493. Respondent argues that the same is true of confinement of a Hawaii prisoner on the mainland, and that Vitek therefore controls.\\nWe do not agree. Just as an inmate has no justifiable expectation that he will be incarcerated in any particular prison within a State, he has no justifiable expectation that he will be incarcerated in any particular State.[6] Often, confinement *246 in the inmate\\'s home State will not be possible. A person convicted of a federal crime in a State without a federal correctional facility usually will serve his sentence in another State. Overcrowding and the need to separate particular prisoners may necessitate interstate transfers. For any number of reasons, a State may lack prison facilities capable of providing appropriate correctional programs for all offenders.\\nStatutes and interstate agreements recognize that, from time to time, it is necessary to transfer inmates to prisons in other States. On the federal level, 18 U. S. C. § 5003(a) authorizes the Attorney General to contract with a State for the transfer of a state prisoner to a federal prison, whether in that State or another. See Howe v. Smith, 452 U. S. 473 (1981).[7] Title 18 U. S. C. § 4002 (1976 ed. and Supp. V) permits the Attorney General to contract with any State for the placement of a federal prisoner in state custody for up to three years. Neither statute requires that the prisoner remain in the State in which he was convicted and sentenced.\\nOn the state level, many States have statutes providing for the transfer of a state prisoner to a federal prison, e. g., Haw. Rev. Stat. § 353-18 (1976), or another State\\'s prison, e. g., Alaska Stat. Ann. § 33.30.100 (1982). Corrections compacts between States, implemented by statutes, authorize incarceration of a prisoner of one State in another State\\'s prison. See, e. g., Cal. Penal Code Ann. § 11189 (West 1982) (codifying Interstate Corrections Compact); § 11190 (codifying Western Interstate Corrections Compact); Conn. Gen. *247 Stat. § 18-102 (1981) (codifying New England Interstate Corrections Compact); § 18-106 (codifying Interstate Corrections Compact); Haw. Rev. Stat. § 355-1 (1976) (codifying Western Interstate Corrections Compact); Idaho Code § 20-701 (1979) (codifying Interstate Corrections Compact); Ky. Rev. Stat. § 196.610 (1982) (same). And prison regulations such as Hawaii\\'s Rule IV anticipate that inmates sometimes will be transferred to prisons in other States.\\nIn short, it is neither unreasonable nor unusual for an inmate to serve practically his entire sentence in a State other than the one in which he was convicted and sentenced, or to be transferred to an out-of-state prison after serving a portion of his sentence in his home State. Confinement in another State, unlike confinement in a mental institution, is \"within the normal limits or range of custody which the conviction has authorized the State to impose.\" Meachum, 427 U. S., at 225.[8] Even when, as here, the transfer involves long distances and an ocean crossing, the confinement remains within constitutional limits. The difference between such a transfer and an intrastate or interstate transfer of *248 shorter distance is a matter of degree, not of kind,[9] and Meachum instructs that \"the determining factor is the nature of the interest involved rather than its weight.\" 427 U. S., at 224. The reasoning of Meachum and Montanye compels the conclusion that an interstate prison transfer, including one from Hawaii to California, does not deprive an inmate of any liberty interest protected by the Due Process Clause in and of itself.\\n\\nIII\\nThe Court of Appeals held that Hawaii\\'s prison regulations create a constitutionally protected liberty interest. In Meachum, however, the State had \"conferred no right on the *249 prisoner to remain in the prison to which he was initially assigned, defeasible only upon proof of specific acts of misconduct,\" 427 U. S., at 226, and \"ha[d] not represented that transfers [would] occur only on the occurrence of certain events,\" id., at 228. Because the State had retained \"discretion to transfer [the prisoner] for whatever reason or for no reason at all,\" ibid., the Court found that the State had not created a constitutionally protected liberty interest. Similarly, because the state law at issue in Montanye \"impose[d] no conditions on the discretionary power to transfer,\" 427 U. S., at 243, there was no basis for invoking the protections of the Due Process Clause.\\nThese cases demonstrate that a State creates a protected liberty interest by placing substantive limitations on official discretion. An inmate must show \"that particularized standards or criteria guide the State\\'s decisionmakers.\" Connecticut Board of Pardons v. Dumschat, 452 U. S. 458, 467 (1981) (BRENNAN, J., concurring). If the decisionmaker is not \"required to base its decisions on objective and defined criteria,\" but instead \"can deny the requested relief for any constitutionally permissible reason or for no reason at all,\" ibid., the State has not created a constitutionally protected liberty interest. See id., at 466-467 (opinion of the Court); see also Vitek v. Jones, 445 U. S., at 488-491 (summarizing cases).\\nHawaii\\'s prison regulations place no substantive limitations on official discretion and thus create no liberty interest entitled to protection under the Due Process Clause. As Rule IV itself makes clear, and as the Supreme Court of Hawaii has held in Lono v. Ariyoshi, 63 Haw., at 144-145, 621 P. 2d, at 980-981, the prison Administrator\\'s discretion to transfer an inmate is completely unfettered. No standards govern or restrict the Administrator\\'s determination. Because the Administrator is the only decisionmaker under Rule IV, we need not decide whether the introductory paragraph *250 of Rule IV, see n. 1, supra, places any substantive limitations on the purely advisory Program Committee.[10]\\nThe Court of Appeals thus erred in attributing significance to the fact that the prison regulations require a particular kind of hearing before the Administrator can exercise his unfettered discretion.[11] As the United States Court of Appeals for the Seventh Circuit recently stated in Shango v. Jurich, 681 F. 2d 1091, 1100-1101 (1982), \"[a] liberty interest is of course a substantive interest of an individual; it cannot be the right to demand needless formality.\"[12] Process is not an end in itself. Its constitutional purpose is to protect a substantive interest to which the individual has a legitimate claim of entitlement. See generally Simon, Liberty and Property in the Supreme Court: A Defense of Roth and Perry, 71 Calif. L. Rev. 146, 186 (1983). If officials may transfer a prisoner \"for whatever reason or for no reason at all,\" Meachum, 427 U. S., at 228, there is no such interest for process to protect. The State may choose to require procedures for reasons other than protection against deprivation of substantive *251 rights, of course,[13] but in making that choice the State does not create an independent substantive right. See Hewitt v. Helms, 459 U. S. 460, 471 (1983).\\n\\nIV\\nIn sum, we hold that the transfer of respondent from Hawaii to California did not implicate the Due Process Clause directly, and that Hawaii\\'s prison regulations do not create a protected liberty interest.[14] Accordingly, the judgment of the Court of Appeals is\\nReversed.\\nJUSTICE MARSHALL, with whom JUSTICE BRENNAN joins, and with whom JUSTICE STEVENS joins as to Part I, dissenting.\\nIn my view, the transfer of respondent Delbert Kaahanui Wakinekona from a prison in Hawaii to a prison in California implicated an interest in liberty protected by the Due Process Clause of the Fourteenth Amendment. I respectfully dissent.\\n\\nI\\nAn inmate\\'s liberty interest is not limited to whatever a State chooses to bestow upon him. An inmate retains a significant residuum of constitutionally protected liberty following his incarceration independent of any state law. As we stated in Wolff v. McDonnell, 418 U. S. 539, 555-556 (1974): \"[A] prisoner is not wholly stripped of constitutional protections when he is imprisoned for crime. There is no iron curtain drawn between the Constitution and the prisons *252 of this country. . . . [Prisoners] may not be deprived of life, liberty, or property without due process of law.\"\\nIn determining whether a change in the conditions of imprisonment implicates a prisoner\\'s retained liberty interest, the relevant question is whether the change constitutes a sufficiently \"grievous loss\" to trigger the protection of due process. Vitek v. Jones, 445 U. S. 480, 488 (1980). See Morrissey v. Brewer, 408 U. S. 471, 481 (1972), citing Joint Anti-Fascist Refugee Committee v. McGrath, 341 U. S. 123, 168 (1951) (Frankfurter, J., concurring). The answer depends in part on a comparison of \"the treatment of the particular prisoner with the customary, habitual treatment of the population of the prison as a whole.\" Hewitt v. Helms, 459 U. S. 460, 486 (1983) (STEVENS, J., dissenting). This principle was established in our decision in Vitek, which held that the transfer of an inmate from a prison to a mental hospital implicated a liberty interest because it brought about \"consequences . . . qualitatively different from the punishment characteristically suffered by a person convicted of crime.\" 445 U. S., at 493. Because a significant qualitative change in the conditions of confinement is not \"within the range of conditions of confinement to which a prison sentence subjects an individual,\" ibid., such a change implicates a prisoner\\'s protected liberty interest.\\nThere can be little doubt that the transfer of Wakinekona from a Hawaii prison to a prison in California represents a substantial qualitative change in the conditions of his confinement. In addition to being incarcerated, which is the ordinary consequence of a criminal conviction and sentence, Wakinekona has in effect been banished from his home, a punishment historically considered to be \"among the severest.\"[1] For an indeterminate period of time, possibly the *253 rest of his life, nearly 2,500 miles of ocean will separate him from his family and friends. As a practical matter, Wakinekona may be entirely cut off from his only contacts with the outside world, just as if he had been imprisoned in an institution which prohibited visits by outsiders. Surely the isolation imposed on him by the transfer is far more drastic than that which normally accompanies imprisonment.\\nI cannot agree with the Court that Meachum v. Fano, 427 U. S. 215 (1976), and Montanye v. Haymes, 427 U. S. 236, 243 (1976), compel the conclusion that Wakinekona\\'s transfer implicates no liberty interest. Ante, at 248. Both cases involved transfers of prisoners between institutions located within the same State in which they were convicted, and the Court expressly phrased its holdings in terms of intrastate transfers.[2] Both decisions rested on the premise that no liberty interest is implicated by an initial decision to place a prisoner in one institution in the State rather than another. See Meachum, supra, at 224; Montanye, supra, at 243. On the basis of that premise, the Court concluded that the subsequent transfer of a prisoner to a different facility within the State likewise implicates no liberty interest. In this case, however, we cannot assume that a State\\'s initial placement of an individual in a prison far removed from his family and residence would raise no due process questions. None of our *254 prior decisions has indicated that such a decision would be immune from scrutiny under the Due Process Clause.\\nActual experience simply does not bear out the Court\\'s assumptions that interstate transfers are routine and that it is \"not unusual\" for a prisoner \"to serve practically his entire sentence in a State other than the one in which he was convicted and sentenced.\" Ante, at 247. In Hawaii less than three percent of the state prisoners were transferred to prisons in other jurisdictions in 1979, and on a nationwide basis less than one percent of the prisoners held in state institutions were transferred to other jurisdictions.[3] Moreover, the vast majority of state prisoners are held in facilities located less than 250 miles from their homes.[4] Measured against these norms, Wakinekona\\'s transfer to a California prison represents a punishment \"qualitively different from the punishment characteristically suffered by a person convicted of crime.\" Vitek v. Jones, supra, at 493.\\nI therefore cannot agree that a State may transfer its prisoners at will, to any place, for any reason, without ever implicating any interest in liberty protected by the Due Process Clause.\\n\\nII\\nNor can I agree with the majority\\'s conclusion that Hawaii\\'s prison regulations do not create a liberty interest. This Court\\'s prior decisions establish that a liberty interest *255 may be \"created\"[5] by state laws, prison rules, regulations, or practices. State laws that impose substantive criteria which limit or guide the discretion of officials have been held to create a protected liberty interest. See, e. g., Hewitt v. Helms, 459 U. S. 460 (1983); Wolff v. McDonnell, 418 U. S. 539 (1974); Greenholtz v. Nebraska Penal Inmates, 442 U. S. 1 (1979); Wright v. Enomoto, 462 F. Supp. 397 (ND Cal. 1976), summarily aff\\'d, 434 U. S. 1052 (1978). By contrast, a liberty interest is not created by a law which \"imposes no conditions on [prison officials\\'] discretionary power,\" Montanye, supra, at 243, authorizes prison officials to act \"for whatever reason or for no reason at all,\" Meachum, supra, at 228, or accords officials \"unfettered discretion,\" Connecticut Board of Pardons v. Dumschat, 452 U. S. 458, 466 (1981).\\nThe Court misapplies these principles in concluding that Hawaii\\'s prison regulations leave prison officials with unfettered discretion to transfer inmates. Ante, at 249-250. Rule IV establishes a scheme under which inmates are classified upon initial placement in an institution, and must subsequently be reclassified before they can be transferred to another institution. Under the Rule the standard for classifying inmates is their \"optimum placement within the Corrections Division\" in light of the \"best interests of the individual, the State, and the community.\"[6] In classifying inmates, the Program *256 Committee may not consider punitive aims. It may consider only factors relevant to determining where the individual will be \"best situated,\" such as \"his history, his changing needs, the resources and facilities available to the Corrections Divisions, the other inmates/wards, the exigencies of the community, and any other relevant factors.\" Paragraph 3 of Rule IV establishes a detailed set of procedures applicable when, as in this case, the reclassification of a prisoner may lead to a transfer involving a \"grievous loss,\" a phrase contained in the Rule itself.[7] The procedural rules are cast in mandatory language, and cover such matters as notice, access to information, hearing, confrontation and cross-examination, and the basis on which the Committee is to make its recommendation to the facility administrator.\\nThe limitations imposed by Rule IV are at least as substantial as those found sufficient to create a liberty interest in Hewitt v. Helms, supra, decided earlier this Term. In Hewitt an inmate contended that his confinement in administrative custody implicated an interest in liberty protected by the Due Process Clause. State law provided that a prison official could place inmates in administrative custody \"upon his assessment of the situation and the need for control,\" or \"where it has been determined that there is a threat of a serious disturbance, or a serious threat to the individual or others,\" and mandated certain procedures such as notice and a *257 hearing.[8] This Court construed the phrases \" `the need for control,\\' or `the threat of a serious disturbance,\\' \" as \"substantive predicates\" which restricted official discretion. Id., at 472. These restrictions, in combination with the mandatory procedural safeguards, \"deman[ded] a conclusion that the State has created a protected liberty interest.\" Ibid.\\nRule IV is not distinguishable in any meaningful respect from the provisions at issue in Helms. The procedural requirements contained in Rule IV are, if anything, far more elaborate than those involved in Helms, and are likewise couched in \"language of an unmistakably mandatory character.\" Id., at 471. Moreover, Rule IV, to no less an extent than the state law at issue in Helms, imposes substantive criteria restricting official discretion. In Helms this Court held that a statutory phrase such as \"the need for control\" constituted a limitation on the discretion of prison officials to place inmates in administrative custody. In my view Rule IV, which states that transfers are intended to ensure an inmate\\'s \"optimum placement\" in accordance with considerations which include \"his changing needs [and] the resources and facilities available to the Corrections Division,\" also restricts official discretion in ordering transfers.[9]\\nThe Court suggests that, even if the Program Committee does not have unlimited discretion in making recommendations for classifications and transfers, this cannot give rise to a state-created liberty interest because the prison Administrator retains \"completely unfettered\" \"discretion to transfer *258 an inmate,\" ante, at 249. I disagree. Rule IV, ¶ 3(d)(3), provides for review by the prison Administrator of recommendations forwarded to him by the Program Committee.[10] Even if this provision must be construed as authorizing the Administrator to transfer a prisoner for wholly arbitrary reasons,[11] that mere possibility does not defeat the protectible expectation otherwise created by Hawaii\\'s reclassification and transfer scheme that transfers will take place only if required to ensure an inmate\\'s optimum placement. In Helms a prison regulation also left open the possibility that the Superintendent could decide, for any reason or no reason at all, whether an inmate should be confined in administrative custody.[12] This Court nevertheless held that the state scheme as a whole created an interest in liberty protected by the Due Process Clause. 459 U. S., at 471-472. Helms thus necessarily rejects the view that state laws which impose substantive *259 limitations and elaborate procedural requirements on official conduct create no liberty interest solely because there remains the possibility that an official will act in an arbitrary manner at the end of the process.[13]\\nFor the foregoing reasons, I dissent.\\nNOTES\\n[*]  Briefs of amici curiae urging reversal were filed for the State of Alaska et al. by Paul L. Douglas, Attorney General of Nebraska, J. Kirk Brown, Assistant Attorney General, Judith W. Rogers, Corporation Counsel of the District of Columbia, and the Attorneys General for their respective jurisdictions as follows: Wilson L. Condon of Alaska, Aviata F. Fa\\'alevao of American Samoa, Robert K. Corbin of Arizona, Jim Smith of Florida, David H. Leroy of Idaho, William J. Guste, Jr., of Louisiana, William A. Allain of Mississippi, Michael T. Greely of Montana, Richard H. Bryan of Nevada, Irwin I. Kimmelman of New Jersey, Jeff Bingaman of New Mexico, Rufus L. Edmisten of North Carolina, Robert Wefald of North Dakota, William J. Brown of Ohio, Dennis J. Roberts II of Rhode Island, Mark V. Meierhenry of South Dakota, William M. Leech, Jr., of Tennessee, John J. Easton of Vermont, Gerald L. Baliles of Virginia, Kenneth O. Eikenberry of Washington, Chauncey H. Browning of West Virginia, Bronson C. La Follette of Wisconsin, and Steven F. Freudenthal of Wyoming; and for the Commonwealth of Massachusetts et al. by Francis X. Bellotti, Attorney General of Massachusetts, Stephen R. Delinsky, Barbara A. H. Smith, and Leo J. Cushing, Assistant Attorneys General, Anthony Ching, Solicitor General of Arizona, and the Attorneys General for their respective jurisdictions as follows: Wilson L. Condon of Alaska, Aviata F. Fa\\'alevao of American Samoa, Robert K. Corbin of Arizona, Jim Smith of Florida, David H. Leroy of Idaho, William A. Allain of Mississippi, Michael T. Greely of Montana, Irwin I. Kimmelman of New Jersey, Jeff Bingaman of New Mexico, Rufus L. Edmisten of North Carolina, Robert O. Wefald of North Dakota, William J. Brown of Ohio, Dennis J. Roberts II of Rhode Island, Mark V. Meierhenry of South Dakota, William M. Leech, Jr., of Tennessee, John J. Easton of Vermont, Chauncey H. Browning of West Virginia, and Bronson C. La Follette of Wisconsin.\\n[1]  Paragraph 1 of Rule IV states:\\n\\n\"An inmate\\'s . . . classification determines where he is best situated within the Corrections Division. Rather than being concerned with isolated aspects of the individual or punishment (as is the adjustment process), classification is a dynamic process which considers the individual, his history, his changing needs, the resources and facilities available to the Corrections Division, the other inmates . . . , the exigencies of the community, and any other relevant factors. It never inflicts punishment; on the contrary, even the imposition of a stricter classification is intended to be in the best interests of the individual, the State, and the community. In short, classification is a continuing evaluation of each individual to ensure that he is given the optimum placement within the Corrections Division.\" App. 20.\\n[2]  Petitioners concede, \"for purposes of the argument,\" that respondent suffered a \"grievous loss\" within the meaning of Rule IV when he was transferred from Hawaii to the mainland. Tr. of Oral Arg. 9, 25.\\n[3]  Rule V provides that an inmate may retain legal counsel if his hearing concerns a \"potential Interstate transfer.\" App. 25.\\n[4]  Respondent also had alleged that the transfer violated the Hawaii Constitution and state regulations and statutes. In light of its dismissal of respondent\\'s federal claims, the District Court declined to exercise pendent jurisdiction over these state-law claims. 459 F. Supp., at 476.\\n[5]  Several months before the Court of Appeals handed down its decision, the Supreme Court of Hawaii had held that because Hawaii\\'s prison regulations do not limit the Administrator\\'s discretion to transfer prisoners to the mainland, they do not create any liberty interest. Lono v. Ariyoshi, 63 Haw. 138, 621 P. 2d 976 (1981). In a petition for rehearing in the present case, petitioners directed the Ninth Circuit\\'s attention to the Lono decision. See 664 F. 2d, at 714. The Court of Appeals, however, concluded that the Hawaii court\\'s interpretation of the regulations was not different from its own; the Hawaii court merely had reached a different result on the \"federal question.\" The Court of Appeals thus adhered to its resolution of the case. Id., at 714-715.\\n[6]  Indeed, in Vitek itself the Court did not read Meachum and Montanye as stating a rule applicable only to intrastate transfers. The Court stated: \"In Meachum v. Fano . . . and Montanye v. Haymes . . . we held that the transfer of a prisoner from one prison to another does not infringe a protected liberty interest.\" 445 U. S., at 489 (emphasis added). The Court\\'s other cases describing Meachum and Montanye also have eschewed the narrow reading respondent now proposes. See Hewitt v. Helms, 459 U. S. 460, 467-468 (1983); Moody v. Daggett, 429 U. S. 78, 88, n. 9 (1976).\\n[7]  This statute has been invoked to transfer prisoners from Hawaii state facilities to federal prisons on the mainland. See Anthony v. Wilkinson, 637 F. 2d 1130 (CA7 1980), vacated and remanded sub nom. Hawaii v. Mederios, 453 U. S. 902 (1981).\\n[8]  After the decisions in Meachum and Montanye, courts almost uniformly have held that an inmate has no entitlement to remain in a prison in his home State. See Beshaw v. Fenton, 635 F. 2d 239, 246-247 (CA3 1980), cert. denied, 453 U. S. 912 (1981); Cofone v. Manson, 594 F. 2d 934, 937, n. 4 (CA2 1979); Sisbarro v. Warden, 592 F. 2d 1, 3 (CA1), cert. denied, 444 U. S. 849 (1979); Fletcher v. Warden, 467 F. Supp. 777, 779-780 (Kan. 1979); Curry-Bey v. Jackson, 422 F. Supp. 926, 931-933 (DC 1976); McDonnell v. United States Attorney General, 420 F. Supp. 217, 220 (ED Ill. 1976); Goodnow v. Perrin, 120 N. H. 669, 671, 421 A. 2d 1008, 1010 (1980); Girouard v. Hogan, 135 Vt. 448, 449-450, 378 A. 2d 105, 106-107 (1977); In re Young, 95 Wash. 2d 216, 227-228, 622 P. 2d 373, 379 (1980); cf. Fajeriak v. McGinnis, 493 F. 2d 468 (CA9 1974) (pre-Meachum transfers from Alaska to other States); Hillen v. Director of Department of Social Services, 455 F. 2d 510 (CA9), cert. denied, 409 U. S. 989 (1972) (pre-Meachum transfer from Hawaii to California). But see In re Young, 95 Wash. 2d, at 233, 622 P. 2d, at 382 (concurring opinion); State ex rel. Olson v. Maxwell, 259 N. W. 2d 621 (N. D. 1977); cf. Tai v. Thompson, 387 F. Supp. 912 (Haw. 1975) (pre-Meachum transfer).\\n[9]  Respondent\\'s argument to the contrary is unpersuasive. The Court in Montanye took note that among the hardships that may result from a prison transfer are separation of the inmate from home and family, separation from inmate friends, placement in a new and possibly hostile environment, difficulty in making contact with counsel, and interruption of educational and rehabilitative programs. 427 U. S., at 241, n. 4. These are the same hardships respondent faces as a result of his transfer from Hawaii to California.\\n\\nRespondent attempts to analogize his transfer to banishment in the English sense of \"beyond the seas,\" arguing that banishment surely is not within the range of confinement justified by his sentence. But respondent in no sense has been banished; his conviction, not the transfer, deprived him of his right freely to inhabit the State. The fact that his confinement takes place outside Hawaii is merely a fortuitous consequence of the fact that he must be confined, not an additional element of his punishment. See Girouard v. Hogan, 135 Vt., at 449-450, 378 A. 2d, at 106-107. Moreover, respondent has not been exiled; he remains within the United States.\\nIn essence, respondent\\'s banishment argument simply restates his claim that a transfer from Hawaii to the mainland is different in kind from other transfers. As has been shown in the text, however, respondent\\'s transfer was authorized by his conviction. A conviction, whether in Hawaii, Alaska, or one of the contiguous 48 States, empowers the State to confine the inmate in any penal institution in any State unless there is state law to the contrary or the reason for confining the inmate in a particular institution is itself constitutionally impermissible. See Montanye, 427 U. S., at 242; id., at 244 (dissenting opinion); Cruz v. Beto, 405 U. S. 319 (1972); Fajeriak v. McGinnis, 493 F. 2d, at 470.\\n[10]  In Hewitt v. Helms, 459 U. S. 460 (1983), unlike this case, state law limited the decisionmakers\\' discretion. To the extent the dissent doubts that the Administrator\\'s discretion under Rule IV is truly unfettered, post, at 258, and n. 11, it doubts the ability or authority of the Hawaii Supreme Court to construe state law.\\n[11]  In Meachum itself, the Court of Appeals had interpreted the applicable regulations as entitling inmates to a pretransfer hearing, see Fano v. Meachum, 520 F. 2d 374, 379-380 (CA1 1975), but this Court held that state law created no liberty interest.\\n[12]  Other courts agree that an expectation of receiving process is not, without more, a liberty interest protected by the Due Process Clause. See, e. g., United States v. Jiles, 658 F. 2d 194, 200 (CA3 1981), cert. denied, 455 U. S. 923 (1982); Bills v. Henderson, 631 F. 2d 1287, 1298-1299 (CA6 1980); Pugliese v. Nelson, 617 F. 2d 916, 924-925 (CA2 1980); Cofone v. Manson, 594 F. 2d, at 938; Lombardo v. Meachum, 548 F. 2d 13, 14-16 (CA1 1977); Adams v. Wainwright, 512 F. Supp. 948, 953 (ND Fla. 1981); Lono v. Ariyoshi, 63 Haw., at 144-145, 621 P. 2d, at 980-981.\\n[13]  Petitioners assert that the hearings required by Rule IV not only enable the officials to gather information and thereby to exercise their discretion intelligently, but also have a therapeutic purpose: inmate participation in the decisionmaking process, it is hoped, reduces tension in the prison. See Tr. of Oral Arg. 52-53.\\n[14]  In light of this conclusion, respondent\\'s claim of bias in the composition of the prison Program Committee becomes irrelevant.\\n[1]  4 J. Elliott, Debates on the Federal Constitution 555 (1836). Whether it is called banishment, exile, deportation, relegation, or transportation, compelling a person \"to quit a city, place, or country, for a specified period of time, or for life,\" has long been considered a unique and severe deprivation, and was specifically outlawed by \"[t]he twelfth section of the English Habeas Corpus Act, 31 Car. II, one of the three great muniments of English liberty.\" United States v. Ju Toy, 198 U. S. 253, 269-270 (1905) (Brewer, J., dissenting).\\n[2]  Thus in Meachum the Court stated that the State, by convicting the defendant, was \"empower[ed] to confine him in any of its prisons,\" 427 U. S., at 224 (emphasis deleted), that a \"transfer from one institution to another within the state prison system\" implicated no due process interest, id., at 225, and that \"[c]onfinement in any of the State\\'s institutions is within the normal limits or range of custody which the conviction has authorized the State to impose.\" Ibid. See also Montanye, 427 U. S., at 242 (\"We held in Meachum v. Fano, that no Due Process Clause liberty interest of a duly convicted prison inmate is infringed when he is transferred from one prison to another within the State\").\\n[3]  U. S. Dept. of Justice, Bureau of Justice Statistics, Sourcebook of Criminal Justice Statistics \\x97 1981, Table 6.27, pp. 478-479 (T. Flanagan, D. Van Alstyne, & M. Gottfredson eds. 1982). These figures reflect \"all inmates who were transferred from one State\\'s jurisdiction to another to continue sentences already in force,\" and \"[d]oes not include the release if [the] State does not relinquish jurisdiction.\" Id., at 590.\\n[4]  U. S. Dept. of Justice, Profile of State Prison Inmates: Sociodemographic Findings from the 1974 Survey of Inmates of State Correctional Facilities 1 (1979). Over 70 percent of state inmates are held in institutions located less than 250 miles from their homes.\\n[5]  But see Hewitt v. Helms, 459 U. S. 460, 488 (1983) (STEVENS, J., dissenting) (Prison regulations \"provide evidentiary support for the conclusion that the transfer affects a constitutionally protected interest in liberty,\" but they \"do not create that interest\" (emphasis in original)).\\n[6]  Paragraph 1 of Rule IV provides:\\n\\n\"An inmate\\'s/ward\\'s classification determines where he is best situated within the Corrections Division. Rather than being concerned with isolated aspects of the individual or punishment (as is the adjustment process), classification is a dynamic process which considers the individual, his history, his changing needs, the resources and facilities available to the Corrections Division, the other inmates/wards, the exigencies of the community, and any other relevant factors. It never inflicts punishment; on the contrary, even the imposition of a stricter classification is intended to be in the best interests of the individual, the State, and the community. In short, classification is a continuing evaluation of each individual to ensure that he is given the optimum placement within the Corrections Division.\" App. 20.\\n[7]  While the term \"grievous loss\" is not explicitly defined, the prison regulations treat a transfer to the mainland as a grievous loss entitling an inmate to the procedural rights established in Rule IV, ¶ 3. This is readily inferred from Rule IV, ¶ 3, which states that intrastate transfers do not involve a grievous loss, and Rule V, which permits inmates to retain counsel only in specified circumstances, one of which is a reclassification that may result in an interstate transfer. App. 25.\\n[8]  See 459 U. S., at 470-471, n. 6.\\n[9]  See also Wright v. Enomoto, 462 F. Supp. 397 (ND Cal. 1976), summarily aff\\'d, 434 U. S. 1052 (1978). In that case, the District Court held that the language of a prison policy statement, stating that \"[i]nmates may be segregated for medical, psychiatric, disciplinary, or administrative reasons,\" 462 F. Supp., at 403, was sufficient to create a protected expectation that an inmate would not be segregated for arbitrary reasons. See also Bills v. Henderson, 631 F. 2d 1287, 1293 (CA6 1980), cert. denied, 449 U. S. 1093 (1981); Winsett v. McGinnes, 617 F. 2d 996, 107 (CA3 1980) (en banc).\\n[10]  Rule IV, ¶ 3(d)(3), provides:\\n\\n\"The facility administrator will, within a reasonable period of time, review the Program Committee\\'s recommendation. He may, as the final decisionmaker:\\n\"(a) Affirm or reverse, in whole or in part, the recommendation; or\\n\"(b) hold in abeyance any action he believes jeopardizes the safety, security, or welfare of the staff, inmate/ward, other inmates/wards, institution, or community and refer the matter back to the Program Committee for further study and recommendation.\" App. 21.\\n[11]  I doubt that Rule IV would be construed to permit the Administrator to order a transfer for punitive reasons, since Rule IV expressly disallows punitive transfers.\\n[12]  That provision stated: \"All decisions of the Program Review Committee shall be reviewed by the Superintendent for his sustaining the decision or amending or reversing the decision in favor of the inmate.\" Pennsylvania Bureau of Correction Administrative Directive BC-ADM 801, Rule III(H)(7). App. to Brief for Respondent in Hewitt v. Helms, O. T. 1982, No. 81-638, p. 12a. Because an inmate could be confined in administrative custody only if the Program Review Committee determined that such confinement is and continues to be \"appropriate,\" id., at 18a, the Superintendent in Helms was the \"decisionmaker,\" ante, at 249-250, who determined whether inmates would be held in administrative custody.\\n[13]  This view was also implicitly rejected in Greenholtz v. Nebraska Penal Inmates, 442 U. S. 1 (1979). The Court held that the Nebraska statute governing the decision whether or not to grant parole created a \"protectible entitlement,\" id., at 12, even though the statute, which listed a number of factors to be considered in the parole decision, also authorized the Parole Board to deny parole on the basis of \"[a]ny other factors the board determines to be relevant.\" Id., at 18.\\n\\nTo the extent that Lono v. Ariyoshi, 63 Haw. 138, 144-145, 621 P. 2d 976, 980-981 (1981), on which the majority relies, ante, at 249, suggests that no liberty interest is created as state law has not entirely eliminated the possibility of arbitrary action, it is inconsistent with both Helms and Greenholtz.\\n'}"
      ]
     },
     "execution_count": 71,
     "metadata": {},
     "output_type": "execute_result"
    }
   ],
   "source": [
    "law_dataset_streamed = load_dataset(\n",
    "    \"json\",\n",
    "    data_files=\"https://mystic.the-eye.eu/public/AI/pile_preliminary_components/FreeLaw_Opinions.jsonl.zst\",\n",
    "    split=\"train\",\n",
    "    streaming=True,\n",
    ")\n",
    "next(iter(law_dataset_streamed))"
   ]
  },
  {
   "cell_type": "markdown",
   "id": "14a443d4",
   "metadata": {},
   "source": [
    "This dataset is large enough to stress the RAM of most laptops, yet we've been able to load and access it without breaking a sweat! Let's now combine the examples from the FreeLaw and PubMed Abstracts datasets with the `interleave_datasets()` function:"
   ]
  },
  {
   "cell_type": "code",
   "execution_count": 72,
   "id": "913dee1d",
   "metadata": {},
   "outputs": [
    {
     "data": {
      "text/plain": [
       "[{'meta': {'pmid': 11409574, 'language': 'eng'},\n",
       "  'text': 'Epidemiology of hypoxaemia in children with acute lower respiratory infection.\\nTo determine the prevalence of hypoxaemia in children aged under 5 years suffering acute lower respiratory infections (ALRI), the risk factors for hypoxaemia in children under 5 years of age with ALRI, and the association of hypoxaemia with an increased risk of dying in children of the same age. Systematic review of the published literature. Out-patient clinics, emergency departments and hospitalisation wards in 23 health centres from 10 countries. Cohort studies reporting the frequency of hypoxaemia in children under 5 years of age with ALRI, and the association between hypoxaemia and the risk of dying. Prevalence of hypoxaemia measured in children with ARI and relative risks for the association between the severity of illness and the frequency of hypoxaemia, and between hypoxaemia and the risk of dying. Seventeen published studies were found that included 4,021 children under 5 with acute respiratory infections (ARI) and reported the prevalence of hypoxaemia. Out-patient children and those with a clinical diagnosis of upper ARI had a low risk of hypoxaemia (pooled estimate of 6% to 9%). The prevalence increased to 31% and to 43% in patients in emergency departments and in cases with clinical pneumonia, respectively, and it was even higher among hospitalised children (47%) and in those with radiographically confirmed pneumonia (72%). The cumulated data also suggest that hypoxaemia is more frequent in children living at high altitude. Three papers reported an association between hypoxaemia and death, with relative risks varying between 1.4 and 4.6. Papers describing predictors of hypoxaemia have focused on clinical signs for detecting hypoxaemia rather than on identifying risk factors for developing this complication. Hypoxaemia is a common and potentially lethal complication of ALRI in children under 5, particularly among those with severe disease and those living at high altitude. Given the observed high prevalence of hypoxaemia and its likely association with increased mortality, efforts should be made to improve the detection of hypoxaemia and to provide oxygen earlier to more children with severe ALRI.'},\n",
       " {'meta': {'case_jurisdiction': 'scotus.tar.gz',\n",
       "   'case_ID': '110921.json',\n",
       "   'date_created': '2010-04-28T17:12:49Z'},\n",
       "  'text': '\\n461 U.S. 238 (1983)\\nOLIM ET AL.\\nv.\\nWAKINEKONA\\nNo. 81-1581.\\nSupreme Court of United States.\\nArgued January 19, 1983.\\nDecided April 26, 1983.\\nCERTIORARI TO THE UNITED STATES COURT OF APPEALS FOR THE NINTH CIRCUIT\\n*239 Michael A. Lilly, First Deputy Attorney General of Hawaii, argued the cause for petitioners. With him on the brief was James H. Dannenberg, Deputy Attorney General.\\nRobert Gilbert Johnston argued the cause for respondent. With him on the brief was Clayton C. Ikei.[*]\\n*240 JUSTICE BLACKMUN delivered the opinion of the Court.\\nThe issue in this case is whether the transfer of a prisoner from a state prison in Hawaii to one in California implicates a liberty interest within the meaning of the Due Process Clause of the Fourteenth Amendment.\\n\\nI\\n\\nA\\nRespondent Delbert Kaahanui Wakinekona is serving a sentence of life imprisonment without the possibility of parole as a result of his murder conviction in a Hawaii state court. He also is serving sentences for various other crimes, including rape, robbery, and escape. At the Hawaii State Prison outside Honolulu, respondent was classified as a maximum security risk and placed in the maximum control unit.\\nPetitioner Antone Olim is the Administrator of the Hawaii State Prison. The other petitioners constituted a prison \"Program Committee.\" On August 2, 1976, the Committee held hearings to determine the reasons for a breakdown in discipline and the failure of certain programs within the prison\\'s maximum control unit. Inmates of the unit appeared at these hearings. The Committee singled out respondent and another inmate as troublemakers. On August 5, respondent received notice that the Committee, at a hearing to be held on August 10, would review his correctional program to determine whether his classification within the system should be changed and whether he should be transferred to another Hawaii facility or to a mainland institution.\\n*241 The August 10 hearing was conducted by the same persons who had presided over the hearings on August 2. Respondent retained counsel to represent him. The Committee recommended that respondent\\'s classification as a maximum security risk be continued and that he be transferred to a prison on the mainland. He received the following explanation from the Committee:\\n\"The Program Committee, having reviewed your entire file, your testimony and arguments by your counsel, concluded that your control classification remains at Maximum. You are still considered a security risk in view of your escapes and subsequent convictions for serious felonies. The Committee noted the progress you made in vocational training and your expressed desire to continue in this endeavor. However your relationship with staff, who reported that you threaten and intimidate them, raises grave concerns regarding your potential for further disruptive and violent behavior. Since there is no other Maximum security prison in Hawaii which can offer you the correctional programs you require and you cannot remain at [the maximum control unit] because of impending construction of a new facility, the Program Committee recommends your transfer to an institution on the mainland.\" App. 7-8.\\nPetitioner Olim, as Administrator, accepted the Committee\\'s recommendation, and a few days later respondent was transferred to Folsom State Prison in California.\\n\\nB\\nRule IV of the Supplementary Rules and Regulations of the Corrections Division, Department of Social Services and Housing, State of Hawaii, approved in June 1976, recites that the inmate classification process is not concerned with punishment. Rather, it is intended to promote the best interests *242 of the inmate, the State, and the prison community.[1] Paragraph 3 of Rule IV requires a hearing prior to a prison transfer involving \"a grievous loss to the inmate,\" which the Rule defines \"generally\" as \"a serious loss to a reasonable man.\" App. 21.[2] The Administrator, under ¶ 2 of the Rule, is required to establish \"an impartial Program Committee\" to conduct such a hearing, the Committee to be \"composed of at least three members who were not actively involved in the process by which the inmate . . . was brought before the Committee.\" App. 20. Under ¶ 3, the Committee must give the inmate written notice of the hearing, permit him, with certain stated exceptions, to confront and cross-examine witnesses, afford him an opportunity to be heard, and apprise him of the Committee\\'s findings. App. 21-24.[3]\\nThe Committee is directed to make a recommendation to the Administrator, who then decides what action to take:\\n\"[The Administrator] may, as the final decisionmaker:\\n\"(a) Affirm or reverse, in whole or in part, the recommendation; or\\n\"(b) hold in abeyance any action he believes jeopardizes the safety, security, or welfare of the staff, inmate *243. . . , other inmates . . . , institution, or community and refer the matter back to the Program Committee for further study and recommendation.\" Rule IV, ¶ 3d(3), App. 24.\\nThe regulations contain no standards governing the Administrator\\'s exercise of his discretion. See Lono v. Ariyoshi, 63 Haw. 138, 144-145, 621 P. 2d 976, 980-981 (1981).\\n\\nC\\nRespondent filed suit under 42 U. S. C. § 1983 against petitioners as the state officials who caused his transfer. He alleged that he had been denied procedural due process because the Committee that recommended his transfer consisted of the same persons who had initiated the hearing, this being in specific violation of Rule IV, ¶ 2, and because the Committee was biased against him. The United States District Court for the District of Hawaii dismissed the complaint, holding that the Hawaii regulations governing prison transfers do not create a substantive liberty interest protected by the Due Process Clause. 459 F. Supp. 473 (1978).[4]\\nThe United States Court of Appeals for the Ninth Circuit, by a divided vote, reversed. 664 F. 2d 708 (1981). It held that Hawaii had created a constitutionally protected liberty interest by promulgating Rule IV. In so doing, the court declined to follow cases from other Courts of Appeals holding that certain procedures mandated by prison transfer regulations do not create a liberty interest. See, e. g., Cofone v. Manson, 594 F. 2d 934 (CA2 1979); Lombardo v. Meachum, 548 F. 2d 13 (CA1 1977). The court reasoned that Rule IV gives Hawaii prisoners a justifiable expectation that they will not be transferred to the mainland absent a hearing, before an impartial committee, concerning the facts alleged in the *244 prehearing notice.[5] Because the Court of Appeals\\' decision created a conflict among the Circuits, and because the case presents the further question whether the Due Process Clause in and of itself protects against interstate prison transfers, we granted certiorari. 456 U. S. 1005 (1982).\\n\\nII\\nIn Meachum v. Fano, 427 U. S. 215 (1976), and Montanye v. Haymes, 427 U. S. 236 (1976), this Court held that an intrastate prison transfer does not directly implicate the Due Process Clause of the Fourteenth Amendment. In Meachum, inmates at a Massachusetts medium security prison had been transferred to a maximum security prison in that Commonwealth. In Montanye, a companion case, an inmate had been transferred from one maximum security New York prison to another as punishment for a breach of prison rules. This Court rejected \"the notion that any grievous loss visited upon a person by the State is sufficient to invoke the procedural protections of the Due Process Clause.\" Meachum, 427 U. S., at 224 (emphasis in original). It went on to state:\\n\"The initial decision to assign the convict to a particular institution is not subject to audit under the Due Process Clause, although the degree of confinement in one prison may be quite different from that in another. The conviction has sufficiently extinguished the defendant\\'s liberty *245 interest to empower the State to confine him in any of its prisons.\\n\"Neither, in our view, does the Due Process Clause in and of itself protect a duly convicted prisoner against transfer from one institution to another within the state prison system. Confinement in any of the State\\'s institutions is within the normal limits or range of custody which the conviction has authorized the State to impose.\" Id., at 224-225 (emphasis in original).\\nThe Court observed that, although prisoners retain a residuum of liberty, see Wolff v. McDonnell, 418 U. S. 539, 555-556 (1974), a holding that \"any substantial deprivation imposed by prison authorities triggers the procedural protections of the Due Process Clause would subject to judicial review a wide spectrum of discretionary actions that traditionally have been the business of prison administrators rather than of the federal courts.\" 427 U. S., at 225 (emphasis in original).\\nApplying the Meachum and Montanye principles in Vitek v. Jones, 445 U. S. 480 (1980), this Court held that the transfer of an inmate from a prison to a mental hospital did implicate a liberty interest. Placement in the mental hospital was \"not within the range of conditions of confinement to which a prison sentence subjects an individual,\" because it brought about \"consequences . . . qualitatively different from the punishment characteristically suffered by a person convicted of crime.\" Id., at 493. Respondent argues that the same is true of confinement of a Hawaii prisoner on the mainland, and that Vitek therefore controls.\\nWe do not agree. Just as an inmate has no justifiable expectation that he will be incarcerated in any particular prison within a State, he has no justifiable expectation that he will be incarcerated in any particular State.[6] Often, confinement *246 in the inmate\\'s home State will not be possible. A person convicted of a federal crime in a State without a federal correctional facility usually will serve his sentence in another State. Overcrowding and the need to separate particular prisoners may necessitate interstate transfers. For any number of reasons, a State may lack prison facilities capable of providing appropriate correctional programs for all offenders.\\nStatutes and interstate agreements recognize that, from time to time, it is necessary to transfer inmates to prisons in other States. On the federal level, 18 U. S. C. § 5003(a) authorizes the Attorney General to contract with a State for the transfer of a state prisoner to a federal prison, whether in that State or another. See Howe v. Smith, 452 U. S. 473 (1981).[7] Title 18 U. S. C. § 4002 (1976 ed. and Supp. V) permits the Attorney General to contract with any State for the placement of a federal prisoner in state custody for up to three years. Neither statute requires that the prisoner remain in the State in which he was convicted and sentenced.\\nOn the state level, many States have statutes providing for the transfer of a state prisoner to a federal prison, e. g., Haw. Rev. Stat. § 353-18 (1976), or another State\\'s prison, e. g., Alaska Stat. Ann. § 33.30.100 (1982). Corrections compacts between States, implemented by statutes, authorize incarceration of a prisoner of one State in another State\\'s prison. See, e. g., Cal. Penal Code Ann. § 11189 (West 1982) (codifying Interstate Corrections Compact); § 11190 (codifying Western Interstate Corrections Compact); Conn. Gen. *247 Stat. § 18-102 (1981) (codifying New England Interstate Corrections Compact); § 18-106 (codifying Interstate Corrections Compact); Haw. Rev. Stat. § 355-1 (1976) (codifying Western Interstate Corrections Compact); Idaho Code § 20-701 (1979) (codifying Interstate Corrections Compact); Ky. Rev. Stat. § 196.610 (1982) (same). And prison regulations such as Hawaii\\'s Rule IV anticipate that inmates sometimes will be transferred to prisons in other States.\\nIn short, it is neither unreasonable nor unusual for an inmate to serve practically his entire sentence in a State other than the one in which he was convicted and sentenced, or to be transferred to an out-of-state prison after serving a portion of his sentence in his home State. Confinement in another State, unlike confinement in a mental institution, is \"within the normal limits or range of custody which the conviction has authorized the State to impose.\" Meachum, 427 U. S., at 225.[8] Even when, as here, the transfer involves long distances and an ocean crossing, the confinement remains within constitutional limits. The difference between such a transfer and an intrastate or interstate transfer of *248 shorter distance is a matter of degree, not of kind,[9] and Meachum instructs that \"the determining factor is the nature of the interest involved rather than its weight.\" 427 U. S., at 224. The reasoning of Meachum and Montanye compels the conclusion that an interstate prison transfer, including one from Hawaii to California, does not deprive an inmate of any liberty interest protected by the Due Process Clause in and of itself.\\n\\nIII\\nThe Court of Appeals held that Hawaii\\'s prison regulations create a constitutionally protected liberty interest. In Meachum, however, the State had \"conferred no right on the *249 prisoner to remain in the prison to which he was initially assigned, defeasible only upon proof of specific acts of misconduct,\" 427 U. S., at 226, and \"ha[d] not represented that transfers [would] occur only on the occurrence of certain events,\" id., at 228. Because the State had retained \"discretion to transfer [the prisoner] for whatever reason or for no reason at all,\" ibid., the Court found that the State had not created a constitutionally protected liberty interest. Similarly, because the state law at issue in Montanye \"impose[d] no conditions on the discretionary power to transfer,\" 427 U. S., at 243, there was no basis for invoking the protections of the Due Process Clause.\\nThese cases demonstrate that a State creates a protected liberty interest by placing substantive limitations on official discretion. An inmate must show \"that particularized standards or criteria guide the State\\'s decisionmakers.\" Connecticut Board of Pardons v. Dumschat, 452 U. S. 458, 467 (1981) (BRENNAN, J., concurring). If the decisionmaker is not \"required to base its decisions on objective and defined criteria,\" but instead \"can deny the requested relief for any constitutionally permissible reason or for no reason at all,\" ibid., the State has not created a constitutionally protected liberty interest. See id., at 466-467 (opinion of the Court); see also Vitek v. Jones, 445 U. S., at 488-491 (summarizing cases).\\nHawaii\\'s prison regulations place no substantive limitations on official discretion and thus create no liberty interest entitled to protection under the Due Process Clause. As Rule IV itself makes clear, and as the Supreme Court of Hawaii has held in Lono v. Ariyoshi, 63 Haw., at 144-145, 621 P. 2d, at 980-981, the prison Administrator\\'s discretion to transfer an inmate is completely unfettered. No standards govern or restrict the Administrator\\'s determination. Because the Administrator is the only decisionmaker under Rule IV, we need not decide whether the introductory paragraph *250 of Rule IV, see n. 1, supra, places any substantive limitations on the purely advisory Program Committee.[10]\\nThe Court of Appeals thus erred in attributing significance to the fact that the prison regulations require a particular kind of hearing before the Administrator can exercise his unfettered discretion.[11] As the United States Court of Appeals for the Seventh Circuit recently stated in Shango v. Jurich, 681 F. 2d 1091, 1100-1101 (1982), \"[a] liberty interest is of course a substantive interest of an individual; it cannot be the right to demand needless formality.\"[12] Process is not an end in itself. Its constitutional purpose is to protect a substantive interest to which the individual has a legitimate claim of entitlement. See generally Simon, Liberty and Property in the Supreme Court: A Defense of Roth and Perry, 71 Calif. L. Rev. 146, 186 (1983). If officials may transfer a prisoner \"for whatever reason or for no reason at all,\" Meachum, 427 U. S., at 228, there is no such interest for process to protect. The State may choose to require procedures for reasons other than protection against deprivation of substantive *251 rights, of course,[13] but in making that choice the State does not create an independent substantive right. See Hewitt v. Helms, 459 U. S. 460, 471 (1983).\\n\\nIV\\nIn sum, we hold that the transfer of respondent from Hawaii to California did not implicate the Due Process Clause directly, and that Hawaii\\'s prison regulations do not create a protected liberty interest.[14] Accordingly, the judgment of the Court of Appeals is\\nReversed.\\nJUSTICE MARSHALL, with whom JUSTICE BRENNAN joins, and with whom JUSTICE STEVENS joins as to Part I, dissenting.\\nIn my view, the transfer of respondent Delbert Kaahanui Wakinekona from a prison in Hawaii to a prison in California implicated an interest in liberty protected by the Due Process Clause of the Fourteenth Amendment. I respectfully dissent.\\n\\nI\\nAn inmate\\'s liberty interest is not limited to whatever a State chooses to bestow upon him. An inmate retains a significant residuum of constitutionally protected liberty following his incarceration independent of any state law. As we stated in Wolff v. McDonnell, 418 U. S. 539, 555-556 (1974): \"[A] prisoner is not wholly stripped of constitutional protections when he is imprisoned for crime. There is no iron curtain drawn between the Constitution and the prisons *252 of this country. . . . [Prisoners] may not be deprived of life, liberty, or property without due process of law.\"\\nIn determining whether a change in the conditions of imprisonment implicates a prisoner\\'s retained liberty interest, the relevant question is whether the change constitutes a sufficiently \"grievous loss\" to trigger the protection of due process. Vitek v. Jones, 445 U. S. 480, 488 (1980). See Morrissey v. Brewer, 408 U. S. 471, 481 (1972), citing Joint Anti-Fascist Refugee Committee v. McGrath, 341 U. S. 123, 168 (1951) (Frankfurter, J., concurring). The answer depends in part on a comparison of \"the treatment of the particular prisoner with the customary, habitual treatment of the population of the prison as a whole.\" Hewitt v. Helms, 459 U. S. 460, 486 (1983) (STEVENS, J., dissenting). This principle was established in our decision in Vitek, which held that the transfer of an inmate from a prison to a mental hospital implicated a liberty interest because it brought about \"consequences . . . qualitatively different from the punishment characteristically suffered by a person convicted of crime.\" 445 U. S., at 493. Because a significant qualitative change in the conditions of confinement is not \"within the range of conditions of confinement to which a prison sentence subjects an individual,\" ibid., such a change implicates a prisoner\\'s protected liberty interest.\\nThere can be little doubt that the transfer of Wakinekona from a Hawaii prison to a prison in California represents a substantial qualitative change in the conditions of his confinement. In addition to being incarcerated, which is the ordinary consequence of a criminal conviction and sentence, Wakinekona has in effect been banished from his home, a punishment historically considered to be \"among the severest.\"[1] For an indeterminate period of time, possibly the *253 rest of his life, nearly 2,500 miles of ocean will separate him from his family and friends. As a practical matter, Wakinekona may be entirely cut off from his only contacts with the outside world, just as if he had been imprisoned in an institution which prohibited visits by outsiders. Surely the isolation imposed on him by the transfer is far more drastic than that which normally accompanies imprisonment.\\nI cannot agree with the Court that Meachum v. Fano, 427 U. S. 215 (1976), and Montanye v. Haymes, 427 U. S. 236, 243 (1976), compel the conclusion that Wakinekona\\'s transfer implicates no liberty interest. Ante, at 248. Both cases involved transfers of prisoners between institutions located within the same State in which they were convicted, and the Court expressly phrased its holdings in terms of intrastate transfers.[2] Both decisions rested on the premise that no liberty interest is implicated by an initial decision to place a prisoner in one institution in the State rather than another. See Meachum, supra, at 224; Montanye, supra, at 243. On the basis of that premise, the Court concluded that the subsequent transfer of a prisoner to a different facility within the State likewise implicates no liberty interest. In this case, however, we cannot assume that a State\\'s initial placement of an individual in a prison far removed from his family and residence would raise no due process questions. None of our *254 prior decisions has indicated that such a decision would be immune from scrutiny under the Due Process Clause.\\nActual experience simply does not bear out the Court\\'s assumptions that interstate transfers are routine and that it is \"not unusual\" for a prisoner \"to serve practically his entire sentence in a State other than the one in which he was convicted and sentenced.\" Ante, at 247. In Hawaii less than three percent of the state prisoners were transferred to prisons in other jurisdictions in 1979, and on a nationwide basis less than one percent of the prisoners held in state institutions were transferred to other jurisdictions.[3] Moreover, the vast majority of state prisoners are held in facilities located less than 250 miles from their homes.[4] Measured against these norms, Wakinekona\\'s transfer to a California prison represents a punishment \"qualitively different from the punishment characteristically suffered by a person convicted of crime.\" Vitek v. Jones, supra, at 493.\\nI therefore cannot agree that a State may transfer its prisoners at will, to any place, for any reason, without ever implicating any interest in liberty protected by the Due Process Clause.\\n\\nII\\nNor can I agree with the majority\\'s conclusion that Hawaii\\'s prison regulations do not create a liberty interest. This Court\\'s prior decisions establish that a liberty interest *255 may be \"created\"[5] by state laws, prison rules, regulations, or practices. State laws that impose substantive criteria which limit or guide the discretion of officials have been held to create a protected liberty interest. See, e. g., Hewitt v. Helms, 459 U. S. 460 (1983); Wolff v. McDonnell, 418 U. S. 539 (1974); Greenholtz v. Nebraska Penal Inmates, 442 U. S. 1 (1979); Wright v. Enomoto, 462 F. Supp. 397 (ND Cal. 1976), summarily aff\\'d, 434 U. S. 1052 (1978). By contrast, a liberty interest is not created by a law which \"imposes no conditions on [prison officials\\'] discretionary power,\" Montanye, supra, at 243, authorizes prison officials to act \"for whatever reason or for no reason at all,\" Meachum, supra, at 228, or accords officials \"unfettered discretion,\" Connecticut Board of Pardons v. Dumschat, 452 U. S. 458, 466 (1981).\\nThe Court misapplies these principles in concluding that Hawaii\\'s prison regulations leave prison officials with unfettered discretion to transfer inmates. Ante, at 249-250. Rule IV establishes a scheme under which inmates are classified upon initial placement in an institution, and must subsequently be reclassified before they can be transferred to another institution. Under the Rule the standard for classifying inmates is their \"optimum placement within the Corrections Division\" in light of the \"best interests of the individual, the State, and the community.\"[6] In classifying inmates, the Program *256 Committee may not consider punitive aims. It may consider only factors relevant to determining where the individual will be \"best situated,\" such as \"his history, his changing needs, the resources and facilities available to the Corrections Divisions, the other inmates/wards, the exigencies of the community, and any other relevant factors.\" Paragraph 3 of Rule IV establishes a detailed set of procedures applicable when, as in this case, the reclassification of a prisoner may lead to a transfer involving a \"grievous loss,\" a phrase contained in the Rule itself.[7] The procedural rules are cast in mandatory language, and cover such matters as notice, access to information, hearing, confrontation and cross-examination, and the basis on which the Committee is to make its recommendation to the facility administrator.\\nThe limitations imposed by Rule IV are at least as substantial as those found sufficient to create a liberty interest in Hewitt v. Helms, supra, decided earlier this Term. In Hewitt an inmate contended that his confinement in administrative custody implicated an interest in liberty protected by the Due Process Clause. State law provided that a prison official could place inmates in administrative custody \"upon his assessment of the situation and the need for control,\" or \"where it has been determined that there is a threat of a serious disturbance, or a serious threat to the individual or others,\" and mandated certain procedures such as notice and a *257 hearing.[8] This Court construed the phrases \" `the need for control,\\' or `the threat of a serious disturbance,\\' \" as \"substantive predicates\" which restricted official discretion. Id., at 472. These restrictions, in combination with the mandatory procedural safeguards, \"deman[ded] a conclusion that the State has created a protected liberty interest.\" Ibid.\\nRule IV is not distinguishable in any meaningful respect from the provisions at issue in Helms. The procedural requirements contained in Rule IV are, if anything, far more elaborate than those involved in Helms, and are likewise couched in \"language of an unmistakably mandatory character.\" Id., at 471. Moreover, Rule IV, to no less an extent than the state law at issue in Helms, imposes substantive criteria restricting official discretion. In Helms this Court held that a statutory phrase such as \"the need for control\" constituted a limitation on the discretion of prison officials to place inmates in administrative custody. In my view Rule IV, which states that transfers are intended to ensure an inmate\\'s \"optimum placement\" in accordance with considerations which include \"his changing needs [and] the resources and facilities available to the Corrections Division,\" also restricts official discretion in ordering transfers.[9]\\nThe Court suggests that, even if the Program Committee does not have unlimited discretion in making recommendations for classifications and transfers, this cannot give rise to a state-created liberty interest because the prison Administrator retains \"completely unfettered\" \"discretion to transfer *258 an inmate,\" ante, at 249. I disagree. Rule IV, ¶ 3(d)(3), provides for review by the prison Administrator of recommendations forwarded to him by the Program Committee.[10] Even if this provision must be construed as authorizing the Administrator to transfer a prisoner for wholly arbitrary reasons,[11] that mere possibility does not defeat the protectible expectation otherwise created by Hawaii\\'s reclassification and transfer scheme that transfers will take place only if required to ensure an inmate\\'s optimum placement. In Helms a prison regulation also left open the possibility that the Superintendent could decide, for any reason or no reason at all, whether an inmate should be confined in administrative custody.[12] This Court nevertheless held that the state scheme as a whole created an interest in liberty protected by the Due Process Clause. 459 U. S., at 471-472. Helms thus necessarily rejects the view that state laws which impose substantive *259 limitations and elaborate procedural requirements on official conduct create no liberty interest solely because there remains the possibility that an official will act in an arbitrary manner at the end of the process.[13]\\nFor the foregoing reasons, I dissent.\\nNOTES\\n[*]  Briefs of amici curiae urging reversal were filed for the State of Alaska et al. by Paul L. Douglas, Attorney General of Nebraska, J. Kirk Brown, Assistant Attorney General, Judith W. Rogers, Corporation Counsel of the District of Columbia, and the Attorneys General for their respective jurisdictions as follows: Wilson L. Condon of Alaska, Aviata F. Fa\\'alevao of American Samoa, Robert K. Corbin of Arizona, Jim Smith of Florida, David H. Leroy of Idaho, William J. Guste, Jr., of Louisiana, William A. Allain of Mississippi, Michael T. Greely of Montana, Richard H. Bryan of Nevada, Irwin I. Kimmelman of New Jersey, Jeff Bingaman of New Mexico, Rufus L. Edmisten of North Carolina, Robert Wefald of North Dakota, William J. Brown of Ohio, Dennis J. Roberts II of Rhode Island, Mark V. Meierhenry of South Dakota, William M. Leech, Jr., of Tennessee, John J. Easton of Vermont, Gerald L. Baliles of Virginia, Kenneth O. Eikenberry of Washington, Chauncey H. Browning of West Virginia, Bronson C. La Follette of Wisconsin, and Steven F. Freudenthal of Wyoming; and for the Commonwealth of Massachusetts et al. by Francis X. Bellotti, Attorney General of Massachusetts, Stephen R. Delinsky, Barbara A. H. Smith, and Leo J. Cushing, Assistant Attorneys General, Anthony Ching, Solicitor General of Arizona, and the Attorneys General for their respective jurisdictions as follows: Wilson L. Condon of Alaska, Aviata F. Fa\\'alevao of American Samoa, Robert K. Corbin of Arizona, Jim Smith of Florida, David H. Leroy of Idaho, William A. Allain of Mississippi, Michael T. Greely of Montana, Irwin I. Kimmelman of New Jersey, Jeff Bingaman of New Mexico, Rufus L. Edmisten of North Carolina, Robert O. Wefald of North Dakota, William J. Brown of Ohio, Dennis J. Roberts II of Rhode Island, Mark V. Meierhenry of South Dakota, William M. Leech, Jr., of Tennessee, John J. Easton of Vermont, Chauncey H. Browning of West Virginia, and Bronson C. La Follette of Wisconsin.\\n[1]  Paragraph 1 of Rule IV states:\\n\\n\"An inmate\\'s . . . classification determines where he is best situated within the Corrections Division. Rather than being concerned with isolated aspects of the individual or punishment (as is the adjustment process), classification is a dynamic process which considers the individual, his history, his changing needs, the resources and facilities available to the Corrections Division, the other inmates . . . , the exigencies of the community, and any other relevant factors. It never inflicts punishment; on the contrary, even the imposition of a stricter classification is intended to be in the best interests of the individual, the State, and the community. In short, classification is a continuing evaluation of each individual to ensure that he is given the optimum placement within the Corrections Division.\" App. 20.\\n[2]  Petitioners concede, \"for purposes of the argument,\" that respondent suffered a \"grievous loss\" within the meaning of Rule IV when he was transferred from Hawaii to the mainland. Tr. of Oral Arg. 9, 25.\\n[3]  Rule V provides that an inmate may retain legal counsel if his hearing concerns a \"potential Interstate transfer.\" App. 25.\\n[4]  Respondent also had alleged that the transfer violated the Hawaii Constitution and state regulations and statutes. In light of its dismissal of respondent\\'s federal claims, the District Court declined to exercise pendent jurisdiction over these state-law claims. 459 F. Supp., at 476.\\n[5]  Several months before the Court of Appeals handed down its decision, the Supreme Court of Hawaii had held that because Hawaii\\'s prison regulations do not limit the Administrator\\'s discretion to transfer prisoners to the mainland, they do not create any liberty interest. Lono v. Ariyoshi, 63 Haw. 138, 621 P. 2d 976 (1981). In a petition for rehearing in the present case, petitioners directed the Ninth Circuit\\'s attention to the Lono decision. See 664 F. 2d, at 714. The Court of Appeals, however, concluded that the Hawaii court\\'s interpretation of the regulations was not different from its own; the Hawaii court merely had reached a different result on the \"federal question.\" The Court of Appeals thus adhered to its resolution of the case. Id., at 714-715.\\n[6]  Indeed, in Vitek itself the Court did not read Meachum and Montanye as stating a rule applicable only to intrastate transfers. The Court stated: \"In Meachum v. Fano . . . and Montanye v. Haymes . . . we held that the transfer of a prisoner from one prison to another does not infringe a protected liberty interest.\" 445 U. S., at 489 (emphasis added). The Court\\'s other cases describing Meachum and Montanye also have eschewed the narrow reading respondent now proposes. See Hewitt v. Helms, 459 U. S. 460, 467-468 (1983); Moody v. Daggett, 429 U. S. 78, 88, n. 9 (1976).\\n[7]  This statute has been invoked to transfer prisoners from Hawaii state facilities to federal prisons on the mainland. See Anthony v. Wilkinson, 637 F. 2d 1130 (CA7 1980), vacated and remanded sub nom. Hawaii v. Mederios, 453 U. S. 902 (1981).\\n[8]  After the decisions in Meachum and Montanye, courts almost uniformly have held that an inmate has no entitlement to remain in a prison in his home State. See Beshaw v. Fenton, 635 F. 2d 239, 246-247 (CA3 1980), cert. denied, 453 U. S. 912 (1981); Cofone v. Manson, 594 F. 2d 934, 937, n. 4 (CA2 1979); Sisbarro v. Warden, 592 F. 2d 1, 3 (CA1), cert. denied, 444 U. S. 849 (1979); Fletcher v. Warden, 467 F. Supp. 777, 779-780 (Kan. 1979); Curry-Bey v. Jackson, 422 F. Supp. 926, 931-933 (DC 1976); McDonnell v. United States Attorney General, 420 F. Supp. 217, 220 (ED Ill. 1976); Goodnow v. Perrin, 120 N. H. 669, 671, 421 A. 2d 1008, 1010 (1980); Girouard v. Hogan, 135 Vt. 448, 449-450, 378 A. 2d 105, 106-107 (1977); In re Young, 95 Wash. 2d 216, 227-228, 622 P. 2d 373, 379 (1980); cf. Fajeriak v. McGinnis, 493 F. 2d 468 (CA9 1974) (pre-Meachum transfers from Alaska to other States); Hillen v. Director of Department of Social Services, 455 F. 2d 510 (CA9), cert. denied, 409 U. S. 989 (1972) (pre-Meachum transfer from Hawaii to California). But see In re Young, 95 Wash. 2d, at 233, 622 P. 2d, at 382 (concurring opinion); State ex rel. Olson v. Maxwell, 259 N. W. 2d 621 (N. D. 1977); cf. Tai v. Thompson, 387 F. Supp. 912 (Haw. 1975) (pre-Meachum transfer).\\n[9]  Respondent\\'s argument to the contrary is unpersuasive. The Court in Montanye took note that among the hardships that may result from a prison transfer are separation of the inmate from home and family, separation from inmate friends, placement in a new and possibly hostile environment, difficulty in making contact with counsel, and interruption of educational and rehabilitative programs. 427 U. S., at 241, n. 4. These are the same hardships respondent faces as a result of his transfer from Hawaii to California.\\n\\nRespondent attempts to analogize his transfer to banishment in the English sense of \"beyond the seas,\" arguing that banishment surely is not within the range of confinement justified by his sentence. But respondent in no sense has been banished; his conviction, not the transfer, deprived him of his right freely to inhabit the State. The fact that his confinement takes place outside Hawaii is merely a fortuitous consequence of the fact that he must be confined, not an additional element of his punishment. See Girouard v. Hogan, 135 Vt., at 449-450, 378 A. 2d, at 106-107. Moreover, respondent has not been exiled; he remains within the United States.\\nIn essence, respondent\\'s banishment argument simply restates his claim that a transfer from Hawaii to the mainland is different in kind from other transfers. As has been shown in the text, however, respondent\\'s transfer was authorized by his conviction. A conviction, whether in Hawaii, Alaska, or one of the contiguous 48 States, empowers the State to confine the inmate in any penal institution in any State unless there is state law to the contrary or the reason for confining the inmate in a particular institution is itself constitutionally impermissible. See Montanye, 427 U. S., at 242; id., at 244 (dissenting opinion); Cruz v. Beto, 405 U. S. 319 (1972); Fajeriak v. McGinnis, 493 F. 2d, at 470.\\n[10]  In Hewitt v. Helms, 459 U. S. 460 (1983), unlike this case, state law limited the decisionmakers\\' discretion. To the extent the dissent doubts that the Administrator\\'s discretion under Rule IV is truly unfettered, post, at 258, and n. 11, it doubts the ability or authority of the Hawaii Supreme Court to construe state law.\\n[11]  In Meachum itself, the Court of Appeals had interpreted the applicable regulations as entitling inmates to a pretransfer hearing, see Fano v. Meachum, 520 F. 2d 374, 379-380 (CA1 1975), but this Court held that state law created no liberty interest.\\n[12]  Other courts agree that an expectation of receiving process is not, without more, a liberty interest protected by the Due Process Clause. See, e. g., United States v. Jiles, 658 F. 2d 194, 200 (CA3 1981), cert. denied, 455 U. S. 923 (1982); Bills v. Henderson, 631 F. 2d 1287, 1298-1299 (CA6 1980); Pugliese v. Nelson, 617 F. 2d 916, 924-925 (CA2 1980); Cofone v. Manson, 594 F. 2d, at 938; Lombardo v. Meachum, 548 F. 2d 13, 14-16 (CA1 1977); Adams v. Wainwright, 512 F. Supp. 948, 953 (ND Fla. 1981); Lono v. Ariyoshi, 63 Haw., at 144-145, 621 P. 2d, at 980-981.\\n[13]  Petitioners assert that the hearings required by Rule IV not only enable the officials to gather information and thereby to exercise their discretion intelligently, but also have a therapeutic purpose: inmate participation in the decisionmaking process, it is hoped, reduces tension in the prison. See Tr. of Oral Arg. 52-53.\\n[14]  In light of this conclusion, respondent\\'s claim of bias in the composition of the prison Program Committee becomes irrelevant.\\n[1]  4 J. Elliott, Debates on the Federal Constitution 555 (1836). Whether it is called banishment, exile, deportation, relegation, or transportation, compelling a person \"to quit a city, place, or country, for a specified period of time, or for life,\" has long been considered a unique and severe deprivation, and was specifically outlawed by \"[t]he twelfth section of the English Habeas Corpus Act, 31 Car. II, one of the three great muniments of English liberty.\" United States v. Ju Toy, 198 U. S. 253, 269-270 (1905) (Brewer, J., dissenting).\\n[2]  Thus in Meachum the Court stated that the State, by convicting the defendant, was \"empower[ed] to confine him in any of its prisons,\" 427 U. S., at 224 (emphasis deleted), that a \"transfer from one institution to another within the state prison system\" implicated no due process interest, id., at 225, and that \"[c]onfinement in any of the State\\'s institutions is within the normal limits or range of custody which the conviction has authorized the State to impose.\" Ibid. See also Montanye, 427 U. S., at 242 (\"We held in Meachum v. Fano, that no Due Process Clause liberty interest of a duly convicted prison inmate is infringed when he is transferred from one prison to another within the State\").\\n[3]  U. S. Dept. of Justice, Bureau of Justice Statistics, Sourcebook of Criminal Justice Statistics \\x97 1981, Table 6.27, pp. 478-479 (T. Flanagan, D. Van Alstyne, & M. Gottfredson eds. 1982). These figures reflect \"all inmates who were transferred from one State\\'s jurisdiction to another to continue sentences already in force,\" and \"[d]oes not include the release if [the] State does not relinquish jurisdiction.\" Id., at 590.\\n[4]  U. S. Dept. of Justice, Profile of State Prison Inmates: Sociodemographic Findings from the 1974 Survey of Inmates of State Correctional Facilities 1 (1979). Over 70 percent of state inmates are held in institutions located less than 250 miles from their homes.\\n[5]  But see Hewitt v. Helms, 459 U. S. 460, 488 (1983) (STEVENS, J., dissenting) (Prison regulations \"provide evidentiary support for the conclusion that the transfer affects a constitutionally protected interest in liberty,\" but they \"do not create that interest\" (emphasis in original)).\\n[6]  Paragraph 1 of Rule IV provides:\\n\\n\"An inmate\\'s/ward\\'s classification determines where he is best situated within the Corrections Division. Rather than being concerned with isolated aspects of the individual or punishment (as is the adjustment process), classification is a dynamic process which considers the individual, his history, his changing needs, the resources and facilities available to the Corrections Division, the other inmates/wards, the exigencies of the community, and any other relevant factors. It never inflicts punishment; on the contrary, even the imposition of a stricter classification is intended to be in the best interests of the individual, the State, and the community. In short, classification is a continuing evaluation of each individual to ensure that he is given the optimum placement within the Corrections Division.\" App. 20.\\n[7]  While the term \"grievous loss\" is not explicitly defined, the prison regulations treat a transfer to the mainland as a grievous loss entitling an inmate to the procedural rights established in Rule IV, ¶ 3. This is readily inferred from Rule IV, ¶ 3, which states that intrastate transfers do not involve a grievous loss, and Rule V, which permits inmates to retain counsel only in specified circumstances, one of which is a reclassification that may result in an interstate transfer. App. 25.\\n[8]  See 459 U. S., at 470-471, n. 6.\\n[9]  See also Wright v. Enomoto, 462 F. Supp. 397 (ND Cal. 1976), summarily aff\\'d, 434 U. S. 1052 (1978). In that case, the District Court held that the language of a prison policy statement, stating that \"[i]nmates may be segregated for medical, psychiatric, disciplinary, or administrative reasons,\" 462 F. Supp., at 403, was sufficient to create a protected expectation that an inmate would not be segregated for arbitrary reasons. See also Bills v. Henderson, 631 F. 2d 1287, 1293 (CA6 1980), cert. denied, 449 U. S. 1093 (1981); Winsett v. McGinnes, 617 F. 2d 996, 107 (CA3 1980) (en banc).\\n[10]  Rule IV, ¶ 3(d)(3), provides:\\n\\n\"The facility administrator will, within a reasonable period of time, review the Program Committee\\'s recommendation. He may, as the final decisionmaker:\\n\"(a) Affirm or reverse, in whole or in part, the recommendation; or\\n\"(b) hold in abeyance any action he believes jeopardizes the safety, security, or welfare of the staff, inmate/ward, other inmates/wards, institution, or community and refer the matter back to the Program Committee for further study and recommendation.\" App. 21.\\n[11]  I doubt that Rule IV would be construed to permit the Administrator to order a transfer for punitive reasons, since Rule IV expressly disallows punitive transfers.\\n[12]  That provision stated: \"All decisions of the Program Review Committee shall be reviewed by the Superintendent for his sustaining the decision or amending or reversing the decision in favor of the inmate.\" Pennsylvania Bureau of Correction Administrative Directive BC-ADM 801, Rule III(H)(7). App. to Brief for Respondent in Hewitt v. Helms, O. T. 1982, No. 81-638, p. 12a. Because an inmate could be confined in administrative custody only if the Program Review Committee determined that such confinement is and continues to be \"appropriate,\" id., at 18a, the Superintendent in Helms was the \"decisionmaker,\" ante, at 249-250, who determined whether inmates would be held in administrative custody.\\n[13]  This view was also implicitly rejected in Greenholtz v. Nebraska Penal Inmates, 442 U. S. 1 (1979). The Court held that the Nebraska statute governing the decision whether or not to grant parole created a \"protectible entitlement,\" id., at 12, even though the statute, which listed a number of factors to be considered in the parole decision, also authorized the Parole Board to deny parole on the basis of \"[a]ny other factors the board determines to be relevant.\" Id., at 18.\\n\\nTo the extent that Lono v. Ariyoshi, 63 Haw. 138, 144-145, 621 P. 2d 976, 980-981 (1981), on which the majority relies, ante, at 249, suggests that no liberty interest is created as state law has not entirely eliminated the possibility of arbitrary action, it is inconsistent with both Helms and Greenholtz.\\n'}]"
      ]
     },
     "execution_count": 72,
     "metadata": {},
     "output_type": "execute_result"
    }
   ],
   "source": [
    "from itertools import islice\n",
    "from datasets import interleave_datasets\n",
    "combined_dataset = interleave_datasets([pubmed_dataset_streamed, law_dataset_streamed])\n",
    "list(islice(combined_dataset, 2))"
   ]
  },
  {
   "cell_type": "markdown",
   "id": "e5595271",
   "metadata": {},
   "source": [
    "Here we've used the `islice()` function from Python's `itertools` module to select the first two examples from the combined dataset, and we can see that they match the first examples from each of the two source datasets.\n",
    "\n",
    "Finally, if you want to stream the Pile in its 825 GB entirety, you can grab all the prepared files as follows:"
   ]
  },
  {
   "cell_type": "code",
   "execution_count": 73,
   "id": "f8cb9095",
   "metadata": {},
   "outputs": [
    {
     "data": {
      "application/vnd.jupyter.widget-view+json": {
       "model_id": "ae41b9a732b34f91b4c6cfc16f310e39",
       "version_major": 2,
       "version_minor": 0
      },
      "text/plain": [
       "Resolving data files:   0%|          | 0/30 [00:00<?, ?it/s]"
      ]
     },
     "metadata": {},
     "output_type": "display_data"
    },
    {
     "name": "stderr",
     "output_type": "stream",
     "text": [
      "Using custom data configuration default-ad49e2168ced215d\n"
     ]
    },
    {
     "data": {
      "text/plain": [
       "{'text': 'It is done, and submitted. You can play “Survival of the Tastiest” on Android, and on the web. Playing on the web works, but you have to simulate multi-touch for table moving and that can be a bit confusing.\\n\\nThere’s a lot I’d like to talk about. I’ll go through every topic, insted of making the typical what went right/wrong list.\\n\\nConcept\\n\\nWorking over the theme was probably one of the hardest tasks I had to face.\\n\\nOriginally, I had an idea of what kind of game I wanted to develop, gameplay wise – something with lots of enemies/actors, simple graphics, maybe set in space, controlled from a top-down view. I was confident I could fit any theme around it.\\n\\nIn the end, the problem with a theme like “Evolution” in a game is that evolution is unassisted. It happens through several seemingly random mutations over time, with the most apt permutation surviving. This genetic car simulator is, in my opinion, a great example of actual evolution of a species facing a challenge. But is it a game?\\n\\nIn a game, you need to control something to reach an objective. That control goes against what evolution is supposed to be like. If you allow the user to pick how to evolve something, it’s not evolution anymore – it’s the equivalent of intelligent design, the fable invented by creationists to combat the very idea of evolution. Being agnostic and a Pastafarian, that’s not something that rubbed me the right way.\\n\\nHence, my biggest dillema when deciding what to create was not with what I wanted to create, but with what I did not. I didn’t want to create an “intelligent design” simulator and wrongly call it evolution.\\n\\nThis is a problem, of course, every other contestant also had to face. And judging by the entries submitted, not many managed to work around it. I’d say the only real solution was through the use of artificial selection, somehow. So far, I haven’t seen any entry using this at its core gameplay.\\n\\nAlas, this is just a fun competition and after a while I decided not to be as strict with the game idea, and allowed myself to pick whatever I thought would work out.\\n\\nMy initial idea was to create something where humanity tried to evolve to a next level but had some kind of foe trying to stop them from doing so. I kind of had this image of human souls flying in space towards a monolith or a space baby (all based in 2001: A Space Odyssey of course) but I couldn’t think of compelling (read: serious) mechanics for that.\\n\\nBorgs were my next inspiration, as their whole hypothesis fit pretty well into the evolution theme. But how to make it work? Are you the borg, or fighting the Borg?\\n\\nThe third and final idea came to me through my girlfriend, who somehow gave me the idea of making something about the evolution of Pasta. The more I thought about it the more it sounded like it would work, so I decided to go with it.\\n\\nConversations with my inspiring co-worker Roushey (who also created the “Mechanical Underdogs” signature logo for my intros) further matured the concept, as it involved into the idea of having individual pieces of pasta flying around and trying to evolve until they became all-powerful. A secondary idea here was that the game would work to explain how the Flying Spaghetti Monster came to exist – by evolving from a normal dinner table.\\n\\nSo the idea evolved more or less into this: you are sitting a table. You have your own plate, with is your “base”. There are 5 other guests at the table, each with their own plate.\\n\\nYour plate can spawn little pieces of pasta. You do so by “ordering” them through a menu. Some pastas are better than others; some are faster, some are stronger. They have varying costs, which are debited from your credits (you start with a number of credits).\\n\\nOnce spawned, your pastas start flying around. Their instinct is to fly to other plates, in order to conquer them (the objective of the game is having your pasta conquer all the plates on the table). But they are really autonomous, so after being spawned, you have no control over your pasta (think DotA or LoL creeps).\\n\\nYour pasta doesn’t like other people’s pasta, so if they meet, they shoot sauce at each other until one dies. You get credits for other pastas your own pasta kill.\\n\\nOnce a pasta is in the vicinity of a plate, it starts conquering it for its team. It takes around 10 seconds for a plate to be conquered; less if more pasta from the same team are around. If pasta from other team are around, though, they get locked down in their attempt, unable to conquer the plate, until one of them die (think Battlefield’s standard “Conquest” mode).\\n\\nYou get points every second for every plate you own.\\n\\nOver time, the concept also evolved to use an Italian bistro as its main scenario.\\n\\nCarlos, Carlos’ Bistro’s founder and owner\\n\\nSetup\\n\\nNo major changes were made from my work setup. I used FDT and Starling creating an Adobe AIR (ActionScript) project, all tools or frameworks I already had some knowledge with.\\n\\nOne big change for me was that I livestreamed my work through a twitch.tv account. This was a new thing for me. As recommended by Roushey, I used a program called XSplit and I got to say, it is pretty amazing. It made the livestream pretty effortless and the features are awesome, even for the free version. It was great to have some of my friends watch me, and then interact with them and random people through chat. It was also good knowing that I was also recording a local version of the files, so I could make a timelapse video later.\\n\\nKnowing the video was being recorded also made me a lot more self-conscious about my computer use, as if someone was watching over my shoulder. It made me realize that sometimes I spend too much time in seemingly inane tasks (I ended up wasting the longest time just to get some text alignment the way I wanted – it’ll probably drive someone crazy if they watch it) and that I do way too many typos where writing code. I pretty much spend half of the time writing a line and the other half fixing the crazy characters in it.\\n\\nMy own stream was probably boring to watch since I was coding for the most time. But livestreaming is one of the cool things to do as a spectator too. It was great seeing other people working – I had a few tabs opened on my second monitor all the time. It’s actually a bit sad, because if I could, I could have spent the whole weekend just watching other people working! But I had to do my own work, so I’d only do it once in a while, when resting for a bit.\\n\\nDesign\\n\\nAlthough I wanted some simple, low-fi, high-contrast kind of design, I ended up going with somewhat realistic (vector) art. I think it worked very well, fitting the mood of the game, but I also went overboard.\\n\\nFor example: to know the state of a plate (who owns it, who’s conquering it and how much time they have left before conquering it, which pasta units are in the queue, etc), you have to look at the plate’s bill.\\n\\nThe problem I realized when doing some tests is that people never look at the bill! They think it’s some kind of prop, so they never actually read its details.\\n\\nPlus, if you’re zoomed out too much, you can’t actually read it, so it’s hard to know what’s going on with the game until you zoom in to the area of a specific plate.\\n\\nOne other solution that didn’t turn out to be as perfect as I thought was how to indicate who a plate base belongs to. In the game, that’s indicated by the plate’s decoration – its color denotes the team owner. But it’s something that fits so well into the design that people never realized it, until they were told about it.\\n\\nIn the end, the idea of going with a full physical metaphor is one that should be done with care. Things that are very important risk becoming background noise, unless the player knows its importance.\\n\\nOriginally, I wanted to avoid any kind of heads-up display in my game. In the end, I ended up adding it at the bottom to indicate your credits and bases owned, as well as the hideous out-of-place-and-still-not-obvious “Call Waiter” button. But in hindsight, I should have gone with a simple HUD from the start, especially one that indicated each team’s colors and general state of the game without the need for zooming in and out.\\n\\nDevelopment\\n\\nDevelopment went fast. But not fast enough.\\n\\nEven though I worked around 32+ hours for this Ludum Dare, the biggest problem I had to face in the end was overscoping. I had too much planned, and couldn’t get it all done.\\n\\nContent-wise, I had several kinds of pasta planned (Wikipedia is just amazing in that regard), split into several different groups, from small Pastina to huge Pasta al forno. But because of time constraints, I ended up scratching most of them, and ended up with 5 different types of very small pasta – barely something to start when talking about the evolution of Pasta.\\n\\nPastas used in the game. Unfortunately, the macs where never used\\n\\nWhich is one of the saddest things about the project, really. It had the framework and the features to allow an endless number of elements in there, but I just didn’t have time to draw the rest of the assets needed (something I loved to do, by the way).\\n\\nOther non-obvious features had to be dropped, too. For example, when ordering some pasta, you were supposed to select what kind of sauce you’d like with your pasta, each with different attributes. Bolognese, for example, is very strong, but inaccurate; Pesto is very accurate and has great range, but it’s weaker; and my favorite, Vodka, would triggers 10% loss of speed on the pasta hit by it.\\n\\nThe code for that is mostly in there. But in the end, I didn’t have time to implement the sauce selection interface; all pasta ended up using bolognese sauce.\\n\\nTo-do list: lots of things were not done\\n\\nActual programming also took a toll in the development time. Having been programming for a while, I like to believe I got to a point where I know how to make things right, but at the expense of forgetting how to do things wrong in a seemingly good way. What I mean is that I had to take a lot of shortcuts in my code to save time (e.g. a lot of singletons references for cross-communication rather than events or observers, all-encompassing check loops, not fast enough) that left a very sour taste in my mouth. While I know I used to do those a few years ago and survive, I almost cannot accept the state my code is in right now.\\n\\nAt the same time, I do know it was the right thing to do given the timeframe.\\n\\nOne small thing that had some impact was using a somewhat new platform for me. That’s Starling, the accelerated graphics framework I used in Flash. I had tested it before and I knew how to use it well – the API is very similar to Flash itself. However, there were some small details that had some impact during development, making me feel somewhat uneasy the whole time I was writing the game. It was, again, the right thing to do, but I should have used Starling more deeply before (which is the conundrum: I used it for Ludum Dare just so I could learn more about it).\\n\\nArgument and user experience\\n\\nOne final aspect of the game that I learned is that making the game obvious for your players goes a long way into making it fun. If you have to spend the longest time explaining things, your game is doing something wrong.\\n\\nAnd that’s exactly the problem Survival of the Tastiest ultimately faced. It’s very hard for people to understand what’s going on with the game, why, and how. I did have some introductory text at the beginning, but that was a last-minute thing. More importantly, I should have had a better interface or simplified the whole concept so it would be easier for people to understand.\\n\\nThat doesn’t mean the game itself should be simple. It just means that the experience and interface should be approachable and understandable.\\n\\nConclusion\\n\\nI’m extremely happy with what I’ve done and, especially given that this was my first Ludum Dare. However, I feel like I’ve learned a lot of what not to do.\\n\\nThe biggest problem is overscoping. Like Eric Decker said, the biggest lesson we can learn with this is probably with scoping – deciding what to do beforehand in a way you can complete it without having to rush and do something half-assed.\\n\\nI’m sure I will do more Ludum Dares in the future. But if there are any lessons I can take of it, they are to make it simple, to use frameworks and platforms you already have some absolute experience with (otherwise you’ll spend too much time trying to solve easy questions), and to scope for a game that you can complete in one day only (that way, you can actually take two days and make it cool).\\n\\nThis entry was posted\\non Monday, August 27th, 2012 at 10:54 am and is filed under LD #24.\\nYou can follow any responses to this entry through the RSS 2.0 feed.\\nYou can skip to the end and leave a response. Pinging is currently not allowed.\\n\\n3 Responses to ““Survival of the Tastiest” Post-mortem”\\n\\ndarn it , knowing that I missed your livestream makes me a sad panda ;( but more to the point, the game is … well for a startup its original to say the least ;D it has some really neat ideas and more importantly its designed arround touch screens whitch by the looks of the submission is something rare ;o or that could be just me and my short memory -_-! awesum game, love et <3',\n",
       " 'meta': {'pile_set_name': 'Pile-CC'}}"
      ]
     },
     "execution_count": 73,
     "metadata": {},
     "output_type": "execute_result"
    }
   ],
   "source": [
    "base_url = \"https://mystic.the-eye.eu/public/AI/pile/\"\n",
    "data_files = {\n",
    "    \"train\": [base_url + \"train/\" + f\"{idx:02d}.jsonl.zst\" for idx in range(30)],\n",
    "    \"validation\": base_url + \"val.jsonl.zst\",\n",
    "    \"test\": base_url + \"test.jsonl.zst\",\n",
    "}\n",
    "pile_dataset = load_dataset(\"json\", data_files=data_files, streaming=True)\n",
    "next(iter(pile_dataset[\"train\"]))"
   ]
  },
  {
   "cell_type": "markdown",
   "id": "ec8f8ff9",
   "metadata": {},
   "source": [
    "> ✏️ Try it out! <font color=\"darkgreen\">Use one of the large Common Crawl corpora like [`mc4`](https://huggingface.co/datasets/mc4) or [`oscar`](https://huggingface.co/datasets/oscar) to create a streaming multilingual dataset that represents the spoken proportions of languages in a country of your choice. For example, the four national languages in Switzerland are German, French, Italian, and Romansh, so you could try creating a Swiss corpus by sampling the Oscar subsets according to their spoken proportion.</font>"
   ]
  },
  {
   "cell_type": "code",
   "execution_count": 74,
   "id": "1564cf86",
   "metadata": {},
   "outputs": [],
   "source": [
    "# Trying it out"
   ]
  },
  {
   "cell_type": "markdown",
   "id": "74eb4ae5",
   "metadata": {},
   "source": [
    "You now have all the tools you need to load and process datasets of all shapes and sizes — but unless you're exceptionally lucky, there will come a point in your NLP journey where you'll have to actually create a dataset to solve the problem at hand. That's the topic of the next section!\n",
    "\n",
    "## [Creating your own dataset](https://huggingface.co/course/chapter5/5?fw=pt)"
   ]
  },
  {
   "cell_type": "code",
   "execution_count": null,
   "id": "126e1482",
   "metadata": {},
   "outputs": [],
   "source": []
  }
 ],
 "metadata": {
  "kernelspec": {
   "display_name": "Python 3",
   "language": "python",
   "name": "python3"
  },
  "language_info": {
   "codemirror_mode": {
    "name": "ipython",
    "version": 3
   },
   "file_extension": ".py",
   "mimetype": "text/x-python",
   "name": "python",
   "nbconvert_exporter": "python",
   "pygments_lexer": "ipython3",
   "version": "3.8.8"
  }
 },
 "nbformat": 4,
 "nbformat_minor": 5
}
